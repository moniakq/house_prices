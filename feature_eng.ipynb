{
 "cells": [
  {
   "cell_type": "code",
   "execution_count": 48,
   "metadata": {},
   "outputs": [],
   "source": [
    "import pandas as pd\n",
    "import numpy as np"
   ]
  },
  {
   "cell_type": "code",
   "execution_count": 49,
   "metadata": {},
   "outputs": [],
   "source": [
    "from sklearn.compose import ColumnTransformer\n",
    "from sklearn.impute import SimpleImputer\n",
    "from sklearn.model_selection import RandomizedSearchCV, train_test_split, GridSearchCV\n",
    "from sklearn.pipeline import Pipeline\n",
    "from sklearn.preprocessing import OneHotEncoder, StandardScaler, MinMaxScaler\n",
    "from sklearn.tree import DecisionTreeClassifier\n",
    "from sklearn.linear_model import LinearRegression\n",
    "from sklearn.metrics import mean_absolute_error, mean_squared_error, accuracy_score\n",
    "import matplotlib.pyplot as plt\n",
    "import numpy as np\n",
    "import pandas as pd\n",
    "import scipy\n",
    "import matplotlib.pyplot as plt\n",
    "from sklearn.decomposition import PCA"
   ]
  },
  {
   "cell_type": "code",
   "execution_count": 50,
   "metadata": {},
   "outputs": [],
   "source": [
    "def outliers_normalization(df):\n",
    "    '''this function takes all the numerical features and deals with the high and low outliers'''\n",
    "    num_feat = df.select_dtypes(include='number').columns.tolist()\n",
    "    for feat in num_feat:\n",
    "        q1 = df[feat].quantile(0.25)\n",
    "        q3 = df[feat].quantile(0.75)\n",
    "        iqr = q3-q1\n",
    "        outer_fence = 1.5*iqr\n",
    "        outer_fence_le = q1-outer_fence\n",
    "        outer_fence_ue = q3+outer_fence\n",
    "        df.loc[df[feat]>outer_fence_ue,feat]=outer_fence_ue\n",
    "        df.loc[df[feat]<outer_fence_le,feat]=outer_fence_le\n",
    "    return df\n",
    "\n",
    "    "
   ]
  },
  {
   "cell_type": "code",
   "execution_count": 51,
   "metadata": {},
   "outputs": [],
   "source": [
    "train_df=pd.read_csv('train.csv')\n",
    "test_df=pd.read_csv('test.csv')"
   ]
  },
  {
   "cell_type": "code",
   "execution_count": 52,
   "metadata": {},
   "outputs": [
    {
     "name": "stdout",
     "output_type": "stream",
     "text": [
      "(1460, 81)\n",
      "(1459, 80)\n"
     ]
    }
   ],
   "source": [
    "print(train_df.shape)\n",
    "print(test_df.shape)"
   ]
  },
  {
   "attachments": {},
   "cell_type": "markdown",
   "metadata": {},
   "source": [
    "#### Feature engineering"
   ]
  },
  {
   "cell_type": "code",
   "execution_count": 53,
   "metadata": {},
   "outputs": [
    {
     "data": {
      "text/html": [
       "<div>\n",
       "<style scoped>\n",
       "    .dataframe tbody tr th:only-of-type {\n",
       "        vertical-align: middle;\n",
       "    }\n",
       "\n",
       "    .dataframe tbody tr th {\n",
       "        vertical-align: top;\n",
       "    }\n",
       "\n",
       "    .dataframe thead th {\n",
       "        text-align: right;\n",
       "    }\n",
       "</style>\n",
       "<table border=\"1\" class=\"dataframe\">\n",
       "  <thead>\n",
       "    <tr style=\"text-align: right;\">\n",
       "      <th></th>\n",
       "      <th>Id</th>\n",
       "      <th>MSSubClass</th>\n",
       "      <th>MSZoning</th>\n",
       "      <th>LotFrontage</th>\n",
       "      <th>LotArea</th>\n",
       "      <th>Street</th>\n",
       "      <th>Alley</th>\n",
       "      <th>LotShape</th>\n",
       "      <th>LandContour</th>\n",
       "      <th>Utilities</th>\n",
       "      <th>...</th>\n",
       "      <th>PoolArea</th>\n",
       "      <th>PoolQC</th>\n",
       "      <th>Fence</th>\n",
       "      <th>MiscFeature</th>\n",
       "      <th>MiscVal</th>\n",
       "      <th>MoSold</th>\n",
       "      <th>YrSold</th>\n",
       "      <th>SaleType</th>\n",
       "      <th>SaleCondition</th>\n",
       "      <th>SalePrice</th>\n",
       "    </tr>\n",
       "  </thead>\n",
       "  <tbody>\n",
       "    <tr>\n",
       "      <th>0</th>\n",
       "      <td>1</td>\n",
       "      <td>60</td>\n",
       "      <td>RL</td>\n",
       "      <td>65.0</td>\n",
       "      <td>8450</td>\n",
       "      <td>Pave</td>\n",
       "      <td>NaN</td>\n",
       "      <td>Reg</td>\n",
       "      <td>Lvl</td>\n",
       "      <td>AllPub</td>\n",
       "      <td>...</td>\n",
       "      <td>0</td>\n",
       "      <td>NaN</td>\n",
       "      <td>NaN</td>\n",
       "      <td>NaN</td>\n",
       "      <td>0</td>\n",
       "      <td>2</td>\n",
       "      <td>2008</td>\n",
       "      <td>WD</td>\n",
       "      <td>Normal</td>\n",
       "      <td>208500</td>\n",
       "    </tr>\n",
       "    <tr>\n",
       "      <th>1</th>\n",
       "      <td>2</td>\n",
       "      <td>20</td>\n",
       "      <td>RL</td>\n",
       "      <td>80.0</td>\n",
       "      <td>9600</td>\n",
       "      <td>Pave</td>\n",
       "      <td>NaN</td>\n",
       "      <td>Reg</td>\n",
       "      <td>Lvl</td>\n",
       "      <td>AllPub</td>\n",
       "      <td>...</td>\n",
       "      <td>0</td>\n",
       "      <td>NaN</td>\n",
       "      <td>NaN</td>\n",
       "      <td>NaN</td>\n",
       "      <td>0</td>\n",
       "      <td>5</td>\n",
       "      <td>2007</td>\n",
       "      <td>WD</td>\n",
       "      <td>Normal</td>\n",
       "      <td>181500</td>\n",
       "    </tr>\n",
       "    <tr>\n",
       "      <th>2</th>\n",
       "      <td>3</td>\n",
       "      <td>60</td>\n",
       "      <td>RL</td>\n",
       "      <td>68.0</td>\n",
       "      <td>11250</td>\n",
       "      <td>Pave</td>\n",
       "      <td>NaN</td>\n",
       "      <td>IR1</td>\n",
       "      <td>Lvl</td>\n",
       "      <td>AllPub</td>\n",
       "      <td>...</td>\n",
       "      <td>0</td>\n",
       "      <td>NaN</td>\n",
       "      <td>NaN</td>\n",
       "      <td>NaN</td>\n",
       "      <td>0</td>\n",
       "      <td>9</td>\n",
       "      <td>2008</td>\n",
       "      <td>WD</td>\n",
       "      <td>Normal</td>\n",
       "      <td>223500</td>\n",
       "    </tr>\n",
       "    <tr>\n",
       "      <th>3</th>\n",
       "      <td>4</td>\n",
       "      <td>70</td>\n",
       "      <td>RL</td>\n",
       "      <td>60.0</td>\n",
       "      <td>9550</td>\n",
       "      <td>Pave</td>\n",
       "      <td>NaN</td>\n",
       "      <td>IR1</td>\n",
       "      <td>Lvl</td>\n",
       "      <td>AllPub</td>\n",
       "      <td>...</td>\n",
       "      <td>0</td>\n",
       "      <td>NaN</td>\n",
       "      <td>NaN</td>\n",
       "      <td>NaN</td>\n",
       "      <td>0</td>\n",
       "      <td>2</td>\n",
       "      <td>2006</td>\n",
       "      <td>WD</td>\n",
       "      <td>Abnorml</td>\n",
       "      <td>140000</td>\n",
       "    </tr>\n",
       "    <tr>\n",
       "      <th>4</th>\n",
       "      <td>5</td>\n",
       "      <td>60</td>\n",
       "      <td>RL</td>\n",
       "      <td>84.0</td>\n",
       "      <td>14260</td>\n",
       "      <td>Pave</td>\n",
       "      <td>NaN</td>\n",
       "      <td>IR1</td>\n",
       "      <td>Lvl</td>\n",
       "      <td>AllPub</td>\n",
       "      <td>...</td>\n",
       "      <td>0</td>\n",
       "      <td>NaN</td>\n",
       "      <td>NaN</td>\n",
       "      <td>NaN</td>\n",
       "      <td>0</td>\n",
       "      <td>12</td>\n",
       "      <td>2008</td>\n",
       "      <td>WD</td>\n",
       "      <td>Normal</td>\n",
       "      <td>250000</td>\n",
       "    </tr>\n",
       "  </tbody>\n",
       "</table>\n",
       "<p>5 rows × 81 columns</p>\n",
       "</div>"
      ],
      "text/plain": [
       "   Id  MSSubClass MSZoning  LotFrontage  LotArea Street Alley LotShape  \\\n",
       "0   1          60       RL         65.0     8450   Pave   NaN      Reg   \n",
       "1   2          20       RL         80.0     9600   Pave   NaN      Reg   \n",
       "2   3          60       RL         68.0    11250   Pave   NaN      IR1   \n",
       "3   4          70       RL         60.0     9550   Pave   NaN      IR1   \n",
       "4   5          60       RL         84.0    14260   Pave   NaN      IR1   \n",
       "\n",
       "  LandContour Utilities  ... PoolArea PoolQC Fence MiscFeature MiscVal MoSold  \\\n",
       "0         Lvl    AllPub  ...        0    NaN   NaN         NaN       0      2   \n",
       "1         Lvl    AllPub  ...        0    NaN   NaN         NaN       0      5   \n",
       "2         Lvl    AllPub  ...        0    NaN   NaN         NaN       0      9   \n",
       "3         Lvl    AllPub  ...        0    NaN   NaN         NaN       0      2   \n",
       "4         Lvl    AllPub  ...        0    NaN   NaN         NaN       0     12   \n",
       "\n",
       "  YrSold  SaleType  SaleCondition  SalePrice  \n",
       "0   2008        WD         Normal     208500  \n",
       "1   2007        WD         Normal     181500  \n",
       "2   2008        WD         Normal     223500  \n",
       "3   2006        WD        Abnorml     140000  \n",
       "4   2008        WD         Normal     250000  \n",
       "\n",
       "[5 rows x 81 columns]"
      ]
     },
     "execution_count": 53,
     "metadata": {},
     "output_type": "execute_result"
    }
   ],
   "source": [
    "train_df.head()"
   ]
  },
  {
   "cell_type": "code",
   "execution_count": 54,
   "metadata": {},
   "outputs": [
    {
     "data": {
      "text/html": [
       "<div>\n",
       "<style scoped>\n",
       "    .dataframe tbody tr th:only-of-type {\n",
       "        vertical-align: middle;\n",
       "    }\n",
       "\n",
       "    .dataframe tbody tr th {\n",
       "        vertical-align: top;\n",
       "    }\n",
       "\n",
       "    .dataframe thead th {\n",
       "        text-align: right;\n",
       "    }\n",
       "</style>\n",
       "<table border=\"1\" class=\"dataframe\">\n",
       "  <thead>\n",
       "    <tr style=\"text-align: right;\">\n",
       "      <th></th>\n",
       "      <th>Id</th>\n",
       "      <th>MSSubClass</th>\n",
       "      <th>MSZoning</th>\n",
       "      <th>LotFrontage</th>\n",
       "      <th>LotArea</th>\n",
       "      <th>Street</th>\n",
       "      <th>Alley</th>\n",
       "      <th>LotShape</th>\n",
       "      <th>LandContour</th>\n",
       "      <th>Utilities</th>\n",
       "      <th>...</th>\n",
       "      <th>ScreenPorch</th>\n",
       "      <th>PoolArea</th>\n",
       "      <th>PoolQC</th>\n",
       "      <th>Fence</th>\n",
       "      <th>MiscFeature</th>\n",
       "      <th>MiscVal</th>\n",
       "      <th>MoSold</th>\n",
       "      <th>YrSold</th>\n",
       "      <th>SaleType</th>\n",
       "      <th>SaleCondition</th>\n",
       "    </tr>\n",
       "  </thead>\n",
       "  <tbody>\n",
       "    <tr>\n",
       "      <th>0</th>\n",
       "      <td>1461</td>\n",
       "      <td>20</td>\n",
       "      <td>RH</td>\n",
       "      <td>80.0</td>\n",
       "      <td>11622</td>\n",
       "      <td>Pave</td>\n",
       "      <td>NaN</td>\n",
       "      <td>Reg</td>\n",
       "      <td>Lvl</td>\n",
       "      <td>AllPub</td>\n",
       "      <td>...</td>\n",
       "      <td>120</td>\n",
       "      <td>0</td>\n",
       "      <td>NaN</td>\n",
       "      <td>MnPrv</td>\n",
       "      <td>NaN</td>\n",
       "      <td>0</td>\n",
       "      <td>6</td>\n",
       "      <td>2010</td>\n",
       "      <td>WD</td>\n",
       "      <td>Normal</td>\n",
       "    </tr>\n",
       "    <tr>\n",
       "      <th>1</th>\n",
       "      <td>1462</td>\n",
       "      <td>20</td>\n",
       "      <td>RL</td>\n",
       "      <td>81.0</td>\n",
       "      <td>14267</td>\n",
       "      <td>Pave</td>\n",
       "      <td>NaN</td>\n",
       "      <td>IR1</td>\n",
       "      <td>Lvl</td>\n",
       "      <td>AllPub</td>\n",
       "      <td>...</td>\n",
       "      <td>0</td>\n",
       "      <td>0</td>\n",
       "      <td>NaN</td>\n",
       "      <td>NaN</td>\n",
       "      <td>Gar2</td>\n",
       "      <td>12500</td>\n",
       "      <td>6</td>\n",
       "      <td>2010</td>\n",
       "      <td>WD</td>\n",
       "      <td>Normal</td>\n",
       "    </tr>\n",
       "    <tr>\n",
       "      <th>2</th>\n",
       "      <td>1463</td>\n",
       "      <td>60</td>\n",
       "      <td>RL</td>\n",
       "      <td>74.0</td>\n",
       "      <td>13830</td>\n",
       "      <td>Pave</td>\n",
       "      <td>NaN</td>\n",
       "      <td>IR1</td>\n",
       "      <td>Lvl</td>\n",
       "      <td>AllPub</td>\n",
       "      <td>...</td>\n",
       "      <td>0</td>\n",
       "      <td>0</td>\n",
       "      <td>NaN</td>\n",
       "      <td>MnPrv</td>\n",
       "      <td>NaN</td>\n",
       "      <td>0</td>\n",
       "      <td>3</td>\n",
       "      <td>2010</td>\n",
       "      <td>WD</td>\n",
       "      <td>Normal</td>\n",
       "    </tr>\n",
       "    <tr>\n",
       "      <th>3</th>\n",
       "      <td>1464</td>\n",
       "      <td>60</td>\n",
       "      <td>RL</td>\n",
       "      <td>78.0</td>\n",
       "      <td>9978</td>\n",
       "      <td>Pave</td>\n",
       "      <td>NaN</td>\n",
       "      <td>IR1</td>\n",
       "      <td>Lvl</td>\n",
       "      <td>AllPub</td>\n",
       "      <td>...</td>\n",
       "      <td>0</td>\n",
       "      <td>0</td>\n",
       "      <td>NaN</td>\n",
       "      <td>NaN</td>\n",
       "      <td>NaN</td>\n",
       "      <td>0</td>\n",
       "      <td>6</td>\n",
       "      <td>2010</td>\n",
       "      <td>WD</td>\n",
       "      <td>Normal</td>\n",
       "    </tr>\n",
       "    <tr>\n",
       "      <th>4</th>\n",
       "      <td>1465</td>\n",
       "      <td>120</td>\n",
       "      <td>RL</td>\n",
       "      <td>43.0</td>\n",
       "      <td>5005</td>\n",
       "      <td>Pave</td>\n",
       "      <td>NaN</td>\n",
       "      <td>IR1</td>\n",
       "      <td>HLS</td>\n",
       "      <td>AllPub</td>\n",
       "      <td>...</td>\n",
       "      <td>144</td>\n",
       "      <td>0</td>\n",
       "      <td>NaN</td>\n",
       "      <td>NaN</td>\n",
       "      <td>NaN</td>\n",
       "      <td>0</td>\n",
       "      <td>1</td>\n",
       "      <td>2010</td>\n",
       "      <td>WD</td>\n",
       "      <td>Normal</td>\n",
       "    </tr>\n",
       "  </tbody>\n",
       "</table>\n",
       "<p>5 rows × 80 columns</p>\n",
       "</div>"
      ],
      "text/plain": [
       "     Id  MSSubClass MSZoning  LotFrontage  LotArea Street Alley LotShape  \\\n",
       "0  1461          20       RH         80.0    11622   Pave   NaN      Reg   \n",
       "1  1462          20       RL         81.0    14267   Pave   NaN      IR1   \n",
       "2  1463          60       RL         74.0    13830   Pave   NaN      IR1   \n",
       "3  1464          60       RL         78.0     9978   Pave   NaN      IR1   \n",
       "4  1465         120       RL         43.0     5005   Pave   NaN      IR1   \n",
       "\n",
       "  LandContour Utilities  ... ScreenPorch PoolArea PoolQC  Fence MiscFeature  \\\n",
       "0         Lvl    AllPub  ...         120        0    NaN  MnPrv         NaN   \n",
       "1         Lvl    AllPub  ...           0        0    NaN    NaN        Gar2   \n",
       "2         Lvl    AllPub  ...           0        0    NaN  MnPrv         NaN   \n",
       "3         Lvl    AllPub  ...           0        0    NaN    NaN         NaN   \n",
       "4         HLS    AllPub  ...         144        0    NaN    NaN         NaN   \n",
       "\n",
       "  MiscVal MoSold  YrSold  SaleType  SaleCondition  \n",
       "0       0      6    2010        WD         Normal  \n",
       "1   12500      6    2010        WD         Normal  \n",
       "2       0      3    2010        WD         Normal  \n",
       "3       0      6    2010        WD         Normal  \n",
       "4       0      1    2010        WD         Normal  \n",
       "\n",
       "[5 rows x 80 columns]"
      ]
     },
     "execution_count": 54,
     "metadata": {},
     "output_type": "execute_result"
    }
   ],
   "source": [
    "test_df.head()"
   ]
  },
  {
   "cell_type": "code",
   "execution_count": 55,
   "metadata": {},
   "outputs": [],
   "source": [
    "X=train_df.drop(columns=['SalePrice'])\n",
    "y=train_df['SalePrice']"
   ]
  },
  {
   "cell_type": "code",
   "execution_count": 56,
   "metadata": {},
   "outputs": [
    {
     "data": {
      "text/html": [
       "<div>\n",
       "<style scoped>\n",
       "    .dataframe tbody tr th:only-of-type {\n",
       "        vertical-align: middle;\n",
       "    }\n",
       "\n",
       "    .dataframe tbody tr th {\n",
       "        vertical-align: top;\n",
       "    }\n",
       "\n",
       "    .dataframe thead th {\n",
       "        text-align: right;\n",
       "    }\n",
       "</style>\n",
       "<table border=\"1\" class=\"dataframe\">\n",
       "  <thead>\n",
       "    <tr style=\"text-align: right;\">\n",
       "      <th></th>\n",
       "      <th>Id</th>\n",
       "      <th>MSSubClass</th>\n",
       "      <th>MSZoning</th>\n",
       "      <th>LotFrontage</th>\n",
       "      <th>LotArea</th>\n",
       "      <th>Street</th>\n",
       "      <th>Alley</th>\n",
       "      <th>LotShape</th>\n",
       "      <th>LandContour</th>\n",
       "      <th>Utilities</th>\n",
       "      <th>...</th>\n",
       "      <th>ScreenPorch</th>\n",
       "      <th>PoolArea</th>\n",
       "      <th>PoolQC</th>\n",
       "      <th>Fence</th>\n",
       "      <th>MiscFeature</th>\n",
       "      <th>MiscVal</th>\n",
       "      <th>MoSold</th>\n",
       "      <th>YrSold</th>\n",
       "      <th>SaleType</th>\n",
       "      <th>SaleCondition</th>\n",
       "    </tr>\n",
       "  </thead>\n",
       "  <tbody>\n",
       "    <tr>\n",
       "      <th>0</th>\n",
       "      <td>1</td>\n",
       "      <td>60</td>\n",
       "      <td>RL</td>\n",
       "      <td>65.0</td>\n",
       "      <td>8450</td>\n",
       "      <td>Pave</td>\n",
       "      <td>NaN</td>\n",
       "      <td>Reg</td>\n",
       "      <td>Lvl</td>\n",
       "      <td>AllPub</td>\n",
       "      <td>...</td>\n",
       "      <td>0</td>\n",
       "      <td>0</td>\n",
       "      <td>NaN</td>\n",
       "      <td>NaN</td>\n",
       "      <td>NaN</td>\n",
       "      <td>0</td>\n",
       "      <td>2</td>\n",
       "      <td>2008</td>\n",
       "      <td>WD</td>\n",
       "      <td>Normal</td>\n",
       "    </tr>\n",
       "    <tr>\n",
       "      <th>1</th>\n",
       "      <td>2</td>\n",
       "      <td>20</td>\n",
       "      <td>RL</td>\n",
       "      <td>80.0</td>\n",
       "      <td>9600</td>\n",
       "      <td>Pave</td>\n",
       "      <td>NaN</td>\n",
       "      <td>Reg</td>\n",
       "      <td>Lvl</td>\n",
       "      <td>AllPub</td>\n",
       "      <td>...</td>\n",
       "      <td>0</td>\n",
       "      <td>0</td>\n",
       "      <td>NaN</td>\n",
       "      <td>NaN</td>\n",
       "      <td>NaN</td>\n",
       "      <td>0</td>\n",
       "      <td>5</td>\n",
       "      <td>2007</td>\n",
       "      <td>WD</td>\n",
       "      <td>Normal</td>\n",
       "    </tr>\n",
       "    <tr>\n",
       "      <th>2</th>\n",
       "      <td>3</td>\n",
       "      <td>60</td>\n",
       "      <td>RL</td>\n",
       "      <td>68.0</td>\n",
       "      <td>11250</td>\n",
       "      <td>Pave</td>\n",
       "      <td>NaN</td>\n",
       "      <td>IR1</td>\n",
       "      <td>Lvl</td>\n",
       "      <td>AllPub</td>\n",
       "      <td>...</td>\n",
       "      <td>0</td>\n",
       "      <td>0</td>\n",
       "      <td>NaN</td>\n",
       "      <td>NaN</td>\n",
       "      <td>NaN</td>\n",
       "      <td>0</td>\n",
       "      <td>9</td>\n",
       "      <td>2008</td>\n",
       "      <td>WD</td>\n",
       "      <td>Normal</td>\n",
       "    </tr>\n",
       "    <tr>\n",
       "      <th>3</th>\n",
       "      <td>4</td>\n",
       "      <td>70</td>\n",
       "      <td>RL</td>\n",
       "      <td>60.0</td>\n",
       "      <td>9550</td>\n",
       "      <td>Pave</td>\n",
       "      <td>NaN</td>\n",
       "      <td>IR1</td>\n",
       "      <td>Lvl</td>\n",
       "      <td>AllPub</td>\n",
       "      <td>...</td>\n",
       "      <td>0</td>\n",
       "      <td>0</td>\n",
       "      <td>NaN</td>\n",
       "      <td>NaN</td>\n",
       "      <td>NaN</td>\n",
       "      <td>0</td>\n",
       "      <td>2</td>\n",
       "      <td>2006</td>\n",
       "      <td>WD</td>\n",
       "      <td>Abnorml</td>\n",
       "    </tr>\n",
       "    <tr>\n",
       "      <th>4</th>\n",
       "      <td>5</td>\n",
       "      <td>60</td>\n",
       "      <td>RL</td>\n",
       "      <td>84.0</td>\n",
       "      <td>14260</td>\n",
       "      <td>Pave</td>\n",
       "      <td>NaN</td>\n",
       "      <td>IR1</td>\n",
       "      <td>Lvl</td>\n",
       "      <td>AllPub</td>\n",
       "      <td>...</td>\n",
       "      <td>0</td>\n",
       "      <td>0</td>\n",
       "      <td>NaN</td>\n",
       "      <td>NaN</td>\n",
       "      <td>NaN</td>\n",
       "      <td>0</td>\n",
       "      <td>12</td>\n",
       "      <td>2008</td>\n",
       "      <td>WD</td>\n",
       "      <td>Normal</td>\n",
       "    </tr>\n",
       "  </tbody>\n",
       "</table>\n",
       "<p>5 rows × 80 columns</p>\n",
       "</div>"
      ],
      "text/plain": [
       "   Id  MSSubClass MSZoning  LotFrontage  LotArea Street Alley LotShape  \\\n",
       "0   1          60       RL         65.0     8450   Pave   NaN      Reg   \n",
       "1   2          20       RL         80.0     9600   Pave   NaN      Reg   \n",
       "2   3          60       RL         68.0    11250   Pave   NaN      IR1   \n",
       "3   4          70       RL         60.0     9550   Pave   NaN      IR1   \n",
       "4   5          60       RL         84.0    14260   Pave   NaN      IR1   \n",
       "\n",
       "  LandContour Utilities  ... ScreenPorch PoolArea PoolQC Fence MiscFeature  \\\n",
       "0         Lvl    AllPub  ...           0        0    NaN   NaN         NaN   \n",
       "1         Lvl    AllPub  ...           0        0    NaN   NaN         NaN   \n",
       "2         Lvl    AllPub  ...           0        0    NaN   NaN         NaN   \n",
       "3         Lvl    AllPub  ...           0        0    NaN   NaN         NaN   \n",
       "4         Lvl    AllPub  ...           0        0    NaN   NaN         NaN   \n",
       "\n",
       "  MiscVal MoSold  YrSold  SaleType  SaleCondition  \n",
       "0       0      2    2008        WD         Normal  \n",
       "1       0      5    2007        WD         Normal  \n",
       "2       0      9    2008        WD         Normal  \n",
       "3       0      2    2006        WD        Abnorml  \n",
       "4       0     12    2008        WD         Normal  \n",
       "\n",
       "[5 rows x 80 columns]"
      ]
     },
     "execution_count": 56,
     "metadata": {},
     "output_type": "execute_result"
    }
   ],
   "source": [
    "X.head()"
   ]
  },
  {
   "cell_type": "code",
   "execution_count": 57,
   "metadata": {},
   "outputs": [
    {
     "data": {
      "text/plain": [
       "0    208500\n",
       "1    181500\n",
       "2    223500\n",
       "3    140000\n",
       "4    250000\n",
       "Name: SalePrice, dtype: int64"
      ]
     },
     "execution_count": 57,
     "metadata": {},
     "output_type": "execute_result"
    }
   ],
   "source": [
    "y.head()"
   ]
  },
  {
   "cell_type": "code",
   "execution_count": 58,
   "metadata": {},
   "outputs": [],
   "source": [
    "X=outliers_normalization(X)"
   ]
  },
  {
   "cell_type": "code",
   "execution_count": 59,
   "metadata": {},
   "outputs": [
    {
     "data": {
      "text/plain": [
       "<AxesSubplot: >"
      ]
     },
     "execution_count": 59,
     "metadata": {},
     "output_type": "execute_result"
    },
    {
     "data": {
      "image/png": "[encoded data removed]",
      "text/plain": [
       "<Figure size 2500x1000 with 2 Axes>"
      ]
     },
     "metadata": {},
     "output_type": "display_data"
    }
   ],
   "source": [
    "import missingno as msno\n",
    "%matplotlib inline\n",
    "msno.matrix(X)"
   ]
  },
  {
   "cell_type": "code",
   "execution_count": 60,
   "metadata": {},
   "outputs": [],
   "source": [
    "#Looking for NaNs\n",
    "isna=X.isna().sum()/X.shape[0]*100"
   ]
  },
  {
   "cell_type": "code",
   "execution_count": 61,
   "metadata": {},
   "outputs": [
    {
     "data": {
      "text/plain": [
       "LotFrontage     17.739726\n",
       "Alley           93.767123\n",
       "MasVnrType       0.547945\n",
       "MasVnrArea       0.547945\n",
       "BsmtQual         2.534247\n",
       "BsmtCond         2.534247\n",
       "BsmtExposure     2.602740\n",
       "BsmtFinType1     2.534247\n",
       "BsmtFinType2     2.602740\n",
       "Electrical       0.068493\n",
       "FireplaceQu     47.260274\n",
       "GarageType       5.547945\n",
       "GarageYrBlt      5.547945\n",
       "GarageFinish     5.547945\n",
       "GarageQual       5.547945\n",
       "GarageCond       5.547945\n",
       "PoolQC          99.520548\n",
       "Fence           80.753425\n",
       "MiscFeature     96.301370\n",
       "dtype: float64"
      ]
     },
     "execution_count": 61,
     "metadata": {},
     "output_type": "execute_result"
    }
   ],
   "source": [
    "isna[isna>0]"
   ]
  },
  {
   "attachments": {},
   "cell_type": "markdown",
   "metadata": {},
   "source": [
    "LotFrontage     17.739726   replace with int 0  \n",
    "Alley           93.767123   replace with str no  \n",
    "MasVnrType       0.547945   replace with str None  \n",
    "MasVnrArea       0.547945   replace with int 0  \n",
    "BsmtQual         2.534247   replace with str no  \n",
    "BsmtCond         2.534247   replace with str no  \n",
    "BsmtExposure     2.602740   replace with str no  \n",
    "BsmtFinType1     2.534247   replace with str no  \n",
    "BsmtFinType2     2.602740   replace with str no  \n",
    "Electrical       0.068493   replace with str FuseF  \n",
    "FireplaceQu     47.260274   replace with str no  \n",
    "GarageType       5.547945   replace with str no  \n",
    "GarageYrBlt      5.547945   replace with 0  \n",
    "GarageFinish     5.547945   replace with str no  \n",
    "GarageQual       5.547945   replace with str no  \n",
    "GarageCond       5.547945   replace with str no  \n",
    "PoolQC          99.520548   drop  \n",
    "Fence           80.753425   replace with str no  \n",
    "MiscFeature     96.301370   drop"
   ]
  },
  {
   "cell_type": "code",
   "execution_count": 62,
   "metadata": {},
   "outputs": [],
   "source": [
    "#Dropping columns with too many NaNs\n",
    "X = X.drop(columns=['PoolQC','MiscFeature','Id'])\n"
   ]
  },
  {
   "cell_type": "code",
   "execution_count": 63,
   "metadata": {},
   "outputs": [],
   "source": [
    "test_df = test_df.drop(columns=['PoolQC','MiscFeature','Id'])"
   ]
  },
  {
   "cell_type": "code",
   "execution_count": 64,
   "metadata": {},
   "outputs": [],
   "source": [
    "\n",
    "#Imputing values manually given the nature of the data for trining\n",
    "X['LotFrontage']=X['LotFrontage'].fillna(0)\n",
    "X['Alley']=X['BsmtQual'].fillna('no')\n",
    "X['MasVnrType']=X['MasVnrType'].fillna('None')\n",
    "X['MasVnrArea']=X['MasVnrArea'].fillna(0)\n",
    "X['BsmtQual']=X['BsmtQual'].fillna('no')\n",
    "X['BsmtCond']=X['BsmtCond'].fillna('no')\n",
    "X['BsmtExposure']=X['BsmtExposure'].fillna('no')\n",
    "X['BsmtFinType1']=X['BsmtFinType1'].fillna('no')\n",
    "X['BsmtFinType2']=X['BsmtFinType2'].fillna('no')\n",
    "X['Electrical']=X['Electrical'].fillna('FuseF')\n",
    "X['FireplaceQu']=X['FireplaceQu'].fillna('no')\n",
    "X['GarageType']=X['GarageType'].fillna('no')\n",
    "X['GarageYrBlt']=X['GarageYrBlt'].fillna(0)\n",
    "X['GarageFinish']=X['GarageFinish'].fillna('no')\n",
    "X['GarageQual']=X['GarageQual'].fillna('no')\n",
    "X['GarageCond']=X['GarageCond'].fillna('no')\n",
    "X['Fence']=X['Fence'].fillna('no')\n"
   ]
  },
  {
   "cell_type": "code",
   "execution_count": 65,
   "metadata": {},
   "outputs": [],
   "source": [
    "#Imputing values manually given the nature of the data for testing\n",
    "test_df['LotFrontage']=test_df['LotFrontage'].fillna(0)\n",
    "test_df['Alley']=test_df['BsmtQual'].fillna('no')\n",
    "test_df['MasVnrType']=test_df['MasVnrType'].fillna('None')\n",
    "test_df['MasVnrArea']=test_df['MasVnrArea'].fillna(0)\n",
    "test_df['BsmtQual']=test_df['BsmtQual'].fillna('no')\n",
    "test_df['BsmtCond']=test_df['BsmtCond'].fillna('no')\n",
    "test_df['BsmtExposure']=test_df['BsmtExposure'].fillna('no')\n",
    "test_df['BsmtFinType1']=test_df['BsmtFinType1'].fillna('no')\n",
    "test_df['BsmtFinType2']=test_df['BsmtFinType2'].fillna('no')\n",
    "test_df['Electrical']=test_df['Electrical'].fillna('FuseF')\n",
    "test_df['FireplaceQu']=test_df['FireplaceQu'].fillna('no')\n",
    "test_df['GarageType']=test_df['GarageType'].fillna('no')\n",
    "test_df['GarageYrBlt']=test_df['GarageYrBlt'].fillna(0)\n",
    "test_df['GarageFinish']=test_df['GarageFinish'].fillna('no')\n",
    "test_df['GarageQual']=test_df['GarageQual'].fillna('no')\n",
    "test_df['GarageCond']=test_df['GarageCond'].fillna('no')\n",
    "test_df['Fence']=test_df['Fence'].fillna('no')"
   ]
  },
  {
   "cell_type": "code",
   "execution_count": 66,
   "metadata": {},
   "outputs": [
    {
     "data": {
      "text/plain": [
       "<AxesSubplot: >"
      ]
     },
     "execution_count": 66,
     "metadata": {},
     "output_type": "execute_result"
    },
    {
     "data": {
      "image/png": "[encoded data removed]",
      "text/plain": [
       "<Figure size 2500x1000 with 2 Axes>"
      ]
     },
     "metadata": {},
     "output_type": "display_data"
    }
   ],
   "source": [
    "import missingno as msno\n",
    "%matplotlib inline\n",
    "msno.matrix(X)"
   ]
  },
  {
   "attachments": {},
   "cell_type": "markdown",
   "metadata": {},
   "source": [
    "#### Train / Test Split"
   ]
  },
  {
   "cell_type": "code",
   "execution_count": 67,
   "metadata": {},
   "outputs": [
    {
     "name": "stdout",
     "output_type": "stream",
     "text": [
      "(1168, 77) (292, 77) (1168,) (292,)\n"
     ]
    }
   ],
   "source": [
    "X_train, X_test, y_train, y_test = train_test_split(X, y, test_size=0.2, random_state=2022)\n",
    "\n",
    "print(X_train.shape, X_test.shape, y_train.shape, y_test.shape)"
   ]
  },
  {
   "cell_type": "code",
   "execution_count": 68,
   "metadata": {},
   "outputs": [
    {
     "name": "stdout",
     "output_type": "stream",
     "text": [
      "There are 36 numerical features: ['MSSubClass', 'LotFrontage', 'LotArea', 'OverallQual', 'OverallCond', 'YearBuilt', 'YearRemodAdd', 'MasVnrArea', 'BsmtFinSF1', 'BsmtFinSF2', 'BsmtUnfSF', 'TotalBsmtSF', '1stFlrSF', '2ndFlrSF', 'LowQualFinSF', 'GrLivArea', 'BsmtFullBath', 'BsmtHalfBath', 'FullBath', 'HalfBath', 'BedroomAbvGr', 'KitchenAbvGr', 'TotRmsAbvGrd', 'Fireplaces', 'GarageYrBlt', 'GarageCars', 'GarageArea', 'WoodDeckSF', 'OpenPorchSF', 'EnclosedPorch', '3SsnPorch', 'ScreenPorch', 'PoolArea', 'MiscVal', 'MoSold', 'YrSold']\n",
      "\n",
      "There are 41 string features: ['MSZoning', 'Street', 'Alley', 'LotShape', 'LandContour', 'Utilities', 'LotConfig', 'LandSlope', 'Neighborhood', 'Condition1', 'Condition2', 'BldgType', 'HouseStyle', 'RoofStyle', 'RoofMatl', 'Exterior1st', 'Exterior2nd', 'MasVnrType', 'ExterQual', 'ExterCond', 'Foundation', 'BsmtQual', 'BsmtCond', 'BsmtExposure', 'BsmtFinType1', 'BsmtFinType2', 'Heating', 'HeatingQC', 'CentralAir', 'Electrical', 'KitchenQual', 'Functional', 'FireplaceQu', 'GarageType', 'GarageFinish', 'GarageQual', 'GarageCond', 'PavedDrive', 'Fence', 'SaleType', 'SaleCondition']\n",
      "\n"
     ]
    }
   ],
   "source": [
    "numerical_features = X_train.select_dtypes(include='number').columns.tolist()\n",
    "print(f\"There are {len(numerical_features)} numerical features: {numerical_features}\\n\")\n",
    "\n",
    "string_features = X_train.select_dtypes(exclude='number').columns.tolist()\n",
    "print(f\"There are {len(string_features)} string features: {string_features}\\n\")"
   ]
  },
  {
   "attachments": {},
   "cell_type": "markdown",
   "metadata": {},
   "source": [
    "#### Applying transformations"
   ]
  },
  {
   "cell_type": "code",
   "execution_count": 69,
   "metadata": {},
   "outputs": [],
   "source": [
    "# Pipeline for numeric features\n",
    "numeric_pipeline = Pipeline(steps=[\n",
    "    ('impute', SimpleImputer(strategy='mean')),\n",
    "    ('scale', MinMaxScaler())\n",
    "  ]\n",
    ")\n",
    "\n",
    "# Pipeline for string features\n",
    "string_pipeline = Pipeline(steps=[\n",
    "    ('impute', SimpleImputer(strategy='most_frequent')),\n",
    "    ('encode', OneHotEncoder(handle_unknown='ignore', sparse=False,drop='first')),\n",
    "    ('scale', MinMaxScaler())\n",
    "  ]\n",
    ")\n",
    "\n",
    "# Now let's merge both pipeline into one single pre-processing object\n",
    "# We can use ColumnTransformer for this\n",
    "full_processor = ColumnTransformer(transformers=[\n",
    "    ('number', numeric_pipeline, numerical_features),\n",
    "    ('string', string_pipeline, string_features)\n",
    "  ]\n",
    ")"
   ]
  },
  {
   "cell_type": "code",
   "execution_count": 70,
   "metadata": {},
   "outputs": [
    {
     "name": "stdout",
     "output_type": "stream",
     "text": [
      "(1168, 249) (292, 249)\n"
     ]
    },
    {
     "name": "stderr",
     "output_type": "stream",
     "text": [
      "/home/manuelquiros/Documents/VENVS/KaggleTitanic/lib/python3.10/site-packages/sklearn/preprocessing/_encoders.py:828: FutureWarning: `sparse` was renamed to `sparse_output` in version 1.2 and will be removed in 1.4. `sparse_output` is ignored unless you leave `sparse` to its default value.\n",
      "  warnings.warn(\n",
      "/home/manuelquiros/Documents/VENVS/KaggleTitanic/lib/python3.10/site-packages/sklearn/preprocessing/_encoders.py:202: UserWarning: Found unknown categories in columns [10, 14, 16, 27, 31] during transform. These unknown categories will be encoded as all zeros\n",
      "  warnings.warn(\n"
     ]
    }
   ],
   "source": [
    "X_train = full_processor.fit_transform(X_train)\n",
    "X_test  = full_processor.transform(X_test)\n",
    "\n",
    "print(X_train.shape, X_test.shape)"
   ]
  },
  {
   "cell_type": "code",
   "execution_count": 71,
   "metadata": {},
   "outputs": [
    {
     "name": "stderr",
     "output_type": "stream",
     "text": [
      "/home/manuelquiros/Documents/VENVS/KaggleTitanic/lib/python3.10/site-packages/sklearn/preprocessing/_encoders.py:202: UserWarning: Found unknown categories in columns [10, 27, 31] during transform. These unknown categories will be encoded as all zeros\n",
      "  warnings.warn(\n"
     ]
    },
    {
     "data": {
      "text/plain": [
       "(1459, 249)"
      ]
     },
     "execution_count": 71,
     "metadata": {},
     "output_type": "execute_result"
    }
   ],
   "source": [
    "test_df = full_processor.transform(test_df)\n",
    "test_df.shape"
   ]
  },
  {
   "cell_type": "code",
   "execution_count": 72,
   "metadata": {},
   "outputs": [],
   "source": [
    "enc_cat_features = full_processor.named_transformers_['string']['encode'].get_feature_names_out()"
   ]
  },
  {
   "cell_type": "code",
   "execution_count": 73,
   "metadata": {},
   "outputs": [
    {
     "data": {
      "text/plain": [
       "array(['x0_FV', 'x0_RH', 'x0_RL', 'x0_RM', 'x1_Pave', 'x2_Fa', 'x2_Gd',\n",
       "       'x2_TA', 'x2_no', 'x3_IR2', 'x3_IR3', 'x3_Reg', 'x4_HLS', 'x4_Low',\n",
       "       'x4_Lvl', 'x5_NoSeWa', 'x6_CulDSac', 'x6_FR2', 'x6_FR3',\n",
       "       'x6_Inside', 'x7_Mod', 'x7_Sev', 'x8_Blueste', 'x8_BrDale',\n",
       "       'x8_BrkSide', 'x8_ClearCr', 'x8_CollgCr', 'x8_Crawfor',\n",
       "       'x8_Edwards', 'x8_Gilbert', 'x8_IDOTRR', 'x8_MeadowV',\n",
       "       'x8_Mitchel', 'x8_NAmes', 'x8_NPkVill', 'x8_NWAmes', 'x8_NoRidge',\n",
       "       'x8_NridgHt', 'x8_OldTown', 'x8_SWISU', 'x8_Sawyer', 'x8_SawyerW',\n",
       "       'x8_Somerst', 'x8_StoneBr', 'x8_Timber', 'x8_Veenker', 'x9_Feedr',\n",
       "       'x9_Norm', 'x9_PosA', 'x9_PosN', 'x9_RRAe', 'x9_RRAn', 'x9_RRNe',\n",
       "       'x9_RRNn', 'x10_Feedr', 'x10_Norm', 'x10_PosN', 'x10_RRAe',\n",
       "       'x10_RRAn', 'x10_RRNn', 'x11_2fmCon', 'x11_Duplex', 'x11_Twnhs',\n",
       "       'x11_TwnhsE', 'x12_1.5Unf', 'x12_1Story', 'x12_2.5Fin',\n",
       "       'x12_2.5Unf', 'x12_2Story', 'x12_SFoyer', 'x12_SLvl', 'x13_Gable',\n",
       "       'x13_Gambrel', 'x13_Hip', 'x13_Mansard', 'x13_Shed', 'x14_CompShg',\n",
       "       'x14_Membran', 'x14_Metal', 'x14_Tar&Grv', 'x14_WdShake',\n",
       "       'x14_WdShngl', 'x15_AsphShn', 'x15_BrkComm', 'x15_BrkFace',\n",
       "       'x15_CBlock', 'x15_CemntBd', 'x15_HdBoard', 'x15_ImStucc',\n",
       "       'x15_MetalSd', 'x15_Plywood', 'x15_Stone', 'x15_Stucco',\n",
       "       'x15_VinylSd', 'x15_Wd Sdng', 'x15_WdShing', 'x16_AsphShn',\n",
       "       'x16_Brk Cmn', 'x16_BrkFace', 'x16_CBlock', 'x16_CmentBd',\n",
       "       'x16_HdBoard', 'x16_ImStucc', 'x16_MetalSd', 'x16_Plywood',\n",
       "       'x16_Stone', 'x16_Stucco', 'x16_VinylSd', 'x16_Wd Sdng',\n",
       "       'x16_Wd Shng', 'x17_BrkFace', 'x17_None', 'x17_Stone', 'x18_Fa',\n",
       "       'x18_Gd', 'x18_TA', 'x19_Fa', 'x19_Gd', 'x19_Po', 'x19_TA',\n",
       "       'x20_CBlock', 'x20_PConc', 'x20_Slab', 'x20_Stone', 'x20_Wood',\n",
       "       'x21_Fa', 'x21_Gd', 'x21_TA', 'x21_no', 'x22_Gd', 'x22_Po',\n",
       "       'x22_TA', 'x22_no', 'x23_Gd', 'x23_Mn', 'x23_No', 'x23_no',\n",
       "       'x24_BLQ', 'x24_GLQ', 'x24_LwQ', 'x24_Rec', 'x24_Unf', 'x24_no',\n",
       "       'x25_BLQ', 'x25_GLQ', 'x25_LwQ', 'x25_Rec', 'x25_Unf', 'x25_no',\n",
       "       'x26_GasA', 'x26_GasW', 'x26_Grav', 'x26_OthW', 'x26_Wall',\n",
       "       'x27_Fa', 'x27_Gd', 'x27_TA', 'x28_Y', 'x29_FuseF', 'x29_FuseP',\n",
       "       'x29_Mix', 'x29_SBrkr', 'x30_Fa', 'x30_Gd', 'x30_TA', 'x31_Maj2',\n",
       "       'x31_Min1', 'x31_Min2', 'x31_Mod', 'x31_Typ', 'x32_Fa', 'x32_Gd',\n",
       "       'x32_Po', 'x32_TA', 'x32_no', 'x33_Attchd', 'x33_Basment',\n",
       "       'x33_BuiltIn', 'x33_CarPort', 'x33_Detchd', 'x33_no', 'x34_RFn',\n",
       "       'x34_Unf', 'x34_no', 'x35_Fa', 'x35_Gd', 'x35_Po', 'x35_TA',\n",
       "       'x35_no', 'x36_Fa', 'x36_Gd', 'x36_Po', 'x36_TA', 'x36_no',\n",
       "       'x37_P', 'x37_Y', 'x38_GdWo', 'x38_MnPrv', 'x38_MnWw', 'x38_no',\n",
       "       'x39_CWD', 'x39_Con', 'x39_ConLD', 'x39_ConLI', 'x39_ConLw',\n",
       "       'x39_New', 'x39_Oth', 'x39_WD', 'x40_AdjLand', 'x40_Alloca',\n",
       "       'x40_Family', 'x40_Normal', 'x40_Partial'], dtype=object)"
      ]
     },
     "execution_count": 73,
     "metadata": {},
     "output_type": "execute_result"
    }
   ],
   "source": [
    "enc_cat_features"
   ]
  },
  {
   "attachments": {},
   "cell_type": "markdown",
   "metadata": {},
   "source": [
    "#### Aplying PCA to num features"
   ]
  },
  {
   "cell_type": "code",
   "execution_count": 78,
   "metadata": {},
   "outputs": [
    {
     "name": "stdout",
     "output_type": "stream",
     "text": [
      "(1168, 147) (292, 147) (1459, 147)\n"
     ]
    }
   ],
   "source": [
    "### Despues de normalizar y de onehotencodear !!!!!!!\n",
    "pca = PCA(n_components=0.99)\n",
    "X_train_pca = pca.fit_transform(X_train)\n",
    "X_test_pca = pca.transform(X_test)\n",
    "test_df_pca = pca.transform(test_df)\n",
    "print(X_train_pca.shape, X_test_pca.shape,test_df_pca.shape)"
   ]
  },
  {
   "attachments": {},
   "cell_type": "markdown",
   "metadata": {},
   "source": [
    "### Models"
   ]
  },
  {
   "attachments": {},
   "cell_type": "markdown",
   "metadata": {},
   "source": [
    "#### Baseline"
   ]
  },
  {
   "cell_type": "code",
   "execution_count": 38,
   "metadata": {},
   "outputs": [],
   "source": [
    "LR = LinearRegression()\n",
    "LR_p = LinearRegression()"
   ]
  },
  {
   "cell_type": "code",
   "execution_count": 39,
   "metadata": {},
   "outputs": [
    {
     "data": {
      "text/html": [
       "<style>#sk-container-id-3 {color: black;background-color: white;}#sk-container-id-3 pre{padding: 0;}#sk-container-id-3 div.sk-toggleable {background-color: white;}#sk-container-id-3 label.sk-toggleable__label {cursor: pointer;display: block;width: 100%;margin-bottom: 0;padding: 0.3em;box-sizing: border-box;text-align: center;}#sk-container-id-3 label.sk-toggleable__label-arrow:before {content: \"▸\";float: left;margin-right: 0.25em;color: #696969;}#sk-container-id-3 label.sk-toggleable__label-arrow:hover:before {color: black;}#sk-container-id-3 div.sk-estimator:hover label.sk-toggleable__label-arrow:before {color: black;}#sk-container-id-3 div.sk-toggleable__content {max-height: 0;max-width: 0;overflow: hidden;text-align: left;background-color: #f0f8ff;}#sk-container-id-3 div.sk-toggleable__content pre {margin: 0.2em;color: black;border-radius: 0.25em;background-color: #f0f8ff;}#sk-container-id-3 input.sk-toggleable__control:checked~div.sk-toggleable__content {max-height: 200px;max-width: 100%;overflow: auto;}#sk-container-id-3 input.sk-toggleable__control:checked~label.sk-toggleable__label-arrow:before {content: \"▾\";}#sk-container-id-3 div.sk-estimator input.sk-toggleable__control:checked~label.sk-toggleable__label {background-color: #d4ebff;}#sk-container-id-3 div.sk-label input.sk-toggleable__control:checked~label.sk-toggleable__label {background-color: #d4ebff;}#sk-container-id-3 input.sk-hidden--visually {border: 0;clip: rect(1px 1px 1px 1px);clip: rect(1px, 1px, 1px, 1px);height: 1px;margin: -1px;overflow: hidden;padding: 0;position: absolute;width: 1px;}#sk-container-id-3 div.sk-estimator {font-family: monospace;background-color: #f0f8ff;border: 1px dotted black;border-radius: 0.25em;box-sizing: border-box;margin-bottom: 0.5em;}#sk-container-id-3 div.sk-estimator:hover {background-color: #d4ebff;}#sk-container-id-3 div.sk-parallel-item::after {content: \"\";width: 100%;border-bottom: 1px solid gray;flex-grow: 1;}#sk-container-id-3 div.sk-label:hover label.sk-toggleable__label {background-color: #d4ebff;}#sk-container-id-3 div.sk-serial::before {content: \"\";position: absolute;border-left: 1px solid gray;box-sizing: border-box;top: 0;bottom: 0;left: 50%;z-index: 0;}#sk-container-id-3 div.sk-serial {display: flex;flex-direction: column;align-items: center;background-color: white;padding-right: 0.2em;padding-left: 0.2em;position: relative;}#sk-container-id-3 div.sk-item {position: relative;z-index: 1;}#sk-container-id-3 div.sk-parallel {display: flex;align-items: stretch;justify-content: center;background-color: white;position: relative;}#sk-container-id-3 div.sk-item::before, #sk-container-id-3 div.sk-parallel-item::before {content: \"\";position: absolute;border-left: 1px solid gray;box-sizing: border-box;top: 0;bottom: 0;left: 50%;z-index: -1;}#sk-container-id-3 div.sk-parallel-item {display: flex;flex-direction: column;z-index: 1;position: relative;background-color: white;}#sk-container-id-3 div.sk-parallel-item:first-child::after {align-self: flex-end;width: 50%;}#sk-container-id-3 div.sk-parallel-item:last-child::after {align-self: flex-start;width: 50%;}#sk-container-id-3 div.sk-parallel-item:only-child::after {width: 0;}#sk-container-id-3 div.sk-dashed-wrapped {border: 1px dashed gray;margin: 0 0.4em 0.5em 0.4em;box-sizing: border-box;padding-bottom: 0.4em;background-color: white;}#sk-container-id-3 div.sk-label label {font-family: monospace;font-weight: bold;display: inline-block;line-height: 1.2em;}#sk-container-id-3 div.sk-label-container {text-align: center;}#sk-container-id-3 div.sk-container {/* jupyter's `normalize.less` sets `[hidden] { display: none; }` but bootstrap.min.css set `[hidden] { display: none !important; }` so we also need the `!important` here to be able to override the default hidden behavior on the sphinx rendered scikit-learn.org. See: https://github.com/scikit-learn/scikit-learn/issues/21755 */display: inline-block !important;position: relative;}#sk-container-id-3 div.sk-text-repr-fallback {display: none;}</style><div id=\"sk-container-id-3\" class=\"sk-top-container\"><div class=\"sk-text-repr-fallback\"><pre>LinearRegression()</pre><b>In a Jupyter environment, please rerun this cell to show the HTML representation or trust the notebook. <br />On GitHub, the HTML representation is unable to render, please try loading this page with nbviewer.org.</b></div><div class=\"sk-container\" hidden><div class=\"sk-item\"><div class=\"sk-estimator sk-toggleable\"><input class=\"sk-toggleable__control sk-hidden--visually\" id=\"sk-estimator-id-3\" type=\"checkbox\" checked><label for=\"sk-estimator-id-3\" class=\"sk-toggleable__label sk-toggleable__label-arrow\">LinearRegression</label><div class=\"sk-toggleable__content\"><pre>LinearRegression()</pre></div></div></div></div></div>"
      ],
      "text/plain": [
       "LinearRegression()"
      ]
     },
     "execution_count": 39,
     "metadata": {},
     "output_type": "execute_result"
    }
   ],
   "source": [
    "LR.fit(X_train,y_train)"
   ]
  },
  {
   "cell_type": "code",
   "execution_count": 40,
   "metadata": {},
   "outputs": [
    {
     "data": {
      "text/html": [
       "<style>#sk-container-id-4 {color: black;background-color: white;}#sk-container-id-4 pre{padding: 0;}#sk-container-id-4 div.sk-toggleable {background-color: white;}#sk-container-id-4 label.sk-toggleable__label {cursor: pointer;display: block;width: 100%;margin-bottom: 0;padding: 0.3em;box-sizing: border-box;text-align: center;}#sk-container-id-4 label.sk-toggleable__label-arrow:before {content: \"▸\";float: left;margin-right: 0.25em;color: #696969;}#sk-container-id-4 label.sk-toggleable__label-arrow:hover:before {color: black;}#sk-container-id-4 div.sk-estimator:hover label.sk-toggleable__label-arrow:before {color: black;}#sk-container-id-4 div.sk-toggleable__content {max-height: 0;max-width: 0;overflow: hidden;text-align: left;background-color: #f0f8ff;}#sk-container-id-4 div.sk-toggleable__content pre {margin: 0.2em;color: black;border-radius: 0.25em;background-color: #f0f8ff;}#sk-container-id-4 input.sk-toggleable__control:checked~div.sk-toggleable__content {max-height: 200px;max-width: 100%;overflow: auto;}#sk-container-id-4 input.sk-toggleable__control:checked~label.sk-toggleable__label-arrow:before {content: \"▾\";}#sk-container-id-4 div.sk-estimator input.sk-toggleable__control:checked~label.sk-toggleable__label {background-color: #d4ebff;}#sk-container-id-4 div.sk-label input.sk-toggleable__control:checked~label.sk-toggleable__label {background-color: #d4ebff;}#sk-container-id-4 input.sk-hidden--visually {border: 0;clip: rect(1px 1px 1px 1px);clip: rect(1px, 1px, 1px, 1px);height: 1px;margin: -1px;overflow: hidden;padding: 0;position: absolute;width: 1px;}#sk-container-id-4 div.sk-estimator {font-family: monospace;background-color: #f0f8ff;border: 1px dotted black;border-radius: 0.25em;box-sizing: border-box;margin-bottom: 0.5em;}#sk-container-id-4 div.sk-estimator:hover {background-color: #d4ebff;}#sk-container-id-4 div.sk-parallel-item::after {content: \"\";width: 100%;border-bottom: 1px solid gray;flex-grow: 1;}#sk-container-id-4 div.sk-label:hover label.sk-toggleable__label {background-color: #d4ebff;}#sk-container-id-4 div.sk-serial::before {content: \"\";position: absolute;border-left: 1px solid gray;box-sizing: border-box;top: 0;bottom: 0;left: 50%;z-index: 0;}#sk-container-id-4 div.sk-serial {display: flex;flex-direction: column;align-items: center;background-color: white;padding-right: 0.2em;padding-left: 0.2em;position: relative;}#sk-container-id-4 div.sk-item {position: relative;z-index: 1;}#sk-container-id-4 div.sk-parallel {display: flex;align-items: stretch;justify-content: center;background-color: white;position: relative;}#sk-container-id-4 div.sk-item::before, #sk-container-id-4 div.sk-parallel-item::before {content: \"\";position: absolute;border-left: 1px solid gray;box-sizing: border-box;top: 0;bottom: 0;left: 50%;z-index: -1;}#sk-container-id-4 div.sk-parallel-item {display: flex;flex-direction: column;z-index: 1;position: relative;background-color: white;}#sk-container-id-4 div.sk-parallel-item:first-child::after {align-self: flex-end;width: 50%;}#sk-container-id-4 div.sk-parallel-item:last-child::after {align-self: flex-start;width: 50%;}#sk-container-id-4 div.sk-parallel-item:only-child::after {width: 0;}#sk-container-id-4 div.sk-dashed-wrapped {border: 1px dashed gray;margin: 0 0.4em 0.5em 0.4em;box-sizing: border-box;padding-bottom: 0.4em;background-color: white;}#sk-container-id-4 div.sk-label label {font-family: monospace;font-weight: bold;display: inline-block;line-height: 1.2em;}#sk-container-id-4 div.sk-label-container {text-align: center;}#sk-container-id-4 div.sk-container {/* jupyter's `normalize.less` sets `[hidden] { display: none; }` but bootstrap.min.css set `[hidden] { display: none !important; }` so we also need the `!important` here to be able to override the default hidden behavior on the sphinx rendered scikit-learn.org. See: https://github.com/scikit-learn/scikit-learn/issues/21755 */display: inline-block !important;position: relative;}#sk-container-id-4 div.sk-text-repr-fallback {display: none;}</style><div id=\"sk-container-id-4\" class=\"sk-top-container\"><div class=\"sk-text-repr-fallback\"><pre>LinearRegression()</pre><b>In a Jupyter environment, please rerun this cell to show the HTML representation or trust the notebook. <br />On GitHub, the HTML representation is unable to render, please try loading this page with nbviewer.org.</b></div><div class=\"sk-container\" hidden><div class=\"sk-item\"><div class=\"sk-estimator sk-toggleable\"><input class=\"sk-toggleable__control sk-hidden--visually\" id=\"sk-estimator-id-4\" type=\"checkbox\" checked><label for=\"sk-estimator-id-4\" class=\"sk-toggleable__label sk-toggleable__label-arrow\">LinearRegression</label><div class=\"sk-toggleable__content\"><pre>LinearRegression()</pre></div></div></div></div></div>"
      ],
      "text/plain": [
       "LinearRegression()"
      ]
     },
     "execution_count": 40,
     "metadata": {},
     "output_type": "execute_result"
    }
   ],
   "source": [
    "LR_p.fit(X_train_pca,y_train)"
   ]
  },
  {
   "cell_type": "code",
   "execution_count": 41,
   "metadata": {},
   "outputs": [],
   "source": [
    "LR_train_pred=LR.predict(X_train)"
   ]
  },
  {
   "cell_type": "code",
   "execution_count": 42,
   "metadata": {},
   "outputs": [],
   "source": [
    "LR_train_p_pred=LR_p.predict(X_train_pca)"
   ]
  },
  {
   "cell_type": "code",
   "execution_count": 43,
   "metadata": {},
   "outputs": [
    {
     "name": "stdout",
     "output_type": "stream",
     "text": [
      "MSE con PCA= 23248.61571120031\n"
     ]
    }
   ],
   "source": [
    "print('MSE con PCA=' , mean_squared_error(y_train,LR_train_p_pred, squared=False))"
   ]
  },
  {
   "cell_type": "code",
   "execution_count": 44,
   "metadata": {},
   "outputs": [
    {
     "name": "stdout",
     "output_type": "stream",
     "text": [
      "MSE sin PCA= 19802.102659918233\n"
     ]
    }
   ],
   "source": [
    "print('MSE sin PCA=' , mean_squared_error(y_train,LR_train_pred, squared=False))"
   ]
  },
  {
   "cell_type": "code",
   "execution_count": 46,
   "metadata": {},
   "outputs": [],
   "source": [
    "LR_test_pred=LR.predict(X_test)"
   ]
  },
  {
   "cell_type": "code",
   "execution_count": 47,
   "metadata": {},
   "outputs": [
    {
     "name": "stdout",
     "output_type": "stream",
     "text": [
      "MSE test sin PCA= 39808.933549346555\n"
     ]
    }
   ],
   "source": [
    "print('MSE test sin PCA=' , mean_squared_error(y_test,LR_test_pred, squared=False))"
   ]
  },
  {
   "attachments": {},
   "cell_type": "markdown",
   "metadata": {},
   "source": [
    "#### Random Forest Regressor"
   ]
  },
  {
   "cell_type": "code",
   "execution_count": 79,
   "metadata": {},
   "outputs": [],
   "source": [
    "from sklearn.ensemble import RandomForestRegressor"
   ]
  },
  {
   "cell_type": "code",
   "execution_count": 80,
   "metadata": {},
   "outputs": [],
   "source": [
    "param_grid = {\n",
    "\n",
    "    'max_depth': [None, 100],\n",
    "    'max_features': [0.7,0.8,0.9],\n",
    "    'min_samples_leaf': [3,  5],\n",
    "    'min_samples_split': [8,12],\n",
    "    'n_estimators': [100]\n",
    "}\n",
    "rf = RandomForestRegressor(criterion='squared_error')\n",
    "grid_search_rf = GridSearchCV(rf, param_grid = param_grid, cv = 5, n_jobs = -1, verbose = 2)"
   ]
  },
  {
   "cell_type": "code",
   "execution_count": 81,
   "metadata": {},
   "outputs": [
    {
     "name": "stdout",
     "output_type": "stream",
     "text": [
      "Fitting 5 folds for each of 24 candidates, totalling 120 fits\n",
      "[CV] END max_depth=None, max_features=0.7, min_samples_leaf=3, min_samples_split=8, n_estimators=100; total time=   1.0s\n",
      "[CV] END max_depth=None, max_features=0.7, min_samples_leaf=3, min_samples_split=12, n_estimators=100; total time=   1.0s\n",
      "[CV] END max_depth=None, max_features=0.7, min_samples_leaf=3, min_samples_split=8, n_estimators=100; total time=   1.0s\n",
      "[CV] END max_depth=None, max_features=0.7, min_samples_leaf=3, min_samples_split=12, n_estimators=100; total time=   0.9s\n",
      "[CV] END max_depth=None, max_features=0.7, min_samples_leaf=3, min_samples_split=12, n_estimators=100; total time=   1.1s\n",
      "[CV] END max_depth=None, max_features=0.7, min_samples_leaf=3, min_samples_split=8, n_estimators=100; total time=   1.1s\n",
      "[CV] END max_depth=None, max_features=0.7, min_samples_leaf=5, min_samples_split=8, n_estimators=100; total time=   1.0s\n",
      "[CV] END max_depth=None, max_features=0.7, min_samples_leaf=3, min_samples_split=8, n_estimators=100; total time=   1.2s\n",
      "[CV] END max_depth=None, max_features=0.7, min_samples_leaf=5, min_samples_split=8, n_estimators=100; total time=   1.1s\n",
      "[CV] END max_depth=None, max_features=0.7, min_samples_leaf=5, min_samples_split=8, n_estimators=100; total time=   1.1s\n",
      "[CV] END max_depth=None, max_features=0.7, min_samples_leaf=3, min_samples_split=8, n_estimators=100; total time=   1.1s\n",
      "[CV] END max_depth=None, max_features=0.7, min_samples_leaf=5, min_samples_split=8, n_estimators=100; total time=   1.0s\n",
      "[CV] END max_depth=None, max_features=0.7, min_samples_leaf=5, min_samples_split=12, n_estimators=100; total time=   0.9s\n",
      "[CV] END max_depth=None, max_features=0.7, min_samples_leaf=3, min_samples_split=12, n_estimators=100; total time=   1.1s\n",
      "[CV] END max_depth=None, max_features=0.7, min_samples_leaf=3, min_samples_split=12, n_estimators=100; total time=   1.2s\n",
      "[CV] END max_depth=None, max_features=0.7, min_samples_leaf=5, min_samples_split=8, n_estimators=100; total time=   1.3s\n",
      "[CV] END max_depth=None, max_features=0.7, min_samples_leaf=5, min_samples_split=12, n_estimators=100; total time=   0.9s\n",
      "[CV] END max_depth=None, max_features=0.7, min_samples_leaf=5, min_samples_split=12, n_estimators=100; total time=   0.9s\n",
      "[CV] END max_depth=None, max_features=0.7, min_samples_leaf=5, min_samples_split=12, n_estimators=100; total time=   0.9s\n",
      "[CV] END max_depth=None, max_features=0.7, min_samples_leaf=5, min_samples_split=12, n_estimators=100; total time=   1.0s\n",
      "[CV] END max_depth=None, max_features=0.8, min_samples_leaf=3, min_samples_split=12, n_estimators=100; total time=   1.1s\n",
      "[CV] END max_depth=None, max_features=0.8, min_samples_leaf=3, min_samples_split=8, n_estimators=100; total time=   1.2s\n",
      "[CV] END max_depth=None, max_features=0.8, min_samples_leaf=3, min_samples_split=8, n_estimators=100; total time=   1.3s\n",
      "[CV] END max_depth=None, max_features=0.8, min_samples_leaf=3, min_samples_split=12, n_estimators=100; total time=   1.2s\n",
      "[CV] END max_depth=None, max_features=0.8, min_samples_leaf=3, min_samples_split=8, n_estimators=100; total time=   1.3s\n",
      "[CV] END max_depth=None, max_features=0.8, min_samples_leaf=3, min_samples_split=12, n_estimators=100; total time=   1.1s\n",
      "[CV] END max_depth=None, max_features=0.8, min_samples_leaf=5, min_samples_split=8, n_estimators=100; total time=   1.1s\n",
      "[CV] END max_depth=None, max_features=0.8, min_samples_leaf=3, min_samples_split=8, n_estimators=100; total time=   1.3s\n",
      "[CV] END max_depth=None, max_features=0.8, min_samples_leaf=3, min_samples_split=12, n_estimators=100; total time=   1.3s\n",
      "[CV] END max_depth=None, max_features=0.8, min_samples_leaf=3, min_samples_split=8, n_estimators=100; total time=   1.5s\n",
      "[CV] END max_depth=None, max_features=0.8, min_samples_leaf=3, min_samples_split=12, n_estimators=100; total time=   1.4s\n",
      "[CV] END max_depth=None, max_features=0.8, min_samples_leaf=5, min_samples_split=8, n_estimators=100; total time=   1.0s\n",
      "[CV] END max_depth=None, max_features=0.8, min_samples_leaf=5, min_samples_split=8, n_estimators=100; total time=   1.4s\n",
      "[CV] END max_depth=None, max_features=0.8, min_samples_leaf=5, min_samples_split=12, n_estimators=100; total time=   1.1s\n",
      "[CV] END max_depth=None, max_features=0.8, min_samples_leaf=5, min_samples_split=8, n_estimators=100; total time=   1.1s\n",
      "[CV] END max_depth=None, max_features=0.8, min_samples_leaf=5, min_samples_split=8, n_estimators=100; total time=   1.2s\n",
      "[CV] END max_depth=None, max_features=0.8, min_samples_leaf=5, min_samples_split=12, n_estimators=100; total time=   1.1s\n",
      "[CV] END max_depth=None, max_features=0.8, min_samples_leaf=5, min_samples_split=12, n_estimators=100; total time=   1.1s\n",
      "[CV] END max_depth=None, max_features=0.8, min_samples_leaf=5, min_samples_split=12, n_estimators=100; total time=   1.1s\n",
      "[CV] END max_depth=None, max_features=0.8, min_samples_leaf=5, min_samples_split=12, n_estimators=100; total time=   1.1s\n",
      "[CV] END max_depth=None, max_features=0.9, min_samples_leaf=3, min_samples_split=8, n_estimators=100; total time=   1.3s[CV] END max_depth=None, max_features=0.9, min_samples_leaf=3, min_samples_split=8, n_estimators=100; total time=   1.3s\n",
      "\n",
      "[CV] END max_depth=None, max_features=0.9, min_samples_leaf=3, min_samples_split=12, n_estimators=100; total time=   1.1s\n",
      "[CV] END max_depth=None, max_features=0.9, min_samples_leaf=3, min_samples_split=12, n_estimators=100; total time=   1.2s\n",
      "[CV] END max_depth=None, max_features=0.9, min_samples_leaf=3, min_samples_split=8, n_estimators=100; total time=   1.4s\n",
      "[CV] END max_depth=None, max_features=0.9, min_samples_leaf=3, min_samples_split=12, n_estimators=100; total time=   1.3s\n",
      "[CV] END max_depth=None, max_features=0.9, min_samples_leaf=3, min_samples_split=8, n_estimators=100; total time=   1.5s\n",
      "[CV] END max_depth=None, max_features=0.9, min_samples_leaf=3, min_samples_split=8, n_estimators=100; total time=   1.5s\n",
      "[CV] END max_depth=None, max_features=0.9, min_samples_leaf=5, min_samples_split=8, n_estimators=100; total time=   1.2s\n",
      "[CV] END max_depth=None, max_features=0.9, min_samples_leaf=3, min_samples_split=12, n_estimators=100; total time=   1.3s\n",
      "[CV] END max_depth=None, max_features=0.9, min_samples_leaf=5, min_samples_split=8, n_estimators=100; total time=   1.3s\n",
      "[CV] END max_depth=None, max_features=0.9, min_samples_leaf=3, min_samples_split=12, n_estimators=100; total time=   1.5s\n",
      "[CV] END max_depth=None, max_features=0.9, min_samples_leaf=5, min_samples_split=8, n_estimators=100; total time=   1.2s\n",
      "[CV] END max_depth=None, max_features=0.9, min_samples_leaf=5, min_samples_split=8, n_estimators=100; total time=   1.2s\n",
      "[CV] END max_depth=None, max_features=0.9, min_samples_leaf=5, min_samples_split=8, n_estimators=100; total time=   1.3s\n",
      "[CV] END max_depth=None, max_features=0.9, min_samples_leaf=5, min_samples_split=12, n_estimators=100; total time=   1.3s\n",
      "[CV] END max_depth=None, max_features=0.9, min_samples_leaf=5, min_samples_split=12, n_estimators=100; total time=   1.1s\n",
      "[CV] END max_depth=None, max_features=0.9, min_samples_leaf=5, min_samples_split=12, n_estimators=100; total time=   1.1s\n",
      "[CV] END max_depth=100, max_features=0.7, min_samples_leaf=3, min_samples_split=8, n_estimators=100; total time=   1.1s\n",
      "[CV] END max_depth=100, max_features=0.7, min_samples_leaf=3, min_samples_split=8, n_estimators=100; total time=   1.2s\n",
      "[CV] END max_depth=None, max_features=0.9, min_samples_leaf=5, min_samples_split=12, n_estimators=100; total time=   1.2s\n",
      "[CV] END max_depth=100, max_features=0.7, min_samples_leaf=3, min_samples_split=8, n_estimators=100; total time=   1.2s\n",
      "[CV] END max_depth=None, max_features=0.9, min_samples_leaf=5, min_samples_split=12, n_estimators=100; total time=   1.4s\n",
      "[CV] END max_depth=100, max_features=0.7, min_samples_leaf=3, min_samples_split=8, n_estimators=100; total time=   1.0s\n",
      "[CV] END max_depth=100, max_features=0.7, min_samples_leaf=3, min_samples_split=8, n_estimators=100; total time=   1.3s\n",
      "[CV] END max_depth=100, max_features=0.7, min_samples_leaf=3, min_samples_split=12, n_estimators=100; total time=   1.1s\n",
      "[CV] END max_depth=100, max_features=0.7, min_samples_leaf=3, min_samples_split=12, n_estimators=100; total time=   1.1s\n",
      "[CV] END max_depth=100, max_features=0.7, min_samples_leaf=3, min_samples_split=12, n_estimators=100; total time=   1.3s\n",
      "[CV] END max_depth=100, max_features=0.7, min_samples_leaf=5, min_samples_split=8, n_estimators=100; total time=   1.0s\n",
      "[CV] END max_depth=100, max_features=0.7, min_samples_leaf=3, min_samples_split=12, n_estimators=100; total time=   1.2s\n",
      "[CV] END max_depth=100, max_features=0.7, min_samples_leaf=3, min_samples_split=12, n_estimators=100; total time=   1.2s\n",
      "[CV] END max_depth=100, max_features=0.7, min_samples_leaf=5, min_samples_split=8, n_estimators=100; total time=   1.1s\n",
      "[CV] END max_depth=100, max_features=0.7, min_samples_leaf=5, min_samples_split=8, n_estimators=100; total time=   1.0s\n",
      "[CV] END max_depth=100, max_features=0.7, min_samples_leaf=5, min_samples_split=12, n_estimators=100; total time=   0.9s\n",
      "[CV] END max_depth=100, max_features=0.7, min_samples_leaf=5, min_samples_split=8, n_estimators=100; total time=   1.1s\n",
      "[CV] END max_depth=100, max_features=0.7, min_samples_leaf=5, min_samples_split=12, n_estimators=100; total time=   1.0s\n",
      "[CV] END max_depth=100, max_features=0.7, min_samples_leaf=5, min_samples_split=12, n_estimators=100; total time=   1.1s\n",
      "[CV] END max_depth=100, max_features=0.7, min_samples_leaf=5, min_samples_split=8, n_estimators=100; total time=   1.3s\n",
      "[CV] END max_depth=100, max_features=0.7, min_samples_leaf=5, min_samples_split=12, n_estimators=100; total time=   1.2s\n",
      "[CV] END max_depth=100, max_features=0.7, min_samples_leaf=5, min_samples_split=12, n_estimators=100; total time=   1.1s\n",
      "[CV] END max_depth=100, max_features=0.8, min_samples_leaf=3, min_samples_split=8, n_estimators=100; total time=   1.3s\n",
      "[CV] END max_depth=100, max_features=0.8, min_samples_leaf=3, min_samples_split=8, n_estimators=100; total time=   1.5s\n",
      "[CV] END max_depth=100, max_features=0.8, min_samples_leaf=3, min_samples_split=8, n_estimators=100; total time=   1.3s\n",
      "[CV] END max_depth=100, max_features=0.8, min_samples_leaf=3, min_samples_split=12, n_estimators=100; total time=   1.3s\n",
      "[CV] END max_depth=100, max_features=0.8, min_samples_leaf=3, min_samples_split=8, n_estimators=100; total time=   1.5s\n",
      "[CV] END max_depth=100, max_features=0.8, min_samples_leaf=3, min_samples_split=8, n_estimators=100; total time=   1.4s\n",
      "[CV] END max_depth=100, max_features=0.8, min_samples_leaf=3, min_samples_split=12, n_estimators=100; total time=   1.2s\n",
      "[CV] END max_depth=100, max_features=0.8, min_samples_leaf=3, min_samples_split=12, n_estimators=100; total time=   1.3s\n",
      "[CV] END max_depth=100, max_features=0.8, min_samples_leaf=5, min_samples_split=8, n_estimators=100; total time=   1.3s\n",
      "[CV] END max_depth=100, max_features=0.8, min_samples_leaf=3, min_samples_split=12, n_estimators=100; total time=   1.5s\n",
      "[CV] END max_depth=100, max_features=0.8, min_samples_leaf=5, min_samples_split=8, n_estimators=100; total time=   1.1s\n",
      "[CV] END max_depth=100, max_features=0.8, min_samples_leaf=5, min_samples_split=8, n_estimators=100; total time=   1.3s\n",
      "[CV] END max_depth=100, max_features=0.8, min_samples_leaf=5, min_samples_split=12, n_estimators=100; total time=   1.1s\n",
      "[CV] END max_depth=100, max_features=0.8, min_samples_leaf=3, min_samples_split=12, n_estimators=100; total time=   1.4s\n",
      "[CV] END max_depth=100, max_features=0.8, min_samples_leaf=5, min_samples_split=8, n_estimators=100; total time=   1.3s\n",
      "[CV] END max_depth=100, max_features=0.8, min_samples_leaf=5, min_samples_split=8, n_estimators=100; total time=   1.4s\n",
      "[CV] END max_depth=100, max_features=0.8, min_samples_leaf=5, min_samples_split=12, n_estimators=100; total time=   1.1s\n",
      "[CV] END max_depth=100, max_features=0.8, min_samples_leaf=5, min_samples_split=12, n_estimators=100; total time=   1.1s\n",
      "[CV] END max_depth=100, max_features=0.8, min_samples_leaf=5, min_samples_split=12, n_estimators=100; total time=   1.1s\n",
      "[CV] END max_depth=100, max_features=0.8, min_samples_leaf=5, min_samples_split=12, n_estimators=100; total time=   1.0s\n",
      "[CV] END max_depth=100, max_features=0.9, min_samples_leaf=3, min_samples_split=8, n_estimators=100; total time=   1.4s\n",
      "[CV] END max_depth=100, max_features=0.9, min_samples_leaf=3, min_samples_split=8, n_estimators=100; total time=   1.4s\n",
      "[CV] END max_depth=100, max_features=0.9, min_samples_leaf=3, min_samples_split=12, n_estimators=100; total time=   1.2s\n",
      "[CV] END max_depth=100, max_features=0.9, min_samples_leaf=3, min_samples_split=12, n_estimators=100; total time=   1.2s\n",
      "[CV] END max_depth=100, max_features=0.9, min_samples_leaf=3, min_samples_split=8, n_estimators=100; total time=   1.4s\n",
      "[CV] END max_depth=100, max_features=0.9, min_samples_leaf=3, min_samples_split=8, n_estimators=100; total time=   1.4s\n",
      "[CV] END max_depth=100, max_features=0.9, min_samples_leaf=3, min_samples_split=12, n_estimators=100; total time=   1.3s\n",
      "[CV] END max_depth=100, max_features=0.9, min_samples_leaf=3, min_samples_split=8, n_estimators=100; total time=   1.4s\n",
      "[CV] END max_depth=100, max_features=0.9, min_samples_leaf=5, min_samples_split=8, n_estimators=100; total time=   1.2s\n",
      "[CV] END max_depth=100, max_features=0.9, min_samples_leaf=3, min_samples_split=12, n_estimators=100; total time=   1.5s\n",
      "[CV] END max_depth=100, max_features=0.9, min_samples_leaf=3, min_samples_split=12, n_estimators=100; total time=   1.5s\n",
      "[CV] END max_depth=100, max_features=0.9, min_samples_leaf=5, min_samples_split=8, n_estimators=100; total time=   1.1s\n",
      "[CV] END max_depth=100, max_features=0.9, min_samples_leaf=5, min_samples_split=8, n_estimators=100; total time=   1.1s\n",
      "[CV] END max_depth=100, max_features=0.9, min_samples_leaf=5, min_samples_split=8, n_estimators=100; total time=   1.4s\n",
      "[CV] END max_depth=100, max_features=0.9, min_samples_leaf=5, min_samples_split=8, n_estimators=100; total time=   1.1s\n",
      "[CV] END max_depth=100, max_features=0.9, min_samples_leaf=5, min_samples_split=12, n_estimators=100; total time=   1.1s\n",
      "[CV] END max_depth=100, max_features=0.9, min_samples_leaf=5, min_samples_split=12, n_estimators=100; total time=   0.9s\n",
      "[CV] END max_depth=100, max_features=0.9, min_samples_leaf=5, min_samples_split=12, n_estimators=100; total time=   0.9s\n",
      "[CV] END max_depth=100, max_features=0.9, min_samples_leaf=5, min_samples_split=12, n_estimators=100; total time=   0.9s\n",
      "[CV] END max_depth=100, max_features=0.9, min_samples_leaf=5, min_samples_split=12, n_estimators=100; total time=   0.9s\n"
     ]
    },
    {
     "data": {
      "text/html": [
       "<style>#sk-container-id-5 {color: black;background-color: white;}#sk-container-id-5 pre{padding: 0;}#sk-container-id-5 div.sk-toggleable {background-color: white;}#sk-container-id-5 label.sk-toggleable__label {cursor: pointer;display: block;width: 100%;margin-bottom: 0;padding: 0.3em;box-sizing: border-box;text-align: center;}#sk-container-id-5 label.sk-toggleable__label-arrow:before {content: \"▸\";float: left;margin-right: 0.25em;color: #696969;}#sk-container-id-5 label.sk-toggleable__label-arrow:hover:before {color: black;}#sk-container-id-5 div.sk-estimator:hover label.sk-toggleable__label-arrow:before {color: black;}#sk-container-id-5 div.sk-toggleable__content {max-height: 0;max-width: 0;overflow: hidden;text-align: left;background-color: #f0f8ff;}#sk-container-id-5 div.sk-toggleable__content pre {margin: 0.2em;color: black;border-radius: 0.25em;background-color: #f0f8ff;}#sk-container-id-5 input.sk-toggleable__control:checked~div.sk-toggleable__content {max-height: 200px;max-width: 100%;overflow: auto;}#sk-container-id-5 input.sk-toggleable__control:checked~label.sk-toggleable__label-arrow:before {content: \"▾\";}#sk-container-id-5 div.sk-estimator input.sk-toggleable__control:checked~label.sk-toggleable__label {background-color: #d4ebff;}#sk-container-id-5 div.sk-label input.sk-toggleable__control:checked~label.sk-toggleable__label {background-color: #d4ebff;}#sk-container-id-5 input.sk-hidden--visually {border: 0;clip: rect(1px 1px 1px 1px);clip: rect(1px, 1px, 1px, 1px);height: 1px;margin: -1px;overflow: hidden;padding: 0;position: absolute;width: 1px;}#sk-container-id-5 div.sk-estimator {font-family: monospace;background-color: #f0f8ff;border: 1px dotted black;border-radius: 0.25em;box-sizing: border-box;margin-bottom: 0.5em;}#sk-container-id-5 div.sk-estimator:hover {background-color: #d4ebff;}#sk-container-id-5 div.sk-parallel-item::after {content: \"\";width: 100%;border-bottom: 1px solid gray;flex-grow: 1;}#sk-container-id-5 div.sk-label:hover label.sk-toggleable__label {background-color: #d4ebff;}#sk-container-id-5 div.sk-serial::before {content: \"\";position: absolute;border-left: 1px solid gray;box-sizing: border-box;top: 0;bottom: 0;left: 50%;z-index: 0;}#sk-container-id-5 div.sk-serial {display: flex;flex-direction: column;align-items: center;background-color: white;padding-right: 0.2em;padding-left: 0.2em;position: relative;}#sk-container-id-5 div.sk-item {position: relative;z-index: 1;}#sk-container-id-5 div.sk-parallel {display: flex;align-items: stretch;justify-content: center;background-color: white;position: relative;}#sk-container-id-5 div.sk-item::before, #sk-container-id-5 div.sk-parallel-item::before {content: \"\";position: absolute;border-left: 1px solid gray;box-sizing: border-box;top: 0;bottom: 0;left: 50%;z-index: -1;}#sk-container-id-5 div.sk-parallel-item {display: flex;flex-direction: column;z-index: 1;position: relative;background-color: white;}#sk-container-id-5 div.sk-parallel-item:first-child::after {align-self: flex-end;width: 50%;}#sk-container-id-5 div.sk-parallel-item:last-child::after {align-self: flex-start;width: 50%;}#sk-container-id-5 div.sk-parallel-item:only-child::after {width: 0;}#sk-container-id-5 div.sk-dashed-wrapped {border: 1px dashed gray;margin: 0 0.4em 0.5em 0.4em;box-sizing: border-box;padding-bottom: 0.4em;background-color: white;}#sk-container-id-5 div.sk-label label {font-family: monospace;font-weight: bold;display: inline-block;line-height: 1.2em;}#sk-container-id-5 div.sk-label-container {text-align: center;}#sk-container-id-5 div.sk-container {/* jupyter's `normalize.less` sets `[hidden] { display: none; }` but bootstrap.min.css set `[hidden] { display: none !important; }` so we also need the `!important` here to be able to override the default hidden behavior on the sphinx rendered scikit-learn.org. See: https://github.com/scikit-learn/scikit-learn/issues/21755 */display: inline-block !important;position: relative;}#sk-container-id-5 div.sk-text-repr-fallback {display: none;}</style><div id=\"sk-container-id-5\" class=\"sk-top-container\"><div class=\"sk-text-repr-fallback\"><pre>GridSearchCV(cv=5, estimator=RandomForestRegressor(), n_jobs=-1,\n",
       "             param_grid={&#x27;max_depth&#x27;: [None, 100],\n",
       "                         &#x27;max_features&#x27;: [0.7, 0.8, 0.9],\n",
       "                         &#x27;min_samples_leaf&#x27;: [3, 5],\n",
       "                         &#x27;min_samples_split&#x27;: [8, 12], &#x27;n_estimators&#x27;: [100]},\n",
       "             verbose=2)</pre><b>In a Jupyter environment, please rerun this cell to show the HTML representation or trust the notebook. <br />On GitHub, the HTML representation is unable to render, please try loading this page with nbviewer.org.</b></div><div class=\"sk-container\" hidden><div class=\"sk-item sk-dashed-wrapped\"><div class=\"sk-label-container\"><div class=\"sk-label sk-toggleable\"><input class=\"sk-toggleable__control sk-hidden--visually\" id=\"sk-estimator-id-5\" type=\"checkbox\" ><label for=\"sk-estimator-id-5\" class=\"sk-toggleable__label sk-toggleable__label-arrow\">GridSearchCV</label><div class=\"sk-toggleable__content\"><pre>GridSearchCV(cv=5, estimator=RandomForestRegressor(), n_jobs=-1,\n",
       "             param_grid={&#x27;max_depth&#x27;: [None, 100],\n",
       "                         &#x27;max_features&#x27;: [0.7, 0.8, 0.9],\n",
       "                         &#x27;min_samples_leaf&#x27;: [3, 5],\n",
       "                         &#x27;min_samples_split&#x27;: [8, 12], &#x27;n_estimators&#x27;: [100]},\n",
       "             verbose=2)</pre></div></div></div><div class=\"sk-parallel\"><div class=\"sk-parallel-item\"><div class=\"sk-item\"><div class=\"sk-label-container\"><div class=\"sk-label sk-toggleable\"><input class=\"sk-toggleable__control sk-hidden--visually\" id=\"sk-estimator-id-6\" type=\"checkbox\" ><label for=\"sk-estimator-id-6\" class=\"sk-toggleable__label sk-toggleable__label-arrow\">estimator: RandomForestRegressor</label><div class=\"sk-toggleable__content\"><pre>RandomForestRegressor()</pre></div></div></div><div class=\"sk-serial\"><div class=\"sk-item\"><div class=\"sk-estimator sk-toggleable\"><input class=\"sk-toggleable__control sk-hidden--visually\" id=\"sk-estimator-id-7\" type=\"checkbox\" ><label for=\"sk-estimator-id-7\" class=\"sk-toggleable__label sk-toggleable__label-arrow\">RandomForestRegressor</label><div class=\"sk-toggleable__content\"><pre>RandomForestRegressor()</pre></div></div></div></div></div></div></div></div></div></div>"
      ],
      "text/plain": [
       "GridSearchCV(cv=5, estimator=RandomForestRegressor(), n_jobs=-1,\n",
       "             param_grid={'max_depth': [None, 100],\n",
       "                         'max_features': [0.7, 0.8, 0.9],\n",
       "                         'min_samples_leaf': [3, 5],\n",
       "                         'min_samples_split': [8, 12], 'n_estimators': [100]},\n",
       "             verbose=2)"
      ]
     },
     "execution_count": 81,
     "metadata": {},
     "output_type": "execute_result"
    }
   ],
   "source": [
    "grid_search_rf.fit(X_train,y_train)"
   ]
  },
  {
   "cell_type": "code",
   "execution_count": 82,
   "metadata": {},
   "outputs": [
    {
     "data": {
      "text/html": [
       "<style>#sk-container-id-6 {color: black;background-color: white;}#sk-container-id-6 pre{padding: 0;}#sk-container-id-6 div.sk-toggleable {background-color: white;}#sk-container-id-6 label.sk-toggleable__label {cursor: pointer;display: block;width: 100%;margin-bottom: 0;padding: 0.3em;box-sizing: border-box;text-align: center;}#sk-container-id-6 label.sk-toggleable__label-arrow:before {content: \"▸\";float: left;margin-right: 0.25em;color: #696969;}#sk-container-id-6 label.sk-toggleable__label-arrow:hover:before {color: black;}#sk-container-id-6 div.sk-estimator:hover label.sk-toggleable__label-arrow:before {color: black;}#sk-container-id-6 div.sk-toggleable__content {max-height: 0;max-width: 0;overflow: hidden;text-align: left;background-color: #f0f8ff;}#sk-container-id-6 div.sk-toggleable__content pre {margin: 0.2em;color: black;border-radius: 0.25em;background-color: #f0f8ff;}#sk-container-id-6 input.sk-toggleable__control:checked~div.sk-toggleable__content {max-height: 200px;max-width: 100%;overflow: auto;}#sk-container-id-6 input.sk-toggleable__control:checked~label.sk-toggleable__label-arrow:before {content: \"▾\";}#sk-container-id-6 div.sk-estimator input.sk-toggleable__control:checked~label.sk-toggleable__label {background-color: #d4ebff;}#sk-container-id-6 div.sk-label input.sk-toggleable__control:checked~label.sk-toggleable__label {background-color: #d4ebff;}#sk-container-id-6 input.sk-hidden--visually {border: 0;clip: rect(1px 1px 1px 1px);clip: rect(1px, 1px, 1px, 1px);height: 1px;margin: -1px;overflow: hidden;padding: 0;position: absolute;width: 1px;}#sk-container-id-6 div.sk-estimator {font-family: monospace;background-color: #f0f8ff;border: 1px dotted black;border-radius: 0.25em;box-sizing: border-box;margin-bottom: 0.5em;}#sk-container-id-6 div.sk-estimator:hover {background-color: #d4ebff;}#sk-container-id-6 div.sk-parallel-item::after {content: \"\";width: 100%;border-bottom: 1px solid gray;flex-grow: 1;}#sk-container-id-6 div.sk-label:hover label.sk-toggleable__label {background-color: #d4ebff;}#sk-container-id-6 div.sk-serial::before {content: \"\";position: absolute;border-left: 1px solid gray;box-sizing: border-box;top: 0;bottom: 0;left: 50%;z-index: 0;}#sk-container-id-6 div.sk-serial {display: flex;flex-direction: column;align-items: center;background-color: white;padding-right: 0.2em;padding-left: 0.2em;position: relative;}#sk-container-id-6 div.sk-item {position: relative;z-index: 1;}#sk-container-id-6 div.sk-parallel {display: flex;align-items: stretch;justify-content: center;background-color: white;position: relative;}#sk-container-id-6 div.sk-item::before, #sk-container-id-6 div.sk-parallel-item::before {content: \"\";position: absolute;border-left: 1px solid gray;box-sizing: border-box;top: 0;bottom: 0;left: 50%;z-index: -1;}#sk-container-id-6 div.sk-parallel-item {display: flex;flex-direction: column;z-index: 1;position: relative;background-color: white;}#sk-container-id-6 div.sk-parallel-item:first-child::after {align-self: flex-end;width: 50%;}#sk-container-id-6 div.sk-parallel-item:last-child::after {align-self: flex-start;width: 50%;}#sk-container-id-6 div.sk-parallel-item:only-child::after {width: 0;}#sk-container-id-6 div.sk-dashed-wrapped {border: 1px dashed gray;margin: 0 0.4em 0.5em 0.4em;box-sizing: border-box;padding-bottom: 0.4em;background-color: white;}#sk-container-id-6 div.sk-label label {font-family: monospace;font-weight: bold;display: inline-block;line-height: 1.2em;}#sk-container-id-6 div.sk-label-container {text-align: center;}#sk-container-id-6 div.sk-container {/* jupyter's `normalize.less` sets `[hidden] { display: none; }` but bootstrap.min.css set `[hidden] { display: none !important; }` so we also need the `!important` here to be able to override the default hidden behavior on the sphinx rendered scikit-learn.org. See: https://github.com/scikit-learn/scikit-learn/issues/21755 */display: inline-block !important;position: relative;}#sk-container-id-6 div.sk-text-repr-fallback {display: none;}</style><div id=\"sk-container-id-6\" class=\"sk-top-container\"><div class=\"sk-text-repr-fallback\"><pre>RandomForestRegressor(max_depth=100, max_features=0.7, min_samples_leaf=3,\n",
       "                      min_samples_split=12)</pre><b>In a Jupyter environment, please rerun this cell to show the HTML representation or trust the notebook. <br />On GitHub, the HTML representation is unable to render, please try loading this page with nbviewer.org.</b></div><div class=\"sk-container\" hidden><div class=\"sk-item\"><div class=\"sk-estimator sk-toggleable\"><input class=\"sk-toggleable__control sk-hidden--visually\" id=\"sk-estimator-id-8\" type=\"checkbox\" checked><label for=\"sk-estimator-id-8\" class=\"sk-toggleable__label sk-toggleable__label-arrow\">RandomForestRegressor</label><div class=\"sk-toggleable__content\"><pre>RandomForestRegressor(max_depth=100, max_features=0.7, min_samples_leaf=3,\n",
       "                      min_samples_split=12)</pre></div></div></div></div></div>"
      ],
      "text/plain": [
       "RandomForestRegressor(max_depth=100, max_features=0.7, min_samples_leaf=3,\n",
       "                      min_samples_split=12)"
      ]
     },
     "execution_count": 82,
     "metadata": {},
     "output_type": "execute_result"
    }
   ],
   "source": [
    "grid_search_rf.best_estimator_"
   ]
  },
  {
   "cell_type": "code",
   "execution_count": 83,
   "metadata": {},
   "outputs": [
    {
     "name": "stdout",
     "output_type": "stream",
     "text": [
      "MSE train RandomForest= 19297.02769236155\n",
      "MSE test RandomForest= 28041.868987833263\n"
     ]
    }
   ],
   "source": [
    "y_train_pred_gs_rf=grid_search_rf.predict(X_train)\n",
    "y_test_pred_gs_rf=grid_search_rf.predict(X_test)\n",
    "print('MSE train RandomForest=' , mean_squared_error(y_train,y_train_pred_gs_rf, squared=False))\n",
    "print('MSE test RandomForest=' , mean_squared_error(y_test,y_test_pred_gs_rf, squared=False))"
   ]
  },
  {
   "cell_type": "code",
   "execution_count": 84,
   "metadata": {},
   "outputs": [],
   "source": [
    "#RF = RandomForestRegressor(max_depth=100, max_features=0.7, min_samples_leaf=3,min_samples_split=8)\n",
    "RF = grid_search_rf.best_estimator_"
   ]
  },
  {
   "cell_type": "code",
   "execution_count": 85,
   "metadata": {},
   "outputs": [
    {
     "data": {
      "text/plain": [
       "array([1.98694012e-03, 4.45905054e-03, 1.21258252e-02, 4.59674136e-01,\n",
       "       3.18195741e-03, 2.23164687e-02, 8.03771261e-03, 3.47874292e-03,\n",
       "       2.43841627e-02, 0.00000000e+00, 3.76927033e-03, 4.12400222e-02,\n",
       "       2.97815294e-02, 1.68345493e-02, 0.00000000e+00, 1.31538024e-01,\n",
       "       4.23101598e-04, 0.00000000e+00, 1.00496382e-02, 1.04405437e-03,\n",
       "       2.95463634e-03, 0.00000000e+00, 5.40876216e-03, 6.65964205e-03,\n",
       "       5.41204252e-03, 1.06778028e-01, 2.36449341e-02, 4.22914785e-03,\n",
       "       2.49471819e-03, 0.00000000e+00, 0.00000000e+00, 0.00000000e+00,\n",
       "       0.00000000e+00, 0.00000000e+00, 2.24888350e-03, 7.74927942e-04,\n",
       "       4.53392961e-05, 2.99791493e-06, 5.28120542e-04, 8.88728073e-04,\n",
       "       0.00000000e+00, 1.67293480e-05, 2.06659867e-03, 3.73549200e-04,\n",
       "       1.46779769e-05, 0.00000000e+00, 0.00000000e+00, 4.94333832e-04,\n",
       "       3.17261971e-04, 2.02996515e-04, 1.26601863e-03, 0.00000000e+00,\n",
       "       2.68749326e-04, 4.28995626e-06, 0.00000000e+00, 2.78777672e-04,\n",
       "       0.00000000e+00, 0.00000000e+00, 0.00000000e+00, 0.00000000e+00,\n",
       "       6.09598233e-05, 2.68213237e-04, 3.60055895e-05, 6.22688827e-04,\n",
       "       2.60766154e-04, 3.80812001e-05, 4.52094408e-05, 2.59451612e-05,\n",
       "       6.39650154e-06, 8.69429637e-05, 0.00000000e+00, 2.08096261e-04,\n",
       "       5.83866506e-05, 4.88084573e-04, 4.00057022e-04, 1.94671367e-05,\n",
       "       4.34346788e-05, 7.57868208e-06, 4.87132706e-05, 1.29501432e-04,\n",
       "       5.64676316e-06, 0.00000000e+00, 7.01622131e-06, 1.00737283e-03,\n",
       "       0.00000000e+00, 0.00000000e+00, 0.00000000e+00, 0.00000000e+00,\n",
       "       0.00000000e+00, 0.00000000e+00, 0.00000000e+00, 0.00000000e+00,\n",
       "       0.00000000e+00, 0.00000000e+00, 0.00000000e+00, 0.00000000e+00,\n",
       "       0.00000000e+00, 6.71264721e-05, 1.84964675e-05, 7.62364190e-07,\n",
       "       0.00000000e+00, 1.83964969e-04, 0.00000000e+00, 0.00000000e+00,\n",
       "       3.29465803e-04, 2.85512752e-06, 3.06766236e-05, 3.30212421e-04,\n",
       "       0.00000000e+00, 2.18425042e-04, 0.00000000e+00, 0.00000000e+00,\n",
       "       0.00000000e+00, 0.00000000e+00, 0.00000000e+00, 0.00000000e+00,\n",
       "       0.00000000e+00, 0.00000000e+00, 0.00000000e+00, 0.00000000e+00,\n",
       "       2.18201088e-04, 0.00000000e+00, 1.66211140e-05, 2.18665521e-04,\n",
       "       0.00000000e+00, 7.82076456e-05, 8.49129312e-05, 0.00000000e+00,\n",
       "       1.25336745e-05, 4.56017747e-04, 6.03652310e-05, 3.31273121e-06,\n",
       "       0.00000000e+00, 0.00000000e+00, 1.07063135e-04, 0.00000000e+00,\n",
       "       4.82333972e-07, 3.77164784e-05, 0.00000000e+00, 1.08287363e-04,\n",
       "       3.79097633e-05, 0.00000000e+00, 3.16429713e-05, 6.36636532e-04,\n",
       "       6.83945878e-05, 1.46523197e-05, 3.23413708e-04, 3.64269942e-04,\n",
       "       6.93026913e-05, 0.00000000e+00, 4.91699929e-03, 1.73518765e-02,\n",
       "       1.49603292e-04, 7.69157465e-05, 0.00000000e+00, 2.07650626e-04,\n",
       "       1.12887102e-04, 2.45482012e-04, 1.14646971e-05, 0.00000000e+00,\n",
       "       0.00000000e+00, 7.35192858e-06, 1.58841521e-03, 5.88237688e-04,\n",
       "       1.03127353e-05, 0.00000000e+00, 0.00000000e+00, 8.20819253e-05,\n",
       "       0.00000000e+00, 1.91927389e-03, 1.15928087e-04, 7.98888657e-04,\n",
       "       1.11328948e-06, 3.11352906e-05, 5.11167012e-04, 4.71543810e-06,\n",
       "       8.40803642e-05, 2.07355136e-04, 0.00000000e+00, 1.51258219e-06,\n",
       "       0.00000000e+00, 3.81133467e-05, 0.00000000e+00, 7.79080138e-05,\n",
       "       6.03773752e-06, 5.79037330e-06, 0.00000000e+00, 3.03253254e-05,\n",
       "       0.00000000e+00, 0.00000000e+00, 3.67235518e-05, 1.25609588e-04,\n",
       "       2.59328684e-04, 2.82465379e-03, 3.98729830e-06, 0.00000000e+00,\n",
       "       0.00000000e+00, 6.37563497e-05, 2.59272933e-05, 1.72725430e-03,\n",
       "       1.71418495e-03, 0.00000000e+00, 1.19253436e-05, 1.07499666e-05,\n",
       "       1.31564820e-05, 2.86391958e-04, 1.00983232e-05, 5.95867157e-04,\n",
       "       5.20579108e-06, 2.34718382e-04, 3.59019807e-03, 2.24952305e-03,\n",
       "       0.00000000e+00, 6.85797298e-05, 1.36367968e-05, 2.93848315e-03,\n",
       "       4.64646240e-06, 5.96763287e-04, 6.21593960e-04, 3.32440701e-05,\n",
       "       1.25183136e-05, 0.00000000e+00, 0.00000000e+00, 9.55165623e-04,\n",
       "       4.13668566e-06, 8.72092341e-06, 0.00000000e+00, 0.00000000e+00,\n",
       "       3.47621683e-04, 1.11096757e-05, 1.39922798e-05, 1.67616910e-04,\n",
       "       2.84075457e-05, 2.65988956e-05, 0.00000000e+00, 9.90180081e-05,\n",
       "       0.00000000e+00, 0.00000000e+00, 0.00000000e+00, 0.00000000e+00,\n",
       "       0.00000000e+00, 3.81555530e-04, 0.00000000e+00, 4.00215303e-04,\n",
       "       0.00000000e+00, 0.00000000e+00, 4.19660769e-05, 3.69919933e-04,\n",
       "       1.77368829e-04])"
      ]
     },
     "execution_count": 85,
     "metadata": {},
     "output_type": "execute_result"
    }
   ],
   "source": [
    "RF.feature_importances_"
   ]
  },
  {
   "cell_type": "code",
   "execution_count": 86,
   "metadata": {},
   "outputs": [
    {
     "data": {
      "image/png": "[encoded data removed]",
      "text/plain": [
       "<Figure size 1300x800 with 1 Axes>"
      ]
     },
     "metadata": {},
     "output_type": "display_data"
    }
   ],
   "source": [
    "plt.figure(figsize=(13, 8))\n",
    "caract = X_train.shape[1]\n",
    "plt.barh(range(caract), RF.feature_importances_)\n",
    "plt.yticks(np.arange(caract)) #,X_train.columns)\n",
    "plt.xlabel('Features Importance')\n",
    "plt.ylabel('Features')\n",
    "plt.title('Features Importance', fontsize=20)\n",
    "plt.show()"
   ]
  },
  {
   "cell_type": "code",
   "execution_count": 89,
   "metadata": {},
   "outputs": [
    {
     "data": {
      "text/plain": [
       "array([0.00198694, 0.00445905, 0.01212583, 0.45967414, 0.00318196,\n",
       "       0.02231647, 0.00803771, 0.00347874, 0.02438416, 0.00376927,\n",
       "       0.04124002, 0.02978153, 0.01683455, 0.13153802, 0.01004964,\n",
       "       0.00104405, 0.00295464, 0.00540876, 0.00665964, 0.00541204,\n",
       "       0.10677803, 0.02364493, 0.00422915, 0.00249472, 0.00224888,\n",
       "       0.00077493, 0.00052812, 0.00088873, 0.0020666 , 0.00126602,\n",
       "       0.00062269, 0.00100737, 0.00063664, 0.004917  , 0.01735188,\n",
       "       0.00158842, 0.00058824, 0.00191927, 0.00079889, 0.00051117,\n",
       "       0.00282465, 0.00172725, 0.00171418, 0.00059587, 0.0035902 ,\n",
       "       0.00224952, 0.00293848, 0.00059676, 0.00062159, 0.00095517])"
      ]
     },
     "execution_count": 89,
     "metadata": {},
     "output_type": "execute_result"
    }
   ],
   "source": [
    "RF.feature_importances_[RF.feature_importances_>0.0005]"
   ]
  },
  {
   "cell_type": "code",
   "execution_count": 90,
   "metadata": {},
   "outputs": [],
   "source": [
    "feat_mask = RF.feature_importances_>0.0005"
   ]
  },
  {
   "cell_type": "code",
   "execution_count": 91,
   "metadata": {},
   "outputs": [
    {
     "data": {
      "text/plain": [
       "array([ True,  True,  True,  True,  True,  True,  True,  True,  True,\n",
       "       False,  True,  True,  True,  True, False,  True, False, False,\n",
       "        True,  True,  True, False,  True,  True,  True,  True,  True,\n",
       "        True,  True, False, False, False, False, False,  True,  True,\n",
       "       False, False,  True,  True, False, False,  True, False, False,\n",
       "       False, False, False, False, False,  True, False, False, False,\n",
       "       False, False, False, False, False, False, False, False, False,\n",
       "        True, False, False, False, False, False, False, False, False,\n",
       "       False, False, False, False, False, False, False, False, False,\n",
       "       False, False,  True, False, False, False, False, False, False,\n",
       "       False, False, False, False, False, False, False, False, False,\n",
       "       False, False, False, False, False, False, False, False, False,\n",
       "       False, False, False, False, False, False, False, False, False,\n",
       "       False, False, False, False, False, False, False, False, False,\n",
       "       False, False, False, False, False, False, False, False, False,\n",
       "       False, False, False, False, False, False, False, False,  True,\n",
       "       False, False, False, False, False, False,  True,  True, False,\n",
       "       False, False, False, False, False, False, False, False, False,\n",
       "        True,  True, False, False, False, False, False,  True, False,\n",
       "        True, False, False,  True, False, False, False, False, False,\n",
       "       False, False, False, False, False, False, False, False, False,\n",
       "       False, False, False, False,  True, False, False, False, False,\n",
       "       False,  True,  True, False, False, False, False, False, False,\n",
       "        True, False, False,  True,  True, False, False, False,  True,\n",
       "       False,  True,  True, False, False, False, False,  True, False,\n",
       "       False, False, False, False, False, False, False, False, False,\n",
       "       False, False, False, False, False, False, False, False, False,\n",
       "       False, False, False, False, False, False])"
      ]
     },
     "execution_count": 91,
     "metadata": {},
     "output_type": "execute_result"
    }
   ],
   "source": [
    "feat_mask"
   ]
  },
  {
   "cell_type": "code",
   "execution_count": 92,
   "metadata": {},
   "outputs": [
    {
     "data": {
      "text/plain": [
       "array([[0.32      , 0.62780269, 0.59921566, ..., 1.        , 0.        ,\n",
       "        1.        ],\n",
       "       [0.32      , 0.62780269, 0.60063612, ..., 0.        , 0.        ,\n",
       "        1.        ],\n",
       "       [0.8       , 0.        , 0.18240489, ..., 0.        , 0.        ,\n",
       "        1.        ],\n",
       "       ...,\n",
       "       [0.        , 0.71748879, 0.53825963, ..., 0.        , 1.        ,\n",
       "        1.        ],\n",
       "       [0.4       , 0.        , 0.61471714, ..., 0.        , 1.        ,\n",
       "        1.        ],\n",
       "       [0.        , 0.        , 0.72890934, ..., 0.        , 1.        ,\n",
       "        1.        ]])"
      ]
     },
     "execution_count": 92,
     "metadata": {},
     "output_type": "execute_result"
    }
   ],
   "source": [
    "X_train[:,feat_mask]"
   ]
  },
  {
   "cell_type": "code",
   "execution_count": 93,
   "metadata": {},
   "outputs": [
    {
     "data": {
      "text/html": [
       "<style>#sk-container-id-7 {color: black;background-color: white;}#sk-container-id-7 pre{padding: 0;}#sk-container-id-7 div.sk-toggleable {background-color: white;}#sk-container-id-7 label.sk-toggleable__label {cursor: pointer;display: block;width: 100%;margin-bottom: 0;padding: 0.3em;box-sizing: border-box;text-align: center;}#sk-container-id-7 label.sk-toggleable__label-arrow:before {content: \"▸\";float: left;margin-right: 0.25em;color: #696969;}#sk-container-id-7 label.sk-toggleable__label-arrow:hover:before {color: black;}#sk-container-id-7 div.sk-estimator:hover label.sk-toggleable__label-arrow:before {color: black;}#sk-container-id-7 div.sk-toggleable__content {max-height: 0;max-width: 0;overflow: hidden;text-align: left;background-color: #f0f8ff;}#sk-container-id-7 div.sk-toggleable__content pre {margin: 0.2em;color: black;border-radius: 0.25em;background-color: #f0f8ff;}#sk-container-id-7 input.sk-toggleable__control:checked~div.sk-toggleable__content {max-height: 200px;max-width: 100%;overflow: auto;}#sk-container-id-7 input.sk-toggleable__control:checked~label.sk-toggleable__label-arrow:before {content: \"▾\";}#sk-container-id-7 div.sk-estimator input.sk-toggleable__control:checked~label.sk-toggleable__label {background-color: #d4ebff;}#sk-container-id-7 div.sk-label input.sk-toggleable__control:checked~label.sk-toggleable__label {background-color: #d4ebff;}#sk-container-id-7 input.sk-hidden--visually {border: 0;clip: rect(1px 1px 1px 1px);clip: rect(1px, 1px, 1px, 1px);height: 1px;margin: -1px;overflow: hidden;padding: 0;position: absolute;width: 1px;}#sk-container-id-7 div.sk-estimator {font-family: monospace;background-color: #f0f8ff;border: 1px dotted black;border-radius: 0.25em;box-sizing: border-box;margin-bottom: 0.5em;}#sk-container-id-7 div.sk-estimator:hover {background-color: #d4ebff;}#sk-container-id-7 div.sk-parallel-item::after {content: \"\";width: 100%;border-bottom: 1px solid gray;flex-grow: 1;}#sk-container-id-7 div.sk-label:hover label.sk-toggleable__label {background-color: #d4ebff;}#sk-container-id-7 div.sk-serial::before {content: \"\";position: absolute;border-left: 1px solid gray;box-sizing: border-box;top: 0;bottom: 0;left: 50%;z-index: 0;}#sk-container-id-7 div.sk-serial {display: flex;flex-direction: column;align-items: center;background-color: white;padding-right: 0.2em;padding-left: 0.2em;position: relative;}#sk-container-id-7 div.sk-item {position: relative;z-index: 1;}#sk-container-id-7 div.sk-parallel {display: flex;align-items: stretch;justify-content: center;background-color: white;position: relative;}#sk-container-id-7 div.sk-item::before, #sk-container-id-7 div.sk-parallel-item::before {content: \"\";position: absolute;border-left: 1px solid gray;box-sizing: border-box;top: 0;bottom: 0;left: 50%;z-index: -1;}#sk-container-id-7 div.sk-parallel-item {display: flex;flex-direction: column;z-index: 1;position: relative;background-color: white;}#sk-container-id-7 div.sk-parallel-item:first-child::after {align-self: flex-end;width: 50%;}#sk-container-id-7 div.sk-parallel-item:last-child::after {align-self: flex-start;width: 50%;}#sk-container-id-7 div.sk-parallel-item:only-child::after {width: 0;}#sk-container-id-7 div.sk-dashed-wrapped {border: 1px dashed gray;margin: 0 0.4em 0.5em 0.4em;box-sizing: border-box;padding-bottom: 0.4em;background-color: white;}#sk-container-id-7 div.sk-label label {font-family: monospace;font-weight: bold;display: inline-block;line-height: 1.2em;}#sk-container-id-7 div.sk-label-container {text-align: center;}#sk-container-id-7 div.sk-container {/* jupyter's `normalize.less` sets `[hidden] { display: none; }` but bootstrap.min.css set `[hidden] { display: none !important; }` so we also need the `!important` here to be able to override the default hidden behavior on the sphinx rendered scikit-learn.org. See: https://github.com/scikit-learn/scikit-learn/issues/21755 */display: inline-block !important;position: relative;}#sk-container-id-7 div.sk-text-repr-fallback {display: none;}</style><div id=\"sk-container-id-7\" class=\"sk-top-container\"><div class=\"sk-text-repr-fallback\"><pre>RandomForestRegressor(max_depth=100, max_features=0.7, min_samples_leaf=3,\n",
       "                      min_samples_split=12)</pre><b>In a Jupyter environment, please rerun this cell to show the HTML representation or trust the notebook. <br />On GitHub, the HTML representation is unable to render, please try loading this page with nbviewer.org.</b></div><div class=\"sk-container\" hidden><div class=\"sk-item\"><div class=\"sk-estimator sk-toggleable\"><input class=\"sk-toggleable__control sk-hidden--visually\" id=\"sk-estimator-id-9\" type=\"checkbox\" checked><label for=\"sk-estimator-id-9\" class=\"sk-toggleable__label sk-toggleable__label-arrow\">RandomForestRegressor</label><div class=\"sk-toggleable__content\"><pre>RandomForestRegressor(max_depth=100, max_features=0.7, min_samples_leaf=3,\n",
       "                      min_samples_split=12)</pre></div></div></div></div></div>"
      ],
      "text/plain": [
       "RandomForestRegressor(max_depth=100, max_features=0.7, min_samples_leaf=3,\n",
       "                      min_samples_split=12)"
      ]
     },
     "execution_count": 93,
     "metadata": {},
     "output_type": "execute_result"
    }
   ],
   "source": [
    "RF.fit(X_train[:,feat_mask],y_train)"
   ]
  },
  {
   "cell_type": "code",
   "execution_count": 94,
   "metadata": {},
   "outputs": [],
   "source": [
    "y_train_pred_rf=grid_search_rf.predict(X_train[:,feat_mask])"
   ]
  },
  {
   "cell_type": "code",
   "execution_count": 95,
   "metadata": {},
   "outputs": [],
   "source": [
    "y_test_pred_rf=grid_search_rf.predict(X_test[:,feat_mask])"
   ]
  },
  {
   "cell_type": "code",
   "execution_count": 96,
   "metadata": {},
   "outputs": [
    {
     "name": "stdout",
     "output_type": "stream",
     "text": [
      "MSE train RandomForest= 19801.034767509904\n"
     ]
    }
   ],
   "source": [
    "print('MSE train RandomForest=' , mean_squared_error(y_train,y_train_pred_rf, squared=False))"
   ]
  },
  {
   "cell_type": "code",
   "execution_count": 97,
   "metadata": {},
   "outputs": [
    {
     "name": "stdout",
     "output_type": "stream",
     "text": [
      "MSE test RandomForest= 27970.65799914637\n"
     ]
    }
   ],
   "source": [
    "print('MSE test RandomForest=' , mean_squared_error(y_test,y_test_pred_rf, squared=False))"
   ]
  },
  {
   "attachments": {},
   "cell_type": "markdown",
   "metadata": {},
   "source": [
    "#### XGboost"
   ]
  },
  {
   "cell_type": "code",
   "execution_count": 86,
   "metadata": {},
   "outputs": [],
   "source": [
    "from xgboost import XGBRegressor\n",
    "from sklearn.metrics import make_scorer"
   ]
  },
  {
   "cell_type": "code",
   "execution_count": 87,
   "metadata": {},
   "outputs": [],
   "source": [
    "param_dist = {\n",
    "    'n_estimators':[5,6,7,8],\n",
    "    'max_depth':[20,30,35], \n",
    "    'learning_rate':[0.3,0.4,0.5],\n",
    "    }\n",
    "#Create the lgbm moodel object\n",
    "bst = XGBRegressor(reg_lambda=2,reg_alpha=1)\n",
    "#Create the GridSearch object\n",
    "bst_grid = GridSearchCV(bst, param_dist,cv = 5, n_jobs = -1, verbose = 2)"
   ]
  },
  {
   "cell_type": "code",
   "execution_count": 88,
   "metadata": {},
   "outputs": [
    {
     "name": "stdout",
     "output_type": "stream",
     "text": [
      "Fitting 5 folds for each of 36 candidates, totalling 180 fits\n",
      "[CV] END ....learning_rate=0.3, max_depth=20, n_estimators=5; total time=   0.0s\n",
      "[CV] END ....learning_rate=0.3, max_depth=20, n_estimators=5; total time=   0.0s\n",
      "[CV] END ....learning_rate=0.3, max_depth=20, n_estimators=5; total time=   0.0s\n",
      "[CV] END ....learning_rate=0.3, max_depth=20, n_estimators=5; total time=   0.0s\n",
      "[CV] END ....learning_rate=0.3, max_depth=20, n_estimators=5; total time=   0.0s\n",
      "[CV] END ....learning_rate=0.3, max_depth=20, n_estimators=6; total time=   0.0s\n",
      "[CV] END ....learning_rate=0.3, max_depth=20, n_estimators=6; total time=   0.0s\n",
      "[CV] END ....learning_rate=0.3, max_depth=20, n_estimators=6; total time=   0.0s\n",
      "[CV] END ....learning_rate=0.3, max_depth=20, n_estimators=6; total time=   0.0s\n",
      "[CV] END ....learning_rate=0.3, max_depth=20, n_estimators=7; total time=   0.1s[CV] END ....learning_rate=0.3, max_depth=20, n_estimators=6; total time=   0.1s[CV] END ....learning_rate=0.3, max_depth=20, n_estimators=7; total time=   0.1s\n",
      "\n",
      "\n",
      "[CV] END ....learning_rate=0.3, max_depth=20, n_estimators=7; total time=   0.1s\n",
      "[CV] END ....learning_rate=0.3, max_depth=30, n_estimators=5; total time=   0.0s\n",
      "[CV] END ....learning_rate=0.3, max_depth=30, n_estimators=5; total time=   0.0s\n",
      "[CV] END ....learning_rate=0.3, max_depth=30, n_estimators=5; total time=   0.0s\n",
      "[CV] END ....learning_rate=0.3, max_depth=20, n_estimators=7; total time=   0.1s\n",
      "[CV] END ....learning_rate=0.3, max_depth=30, n_estimators=5; total time=   0.0s\n",
      "[CV] END ....learning_rate=0.3, max_depth=20, n_estimators=8; total time=   0.1s\n",
      "[CV] END ....learning_rate=0.3, max_depth=20, n_estimators=7; total time=   0.1s\n",
      "[CV] END ....learning_rate=0.3, max_depth=20, n_estimators=8; total time=   0.1s\n",
      "[CV] END ....learning_rate=0.3, max_depth=30, n_estimators=6; total time=   0.0s\n",
      "[CV] END ....learning_rate=0.3, max_depth=20, n_estimators=8; total time=   0.1s\n",
      "[CV] END ....learning_rate=0.3, max_depth=20, n_estimators=8; total time=   0.1s\n",
      "[CV] END ....learning_rate=0.3, max_depth=30, n_estimators=5; total time=   0.0s\n",
      "[CV] END ....learning_rate=0.3, max_depth=30, n_estimators=6; total time=   0.0s\n",
      "[CV] END ....learning_rate=0.3, max_depth=30, n_estimators=6; total time=   0.0s\n",
      "[CV] END ....learning_rate=0.3, max_depth=30, n_estimators=6; total time=   0.1s\n",
      "[CV] END ....learning_rate=0.3, max_depth=30, n_estimators=6; total time=   0.1s\n",
      "[CV] END ....learning_rate=0.3, max_depth=20, n_estimators=8; total time=   0.1s\n",
      "[CV] END ....learning_rate=0.3, max_depth=30, n_estimators=7; total time=   0.0s\n",
      "[CV] END ....learning_rate=0.3, max_depth=30, n_estimators=7; total time=   0.0s\n",
      "[CV] END ....learning_rate=0.3, max_depth=35, n_estimators=5; total time=   0.0s\n",
      "[CV] END ....learning_rate=0.3, max_depth=35, n_estimators=5; total time=   0.0s\n",
      "[CV] END ....learning_rate=0.3, max_depth=35, n_estimators=5; total time=   0.0s\n",
      "[CV] END ....learning_rate=0.3, max_depth=30, n_estimators=7; total time=   0.0s\n",
      "[CV] END ....learning_rate=0.3, max_depth=35, n_estimators=6; total time=   0.0s\n",
      "[CV] END ....learning_rate=0.3, max_depth=35, n_estimators=6; total time=   0.0s\n",
      "[CV] END ....learning_rate=0.3, max_depth=30, n_estimators=7; total time=   0.0s\n",
      "[CV] END ....learning_rate=0.3, max_depth=35, n_estimators=7; total time=   0.0s\n",
      "[CV] END ....learning_rate=0.3, max_depth=35, n_estimators=7; total time=   0.0s\n",
      "[CV] END ....learning_rate=0.3, max_depth=30, n_estimators=8; total time=   0.1s\n",
      "[CV] END ....learning_rate=0.4, max_depth=20, n_estimators=5; total time=   0.0s\n",
      "[CV] END ....learning_rate=0.3, max_depth=30, n_estimators=8; total time=   0.1s\n",
      "[CV] END ....learning_rate=0.4, max_depth=20, n_estimators=5; total time=   0.0s\n",
      "[CV] END ....learning_rate=0.3, max_depth=35, n_estimators=5; total time=   0.0s\n",
      "[CV] END ....learning_rate=0.3, max_depth=35, n_estimators=5; total time=   0.0s\n",
      "[CV] END ....learning_rate=0.3, max_depth=35, n_estimators=6; total time=   0.0s\n",
      "[CV] END ....learning_rate=0.3, max_depth=35, n_estimators=6; total time=   0.0s\n",
      "[CV] END ....learning_rate=0.3, max_depth=35, n_estimators=7; total time=   0.1s\n",
      "[CV] END ....learning_rate=0.3, max_depth=35, n_estimators=8; total time=   0.1s\n",
      "[CV] END ....learning_rate=0.3, max_depth=35, n_estimators=8; total time=   0.1s[CV] END ....learning_rate=0.3, max_depth=30, n_estimators=7; total time=   0.0s\n",
      "\n",
      "[CV] END ....learning_rate=0.3, max_depth=35, n_estimators=6; total time=   0.0s\n",
      "[CV] END ....learning_rate=0.4, max_depth=20, n_estimators=5; total time=   0.0s\n",
      "[CV] END ....learning_rate=0.4, max_depth=20, n_estimators=5; total time=   0.0s\n",
      "[CV] END ....learning_rate=0.3, max_depth=30, n_estimators=8; total time=   0.1s\n",
      "[CV] END ....learning_rate=0.3, max_depth=35, n_estimators=8; total time=   0.1s\n",
      "[CV] END ....learning_rate=0.3, max_depth=30, n_estimators=8; total time=   0.1s\n",
      "[CV] END ....learning_rate=0.3, max_depth=35, n_estimators=7; total time=   0.1s\n",
      "[CV] END ....learning_rate=0.4, max_depth=20, n_estimators=5; total time=   0.1s\n",
      "[CV] END ....learning_rate=0.3, max_depth=30, n_estimators=8; total time=   0.1s\n",
      "[CV] END ....learning_rate=0.4, max_depth=20, n_estimators=6; total time=   0.0s\n",
      "[CV] END ....learning_rate=0.3, max_depth=35, n_estimators=7; total time=   0.1s\n",
      "[CV] END ....learning_rate=0.3, max_depth=35, n_estimators=8; total time=   0.1s\n",
      "[CV] END ....learning_rate=0.4, max_depth=20, n_estimators=6; total time=   0.1s\n",
      "[CV] END ....learning_rate=0.3, max_depth=35, n_estimators=8; total time=   0.1s\n",
      "[CV] END ....learning_rate=0.4, max_depth=30, n_estimators=5; total time=   0.0s\n",
      "[CV] END ....learning_rate=0.4, max_depth=20, n_estimators=7; total time=   0.1s\n",
      "[CV] END ....learning_rate=0.4, max_depth=30, n_estimators=5; total time=   0.0s\n",
      "[CV] END ....learning_rate=0.4, max_depth=30, n_estimators=5; total time=   0.1s\n",
      "[CV] END ....learning_rate=0.4, max_depth=20, n_estimators=7; total time=   0.1s\n",
      "[CV] END ....learning_rate=0.4, max_depth=20, n_estimators=8; total time=   0.1s\n",
      "[CV] END ....learning_rate=0.4, max_depth=30, n_estimators=6; total time=   0.1s\n",
      "[CV] END ....learning_rate=0.4, max_depth=20, n_estimators=7; total time=   0.1s\n",
      "[CV] END ....learning_rate=0.4, max_depth=20, n_estimators=6; total time=   0.0s\n",
      "[CV] END ....learning_rate=0.4, max_depth=20, n_estimators=6; total time=   0.1s\n",
      "[CV] END ....learning_rate=0.4, max_depth=30, n_estimators=5; total time=   0.0s\n",
      "[CV] END ....learning_rate=0.4, max_depth=20, n_estimators=6; total time=   0.0s\n",
      "[CV] END ....learning_rate=0.4, max_depth=20, n_estimators=8; total time=   0.1s\n",
      "[CV] END ....learning_rate=0.4, max_depth=30, n_estimators=5; total time=   0.0s\n",
      "[CV] END ....learning_rate=0.4, max_depth=30, n_estimators=7; total time=   0.1s\n",
      "[CV] END ....learning_rate=0.4, max_depth=30, n_estimators=7; total time=   0.1s\n",
      "[CV] END ....learning_rate=0.4, max_depth=30, n_estimators=6; total time=   0.1s\n",
      "[CV] END ....learning_rate=0.4, max_depth=30, n_estimators=6; total time=   0.0s\n",
      "[CV] END ....learning_rate=0.4, max_depth=30, n_estimators=7; total time=   0.1s\n",
      "[CV] END ....learning_rate=0.4, max_depth=20, n_estimators=8; total time=   0.1s\n",
      "[CV] END ....learning_rate=0.4, max_depth=30, n_estimators=6; total time=   0.1s\n",
      "[CV] END ....learning_rate=0.4, max_depth=35, n_estimators=5; total time=   0.0s\n",
      "[CV] END ....learning_rate=0.4, max_depth=35, n_estimators=5; total time=   0.1s\n",
      "[CV] END ....learning_rate=0.4, max_depth=20, n_estimators=7; total time=   0.1s\n",
      "[CV] END ....learning_rate=0.4, max_depth=20, n_estimators=7; total time=   0.1s\n",
      "[CV] END ....learning_rate=0.4, max_depth=35, n_estimators=6; total time=   0.0s\n",
      "[CV] END ....learning_rate=0.4, max_depth=20, n_estimators=8; total time=   0.1s\n",
      "[CV] END ....learning_rate=0.4, max_depth=30, n_estimators=8; total time=   0.1s\n",
      "[CV] END ....learning_rate=0.4, max_depth=35, n_estimators=7; total time=   0.1s\n",
      "[CV] END ....learning_rate=0.4, max_depth=30, n_estimators=7; total time=   0.1s[CV] END ....learning_rate=0.4, max_depth=20, n_estimators=8; total time=   0.1s\n",
      "\n",
      "[CV] END ....learning_rate=0.4, max_depth=30, n_estimators=7; total time=   0.1s\n",
      "[CV] END ....learning_rate=0.4, max_depth=30, n_estimators=6; total time=   0.1s\n",
      "[CV] END ....learning_rate=0.4, max_depth=35, n_estimators=6; total time=   0.0s\n",
      "[CV] END ....learning_rate=0.4, max_depth=35, n_estimators=5; total time=   0.0s\n",
      "[CV] END ....learning_rate=0.5, max_depth=20, n_estimators=5; total time=   0.0s\n",
      "[CV] END ....learning_rate=0.5, max_depth=20, n_estimators=5; total time=   0.1s\n",
      "[CV] END ....learning_rate=0.4, max_depth=35, n_estimators=6; total time=   0.0s\n",
      "[CV] END ....learning_rate=0.4, max_depth=30, n_estimators=8; total time=   0.1s\n",
      "[CV] END ....learning_rate=0.4, max_depth=35, n_estimators=8; total time=   0.1s\n",
      "[CV] END ....learning_rate=0.5, max_depth=20, n_estimators=6; total time=   0.1s\n",
      "[CV] END ....learning_rate=0.4, max_depth=35, n_estimators=5; total time=   0.0s\n",
      "[CV] END ....learning_rate=0.4, max_depth=35, n_estimators=7; total time=   0.1s\n",
      "[CV] END ....learning_rate=0.4, max_depth=35, n_estimators=6; total time=   0.0s\n",
      "[CV] END ....learning_rate=0.4, max_depth=30, n_estimators=8; total time=   0.1s\n",
      "[CV] END ....learning_rate=0.5, max_depth=20, n_estimators=7; total time=   0.1s\n",
      "[CV] END ....learning_rate=0.5, max_depth=30, n_estimators=6; total time=   0.1s\n",
      "[CV] END ....learning_rate=0.5, max_depth=30, n_estimators=5; total time=   0.1s\n",
      "[CV] END ....learning_rate=0.5, max_depth=30, n_estimators=7; total time=   0.1s\n",
      "[CV] END ....learning_rate=0.5, max_depth=30, n_estimators=5; total time=   0.1s\n",
      "[CV] END ....learning_rate=0.4, max_depth=35, n_estimators=7; total time=   0.1s[CV] END ....learning_rate=0.4, max_depth=35, n_estimators=5; total time=   0.0s\n",
      "\n",
      "[CV] END ....learning_rate=0.5, max_depth=20, n_estimators=8; total time=   0.1s\n",
      "[CV] END ....learning_rate=0.5, max_depth=20, n_estimators=6; total time=   0.1s\n",
      "[CV] END ....learning_rate=0.5, max_depth=20, n_estimators=6; total time=   0.1s\n",
      "[CV] END ....learning_rate=0.5, max_depth=20, n_estimators=5; total time=   0.1s\n",
      "[CV] END ....learning_rate=0.4, max_depth=35, n_estimators=8; total time=   0.1s\n",
      "[CV] END ....learning_rate=0.4, max_depth=35, n_estimators=6; total time=   0.0s\n",
      "[CV] END ....learning_rate=0.4, max_depth=35, n_estimators=7; total time=   0.1s\n",
      "[CV] END ....learning_rate=0.5, max_depth=30, n_estimators=8; total time=   0.1s\n",
      "[CV] END ....learning_rate=0.5, max_depth=30, n_estimators=6; total time=   0.1s\n",
      "[CV] END ....learning_rate=0.5, max_depth=35, n_estimators=5; total time=   0.0s\n",
      "[CV] END ....learning_rate=0.5, max_depth=30, n_estimators=7; total time=   0.1s\n",
      "[CV] END ....learning_rate=0.5, max_depth=20, n_estimators=5; total time=   0.0s\n",
      "[CV] END ....learning_rate=0.5, max_depth=20, n_estimators=7; total time=   0.1s\n",
      "[CV] END ....learning_rate=0.5, max_depth=30, n_estimators=6; total time=   0.1s[CV] END ....learning_rate=0.4, max_depth=35, n_estimators=7; total time=   0.1s\n",
      "\n",
      "[CV] END ....learning_rate=0.5, max_depth=35, n_estimators=5; total time=   0.0s\n",
      "[CV] END ....learning_rate=0.5, max_depth=30, n_estimators=5; total time=   0.1s\n",
      "[CV] END ....learning_rate=0.5, max_depth=20, n_estimators=7; total time=   0.1s\n",
      "[CV] END ....learning_rate=0.5, max_depth=20, n_estimators=6; total time=   0.1s\n",
      "[CV] END ....learning_rate=0.4, max_depth=35, n_estimators=8; total time=   0.1s[CV] END ....learning_rate=0.4, max_depth=30, n_estimators=8; total time=   0.1s\n",
      "\n",
      "[CV] END ....learning_rate=0.5, max_depth=35, n_estimators=5; total time=   0.0s\n",
      "[CV] END ....learning_rate=0.5, max_depth=20, n_estimators=8; total time=   0.1s\n",
      "[CV] END ....learning_rate=0.5, max_depth=20, n_estimators=5; total time=   0.0s\n",
      "[CV] END ....learning_rate=0.4, max_depth=35, n_estimators=8; total time=   0.1s\n",
      "[CV] END ....learning_rate=0.5, max_depth=35, n_estimators=5; total time=   0.0s\n",
      "[CV] END ....learning_rate=0.5, max_depth=35, n_estimators=5; total time=   0.0s\n",
      "[CV] END ....learning_rate=0.5, max_depth=30, n_estimators=7; total time=   0.1s\n",
      "[CV] END ....learning_rate=0.5, max_depth=30, n_estimators=8; total time=   0.1s\n",
      "[CV] END ....learning_rate=0.5, max_depth=30, n_estimators=7; total time=   0.1s\n",
      "[CV] END ....learning_rate=0.5, max_depth=30, n_estimators=6; total time=   0.1s\n",
      "[CV] END ....learning_rate=0.5, max_depth=20, n_estimators=7; total time=   0.1s\n",
      "[CV] END ....learning_rate=0.5, max_depth=20, n_estimators=7; total time=   0.1s\n",
      "[CV] END ....learning_rate=0.5, max_depth=20, n_estimators=6; total time=   0.1s\n",
      "[CV] END ....learning_rate=0.5, max_depth=35, n_estimators=6; total time=   0.1s\n",
      "[CV] END ....learning_rate=0.5, max_depth=30, n_estimators=5; total time=   0.1s\n",
      "[CV] END ....learning_rate=0.4, max_depth=35, n_estimators=8; total time=   0.1s\n",
      "[CV] END ....learning_rate=0.5, max_depth=35, n_estimators=6; total time=   0.1s\n",
      "[CV] END ....learning_rate=0.5, max_depth=35, n_estimators=6; total time=   0.1s\n",
      "[CV] END ....learning_rate=0.5, max_depth=35, n_estimators=6; total time=   0.1s\n",
      "[CV] END ....learning_rate=0.4, max_depth=30, n_estimators=8; total time=   0.1s\n",
      "[CV] END ....learning_rate=0.5, max_depth=30, n_estimators=7; total time=   0.1s\n",
      "[CV] END ....learning_rate=0.5, max_depth=20, n_estimators=8; total time=   0.1s\n",
      "[CV] END ....learning_rate=0.5, max_depth=30, n_estimators=8; total time=   0.1s\n",
      "[CV] END ....learning_rate=0.5, max_depth=30, n_estimators=8; total time=   0.1s\n",
      "[CV] END ....learning_rate=0.5, max_depth=35, n_estimators=7; total time=   0.1s\n",
      "[CV] END ....learning_rate=0.5, max_depth=35, n_estimators=6; total time=   0.1s\n",
      "[CV] END ....learning_rate=0.5, max_depth=30, n_estimators=6; total time=   0.1s\n",
      "[CV] END ....learning_rate=0.5, max_depth=30, n_estimators=5; total time=   0.1s\n",
      "[CV] END ....learning_rate=0.5, max_depth=35, n_estimators=7; total time=   0.1s\n",
      "[CV] END ....learning_rate=0.5, max_depth=35, n_estimators=7; total time=   0.1s\n",
      "[CV] END ....learning_rate=0.5, max_depth=35, n_estimators=7; total time=   0.1s\n",
      "[CV] END ....learning_rate=0.5, max_depth=20, n_estimators=8; total time=   0.1s\n",
      "[CV] END ....learning_rate=0.5, max_depth=35, n_estimators=7; total time=   0.1s\n",
      "[CV] END ....learning_rate=0.5, max_depth=35, n_estimators=8; total time=   0.1s\n",
      "[CV] END ....learning_rate=0.5, max_depth=35, n_estimators=8; total time=   0.1s\n",
      "[CV] END ....learning_rate=0.5, max_depth=35, n_estimators=8; total time=   0.1s\n",
      "[CV] END ....learning_rate=0.5, max_depth=20, n_estimators=8; total time=   0.1s\n",
      "[CV] END ....learning_rate=0.5, max_depth=35, n_estimators=8; total time=   0.1s\n",
      "[CV] END ....learning_rate=0.5, max_depth=30, n_estimators=8; total time=   0.1s\n",
      "[CV] END ....learning_rate=0.5, max_depth=35, n_estimators=8; total time=   0.1s\n"
     ]
    },
    {
     "data": {
      "text/html": [
       "<style>#sk-container-id-10 {color: black;background-color: white;}#sk-container-id-10 pre{padding: 0;}#sk-container-id-10 div.sk-toggleable {background-color: white;}#sk-container-id-10 label.sk-toggleable__label {cursor: pointer;display: block;width: 100%;margin-bottom: 0;padding: 0.3em;box-sizing: border-box;text-align: center;}#sk-container-id-10 label.sk-toggleable__label-arrow:before {content: \"▸\";float: left;margin-right: 0.25em;color: #696969;}#sk-container-id-10 label.sk-toggleable__label-arrow:hover:before {color: black;}#sk-container-id-10 div.sk-estimator:hover label.sk-toggleable__label-arrow:before {color: black;}#sk-container-id-10 div.sk-toggleable__content {max-height: 0;max-width: 0;overflow: hidden;text-align: left;background-color: #f0f8ff;}#sk-container-id-10 div.sk-toggleable__content pre {margin: 0.2em;color: black;border-radius: 0.25em;background-color: #f0f8ff;}#sk-container-id-10 input.sk-toggleable__control:checked~div.sk-toggleable__content {max-height: 200px;max-width: 100%;overflow: auto;}#sk-container-id-10 input.sk-toggleable__control:checked~label.sk-toggleable__label-arrow:before {content: \"▾\";}#sk-container-id-10 div.sk-estimator input.sk-toggleable__control:checked~label.sk-toggleable__label {background-color: #d4ebff;}#sk-container-id-10 div.sk-label input.sk-toggleable__control:checked~label.sk-toggleable__label {background-color: #d4ebff;}#sk-container-id-10 input.sk-hidden--visually {border: 0;clip: rect(1px 1px 1px 1px);clip: rect(1px, 1px, 1px, 1px);height: 1px;margin: -1px;overflow: hidden;padding: 0;position: absolute;width: 1px;}#sk-container-id-10 div.sk-estimator {font-family: monospace;background-color: #f0f8ff;border: 1px dotted black;border-radius: 0.25em;box-sizing: border-box;margin-bottom: 0.5em;}#sk-container-id-10 div.sk-estimator:hover {background-color: #d4ebff;}#sk-container-id-10 div.sk-parallel-item::after {content: \"\";width: 100%;border-bottom: 1px solid gray;flex-grow: 1;}#sk-container-id-10 div.sk-label:hover label.sk-toggleable__label {background-color: #d4ebff;}#sk-container-id-10 div.sk-serial::before {content: \"\";position: absolute;border-left: 1px solid gray;box-sizing: border-box;top: 0;bottom: 0;left: 50%;z-index: 0;}#sk-container-id-10 div.sk-serial {display: flex;flex-direction: column;align-items: center;background-color: white;padding-right: 0.2em;padding-left: 0.2em;position: relative;}#sk-container-id-10 div.sk-item {position: relative;z-index: 1;}#sk-container-id-10 div.sk-parallel {display: flex;align-items: stretch;justify-content: center;background-color: white;position: relative;}#sk-container-id-10 div.sk-item::before, #sk-container-id-10 div.sk-parallel-item::before {content: \"\";position: absolute;border-left: 1px solid gray;box-sizing: border-box;top: 0;bottom: 0;left: 50%;z-index: -1;}#sk-container-id-10 div.sk-parallel-item {display: flex;flex-direction: column;z-index: 1;position: relative;background-color: white;}#sk-container-id-10 div.sk-parallel-item:first-child::after {align-self: flex-end;width: 50%;}#sk-container-id-10 div.sk-parallel-item:last-child::after {align-self: flex-start;width: 50%;}#sk-container-id-10 div.sk-parallel-item:only-child::after {width: 0;}#sk-container-id-10 div.sk-dashed-wrapped {border: 1px dashed gray;margin: 0 0.4em 0.5em 0.4em;box-sizing: border-box;padding-bottom: 0.4em;background-color: white;}#sk-container-id-10 div.sk-label label {font-family: monospace;font-weight: bold;display: inline-block;line-height: 1.2em;}#sk-container-id-10 div.sk-label-container {text-align: center;}#sk-container-id-10 div.sk-container {/* jupyter's `normalize.less` sets `[hidden] { display: none; }` but bootstrap.min.css set `[hidden] { display: none !important; }` so we also need the `!important` here to be able to override the default hidden behavior on the sphinx rendered scikit-learn.org. See: https://github.com/scikit-learn/scikit-learn/issues/21755 */display: inline-block !important;position: relative;}#sk-container-id-10 div.sk-text-repr-fallback {display: none;}</style><div id=\"sk-container-id-10\" class=\"sk-top-container\"><div class=\"sk-text-repr-fallback\"><pre>GridSearchCV(cv=5,\n",
       "             estimator=XGBRegressor(base_score=None, booster=None,\n",
       "                                    callbacks=None, colsample_bylevel=None,\n",
       "                                    colsample_bynode=None,\n",
       "                                    colsample_bytree=None,\n",
       "                                    early_stopping_rounds=None,\n",
       "                                    enable_categorical=False, eval_metric=None,\n",
       "                                    feature_types=None, gamma=None, gpu_id=None,\n",
       "                                    grow_policy=None, importance_type=None,\n",
       "                                    interaction_constraints=None,\n",
       "                                    learning_rate=None, m...\n",
       "                                    max_cat_threshold=None,\n",
       "                                    max_cat_to_onehot=None, max_delta_step=None,\n",
       "                                    max_depth=None, max_leaves=None,\n",
       "                                    min_child_weight=None, missing=nan,\n",
       "                                    monotone_constraints=None, n_estimators=100,\n",
       "                                    n_jobs=None, num_parallel_tree=None,\n",
       "                                    predictor=None, random_state=None, ...),\n",
       "             n_jobs=-1,\n",
       "             param_grid={&#x27;learning_rate&#x27;: [0.3, 0.4, 0.5],\n",
       "                         &#x27;max_depth&#x27;: [20, 30, 35],\n",
       "                         &#x27;n_estimators&#x27;: [5, 6, 7, 8]},\n",
       "             verbose=2)</pre><b>In a Jupyter environment, please rerun this cell to show the HTML representation or trust the notebook. <br />On GitHub, the HTML representation is unable to render, please try loading this page with nbviewer.org.</b></div><div class=\"sk-container\" hidden><div class=\"sk-item sk-dashed-wrapped\"><div class=\"sk-label-container\"><div class=\"sk-label sk-toggleable\"><input class=\"sk-toggleable__control sk-hidden--visually\" id=\"sk-estimator-id-18\" type=\"checkbox\" ><label for=\"sk-estimator-id-18\" class=\"sk-toggleable__label sk-toggleable__label-arrow\">GridSearchCV</label><div class=\"sk-toggleable__content\"><pre>GridSearchCV(cv=5,\n",
       "             estimator=XGBRegressor(base_score=None, booster=None,\n",
       "                                    callbacks=None, colsample_bylevel=None,\n",
       "                                    colsample_bynode=None,\n",
       "                                    colsample_bytree=None,\n",
       "                                    early_stopping_rounds=None,\n",
       "                                    enable_categorical=False, eval_metric=None,\n",
       "                                    feature_types=None, gamma=None, gpu_id=None,\n",
       "                                    grow_policy=None, importance_type=None,\n",
       "                                    interaction_constraints=None,\n",
       "                                    learning_rate=None, m...\n",
       "                                    max_cat_threshold=None,\n",
       "                                    max_cat_to_onehot=None, max_delta_step=None,\n",
       "                                    max_depth=None, max_leaves=None,\n",
       "                                    min_child_weight=None, missing=nan,\n",
       "                                    monotone_constraints=None, n_estimators=100,\n",
       "                                    n_jobs=None, num_parallel_tree=None,\n",
       "                                    predictor=None, random_state=None, ...),\n",
       "             n_jobs=-1,\n",
       "             param_grid={&#x27;learning_rate&#x27;: [0.3, 0.4, 0.5],\n",
       "                         &#x27;max_depth&#x27;: [20, 30, 35],\n",
       "                         &#x27;n_estimators&#x27;: [5, 6, 7, 8]},\n",
       "             verbose=2)</pre></div></div></div><div class=\"sk-parallel\"><div class=\"sk-parallel-item\"><div class=\"sk-item\"><div class=\"sk-label-container\"><div class=\"sk-label sk-toggleable\"><input class=\"sk-toggleable__control sk-hidden--visually\" id=\"sk-estimator-id-19\" type=\"checkbox\" ><label for=\"sk-estimator-id-19\" class=\"sk-toggleable__label sk-toggleable__label-arrow\">estimator: XGBRegressor</label><div class=\"sk-toggleable__content\"><pre>XGBRegressor(base_score=None, booster=None, callbacks=None,\n",
       "             colsample_bylevel=None, colsample_bynode=None,\n",
       "             colsample_bytree=None, early_stopping_rounds=None,\n",
       "             enable_categorical=False, eval_metric=None, feature_types=None,\n",
       "             gamma=None, gpu_id=None, grow_policy=None, importance_type=None,\n",
       "             interaction_constraints=None, learning_rate=None, max_bin=None,\n",
       "             max_cat_threshold=None, max_cat_to_onehot=None,\n",
       "             max_delta_step=None, max_depth=None, max_leaves=None,\n",
       "             min_child_weight=None, missing=nan, monotone_constraints=None,\n",
       "             n_estimators=100, n_jobs=None, num_parallel_tree=None,\n",
       "             predictor=None, random_state=None, ...)</pre></div></div></div><div class=\"sk-serial\"><div class=\"sk-item\"><div class=\"sk-estimator sk-toggleable\"><input class=\"sk-toggleable__control sk-hidden--visually\" id=\"sk-estimator-id-20\" type=\"checkbox\" ><label for=\"sk-estimator-id-20\" class=\"sk-toggleable__label sk-toggleable__label-arrow\">XGBRegressor</label><div class=\"sk-toggleable__content\"><pre>XGBRegressor(base_score=None, booster=None, callbacks=None,\n",
       "             colsample_bylevel=None, colsample_bynode=None,\n",
       "             colsample_bytree=None, early_stopping_rounds=None,\n",
       "             enable_categorical=False, eval_metric=None, feature_types=None,\n",
       "             gamma=None, gpu_id=None, grow_policy=None, importance_type=None,\n",
       "             interaction_constraints=None, learning_rate=None, max_bin=None,\n",
       "             max_cat_threshold=None, max_cat_to_onehot=None,\n",
       "             max_delta_step=None, max_depth=None, max_leaves=None,\n",
       "             min_child_weight=None, missing=nan, monotone_constraints=None,\n",
       "             n_estimators=100, n_jobs=None, num_parallel_tree=None,\n",
       "             predictor=None, random_state=None, ...)</pre></div></div></div></div></div></div></div></div></div></div>"
      ],
      "text/plain": [
       "GridSearchCV(cv=5,\n",
       "             estimator=XGBRegressor(base_score=None, booster=None,\n",
       "                                    callbacks=None, colsample_bylevel=None,\n",
       "                                    colsample_bynode=None,\n",
       "                                    colsample_bytree=None,\n",
       "                                    early_stopping_rounds=None,\n",
       "                                    enable_categorical=False, eval_metric=None,\n",
       "                                    feature_types=None, gamma=None, gpu_id=None,\n",
       "                                    grow_policy=None, importance_type=None,\n",
       "                                    interaction_constraints=None,\n",
       "                                    learning_rate=None, m...\n",
       "                                    max_cat_threshold=None,\n",
       "                                    max_cat_to_onehot=None, max_delta_step=None,\n",
       "                                    max_depth=None, max_leaves=None,\n",
       "                                    min_child_weight=None, missing=nan,\n",
       "                                    monotone_constraints=None, n_estimators=100,\n",
       "                                    n_jobs=None, num_parallel_tree=None,\n",
       "                                    predictor=None, random_state=None, ...),\n",
       "             n_jobs=-1,\n",
       "             param_grid={'learning_rate': [0.3, 0.4, 0.5],\n",
       "                         'max_depth': [20, 30, 35],\n",
       "                         'n_estimators': [5, 6, 7, 8]},\n",
       "             verbose=2)"
      ]
     },
     "execution_count": 88,
     "metadata": {},
     "output_type": "execute_result"
    }
   ],
   "source": [
    "bst_grid.fit(X_train[:,feat_mask],y_train)"
   ]
  },
  {
   "cell_type": "code",
   "execution_count": 256,
   "metadata": {},
   "outputs": [
    {
     "data": {
      "text/html": [
       "<style>#sk-container-id-29 {color: black;background-color: white;}#sk-container-id-29 pre{padding: 0;}#sk-container-id-29 div.sk-toggleable {background-color: white;}#sk-container-id-29 label.sk-toggleable__label {cursor: pointer;display: block;width: 100%;margin-bottom: 0;padding: 0.3em;box-sizing: border-box;text-align: center;}#sk-container-id-29 label.sk-toggleable__label-arrow:before {content: \"▸\";float: left;margin-right: 0.25em;color: #696969;}#sk-container-id-29 label.sk-toggleable__label-arrow:hover:before {color: black;}#sk-container-id-29 div.sk-estimator:hover label.sk-toggleable__label-arrow:before {color: black;}#sk-container-id-29 div.sk-toggleable__content {max-height: 0;max-width: 0;overflow: hidden;text-align: left;background-color: #f0f8ff;}#sk-container-id-29 div.sk-toggleable__content pre {margin: 0.2em;color: black;border-radius: 0.25em;background-color: #f0f8ff;}#sk-container-id-29 input.sk-toggleable__control:checked~div.sk-toggleable__content {max-height: 200px;max-width: 100%;overflow: auto;}#sk-container-id-29 input.sk-toggleable__control:checked~label.sk-toggleable__label-arrow:before {content: \"▾\";}#sk-container-id-29 div.sk-estimator input.sk-toggleable__control:checked~label.sk-toggleable__label {background-color: #d4ebff;}#sk-container-id-29 div.sk-label input.sk-toggleable__control:checked~label.sk-toggleable__label {background-color: #d4ebff;}#sk-container-id-29 input.sk-hidden--visually {border: 0;clip: rect(1px 1px 1px 1px);clip: rect(1px, 1px, 1px, 1px);height: 1px;margin: -1px;overflow: hidden;padding: 0;position: absolute;width: 1px;}#sk-container-id-29 div.sk-estimator {font-family: monospace;background-color: #f0f8ff;border: 1px dotted black;border-radius: 0.25em;box-sizing: border-box;margin-bottom: 0.5em;}#sk-container-id-29 div.sk-estimator:hover {background-color: #d4ebff;}#sk-container-id-29 div.sk-parallel-item::after {content: \"\";width: 100%;border-bottom: 1px solid gray;flex-grow: 1;}#sk-container-id-29 div.sk-label:hover label.sk-toggleable__label {background-color: #d4ebff;}#sk-container-id-29 div.sk-serial::before {content: \"\";position: absolute;border-left: 1px solid gray;box-sizing: border-box;top: 0;bottom: 0;left: 50%;z-index: 0;}#sk-container-id-29 div.sk-serial {display: flex;flex-direction: column;align-items: center;background-color: white;padding-right: 0.2em;padding-left: 0.2em;position: relative;}#sk-container-id-29 div.sk-item {position: relative;z-index: 1;}#sk-container-id-29 div.sk-parallel {display: flex;align-items: stretch;justify-content: center;background-color: white;position: relative;}#sk-container-id-29 div.sk-item::before, #sk-container-id-29 div.sk-parallel-item::before {content: \"\";position: absolute;border-left: 1px solid gray;box-sizing: border-box;top: 0;bottom: 0;left: 50%;z-index: -1;}#sk-container-id-29 div.sk-parallel-item {display: flex;flex-direction: column;z-index: 1;position: relative;background-color: white;}#sk-container-id-29 div.sk-parallel-item:first-child::after {align-self: flex-end;width: 50%;}#sk-container-id-29 div.sk-parallel-item:last-child::after {align-self: flex-start;width: 50%;}#sk-container-id-29 div.sk-parallel-item:only-child::after {width: 0;}#sk-container-id-29 div.sk-dashed-wrapped {border: 1px dashed gray;margin: 0 0.4em 0.5em 0.4em;box-sizing: border-box;padding-bottom: 0.4em;background-color: white;}#sk-container-id-29 div.sk-label label {font-family: monospace;font-weight: bold;display: inline-block;line-height: 1.2em;}#sk-container-id-29 div.sk-label-container {text-align: center;}#sk-container-id-29 div.sk-container {/* jupyter's `normalize.less` sets `[hidden] { display: none; }` but bootstrap.min.css set `[hidden] { display: none !important; }` so we also need the `!important` here to be able to override the default hidden behavior on the sphinx rendered scikit-learn.org. See: https://github.com/scikit-learn/scikit-learn/issues/21755 */display: inline-block !important;position: relative;}#sk-container-id-29 div.sk-text-repr-fallback {display: none;}</style><div id=\"sk-container-id-29\" class=\"sk-top-container\"><div class=\"sk-text-repr-fallback\"><pre>XGBRegressor(base_score=None, booster=None, callbacks=None,\n",
       "             colsample_bylevel=None, colsample_bynode=None,\n",
       "             colsample_bytree=None, early_stopping_rounds=None,\n",
       "             enable_categorical=False, eval_metric=None, feature_types=None,\n",
       "             gamma=None, gpu_id=None, grow_policy=None, importance_type=None,\n",
       "             interaction_constraints=None, learning_rate=0.5, max_bin=None,\n",
       "             max_cat_threshold=None, max_cat_to_onehot=None,\n",
       "             max_delta_step=None, max_depth=35, max_leaves=None,\n",
       "             min_child_weight=None, missing=nan, monotone_constraints=None,\n",
       "             n_estimators=8, n_jobs=None, num_parallel_tree=None,\n",
       "             predictor=None, random_state=None, ...)</pre><b>In a Jupyter environment, please rerun this cell to show the HTML representation or trust the notebook. <br />On GitHub, the HTML representation is unable to render, please try loading this page with nbviewer.org.</b></div><div class=\"sk-container\" hidden><div class=\"sk-item\"><div class=\"sk-estimator sk-toggleable\"><input class=\"sk-toggleable__control sk-hidden--visually\" id=\"sk-estimator-id-55\" type=\"checkbox\" checked><label for=\"sk-estimator-id-55\" class=\"sk-toggleable__label sk-toggleable__label-arrow\">XGBRegressor</label><div class=\"sk-toggleable__content\"><pre>XGBRegressor(base_score=None, booster=None, callbacks=None,\n",
       "             colsample_bylevel=None, colsample_bynode=None,\n",
       "             colsample_bytree=None, early_stopping_rounds=None,\n",
       "             enable_categorical=False, eval_metric=None, feature_types=None,\n",
       "             gamma=None, gpu_id=None, grow_policy=None, importance_type=None,\n",
       "             interaction_constraints=None, learning_rate=0.5, max_bin=None,\n",
       "             max_cat_threshold=None, max_cat_to_onehot=None,\n",
       "             max_delta_step=None, max_depth=35, max_leaves=None,\n",
       "             min_child_weight=None, missing=nan, monotone_constraints=None,\n",
       "             n_estimators=8, n_jobs=None, num_parallel_tree=None,\n",
       "             predictor=None, random_state=None, ...)</pre></div></div></div></div></div>"
      ],
      "text/plain": [
       "XGBRegressor(base_score=None, booster=None, callbacks=None,\n",
       "             colsample_bylevel=None, colsample_bynode=None,\n",
       "             colsample_bytree=None, early_stopping_rounds=None,\n",
       "             enable_categorical=False, eval_metric=None, feature_types=None,\n",
       "             gamma=None, gpu_id=None, grow_policy=None, importance_type=None,\n",
       "             interaction_constraints=None, learning_rate=0.5, max_bin=None,\n",
       "             max_cat_threshold=None, max_cat_to_onehot=None,\n",
       "             max_delta_step=None, max_depth=35, max_leaves=None,\n",
       "             min_child_weight=None, missing=nan, monotone_constraints=None,\n",
       "             n_estimators=8, n_jobs=None, num_parallel_tree=None,\n",
       "             predictor=None, random_state=None, ...)"
      ]
     },
     "execution_count": 256,
     "metadata": {},
     "output_type": "execute_result"
    }
   ],
   "source": [
    "bst_grid.best_estimator_"
   ]
  },
  {
   "cell_type": "code",
   "execution_count": 288,
   "metadata": {},
   "outputs": [
    {
     "data": {
      "text/html": [
       "<style>#sk-container-id-32 {color: black;background-color: white;}#sk-container-id-32 pre{padding: 0;}#sk-container-id-32 div.sk-toggleable {background-color: white;}#sk-container-id-32 label.sk-toggleable__label {cursor: pointer;display: block;width: 100%;margin-bottom: 0;padding: 0.3em;box-sizing: border-box;text-align: center;}#sk-container-id-32 label.sk-toggleable__label-arrow:before {content: \"▸\";float: left;margin-right: 0.25em;color: #696969;}#sk-container-id-32 label.sk-toggleable__label-arrow:hover:before {color: black;}#sk-container-id-32 div.sk-estimator:hover label.sk-toggleable__label-arrow:before {color: black;}#sk-container-id-32 div.sk-toggleable__content {max-height: 0;max-width: 0;overflow: hidden;text-align: left;background-color: #f0f8ff;}#sk-container-id-32 div.sk-toggleable__content pre {margin: 0.2em;color: black;border-radius: 0.25em;background-color: #f0f8ff;}#sk-container-id-32 input.sk-toggleable__control:checked~div.sk-toggleable__content {max-height: 200px;max-width: 100%;overflow: auto;}#sk-container-id-32 input.sk-toggleable__control:checked~label.sk-toggleable__label-arrow:before {content: \"▾\";}#sk-container-id-32 div.sk-estimator input.sk-toggleable__control:checked~label.sk-toggleable__label {background-color: #d4ebff;}#sk-container-id-32 div.sk-label input.sk-toggleable__control:checked~label.sk-toggleable__label {background-color: #d4ebff;}#sk-container-id-32 input.sk-hidden--visually {border: 0;clip: rect(1px 1px 1px 1px);clip: rect(1px, 1px, 1px, 1px);height: 1px;margin: -1px;overflow: hidden;padding: 0;position: absolute;width: 1px;}#sk-container-id-32 div.sk-estimator {font-family: monospace;background-color: #f0f8ff;border: 1px dotted black;border-radius: 0.25em;box-sizing: border-box;margin-bottom: 0.5em;}#sk-container-id-32 div.sk-estimator:hover {background-color: #d4ebff;}#sk-container-id-32 div.sk-parallel-item::after {content: \"\";width: 100%;border-bottom: 1px solid gray;flex-grow: 1;}#sk-container-id-32 div.sk-label:hover label.sk-toggleable__label {background-color: #d4ebff;}#sk-container-id-32 div.sk-serial::before {content: \"\";position: absolute;border-left: 1px solid gray;box-sizing: border-box;top: 0;bottom: 0;left: 50%;z-index: 0;}#sk-container-id-32 div.sk-serial {display: flex;flex-direction: column;align-items: center;background-color: white;padding-right: 0.2em;padding-left: 0.2em;position: relative;}#sk-container-id-32 div.sk-item {position: relative;z-index: 1;}#sk-container-id-32 div.sk-parallel {display: flex;align-items: stretch;justify-content: center;background-color: white;position: relative;}#sk-container-id-32 div.sk-item::before, #sk-container-id-32 div.sk-parallel-item::before {content: \"\";position: absolute;border-left: 1px solid gray;box-sizing: border-box;top: 0;bottom: 0;left: 50%;z-index: -1;}#sk-container-id-32 div.sk-parallel-item {display: flex;flex-direction: column;z-index: 1;position: relative;background-color: white;}#sk-container-id-32 div.sk-parallel-item:first-child::after {align-self: flex-end;width: 50%;}#sk-container-id-32 div.sk-parallel-item:last-child::after {align-self: flex-start;width: 50%;}#sk-container-id-32 div.sk-parallel-item:only-child::after {width: 0;}#sk-container-id-32 div.sk-dashed-wrapped {border: 1px dashed gray;margin: 0 0.4em 0.5em 0.4em;box-sizing: border-box;padding-bottom: 0.4em;background-color: white;}#sk-container-id-32 div.sk-label label {font-family: monospace;font-weight: bold;display: inline-block;line-height: 1.2em;}#sk-container-id-32 div.sk-label-container {text-align: center;}#sk-container-id-32 div.sk-container {/* jupyter's `normalize.less` sets `[hidden] { display: none; }` but bootstrap.min.css set `[hidden] { display: none !important; }` so we also need the `!important` here to be able to override the default hidden behavior on the sphinx rendered scikit-learn.org. See: https://github.com/scikit-learn/scikit-learn/issues/21755 */display: inline-block !important;position: relative;}#sk-container-id-32 div.sk-text-repr-fallback {display: none;}</style><div id=\"sk-container-id-32\" class=\"sk-top-container\"><div class=\"sk-text-repr-fallback\"><pre>XGBRegressor(base_score=None, booster=None, callbacks=None,\n",
       "             colsample_bylevel=None, colsample_bynode=None,\n",
       "             colsample_bytree=None, early_stopping_rounds=None,\n",
       "             enable_categorical=False, eval_metric=None, feature_types=None,\n",
       "             gamma=None, gpu_id=None, grow_policy=None, importance_type=None,\n",
       "             interaction_constraints=None, learning_rate=0.5, max_bin=None,\n",
       "             max_cat_threshold=None, max_cat_to_onehot=None,\n",
       "             max_delta_step=None, max_depth=20, max_leaves=None,\n",
       "             min_child_weight=None, missing=nan, monotone_constraints=None,\n",
       "             n_estimators=8, n_jobs=None, num_parallel_tree=None,\n",
       "             predictor=None, random_state=None, ...)</pre><b>In a Jupyter environment, please rerun this cell to show the HTML representation or trust the notebook. <br />On GitHub, the HTML representation is unable to render, please try loading this page with nbviewer.org.</b></div><div class=\"sk-container\" hidden><div class=\"sk-item\"><div class=\"sk-estimator sk-toggleable\"><input class=\"sk-toggleable__control sk-hidden--visually\" id=\"sk-estimator-id-60\" type=\"checkbox\" checked><label for=\"sk-estimator-id-60\" class=\"sk-toggleable__label sk-toggleable__label-arrow\">XGBRegressor</label><div class=\"sk-toggleable__content\"><pre>XGBRegressor(base_score=None, booster=None, callbacks=None,\n",
       "             colsample_bylevel=None, colsample_bynode=None,\n",
       "             colsample_bytree=None, early_stopping_rounds=None,\n",
       "             enable_categorical=False, eval_metric=None, feature_types=None,\n",
       "             gamma=None, gpu_id=None, grow_policy=None, importance_type=None,\n",
       "             interaction_constraints=None, learning_rate=0.5, max_bin=None,\n",
       "             max_cat_threshold=None, max_cat_to_onehot=None,\n",
       "             max_delta_step=None, max_depth=20, max_leaves=None,\n",
       "             min_child_weight=None, missing=nan, monotone_constraints=None,\n",
       "             n_estimators=8, n_jobs=None, num_parallel_tree=None,\n",
       "             predictor=None, random_state=None, ...)</pre></div></div></div></div></div>"
      ],
      "text/plain": [
       "XGBRegressor(base_score=None, booster=None, callbacks=None,\n",
       "             colsample_bylevel=None, colsample_bynode=None,\n",
       "             colsample_bytree=None, early_stopping_rounds=None,\n",
       "             enable_categorical=False, eval_metric=None, feature_types=None,\n",
       "             gamma=None, gpu_id=None, grow_policy=None, importance_type=None,\n",
       "             interaction_constraints=None, learning_rate=0.5, max_bin=None,\n",
       "             max_cat_threshold=None, max_cat_to_onehot=None,\n",
       "             max_delta_step=None, max_depth=20, max_leaves=None,\n",
       "             min_child_weight=None, missing=nan, monotone_constraints=None,\n",
       "             n_estimators=8, n_jobs=None, num_parallel_tree=None,\n",
       "             predictor=None, random_state=None, ...)"
      ]
     },
     "execution_count": 288,
     "metadata": {},
     "output_type": "execute_result"
    }
   ],
   "source": [
    "bst_grid.best_estimator_"
   ]
  },
  {
   "cell_type": "code",
   "execution_count": 89,
   "metadata": {},
   "outputs": [],
   "source": [
    "bst_train_pred=bst_grid.predict(X_train[:,feat_mask])\n",
    "bst_test_pred=bst_grid.predict(X_test[:,feat_mask])"
   ]
  },
  {
   "cell_type": "code",
   "execution_count": 90,
   "metadata": {},
   "outputs": [
    {
     "name": "stdout",
     "output_type": "stream",
     "text": [
      "MSE train XGBoost= 6333.4755598527145\n",
      "MSE test XGBoost= 29131.49604538569\n"
     ]
    }
   ],
   "source": [
    "print('MSE train XGBoost=' , mean_squared_error(y_train,bst_train_pred, squared=False))\n",
    "print('MSE test XGBoost=' , mean_squared_error(y_test,bst_test_pred, squared=False))"
   ]
  },
  {
   "cell_type": "code",
   "execution_count": 241,
   "metadata": {},
   "outputs": [
    {
     "name": "stdout",
     "output_type": "stream",
     "text": [
      "MSE2 train XGBoost= 8011.072273200967\n",
      "MSE2 test XGBoost= 31303.222218650364\n"
     ]
    }
   ],
   "source": [
    "bst_train_pred2=bst_grid2.predict(X_train)\n",
    "bst_test_pred2=bst_grid2.predict(X_test)\n",
    "print('MSE2 train XGBoost=' , mean_squared_error(y_train,bst_train_pred2, squared=False))\n",
    "print('MSE2 test XGBoost=' , mean_squared_error(y_test,bst_test_pred2, squared=False))"
   ]
  },
  {
   "cell_type": "code",
   "execution_count": 91,
   "metadata": {},
   "outputs": [
    {
     "name": "stdout",
     "output_type": "stream",
     "text": [
      "MSE train XGBoost con 45 features de acuerdo a la improtancia en randomforest= 6333.4755598527145\n",
      "MSE test XGBoost con 45 features de acuerdo a la improtancia en randomforest= 29131.49604538569\n"
     ]
    }
   ],
   "source": [
    "print('MSE train XGBoost con 45 features de acuerdo a la improtancia en randomforest=' , mean_squared_error(y_train,bst_train_pred, squared=False))\n",
    "print('MSE test XGBoost con 45 features de acuerdo a la improtancia en randomforest=' , mean_squared_error(y_test,bst_test_pred, squared=False))"
   ]
  },
  {
   "attachments": {},
   "cell_type": "markdown",
   "metadata": {},
   "source": [
    "#### MLP with keras tuner"
   ]
  },
  {
   "cell_type": "code",
   "execution_count": 105,
   "metadata": {},
   "outputs": [],
   "source": [
    "from tensorflow import keras\n",
    "from tensorflow.keras import layers\n",
    "from keras_tuner import Hyperband"
   ]
  },
  {
   "cell_type": "code",
   "execution_count": 99,
   "metadata": {},
   "outputs": [
    {
     "data": {
      "text/plain": [
       "(1168, 50)"
      ]
     },
     "execution_count": 99,
     "metadata": {},
     "output_type": "execute_result"
    }
   ],
   "source": [
    "X_train[:,feat_mask].shape"
   ]
  },
  {
   "cell_type": "code",
   "execution_count": 98,
   "metadata": {},
   "outputs": [],
   "source": [
    "input_shape=X_train[:,feat_mask].shape[1]"
   ]
  },
  {
   "cell_type": "code",
   "execution_count": 118,
   "metadata": {},
   "outputs": [],
   "source": [
    "def model_builder(hp):\n",
    "  model = keras.Sequential()\n",
    "  model.add(layers.Input(shape=input_shape))\n",
    "  #model.add(tf.keras.layers.Flatten(input_shape=(28, 28)))\n",
    "\n",
    "  # Tune the number of dense layers\n",
    "  for i in range(hp.Int('num_layers', 1, 10)):\n",
    "    \n",
    "    # Tune the number of units in the each dense layer\n",
    "    hp_units = hp.Int('units_'+str(i), min_value=32, max_value=512, step=16)\n",
    "    model.add(keras.layers.Dense(units=hp_units, activation='relu'))\n",
    "    \n",
    "    # Tune the dropout rate in the each dense layer\n",
    "    hp_dropout = hp.Float('rate', min_value=0.0, max_value=0.5, step=0.1)\n",
    "    model.add(keras.layers.Dropout(hp_dropout))\n",
    "    \n",
    "  # Add dense output layer\n",
    "  model.add(keras.layers.Dense(1))\n",
    "\n",
    "  # Tune the learning rate for the optimizer\n",
    "  hp_learning_rate = hp.Choice('learning_rate', values=[1e-2, 1e-3, 1e-4, 1e-5,1e-6])\n",
    "  model.compile(optimizer=keras.optimizers.Adam(learning_rate=hp_learning_rate),\n",
    "                loss='mse',\n",
    "                metrics=[keras.metrics.MeanSquaredError()])\n",
    "\n",
    "  return model"
   ]
  },
  {
   "cell_type": "code",
   "execution_count": 119,
   "metadata": {},
   "outputs": [],
   "source": [
    "tuner = Hyperband(model_builder,\n",
    "objective='val_mean_squared_error',\n",
    "max_epochs=10,\n",
    "factor=3,\n",
    "directory='mlp_keras_tuner',\n",
    "project_name='cuanto_salen_las_casitas',\n",
    "overwrite=True)"
   ]
  },
  {
   "cell_type": "code",
   "execution_count": 120,
   "metadata": {},
   "outputs": [
    {
     "name": "stdout",
     "output_type": "stream",
     "text": [
      "Trial 30 Complete [00h 00m 02s]\n",
      "val_mean_squared_error: 38548905984.0\n",
      "\n",
      "Best val_mean_squared_error So Far: 637510976.0\n",
      "Total elapsed time: 00h 01m 18s\n",
      "INFO:tensorflow:Oracle triggered exit\n"
     ]
    }
   ],
   "source": [
    "# Optimize the hyperparameter search for hypermodel\n",
    "tuner.search(X_train[:,feat_mask], y_train, epochs=100, validation_split=0.2)\n",
    "\n",
    "# Get the optimal hyperparameters\n",
    "best_hps=tuner.get_best_hyperparameters(num_trials=1)[0]"
   ]
  },
  {
   "cell_type": "code",
   "execution_count": null,
   "metadata": {},
   "outputs": [],
   "source": [
    "model = tuner.hypermodel.build(best_hps)"
   ]
  },
  {
   "cell_type": "code",
   "execution_count": 122,
   "metadata": {},
   "outputs": [
    {
     "name": "stdout",
     "output_type": "stream",
     "text": [
      "Model: \"sequential_1\"\n",
      "_________________________________________________________________\n",
      " Layer (type)                Output Shape              Param #   \n",
      "=================================================================\n",
      " dense_2 (Dense)             (None, 736)               37536     \n",
      "                                                                 \n",
      " dropout_1 (Dropout)         (None, 736)               0         \n",
      "                                                                 \n",
      " dense_3 (Dense)             (None, 640)               471680    \n",
      "                                                                 \n",
      " dropout_2 (Dropout)         (None, 640)               0         \n",
      "                                                                 \n",
      " dense_4 (Dense)             (None, 576)               369216    \n",
      "                                                                 \n",
      " dropout_3 (Dropout)         (None, 576)               0         \n",
      "                                                                 \n",
      " dense_5 (Dense)             (None, 672)               387744    \n",
      "                                                                 \n",
      " dropout_4 (Dropout)         (None, 672)               0         \n",
      "                                                                 \n",
      " dense_6 (Dense)             (None, 1)                 673       \n",
      "                                                                 \n",
      "=================================================================\n",
      "Total params: 1,266,849\n",
      "Trainable params: 1,266,849\n",
      "Non-trainable params: 0\n",
      "_________________________________________________________________\n"
     ]
    }
   ],
   "source": [
    "model.summary()"
   ]
  },
  {
   "cell_type": "code",
   "execution_count": 125,
   "metadata": {},
   "outputs": [],
   "source": [
    "cp2 = keras.callbacks.ModelCheckpoint('/home/manuelquiros/Documents/Kaggle/House_Prices/mlp_keras_tuner', save_best_only=True)\n",
    "log_dir2 = \"mlp_keras_tuner/logs/fit/\"\n",
    "tb2 = keras.callbacks.TensorBoard(log_dir=log_dir2, histogram_freq=1)\n",
    "es2 = keras.callbacks.EarlyStopping(monitor='root_mean_squared_error', patience=30)\n",
    "lr = keras.callbacks.ReduceLROnPlateau(monitor='root_mean_squared_error', factor=0.2,patience=15, min_lr=0.00000001)"
   ]
  },
  {
   "cell_type": "code",
   "execution_count": 126,
   "metadata": {},
   "outputs": [
    {
     "name": "stdout",
     "output_type": "stream",
     "text": [
      "Epoch 1/100\n",
      "28/30 [===========================>..] - ETA: 0s - loss: 2871169792.0000 - mean_squared_error: 2871169792.0000"
     ]
    },
    {
     "name": "stderr",
     "output_type": "stream",
     "text": [
      "2023-04-17 10:36:08.597335: I tensorflow/core/common_runtime/executor.cc:1197] [/device:CPU:0] (DEBUG INFO) Executor start aborting (this does not indicate an error and you can ignore this message): INVALID_ARGUMENT: You must feed a value for placeholder tensor 'inputs' with dtype float and shape [?,736]\n",
      "\t [[{{node inputs}}]]\n",
      "2023-04-17 10:36:08.609197: I tensorflow/core/common_runtime/executor.cc:1197] [/device:CPU:0] (DEBUG INFO) Executor start aborting (this does not indicate an error and you can ignore this message): INVALID_ARGUMENT: You must feed a value for placeholder tensor 'inputs' with dtype float and shape [?,640]\n",
      "\t [[{{node inputs}}]]\n",
      "2023-04-17 10:36:08.622546: I tensorflow/core/common_runtime/executor.cc:1197] [/device:CPU:0] (DEBUG INFO) Executor start aborting (this does not indicate an error and you can ignore this message): INVALID_ARGUMENT: You must feed a value for placeholder tensor 'inputs' with dtype float and shape [?,576]\n",
      "\t [[{{node inputs}}]]\n",
      "2023-04-17 10:36:08.635704: I tensorflow/core/common_runtime/executor.cc:1197] [/device:CPU:0] (DEBUG INFO) Executor start aborting (this does not indicate an error and you can ignore this message): INVALID_ARGUMENT: You must feed a value for placeholder tensor 'inputs' with dtype float and shape [?,672]\n",
      "\t [[{{node inputs}}]]\n",
      "2023-04-17 10:36:08.826955: I tensorflow/core/common_runtime/executor.cc:1197] [/device:CPU:0] (DEBUG INFO) Executor start aborting (this does not indicate an error and you can ignore this message): INVALID_ARGUMENT: You must feed a value for placeholder tensor 'inputs' with dtype float and shape [?,736]\n",
      "\t [[{{node inputs}}]]\n",
      "2023-04-17 10:36:08.863495: I tensorflow/core/common_runtime/executor.cc:1197] [/device:CPU:0] (DEBUG INFO) Executor start aborting (this does not indicate an error and you can ignore this message): INVALID_ARGUMENT: You must feed a value for placeholder tensor 'inputs' with dtype float and shape [?,640]\n",
      "\t [[{{node inputs}}]]\n",
      "2023-04-17 10:36:08.892702: I tensorflow/core/common_runtime/executor.cc:1197] [/device:CPU:0] (DEBUG INFO) Executor start aborting (this does not indicate an error and you can ignore this message): INVALID_ARGUMENT: You must feed a value for placeholder tensor 'inputs' with dtype float and shape [?,576]\n",
      "\t [[{{node inputs}}]]\n",
      "2023-04-17 10:36:08.920995: I tensorflow/core/common_runtime/executor.cc:1197] [/device:CPU:0] (DEBUG INFO) Executor start aborting (this does not indicate an error and you can ignore this message): INVALID_ARGUMENT: You must feed a value for placeholder tensor 'inputs' with dtype float and shape [?,672]\n",
      "\t [[{{node inputs}}]]\n",
      "WARNING:absl:Found untraced functions such as _update_step_xla while saving (showing 1 of 1). These functions will not be directly callable after loading.\n"
     ]
    },
    {
     "name": "stdout",
     "output_type": "stream",
     "text": [
      "INFO:tensorflow:Assets written to: /home/manuelquiros/Documents/Kaggle/House_Prices/mlp_keras_tuner/assets\n"
     ]
    },
    {
     "name": "stderr",
     "output_type": "stream",
     "text": [
      "INFO:tensorflow:Assets written to: /home/manuelquiros/Documents/Kaggle/House_Prices/mlp_keras_tuner/assets\n"
     ]
    },
    {
     "name": "stdout",
     "output_type": "stream",
     "text": [
      "WARNING:tensorflow:Learning rate reduction is conditioned on metric `root_mean_squared_error` which is not available. Available metrics are: loss,mean_squared_error,val_loss,val_mean_squared_error,lr\n"
     ]
    },
    {
     "name": "stderr",
     "output_type": "stream",
     "text": [
      "WARNING:tensorflow:Learning rate reduction is conditioned on metric `root_mean_squared_error` which is not available. Available metrics are: loss,mean_squared_error,val_loss,val_mean_squared_error,lr\n"
     ]
    },
    {
     "name": "stdout",
     "output_type": "stream",
     "text": [
      "30/30 [==============================] - 1s 44ms/step - loss: 2777112576.0000 - mean_squared_error: 2777112576.0000 - val_loss: 1440403200.0000 - val_mean_squared_error: 1440403200.0000 - lr: 0.0100\n",
      "Epoch 2/100\n",
      "27/30 [==========================>...] - ETA: 0s - loss: 736851968.0000 - mean_squared_error: 736851968.0000"
     ]
    },
    {
     "name": "stderr",
     "output_type": "stream",
     "text": [
      "2023-04-17 10:36:09.781369: I tensorflow/core/common_runtime/executor.cc:1197] [/device:CPU:0] (DEBUG INFO) Executor start aborting (this does not indicate an error and you can ignore this message): INVALID_ARGUMENT: You must feed a value for placeholder tensor 'inputs' with dtype float and shape [?,736]\n",
      "\t [[{{node inputs}}]]\n",
      "2023-04-17 10:36:09.793325: I tensorflow/core/common_runtime/executor.cc:1197] [/device:CPU:0] (DEBUG INFO) Executor start aborting (this does not indicate an error and you can ignore this message): INVALID_ARGUMENT: You must feed a value for placeholder tensor 'inputs' with dtype float and shape [?,640]\n",
      "\t [[{{node inputs}}]]\n",
      "2023-04-17 10:36:09.805946: I tensorflow/core/common_runtime/executor.cc:1197] [/device:CPU:0] (DEBUG INFO) Executor start aborting (this does not indicate an error and you can ignore this message): INVALID_ARGUMENT: You must feed a value for placeholder tensor 'inputs' with dtype float and shape [?,576]\n",
      "\t [[{{node inputs}}]]\n",
      "2023-04-17 10:36:09.819971: I tensorflow/core/common_runtime/executor.cc:1197] [/device:CPU:0] (DEBUG INFO) Executor start aborting (this does not indicate an error and you can ignore this message): INVALID_ARGUMENT: You must feed a value for placeholder tensor 'inputs' with dtype float and shape [?,672]\n",
      "\t [[{{node inputs}}]]\n",
      "2023-04-17 10:36:09.964340: I tensorflow/core/common_runtime/executor.cc:1197] [/device:CPU:0] (DEBUG INFO) Executor start aborting (this does not indicate an error and you can ignore this message): INVALID_ARGUMENT: You must feed a value for placeholder tensor 'inputs' with dtype float and shape [?,736]\n",
      "\t [[{{node inputs}}]]\n",
      "2023-04-17 10:36:09.986245: I tensorflow/core/common_runtime/executor.cc:1197] [/device:CPU:0] (DEBUG INFO) Executor start aborting (this does not indicate an error and you can ignore this message): INVALID_ARGUMENT: You must feed a value for placeholder tensor 'inputs' with dtype float and shape [?,640]\n",
      "\t [[{{node inputs}}]]\n",
      "2023-04-17 10:36:10.009933: I tensorflow/core/common_runtime/executor.cc:1197] [/device:CPU:0] (DEBUG INFO) Executor start aborting (this does not indicate an error and you can ignore this message): INVALID_ARGUMENT: You must feed a value for placeholder tensor 'inputs' with dtype float and shape [?,576]\n",
      "\t [[{{node inputs}}]]\n",
      "2023-04-17 10:36:10.038360: I tensorflow/core/common_runtime/executor.cc:1197] [/device:CPU:0] (DEBUG INFO) Executor start aborting (this does not indicate an error and you can ignore this message): INVALID_ARGUMENT: You must feed a value for placeholder tensor 'inputs' with dtype float and shape [?,672]\n",
      "\t [[{{node inputs}}]]\n",
      "WARNING:absl:Found untraced functions such as _update_step_xla while saving (showing 1 of 1). These functions will not be directly callable after loading.\n"
     ]
    },
    {
     "name": "stdout",
     "output_type": "stream",
     "text": [
      "INFO:tensorflow:Assets written to: /home/manuelquiros/Documents/Kaggle/House_Prices/mlp_keras_tuner/assets\n"
     ]
    },
    {
     "name": "stderr",
     "output_type": "stream",
     "text": [
      "INFO:tensorflow:Assets written to: /home/manuelquiros/Documents/Kaggle/House_Prices/mlp_keras_tuner/assets\n"
     ]
    },
    {
     "name": "stdout",
     "output_type": "stream",
     "text": [
      "WARNING:tensorflow:Learning rate reduction is conditioned on metric `root_mean_squared_error` which is not available. Available metrics are: loss,mean_squared_error,val_loss,val_mean_squared_error,lr\n"
     ]
    },
    {
     "name": "stderr",
     "output_type": "stream",
     "text": [
      "WARNING:tensorflow:Learning rate reduction is conditioned on metric `root_mean_squared_error` which is not available. Available metrics are: loss,mean_squared_error,val_loss,val_mean_squared_error,lr\n"
     ]
    },
    {
     "name": "stdout",
     "output_type": "stream",
     "text": [
      "30/30 [==============================] - 1s 35ms/step - loss: 732206208.0000 - mean_squared_error: 732206208.0000 - val_loss: 845799552.0000 - val_mean_squared_error: 845799552.0000 - lr: 0.0100\n",
      "Epoch 3/100\n",
      "26/30 [=========================>....] - ETA: 0s - loss: 532105920.0000 - mean_squared_error: 532105920.0000WARNING:tensorflow:Learning rate reduction is conditioned on metric `root_mean_squared_error` which is not available. Available metrics are: loss,mean_squared_error,val_loss,val_mean_squared_error,lr\n"
     ]
    },
    {
     "name": "stderr",
     "output_type": "stream",
     "text": [
      "WARNING:tensorflow:Learning rate reduction is conditioned on metric `root_mean_squared_error` which is not available. Available metrics are: loss,mean_squared_error,val_loss,val_mean_squared_error,lr\n"
     ]
    },
    {
     "name": "stdout",
     "output_type": "stream",
     "text": [
      "30/30 [==============================] - 0s 11ms/step - loss: 517263328.0000 - mean_squared_error: 517263328.0000 - val_loss: 993443968.0000 - val_mean_squared_error: 993443968.0000 - lr: 0.0100\n",
      "Epoch 4/100\n",
      "25/30 [========================>.....] - ETA: 0s - loss: 606586624.0000 - mean_squared_error: 606586624.0000WARNING:tensorflow:Learning rate reduction is conditioned on metric `root_mean_squared_error` which is not available. Available metrics are: loss,mean_squared_error,val_loss,val_mean_squared_error,lr\n"
     ]
    },
    {
     "name": "stderr",
     "output_type": "stream",
     "text": [
      "WARNING:tensorflow:Learning rate reduction is conditioned on metric `root_mean_squared_error` which is not available. Available metrics are: loss,mean_squared_error,val_loss,val_mean_squared_error,lr\n"
     ]
    },
    {
     "name": "stdout",
     "output_type": "stream",
     "text": [
      "30/30 [==============================] - 0s 11ms/step - loss: 598085184.0000 - mean_squared_error: 598085184.0000 - val_loss: 951141760.0000 - val_mean_squared_error: 951141760.0000 - lr: 0.0100\n",
      "Epoch 5/100\n",
      "26/30 [=========================>....] - ETA: 0s - loss: 356300128.0000 - mean_squared_error: 356300128.0000"
     ]
    },
    {
     "name": "stderr",
     "output_type": "stream",
     "text": [
      "2023-04-17 10:36:11.406871: I tensorflow/core/common_runtime/executor.cc:1197] [/device:CPU:0] (DEBUG INFO) Executor start aborting (this does not indicate an error and you can ignore this message): INVALID_ARGUMENT: You must feed a value for placeholder tensor 'inputs' with dtype float and shape [?,736]\n",
      "\t [[{{node inputs}}]]\n",
      "2023-04-17 10:36:11.418683: I tensorflow/core/common_runtime/executor.cc:1197] [/device:CPU:0] (DEBUG INFO) Executor start aborting (this does not indicate an error and you can ignore this message): INVALID_ARGUMENT: You must feed a value for placeholder tensor 'inputs' with dtype float and shape [?,640]\n",
      "\t [[{{node inputs}}]]\n",
      "2023-04-17 10:36:11.426880: I tensorflow/core/common_runtime/executor.cc:1197] [/device:CPU:0] (DEBUG INFO) Executor start aborting (this does not indicate an error and you can ignore this message): INVALID_ARGUMENT: You must feed a value for placeholder tensor 'inputs' with dtype float and shape [?,576]\n",
      "\t [[{{node inputs}}]]\n",
      "2023-04-17 10:36:11.435300: I tensorflow/core/common_runtime/executor.cc:1197] [/device:CPU:0] (DEBUG INFO) Executor start aborting (this does not indicate an error and you can ignore this message): INVALID_ARGUMENT: You must feed a value for placeholder tensor 'inputs' with dtype float and shape [?,672]\n",
      "\t [[{{node inputs}}]]\n",
      "2023-04-17 10:36:11.570985: I tensorflow/core/common_runtime/executor.cc:1197] [/device:CPU:0] (DEBUG INFO) Executor start aborting (this does not indicate an error and you can ignore this message): INVALID_ARGUMENT: You must feed a value for placeholder tensor 'inputs' with dtype float and shape [?,736]\n",
      "\t [[{{node inputs}}]]\n",
      "2023-04-17 10:36:11.592461: I tensorflow/core/common_runtime/executor.cc:1197] [/device:CPU:0] (DEBUG INFO) Executor start aborting (this does not indicate an error and you can ignore this message): INVALID_ARGUMENT: You must feed a value for placeholder tensor 'inputs' with dtype float and shape [?,640]\n",
      "\t [[{{node inputs}}]]\n",
      "2023-04-17 10:36:11.617440: I tensorflow/core/common_runtime/executor.cc:1197] [/device:CPU:0] (DEBUG INFO) Executor start aborting (this does not indicate an error and you can ignore this message): INVALID_ARGUMENT: You must feed a value for placeholder tensor 'inputs' with dtype float and shape [?,576]\n",
      "\t [[{{node inputs}}]]\n",
      "2023-04-17 10:36:11.642642: I tensorflow/core/common_runtime/executor.cc:1197] [/device:CPU:0] (DEBUG INFO) Executor start aborting (this does not indicate an error and you can ignore this message): INVALID_ARGUMENT: You must feed a value for placeholder tensor 'inputs' with dtype float and shape [?,672]\n",
      "\t [[{{node inputs}}]]\n",
      "WARNING:absl:Found untraced functions such as _update_step_xla while saving (showing 1 of 1). These functions will not be directly callable after loading.\n"
     ]
    },
    {
     "name": "stdout",
     "output_type": "stream",
     "text": [
      "INFO:tensorflow:Assets written to: /home/manuelquiros/Documents/Kaggle/House_Prices/mlp_keras_tuner/assets\n"
     ]
    },
    {
     "name": "stderr",
     "output_type": "stream",
     "text": [
      "INFO:tensorflow:Assets written to: /home/manuelquiros/Documents/Kaggle/House_Prices/mlp_keras_tuner/assets\n"
     ]
    },
    {
     "name": "stdout",
     "output_type": "stream",
     "text": [
      "WARNING:tensorflow:Learning rate reduction is conditioned on metric `root_mean_squared_error` which is not available. Available metrics are: loss,mean_squared_error,val_loss,val_mean_squared_error,lr\n"
     ]
    },
    {
     "name": "stderr",
     "output_type": "stream",
     "text": [
      "WARNING:tensorflow:Learning rate reduction is conditioned on metric `root_mean_squared_error` which is not available. Available metrics are: loss,mean_squared_error,val_loss,val_mean_squared_error,lr\n"
     ]
    },
    {
     "name": "stdout",
     "output_type": "stream",
     "text": [
      "30/30 [==============================] - 1s 32ms/step - loss: 362434752.0000 - mean_squared_error: 362434752.0000 - val_loss: 792911424.0000 - val_mean_squared_error: 792911424.0000 - lr: 0.0100\n",
      "Epoch 6/100\n",
      "26/30 [=========================>....] - ETA: 0s - loss: 618436224.0000 - mean_squared_error: 618436224.0000WARNING:tensorflow:Learning rate reduction is conditioned on metric `root_mean_squared_error` which is not available. Available metrics are: loss,mean_squared_error,val_loss,val_mean_squared_error,lr\n"
     ]
    },
    {
     "name": "stderr",
     "output_type": "stream",
     "text": [
      "WARNING:tensorflow:Learning rate reduction is conditioned on metric `root_mean_squared_error` which is not available. Available metrics are: loss,mean_squared_error,val_loss,val_mean_squared_error,lr\n"
     ]
    },
    {
     "name": "stdout",
     "output_type": "stream",
     "text": [
      "30/30 [==============================] - 0s 11ms/step - loss: 594750272.0000 - mean_squared_error: 594750272.0000 - val_loss: 919857856.0000 - val_mean_squared_error: 919857856.0000 - lr: 0.0100\n",
      "Epoch 7/100\n",
      "24/30 [=======================>......] - ETA: 0s - loss: 485886112.0000 - mean_squared_error: 485886112.0000"
     ]
    },
    {
     "name": "stderr",
     "output_type": "stream",
     "text": [
      "2023-04-17 10:36:12.713248: I tensorflow/core/common_runtime/executor.cc:1197] [/device:CPU:0] (DEBUG INFO) Executor start aborting (this does not indicate an error and you can ignore this message): INVALID_ARGUMENT: You must feed a value for placeholder tensor 'inputs' with dtype float and shape [?,736]\n",
      "\t [[{{node inputs}}]]\n",
      "2023-04-17 10:36:12.723875: I tensorflow/core/common_runtime/executor.cc:1197] [/device:CPU:0] (DEBUG INFO) Executor start aborting (this does not indicate an error and you can ignore this message): INVALID_ARGUMENT: You must feed a value for placeholder tensor 'inputs' with dtype float and shape [?,640]\n",
      "\t [[{{node inputs}}]]\n",
      "2023-04-17 10:36:12.736118: I tensorflow/core/common_runtime/executor.cc:1197] [/device:CPU:0] (DEBUG INFO) Executor start aborting (this does not indicate an error and you can ignore this message): INVALID_ARGUMENT: You must feed a value for placeholder tensor 'inputs' with dtype float and shape [?,576]\n",
      "\t [[{{node inputs}}]]\n",
      "2023-04-17 10:36:12.746624: I tensorflow/core/common_runtime/executor.cc:1197] [/device:CPU:0] (DEBUG INFO) Executor start aborting (this does not indicate an error and you can ignore this message): INVALID_ARGUMENT: You must feed a value for placeholder tensor 'inputs' with dtype float and shape [?,672]\n",
      "\t [[{{node inputs}}]]\n",
      "2023-04-17 10:36:13.139382: I tensorflow/core/common_runtime/executor.cc:1197] [/device:CPU:0] (DEBUG INFO) Executor start aborting (this does not indicate an error and you can ignore this message): INVALID_ARGUMENT: You must feed a value for placeholder tensor 'inputs' with dtype float and shape [?,736]\n",
      "\t [[{{node inputs}}]]\n",
      "2023-04-17 10:36:13.166367: I tensorflow/core/common_runtime/executor.cc:1197] [/device:CPU:0] (DEBUG INFO) Executor start aborting (this does not indicate an error and you can ignore this message): INVALID_ARGUMENT: You must feed a value for placeholder tensor 'inputs' with dtype float and shape [?,640]\n",
      "\t [[{{node inputs}}]]\n",
      "2023-04-17 10:36:13.193444: I tensorflow/core/common_runtime/executor.cc:1197] [/device:CPU:0] (DEBUG INFO) Executor start aborting (this does not indicate an error and you can ignore this message): INVALID_ARGUMENT: You must feed a value for placeholder tensor 'inputs' with dtype float and shape [?,576]\n",
      "\t [[{{node inputs}}]]\n",
      "2023-04-17 10:36:13.217996: I tensorflow/core/common_runtime/executor.cc:1197] [/device:CPU:0] (DEBUG INFO) Executor start aborting (this does not indicate an error and you can ignore this message): INVALID_ARGUMENT: You must feed a value for placeholder tensor 'inputs' with dtype float and shape [?,672]\n",
      "\t [[{{node inputs}}]]\n",
      "WARNING:absl:Found untraced functions such as _update_step_xla while saving (showing 1 of 1). These functions will not be directly callable after loading.\n"
     ]
    },
    {
     "name": "stdout",
     "output_type": "stream",
     "text": [
      "INFO:tensorflow:Assets written to: /home/manuelquiros/Documents/Kaggle/House_Prices/mlp_keras_tuner/assets\n"
     ]
    },
    {
     "name": "stderr",
     "output_type": "stream",
     "text": [
      "INFO:tensorflow:Assets written to: /home/manuelquiros/Documents/Kaggle/House_Prices/mlp_keras_tuner/assets\n"
     ]
    },
    {
     "name": "stdout",
     "output_type": "stream",
     "text": [
      "WARNING:tensorflow:Learning rate reduction is conditioned on metric `root_mean_squared_error` which is not available. Available metrics are: loss,mean_squared_error,val_loss,val_mean_squared_error,lr\n"
     ]
    },
    {
     "name": "stderr",
     "output_type": "stream",
     "text": [
      "WARNING:tensorflow:Learning rate reduction is conditioned on metric `root_mean_squared_error` which is not available. Available metrics are: loss,mean_squared_error,val_loss,val_mean_squared_error,lr\n"
     ]
    },
    {
     "name": "stdout",
     "output_type": "stream",
     "text": [
      "30/30 [==============================] - 1s 44ms/step - loss: 461197664.0000 - mean_squared_error: 461197664.0000 - val_loss: 678435456.0000 - val_mean_squared_error: 678435456.0000 - lr: 0.0100\n",
      "Epoch 8/100\n",
      "28/30 [===========================>..] - ETA: 0s - loss: 644522880.0000 - mean_squared_error: 644522880.0000WARNING:tensorflow:Learning rate reduction is conditioned on metric `root_mean_squared_error` which is not available. Available metrics are: loss,mean_squared_error,val_loss,val_mean_squared_error,lr\n"
     ]
    },
    {
     "name": "stderr",
     "output_type": "stream",
     "text": [
      "WARNING:tensorflow:Learning rate reduction is conditioned on metric `root_mean_squared_error` which is not available. Available metrics are: loss,mean_squared_error,val_loss,val_mean_squared_error,lr\n"
     ]
    },
    {
     "name": "stdout",
     "output_type": "stream",
     "text": [
      "30/30 [==============================] - 0s 10ms/step - loss: 660182784.0000 - mean_squared_error: 660182784.0000 - val_loss: 1038501440.0000 - val_mean_squared_error: 1038501440.0000 - lr: 0.0100\n",
      "Epoch 9/100\n",
      "25/30 [========================>.....] - ETA: 0s - loss: 515165824.0000 - mean_squared_error: 515165824.0000WARNING:tensorflow:Learning rate reduction is conditioned on metric `root_mean_squared_error` which is not available. Available metrics are: loss,mean_squared_error,val_loss,val_mean_squared_error,lr\n"
     ]
    },
    {
     "name": "stderr",
     "output_type": "stream",
     "text": [
      "WARNING:tensorflow:Learning rate reduction is conditioned on metric `root_mean_squared_error` which is not available. Available metrics are: loss,mean_squared_error,val_loss,val_mean_squared_error,lr\n"
     ]
    },
    {
     "name": "stdout",
     "output_type": "stream",
     "text": [
      "30/30 [==============================] - 0s 11ms/step - loss: 479768416.0000 - mean_squared_error: 479768416.0000 - val_loss: 773540096.0000 - val_mean_squared_error: 773540096.0000 - lr: 0.0100\n",
      "Epoch 10/100\n",
      "25/30 [========================>.....] - ETA: 0s - loss: 424168064.0000 - mean_squared_error: 424168064.0000WARNING:tensorflow:Learning rate reduction is conditioned on metric `root_mean_squared_error` which is not available. Available metrics are: loss,mean_squared_error,val_loss,val_mean_squared_error,lr\n"
     ]
    },
    {
     "name": "stderr",
     "output_type": "stream",
     "text": [
      "WARNING:tensorflow:Learning rate reduction is conditioned on metric `root_mean_squared_error` which is not available. Available metrics are: loss,mean_squared_error,val_loss,val_mean_squared_error,lr\n"
     ]
    },
    {
     "name": "stdout",
     "output_type": "stream",
     "text": [
      "30/30 [==============================] - 0s 12ms/step - loss: 423686400.0000 - mean_squared_error: 423686400.0000 - val_loss: 1024411968.0000 - val_mean_squared_error: 1024411968.0000 - lr: 0.0100\n",
      "Epoch 11/100\n",
      "25/30 [========================>.....] - ETA: 0s - loss: 463946464.0000 - mean_squared_error: 463946464.0000WARNING:tensorflow:Learning rate reduction is conditioned on metric `root_mean_squared_error` which is not available. Available metrics are: loss,mean_squared_error,val_loss,val_mean_squared_error,lr\n"
     ]
    },
    {
     "name": "stderr",
     "output_type": "stream",
     "text": [
      "WARNING:tensorflow:Learning rate reduction is conditioned on metric `root_mean_squared_error` which is not available. Available metrics are: loss,mean_squared_error,val_loss,val_mean_squared_error,lr\n"
     ]
    },
    {
     "name": "stdout",
     "output_type": "stream",
     "text": [
      "30/30 [==============================] - 0s 11ms/step - loss: 449673184.0000 - mean_squared_error: 449673184.0000 - val_loss: 698680960.0000 - val_mean_squared_error: 698680960.0000 - lr: 0.0100\n",
      "Epoch 12/100\n",
      "26/30 [=========================>....] - ETA: 0s - loss: 498604896.0000 - mean_squared_error: 498604896.0000"
     ]
    },
    {
     "name": "stderr",
     "output_type": "stream",
     "text": [
      "2023-04-17 10:36:15.272717: I tensorflow/core/common_runtime/executor.cc:1197] [/device:CPU:0] (DEBUG INFO) Executor start aborting (this does not indicate an error and you can ignore this message): INVALID_ARGUMENT: You must feed a value for placeholder tensor 'inputs' with dtype float and shape [?,736]\n",
      "\t [[{{node inputs}}]]\n",
      "2023-04-17 10:36:15.281814: I tensorflow/core/common_runtime/executor.cc:1197] [/device:CPU:0] (DEBUG INFO) Executor start aborting (this does not indicate an error and you can ignore this message): INVALID_ARGUMENT: You must feed a value for placeholder tensor 'inputs' with dtype float and shape [?,640]\n",
      "\t [[{{node inputs}}]]\n",
      "2023-04-17 10:36:15.290956: I tensorflow/core/common_runtime/executor.cc:1197] [/device:CPU:0] (DEBUG INFO) Executor start aborting (this does not indicate an error and you can ignore this message): INVALID_ARGUMENT: You must feed a value for placeholder tensor 'inputs' with dtype float and shape [?,576]\n",
      "\t [[{{node inputs}}]]\n",
      "2023-04-17 10:36:15.301975: I tensorflow/core/common_runtime/executor.cc:1197] [/device:CPU:0] (DEBUG INFO) Executor start aborting (this does not indicate an error and you can ignore this message): INVALID_ARGUMENT: You must feed a value for placeholder tensor 'inputs' with dtype float and shape [?,672]\n",
      "\t [[{{node inputs}}]]\n",
      "2023-04-17 10:36:15.436821: I tensorflow/core/common_runtime/executor.cc:1197] [/device:CPU:0] (DEBUG INFO) Executor start aborting (this does not indicate an error and you can ignore this message): INVALID_ARGUMENT: You must feed a value for placeholder tensor 'inputs' with dtype float and shape [?,736]\n",
      "\t [[{{node inputs}}]]\n",
      "2023-04-17 10:36:15.459711: I tensorflow/core/common_runtime/executor.cc:1197] [/device:CPU:0] (DEBUG INFO) Executor start aborting (this does not indicate an error and you can ignore this message): INVALID_ARGUMENT: You must feed a value for placeholder tensor 'inputs' with dtype float and shape [?,640]\n",
      "\t [[{{node inputs}}]]\n",
      "2023-04-17 10:36:15.480465: I tensorflow/core/common_runtime/executor.cc:1197] [/device:CPU:0] (DEBUG INFO) Executor start aborting (this does not indicate an error and you can ignore this message): INVALID_ARGUMENT: You must feed a value for placeholder tensor 'inputs' with dtype float and shape [?,576]\n",
      "\t [[{{node inputs}}]]\n",
      "2023-04-17 10:36:15.503555: I tensorflow/core/common_runtime/executor.cc:1197] [/device:CPU:0] (DEBUG INFO) Executor start aborting (this does not indicate an error and you can ignore this message): INVALID_ARGUMENT: You must feed a value for placeholder tensor 'inputs' with dtype float and shape [?,672]\n",
      "\t [[{{node inputs}}]]\n",
      "WARNING:absl:Found untraced functions such as _update_step_xla while saving (showing 1 of 1). These functions will not be directly callable after loading.\n"
     ]
    },
    {
     "name": "stdout",
     "output_type": "stream",
     "text": [
      "INFO:tensorflow:Assets written to: /home/manuelquiros/Documents/Kaggle/House_Prices/mlp_keras_tuner/assets\n"
     ]
    },
    {
     "name": "stderr",
     "output_type": "stream",
     "text": [
      "INFO:tensorflow:Assets written to: /home/manuelquiros/Documents/Kaggle/House_Prices/mlp_keras_tuner/assets\n"
     ]
    },
    {
     "name": "stdout",
     "output_type": "stream",
     "text": [
      "WARNING:tensorflow:Learning rate reduction is conditioned on metric `root_mean_squared_error` which is not available. Available metrics are: loss,mean_squared_error,val_loss,val_mean_squared_error,lr\n"
     ]
    },
    {
     "name": "stderr",
     "output_type": "stream",
     "text": [
      "WARNING:tensorflow:Learning rate reduction is conditioned on metric `root_mean_squared_error` which is not available. Available metrics are: loss,mean_squared_error,val_loss,val_mean_squared_error,lr\n"
     ]
    },
    {
     "name": "stdout",
     "output_type": "stream",
     "text": [
      "30/30 [==============================] - 1s 32ms/step - loss: 516196640.0000 - mean_squared_error: 516196640.0000 - val_loss: 632406976.0000 - val_mean_squared_error: 632406976.0000 - lr: 0.0100\n",
      "Epoch 13/100\n",
      "26/30 [=========================>....] - ETA: 0s - loss: 670495616.0000 - mean_squared_error: 670495616.0000WARNING:tensorflow:Learning rate reduction is conditioned on metric `root_mean_squared_error` which is not available. Available metrics are: loss,mean_squared_error,val_loss,val_mean_squared_error,lr\n"
     ]
    },
    {
     "name": "stderr",
     "output_type": "stream",
     "text": [
      "WARNING:tensorflow:Learning rate reduction is conditioned on metric `root_mean_squared_error` which is not available. Available metrics are: loss,mean_squared_error,val_loss,val_mean_squared_error,lr\n"
     ]
    },
    {
     "name": "stdout",
     "output_type": "stream",
     "text": [
      "30/30 [==============================] - 0s 11ms/step - loss: 637376960.0000 - mean_squared_error: 637376960.0000 - val_loss: 787162880.0000 - val_mean_squared_error: 787162880.0000 - lr: 0.0100\n",
      "Epoch 14/100\n",
      "26/30 [=========================>....] - ETA: 0s - loss: 392564288.0000 - mean_squared_error: 392564288.0000WARNING:tensorflow:Learning rate reduction is conditioned on metric `root_mean_squared_error` which is not available. Available metrics are: loss,mean_squared_error,val_loss,val_mean_squared_error,lr\n"
     ]
    },
    {
     "name": "stderr",
     "output_type": "stream",
     "text": [
      "WARNING:tensorflow:Learning rate reduction is conditioned on metric `root_mean_squared_error` which is not available. Available metrics are: loss,mean_squared_error,val_loss,val_mean_squared_error,lr\n"
     ]
    },
    {
     "name": "stdout",
     "output_type": "stream",
     "text": [
      "30/30 [==============================] - 0s 11ms/step - loss: 381638592.0000 - mean_squared_error: 381638592.0000 - val_loss: 929530176.0000 - val_mean_squared_error: 929530176.0000 - lr: 0.0100\n",
      "Epoch 15/100\n",
      "28/30 [===========================>..] - ETA: 0s - loss: 352072544.0000 - mean_squared_error: 352072544.0000WARNING:tensorflow:Learning rate reduction is conditioned on metric `root_mean_squared_error` which is not available. Available metrics are: loss,mean_squared_error,val_loss,val_mean_squared_error,lr\n"
     ]
    },
    {
     "name": "stderr",
     "output_type": "stream",
     "text": [
      "WARNING:tensorflow:Learning rate reduction is conditioned on metric `root_mean_squared_error` which is not available. Available metrics are: loss,mean_squared_error,val_loss,val_mean_squared_error,lr\n"
     ]
    },
    {
     "name": "stdout",
     "output_type": "stream",
     "text": [
      "30/30 [==============================] - 0s 10ms/step - loss: 353499488.0000 - mean_squared_error: 353499488.0000 - val_loss: 642120896.0000 - val_mean_squared_error: 642120896.0000 - lr: 0.0100\n",
      "Epoch 16/100\n",
      "26/30 [=========================>....] - ETA: 0s - loss: 442878016.0000 - mean_squared_error: 442878016.0000WARNING:tensorflow:Learning rate reduction is conditioned on metric `root_mean_squared_error` which is not available. Available metrics are: loss,mean_squared_error,val_loss,val_mean_squared_error,lr\n"
     ]
    },
    {
     "name": "stderr",
     "output_type": "stream",
     "text": [
      "WARNING:tensorflow:Learning rate reduction is conditioned on metric `root_mean_squared_error` which is not available. Available metrics are: loss,mean_squared_error,val_loss,val_mean_squared_error,lr\n"
     ]
    },
    {
     "name": "stdout",
     "output_type": "stream",
     "text": [
      "30/30 [==============================] - 0s 11ms/step - loss: 440994720.0000 - mean_squared_error: 440994720.0000 - val_loss: 739439680.0000 - val_mean_squared_error: 739439680.0000 - lr: 0.0100\n",
      "Epoch 17/100\n",
      "28/30 [===========================>..] - ETA: 0s - loss: 359131296.0000 - mean_squared_error: 359131296.0000WARNING:tensorflow:Learning rate reduction is conditioned on metric `root_mean_squared_error` which is not available. Available metrics are: loss,mean_squared_error,val_loss,val_mean_squared_error,lr\n"
     ]
    },
    {
     "name": "stderr",
     "output_type": "stream",
     "text": [
      "WARNING:tensorflow:Learning rate reduction is conditioned on metric `root_mean_squared_error` which is not available. Available metrics are: loss,mean_squared_error,val_loss,val_mean_squared_error,lr\n"
     ]
    },
    {
     "name": "stdout",
     "output_type": "stream",
     "text": [
      "30/30 [==============================] - 0s 10ms/step - loss: 358956032.0000 - mean_squared_error: 358956032.0000 - val_loss: 783303424.0000 - val_mean_squared_error: 783303424.0000 - lr: 0.0100\n",
      "Epoch 18/100\n",
      "28/30 [===========================>..] - ETA: 0s - loss: 353651040.0000 - mean_squared_error: 353651040.0000WARNING:tensorflow:Learning rate reduction is conditioned on metric `root_mean_squared_error` which is not available. Available metrics are: loss,mean_squared_error,val_loss,val_mean_squared_error,lr\n"
     ]
    },
    {
     "name": "stderr",
     "output_type": "stream",
     "text": [
      "WARNING:tensorflow:Learning rate reduction is conditioned on metric `root_mean_squared_error` which is not available. Available metrics are: loss,mean_squared_error,val_loss,val_mean_squared_error,lr\n"
     ]
    },
    {
     "name": "stdout",
     "output_type": "stream",
     "text": [
      "30/30 [==============================] - 0s 11ms/step - loss: 348438688.0000 - mean_squared_error: 348438688.0000 - val_loss: 656545728.0000 - val_mean_squared_error: 656545728.0000 - lr: 0.0100\n",
      "Epoch 19/100\n",
      "27/30 [==========================>...] - ETA: 0s - loss: 481702112.0000 - mean_squared_error: 481702112.0000WARNING:tensorflow:Learning rate reduction is conditioned on metric `root_mean_squared_error` which is not available. Available metrics are: loss,mean_squared_error,val_loss,val_mean_squared_error,lr\n"
     ]
    },
    {
     "name": "stderr",
     "output_type": "stream",
     "text": [
      "WARNING:tensorflow:Learning rate reduction is conditioned on metric `root_mean_squared_error` which is not available. Available metrics are: loss,mean_squared_error,val_loss,val_mean_squared_error,lr\n"
     ]
    },
    {
     "name": "stdout",
     "output_type": "stream",
     "text": [
      "30/30 [==============================] - 0s 11ms/step - loss: 470311712.0000 - mean_squared_error: 470311712.0000 - val_loss: 853918656.0000 - val_mean_squared_error: 853918656.0000 - lr: 0.0100\n",
      "Epoch 20/100\n",
      "27/30 [==========================>...] - ETA: 0s - loss: 370606656.0000 - mean_squared_error: 370606656.0000WARNING:tensorflow:Learning rate reduction is conditioned on metric `root_mean_squared_error` which is not available. Available metrics are: loss,mean_squared_error,val_loss,val_mean_squared_error,lr\n"
     ]
    },
    {
     "name": "stderr",
     "output_type": "stream",
     "text": [
      "WARNING:tensorflow:Learning rate reduction is conditioned on metric `root_mean_squared_error` which is not available. Available metrics are: loss,mean_squared_error,val_loss,val_mean_squared_error,lr\n"
     ]
    },
    {
     "name": "stdout",
     "output_type": "stream",
     "text": [
      "30/30 [==============================] - 0s 10ms/step - loss: 366909952.0000 - mean_squared_error: 366909952.0000 - val_loss: 771720000.0000 - val_mean_squared_error: 771720000.0000 - lr: 0.0100\n",
      "Epoch 21/100\n",
      "28/30 [===========================>..] - ETA: 0s - loss: 384551872.0000 - mean_squared_error: 384551872.0000WARNING:tensorflow:Learning rate reduction is conditioned on metric `root_mean_squared_error` which is not available. Available metrics are: loss,mean_squared_error,val_loss,val_mean_squared_error,lr\n"
     ]
    },
    {
     "name": "stderr",
     "output_type": "stream",
     "text": [
      "WARNING:tensorflow:Learning rate reduction is conditioned on metric `root_mean_squared_error` which is not available. Available metrics are: loss,mean_squared_error,val_loss,val_mean_squared_error,lr\n"
     ]
    },
    {
     "name": "stdout",
     "output_type": "stream",
     "text": [
      "30/30 [==============================] - 0s 11ms/step - loss: 381445952.0000 - mean_squared_error: 381445952.0000 - val_loss: 740963968.0000 - val_mean_squared_error: 740963968.0000 - lr: 0.0100\n",
      "Epoch 22/100\n",
      "25/30 [========================>.....] - ETA: 0s - loss: 491339168.0000 - mean_squared_error: 491339168.0000WARNING:tensorflow:Learning rate reduction is conditioned on metric `root_mean_squared_error` which is not available. Available metrics are: loss,mean_squared_error,val_loss,val_mean_squared_error,lr\n"
     ]
    },
    {
     "name": "stderr",
     "output_type": "stream",
     "text": [
      "WARNING:tensorflow:Learning rate reduction is conditioned on metric `root_mean_squared_error` which is not available. Available metrics are: loss,mean_squared_error,val_loss,val_mean_squared_error,lr\n"
     ]
    },
    {
     "name": "stdout",
     "output_type": "stream",
     "text": [
      "30/30 [==============================] - 0s 11ms/step - loss: 463403488.0000 - mean_squared_error: 463403488.0000 - val_loss: 945150656.0000 - val_mean_squared_error: 945150656.0000 - lr: 0.0100\n",
      "Epoch 23/100\n",
      "26/30 [=========================>....] - ETA: 0s - loss: 391295360.0000 - mean_squared_error: 391295360.0000WARNING:tensorflow:Learning rate reduction is conditioned on metric `root_mean_squared_error` which is not available. Available metrics are: loss,mean_squared_error,val_loss,val_mean_squared_error,lr\n"
     ]
    },
    {
     "name": "stderr",
     "output_type": "stream",
     "text": [
      "WARNING:tensorflow:Learning rate reduction is conditioned on metric `root_mean_squared_error` which is not available. Available metrics are: loss,mean_squared_error,val_loss,val_mean_squared_error,lr\n"
     ]
    },
    {
     "name": "stdout",
     "output_type": "stream",
     "text": [
      "30/30 [==============================] - 0s 11ms/step - loss: 378213728.0000 - mean_squared_error: 378213728.0000 - val_loss: 648176768.0000 - val_mean_squared_error: 648176768.0000 - lr: 0.0100\n",
      "Epoch 24/100\n",
      "28/30 [===========================>..] - ETA: 0s - loss: 375059648.0000 - mean_squared_error: 375059648.0000"
     ]
    },
    {
     "name": "stderr",
     "output_type": "stream",
     "text": [
      "2023-04-17 10:36:19.707763: I tensorflow/core/common_runtime/executor.cc:1197] [/device:CPU:0] (DEBUG INFO) Executor start aborting (this does not indicate an error and you can ignore this message): INVALID_ARGUMENT: You must feed a value for placeholder tensor 'inputs' with dtype float and shape [?,736]\n",
      "\t [[{{node inputs}}]]\n",
      "2023-04-17 10:36:19.718445: I tensorflow/core/common_runtime/executor.cc:1197] [/device:CPU:0] (DEBUG INFO) Executor start aborting (this does not indicate an error and you can ignore this message): INVALID_ARGUMENT: You must feed a value for placeholder tensor 'inputs' with dtype float and shape [?,640]\n",
      "\t [[{{node inputs}}]]\n",
      "2023-04-17 10:36:19.726761: I tensorflow/core/common_runtime/executor.cc:1197] [/device:CPU:0] (DEBUG INFO) Executor start aborting (this does not indicate an error and you can ignore this message): INVALID_ARGUMENT: You must feed a value for placeholder tensor 'inputs' with dtype float and shape [?,576]\n",
      "\t [[{{node inputs}}]]\n",
      "2023-04-17 10:36:19.735916: I tensorflow/core/common_runtime/executor.cc:1197] [/device:CPU:0] (DEBUG INFO) Executor start aborting (this does not indicate an error and you can ignore this message): INVALID_ARGUMENT: You must feed a value for placeholder tensor 'inputs' with dtype float and shape [?,672]\n",
      "\t [[{{node inputs}}]]\n",
      "2023-04-17 10:36:19.861308: I tensorflow/core/common_runtime/executor.cc:1197] [/device:CPU:0] (DEBUG INFO) Executor start aborting (this does not indicate an error and you can ignore this message): INVALID_ARGUMENT: You must feed a value for placeholder tensor 'inputs' with dtype float and shape [?,736]\n",
      "\t [[{{node inputs}}]]\n",
      "2023-04-17 10:36:19.883522: I tensorflow/core/common_runtime/executor.cc:1197] [/device:CPU:0] (DEBUG INFO) Executor start aborting (this does not indicate an error and you can ignore this message): INVALID_ARGUMENT: You must feed a value for placeholder tensor 'inputs' with dtype float and shape [?,640]\n",
      "\t [[{{node inputs}}]]\n",
      "2023-04-17 10:36:19.904104: I tensorflow/core/common_runtime/executor.cc:1197] [/device:CPU:0] (DEBUG INFO) Executor start aborting (this does not indicate an error and you can ignore this message): INVALID_ARGUMENT: You must feed a value for placeholder tensor 'inputs' with dtype float and shape [?,576]\n",
      "\t [[{{node inputs}}]]\n",
      "2023-04-17 10:36:19.928581: I tensorflow/core/common_runtime/executor.cc:1197] [/device:CPU:0] (DEBUG INFO) Executor start aborting (this does not indicate an error and you can ignore this message): INVALID_ARGUMENT: You must feed a value for placeholder tensor 'inputs' with dtype float and shape [?,672]\n",
      "\t [[{{node inputs}}]]\n",
      "WARNING:absl:Found untraced functions such as _update_step_xla while saving (showing 1 of 1). These functions will not be directly callable after loading.\n"
     ]
    },
    {
     "name": "stdout",
     "output_type": "stream",
     "text": [
      "INFO:tensorflow:Assets written to: /home/manuelquiros/Documents/Kaggle/House_Prices/mlp_keras_tuner/assets\n"
     ]
    },
    {
     "name": "stderr",
     "output_type": "stream",
     "text": [
      "INFO:tensorflow:Assets written to: /home/manuelquiros/Documents/Kaggle/House_Prices/mlp_keras_tuner/assets\n"
     ]
    },
    {
     "name": "stdout",
     "output_type": "stream",
     "text": [
      "WARNING:tensorflow:Learning rate reduction is conditioned on metric `root_mean_squared_error` which is not available. Available metrics are: loss,mean_squared_error,val_loss,val_mean_squared_error,lr\n"
     ]
    },
    {
     "name": "stderr",
     "output_type": "stream",
     "text": [
      "WARNING:tensorflow:Learning rate reduction is conditioned on metric `root_mean_squared_error` which is not available. Available metrics are: loss,mean_squared_error,val_loss,val_mean_squared_error,lr\n"
     ]
    },
    {
     "name": "stdout",
     "output_type": "stream",
     "text": [
      "30/30 [==============================] - 1s 32ms/step - loss: 375557760.0000 - mean_squared_error: 375557760.0000 - val_loss: 608222784.0000 - val_mean_squared_error: 608222784.0000 - lr: 0.0100\n",
      "Epoch 25/100\n",
      "28/30 [===========================>..] - ETA: 0s - loss: 348708864.0000 - mean_squared_error: 348708864.0000WARNING:tensorflow:Learning rate reduction is conditioned on metric `root_mean_squared_error` which is not available. Available metrics are: loss,mean_squared_error,val_loss,val_mean_squared_error,lr\n"
     ]
    },
    {
     "name": "stderr",
     "output_type": "stream",
     "text": [
      "WARNING:tensorflow:Learning rate reduction is conditioned on metric `root_mean_squared_error` which is not available. Available metrics are: loss,mean_squared_error,val_loss,val_mean_squared_error,lr\n"
     ]
    },
    {
     "name": "stdout",
     "output_type": "stream",
     "text": [
      "30/30 [==============================] - 0s 11ms/step - loss: 342600288.0000 - mean_squared_error: 342600288.0000 - val_loss: 677975232.0000 - val_mean_squared_error: 677975232.0000 - lr: 0.0100\n",
      "Epoch 26/100\n",
      "26/30 [=========================>....] - ETA: 0s - loss: 303648736.0000 - mean_squared_error: 303648736.0000WARNING:tensorflow:Learning rate reduction is conditioned on metric `root_mean_squared_error` which is not available. Available metrics are: loss,mean_squared_error,val_loss,val_mean_squared_error,lr\n"
     ]
    },
    {
     "name": "stderr",
     "output_type": "stream",
     "text": [
      "WARNING:tensorflow:Learning rate reduction is conditioned on metric `root_mean_squared_error` which is not available. Available metrics are: loss,mean_squared_error,val_loss,val_mean_squared_error,lr\n"
     ]
    },
    {
     "name": "stdout",
     "output_type": "stream",
     "text": [
      "30/30 [==============================] - 0s 11ms/step - loss: 298571200.0000 - mean_squared_error: 298571200.0000 - val_loss: 809981440.0000 - val_mean_squared_error: 809981440.0000 - lr: 0.0100\n",
      "Epoch 27/100\n",
      "26/30 [=========================>....] - ETA: 0s - loss: 398051968.0000 - mean_squared_error: 398051968.0000WARNING:tensorflow:Learning rate reduction is conditioned on metric `root_mean_squared_error` which is not available. Available metrics are: loss,mean_squared_error,val_loss,val_mean_squared_error,lr\n"
     ]
    },
    {
     "name": "stderr",
     "output_type": "stream",
     "text": [
      "WARNING:tensorflow:Learning rate reduction is conditioned on metric `root_mean_squared_error` which is not available. Available metrics are: loss,mean_squared_error,val_loss,val_mean_squared_error,lr\n"
     ]
    },
    {
     "name": "stdout",
     "output_type": "stream",
     "text": [
      "30/30 [==============================] - 0s 11ms/step - loss: 404121536.0000 - mean_squared_error: 404121536.0000 - val_loss: 724049920.0000 - val_mean_squared_error: 724049920.0000 - lr: 0.0100\n",
      "Epoch 28/100\n",
      "22/30 [=====================>........] - ETA: 0s - loss: 448568832.0000 - mean_squared_error: 448568832.0000WARNING:tensorflow:Learning rate reduction is conditioned on metric `root_mean_squared_error` which is not available. Available metrics are: loss,mean_squared_error,val_loss,val_mean_squared_error,lr\n"
     ]
    },
    {
     "name": "stderr",
     "output_type": "stream",
     "text": [
      "WARNING:tensorflow:Learning rate reduction is conditioned on metric `root_mean_squared_error` which is not available. Available metrics are: loss,mean_squared_error,val_loss,val_mean_squared_error,lr\n"
     ]
    },
    {
     "name": "stdout",
     "output_type": "stream",
     "text": [
      "30/30 [==============================] - 0s 11ms/step - loss: 426432672.0000 - mean_squared_error: 426432672.0000 - val_loss: 907818048.0000 - val_mean_squared_error: 907818048.0000 - lr: 0.0100\n",
      "Epoch 29/100\n",
      "27/30 [==========================>...] - ETA: 0s - loss: 331486592.0000 - mean_squared_error: 331486592.0000WARNING:tensorflow:Learning rate reduction is conditioned on metric `root_mean_squared_error` which is not available. Available metrics are: loss,mean_squared_error,val_loss,val_mean_squared_error,lr\n"
     ]
    },
    {
     "name": "stderr",
     "output_type": "stream",
     "text": [
      "WARNING:tensorflow:Learning rate reduction is conditioned on metric `root_mean_squared_error` which is not available. Available metrics are: loss,mean_squared_error,val_loss,val_mean_squared_error,lr\n"
     ]
    },
    {
     "name": "stdout",
     "output_type": "stream",
     "text": [
      "30/30 [==============================] - 0s 11ms/step - loss: 325926304.0000 - mean_squared_error: 325926304.0000 - val_loss: 899327424.0000 - val_mean_squared_error: 899327424.0000 - lr: 0.0100\n",
      "Epoch 30/100\n",
      "28/30 [===========================>..] - ETA: 0s - loss: 491552192.0000 - mean_squared_error: 491552192.0000WARNING:tensorflow:Learning rate reduction is conditioned on metric `root_mean_squared_error` which is not available. Available metrics are: loss,mean_squared_error,val_loss,val_mean_squared_error,lr\n"
     ]
    },
    {
     "name": "stderr",
     "output_type": "stream",
     "text": [
      "WARNING:tensorflow:Learning rate reduction is conditioned on metric `root_mean_squared_error` which is not available. Available metrics are: loss,mean_squared_error,val_loss,val_mean_squared_error,lr\n"
     ]
    },
    {
     "name": "stdout",
     "output_type": "stream",
     "text": [
      "30/30 [==============================] - 0s 10ms/step - loss: 480551904.0000 - mean_squared_error: 480551904.0000 - val_loss: 1307091456.0000 - val_mean_squared_error: 1307091456.0000 - lr: 0.0100\n",
      "Epoch 31/100\n",
      "27/30 [==========================>...] - ETA: 0s - loss: 352260704.0000 - mean_squared_error: 352260704.0000WARNING:tensorflow:Learning rate reduction is conditioned on metric `root_mean_squared_error` which is not available. Available metrics are: loss,mean_squared_error,val_loss,val_mean_squared_error,lr\n"
     ]
    },
    {
     "name": "stderr",
     "output_type": "stream",
     "text": [
      "WARNING:tensorflow:Learning rate reduction is conditioned on metric `root_mean_squared_error` which is not available. Available metrics are: loss,mean_squared_error,val_loss,val_mean_squared_error,lr\n"
     ]
    },
    {
     "name": "stdout",
     "output_type": "stream",
     "text": [
      "30/30 [==============================] - 0s 10ms/step - loss: 364624928.0000 - mean_squared_error: 364624928.0000 - val_loss: 799085568.0000 - val_mean_squared_error: 799085568.0000 - lr: 0.0100\n",
      "Epoch 32/100\n",
      "27/30 [==========================>...] - ETA: 0s - loss: 390556480.0000 - mean_squared_error: 390556480.0000WARNING:tensorflow:Learning rate reduction is conditioned on metric `root_mean_squared_error` which is not available. Available metrics are: loss,mean_squared_error,val_loss,val_mean_squared_error,lr\n"
     ]
    },
    {
     "name": "stderr",
     "output_type": "stream",
     "text": [
      "WARNING:tensorflow:Learning rate reduction is conditioned on metric `root_mean_squared_error` which is not available. Available metrics are: loss,mean_squared_error,val_loss,val_mean_squared_error,lr\n"
     ]
    },
    {
     "name": "stdout",
     "output_type": "stream",
     "text": [
      "30/30 [==============================] - 0s 10ms/step - loss: 385908736.0000 - mean_squared_error: 385908736.0000 - val_loss: 789864384.0000 - val_mean_squared_error: 789864384.0000 - lr: 0.0100\n",
      "Epoch 33/100\n",
      "27/30 [==========================>...] - ETA: 0s - loss: 502638432.0000 - mean_squared_error: 502638432.0000WARNING:tensorflow:Learning rate reduction is conditioned on metric `root_mean_squared_error` which is not available. Available metrics are: loss,mean_squared_error,val_loss,val_mean_squared_error,lr\n"
     ]
    },
    {
     "name": "stderr",
     "output_type": "stream",
     "text": [
      "WARNING:tensorflow:Learning rate reduction is conditioned on metric `root_mean_squared_error` which is not available. Available metrics are: loss,mean_squared_error,val_loss,val_mean_squared_error,lr\n"
     ]
    },
    {
     "name": "stdout",
     "output_type": "stream",
     "text": [
      "30/30 [==============================] - 0s 11ms/step - loss: 478946144.0000 - mean_squared_error: 478946144.0000 - val_loss: 808783808.0000 - val_mean_squared_error: 808783808.0000 - lr: 0.0100\n",
      "Epoch 34/100\n",
      "28/30 [===========================>..] - ETA: 0s - loss: 330608992.0000 - mean_squared_error: 330608992.0000WARNING:tensorflow:Learning rate reduction is conditioned on metric `root_mean_squared_error` which is not available. Available metrics are: loss,mean_squared_error,val_loss,val_mean_squared_error,lr\n"
     ]
    },
    {
     "name": "stderr",
     "output_type": "stream",
     "text": [
      "WARNING:tensorflow:Learning rate reduction is conditioned on metric `root_mean_squared_error` which is not available. Available metrics are: loss,mean_squared_error,val_loss,val_mean_squared_error,lr\n"
     ]
    },
    {
     "name": "stdout",
     "output_type": "stream",
     "text": [
      "30/30 [==============================] - 0s 11ms/step - loss: 326646208.0000 - mean_squared_error: 326646208.0000 - val_loss: 862619392.0000 - val_mean_squared_error: 862619392.0000 - lr: 0.0100\n",
      "Epoch 35/100\n",
      "25/30 [========================>.....] - ETA: 0s - loss: 277840064.0000 - mean_squared_error: 277840064.0000WARNING:tensorflow:Learning rate reduction is conditioned on metric `root_mean_squared_error` which is not available. Available metrics are: loss,mean_squared_error,val_loss,val_mean_squared_error,lr\n"
     ]
    },
    {
     "name": "stderr",
     "output_type": "stream",
     "text": [
      "WARNING:tensorflow:Learning rate reduction is conditioned on metric `root_mean_squared_error` which is not available. Available metrics are: loss,mean_squared_error,val_loss,val_mean_squared_error,lr\n"
     ]
    },
    {
     "name": "stdout",
     "output_type": "stream",
     "text": [
      "30/30 [==============================] - 0s 11ms/step - loss: 295077824.0000 - mean_squared_error: 295077824.0000 - val_loss: 1232413696.0000 - val_mean_squared_error: 1232413696.0000 - lr: 0.0100\n",
      "Epoch 36/100\n",
      "25/30 [========================>.....] - ETA: 0s - loss: 330613440.0000 - mean_squared_error: 330613440.0000WARNING:tensorflow:Learning rate reduction is conditioned on metric `root_mean_squared_error` which is not available. Available metrics are: loss,mean_squared_error,val_loss,val_mean_squared_error,lr\n"
     ]
    },
    {
     "name": "stderr",
     "output_type": "stream",
     "text": [
      "WARNING:tensorflow:Learning rate reduction is conditioned on metric `root_mean_squared_error` which is not available. Available metrics are: loss,mean_squared_error,val_loss,val_mean_squared_error,lr\n"
     ]
    },
    {
     "name": "stdout",
     "output_type": "stream",
     "text": [
      "30/30 [==============================] - 0s 11ms/step - loss: 339141472.0000 - mean_squared_error: 339141472.0000 - val_loss: 934875328.0000 - val_mean_squared_error: 934875328.0000 - lr: 0.0100\n",
      "Epoch 37/100\n",
      "28/30 [===========================>..] - ETA: 0s - loss: 310918464.0000 - mean_squared_error: 310918464.0000WARNING:tensorflow:Learning rate reduction is conditioned on metric `root_mean_squared_error` which is not available. Available metrics are: loss,mean_squared_error,val_loss,val_mean_squared_error,lr\n"
     ]
    },
    {
     "name": "stderr",
     "output_type": "stream",
     "text": [
      "WARNING:tensorflow:Learning rate reduction is conditioned on metric `root_mean_squared_error` which is not available. Available metrics are: loss,mean_squared_error,val_loss,val_mean_squared_error,lr\n"
     ]
    },
    {
     "name": "stdout",
     "output_type": "stream",
     "text": [
      "30/30 [==============================] - 0s 10ms/step - loss: 310902688.0000 - mean_squared_error: 310902688.0000 - val_loss: 747551552.0000 - val_mean_squared_error: 747551552.0000 - lr: 0.0100\n",
      "Epoch 38/100\n",
      "28/30 [===========================>..] - ETA: 0s - loss: 376258528.0000 - mean_squared_error: 376258528.0000WARNING:tensorflow:Learning rate reduction is conditioned on metric `root_mean_squared_error` which is not available. Available metrics are: loss,mean_squared_error,val_loss,val_mean_squared_error,lr\n"
     ]
    },
    {
     "name": "stderr",
     "output_type": "stream",
     "text": [
      "WARNING:tensorflow:Learning rate reduction is conditioned on metric `root_mean_squared_error` which is not available. Available metrics are: loss,mean_squared_error,val_loss,val_mean_squared_error,lr\n"
     ]
    },
    {
     "name": "stdout",
     "output_type": "stream",
     "text": [
      "30/30 [==============================] - 0s 10ms/step - loss: 371870304.0000 - mean_squared_error: 371870304.0000 - val_loss: 686239552.0000 - val_mean_squared_error: 686239552.0000 - lr: 0.0100\n",
      "Epoch 39/100\n",
      "25/30 [========================>.....] - ETA: 0s - loss: 461906976.0000 - mean_squared_error: 461906976.0000WARNING:tensorflow:Learning rate reduction is conditioned on metric `root_mean_squared_error` which is not available. Available metrics are: loss,mean_squared_error,val_loss,val_mean_squared_error,lr\n"
     ]
    },
    {
     "name": "stderr",
     "output_type": "stream",
     "text": [
      "WARNING:tensorflow:Learning rate reduction is conditioned on metric `root_mean_squared_error` which is not available. Available metrics are: loss,mean_squared_error,val_loss,val_mean_squared_error,lr\n"
     ]
    },
    {
     "name": "stdout",
     "output_type": "stream",
     "text": [
      "30/30 [==============================] - 0s 11ms/step - loss: 444352768.0000 - mean_squared_error: 444352768.0000 - val_loss: 677157632.0000 - val_mean_squared_error: 677157632.0000 - lr: 0.0100\n",
      "Epoch 40/100\n",
      "25/30 [========================>.....] - ETA: 0s - loss: 326898432.0000 - mean_squared_error: 326898432.0000WARNING:tensorflow:Learning rate reduction is conditioned on metric `root_mean_squared_error` which is not available. Available metrics are: loss,mean_squared_error,val_loss,val_mean_squared_error,lr\n"
     ]
    },
    {
     "name": "stderr",
     "output_type": "stream",
     "text": [
      "WARNING:tensorflow:Learning rate reduction is conditioned on metric `root_mean_squared_error` which is not available. Available metrics are: loss,mean_squared_error,val_loss,val_mean_squared_error,lr\n"
     ]
    },
    {
     "name": "stdout",
     "output_type": "stream",
     "text": [
      "30/30 [==============================] - 0s 12ms/step - loss: 333853824.0000 - mean_squared_error: 333853824.0000 - val_loss: 700696832.0000 - val_mean_squared_error: 700696832.0000 - lr: 0.0100\n",
      "Epoch 41/100\n",
      "24/30 [=======================>......] - ETA: 0s - loss: 346287872.0000 - mean_squared_error: 346287872.0000WARNING:tensorflow:Learning rate reduction is conditioned on metric `root_mean_squared_error` which is not available. Available metrics are: loss,mean_squared_error,val_loss,val_mean_squared_error,lr\n"
     ]
    },
    {
     "name": "stderr",
     "output_type": "stream",
     "text": [
      "WARNING:tensorflow:Learning rate reduction is conditioned on metric `root_mean_squared_error` which is not available. Available metrics are: loss,mean_squared_error,val_loss,val_mean_squared_error,lr\n"
     ]
    },
    {
     "name": "stdout",
     "output_type": "stream",
     "text": [
      "30/30 [==============================] - 0s 12ms/step - loss: 352205408.0000 - mean_squared_error: 352205408.0000 - val_loss: 646373184.0000 - val_mean_squared_error: 646373184.0000 - lr: 0.0100\n",
      "Epoch 42/100\n",
      "25/30 [========================>.....] - ETA: 0s - loss: 646967104.0000 - mean_squared_error: 646967104.0000WARNING:tensorflow:Learning rate reduction is conditioned on metric `root_mean_squared_error` which is not available. Available metrics are: loss,mean_squared_error,val_loss,val_mean_squared_error,lr\n"
     ]
    },
    {
     "name": "stderr",
     "output_type": "stream",
     "text": [
      "WARNING:tensorflow:Learning rate reduction is conditioned on metric `root_mean_squared_error` which is not available. Available metrics are: loss,mean_squared_error,val_loss,val_mean_squared_error,lr\n"
     ]
    },
    {
     "name": "stdout",
     "output_type": "stream",
     "text": [
      "30/30 [==============================] - 0s 11ms/step - loss: 602031296.0000 - mean_squared_error: 602031296.0000 - val_loss: 778461952.0000 - val_mean_squared_error: 778461952.0000 - lr: 0.0100\n",
      "Epoch 43/100\n",
      "28/30 [===========================>..] - ETA: 0s - loss: 332009056.0000 - mean_squared_error: 332009056.0000WARNING:tensorflow:Learning rate reduction is conditioned on metric `root_mean_squared_error` which is not available. Available metrics are: loss,mean_squared_error,val_loss,val_mean_squared_error,lr\n"
     ]
    },
    {
     "name": "stderr",
     "output_type": "stream",
     "text": [
      "WARNING:tensorflow:Learning rate reduction is conditioned on metric `root_mean_squared_error` which is not available. Available metrics are: loss,mean_squared_error,val_loss,val_mean_squared_error,lr\n"
     ]
    },
    {
     "name": "stdout",
     "output_type": "stream",
     "text": [
      "30/30 [==============================] - 0s 10ms/step - loss: 346978400.0000 - mean_squared_error: 346978400.0000 - val_loss: 888106176.0000 - val_mean_squared_error: 888106176.0000 - lr: 0.0100\n",
      "Epoch 44/100\n",
      "26/30 [=========================>....] - ETA: 0s - loss: 381226144.0000 - mean_squared_error: 381226144.0000WARNING:tensorflow:Learning rate reduction is conditioned on metric `root_mean_squared_error` which is not available. Available metrics are: loss,mean_squared_error,val_loss,val_mean_squared_error,lr\n"
     ]
    },
    {
     "name": "stderr",
     "output_type": "stream",
     "text": [
      "WARNING:tensorflow:Learning rate reduction is conditioned on metric `root_mean_squared_error` which is not available. Available metrics are: loss,mean_squared_error,val_loss,val_mean_squared_error,lr\n"
     ]
    },
    {
     "name": "stdout",
     "output_type": "stream",
     "text": [
      "30/30 [==============================] - 0s 11ms/step - loss: 375284608.0000 - mean_squared_error: 375284608.0000 - val_loss: 785592896.0000 - val_mean_squared_error: 785592896.0000 - lr: 0.0100\n",
      "Epoch 45/100\n",
      "27/30 [==========================>...] - ETA: 0s - loss: 315845440.0000 - mean_squared_error: 315845440.0000WARNING:tensorflow:Learning rate reduction is conditioned on metric `root_mean_squared_error` which is not available. Available metrics are: loss,mean_squared_error,val_loss,val_mean_squared_error,lr\n"
     ]
    },
    {
     "name": "stderr",
     "output_type": "stream",
     "text": [
      "WARNING:tensorflow:Learning rate reduction is conditioned on metric `root_mean_squared_error` which is not available. Available metrics are: loss,mean_squared_error,val_loss,val_mean_squared_error,lr\n"
     ]
    },
    {
     "name": "stdout",
     "output_type": "stream",
     "text": [
      "30/30 [==============================] - 0s 11ms/step - loss: 342767456.0000 - mean_squared_error: 342767456.0000 - val_loss: 1380280960.0000 - val_mean_squared_error: 1380280960.0000 - lr: 0.0100\n",
      "Epoch 46/100\n",
      "26/30 [=========================>....] - ETA: 0s - loss: 491188448.0000 - mean_squared_error: 491188448.0000WARNING:tensorflow:Learning rate reduction is conditioned on metric `root_mean_squared_error` which is not available. Available metrics are: loss,mean_squared_error,val_loss,val_mean_squared_error,lr\n"
     ]
    },
    {
     "name": "stderr",
     "output_type": "stream",
     "text": [
      "WARNING:tensorflow:Learning rate reduction is conditioned on metric `root_mean_squared_error` which is not available. Available metrics are: loss,mean_squared_error,val_loss,val_mean_squared_error,lr\n"
     ]
    },
    {
     "name": "stdout",
     "output_type": "stream",
     "text": [
      "30/30 [==============================] - 0s 11ms/step - loss: 476254432.0000 - mean_squared_error: 476254432.0000 - val_loss: 717216960.0000 - val_mean_squared_error: 717216960.0000 - lr: 0.0100\n",
      "Epoch 47/100\n",
      "28/30 [===========================>..] - ETA: 0s - loss: 505704160.0000 - mean_squared_error: 505704160.0000WARNING:tensorflow:Learning rate reduction is conditioned on metric `root_mean_squared_error` which is not available. Available metrics are: loss,mean_squared_error,val_loss,val_mean_squared_error,lr\n"
     ]
    },
    {
     "name": "stderr",
     "output_type": "stream",
     "text": [
      "WARNING:tensorflow:Learning rate reduction is conditioned on metric `root_mean_squared_error` which is not available. Available metrics are: loss,mean_squared_error,val_loss,val_mean_squared_error,lr\n"
     ]
    },
    {
     "name": "stdout",
     "output_type": "stream",
     "text": [
      "30/30 [==============================] - 0s 10ms/step - loss: 492405504.0000 - mean_squared_error: 492405504.0000 - val_loss: 1429683968.0000 - val_mean_squared_error: 1429683968.0000 - lr: 0.0100\n",
      "Epoch 48/100\n",
      "27/30 [==========================>...] - ETA: 0s - loss: 437457184.0000 - mean_squared_error: 437457184.0000WARNING:tensorflow:Learning rate reduction is conditioned on metric `root_mean_squared_error` which is not available. Available metrics are: loss,mean_squared_error,val_loss,val_mean_squared_error,lr\n"
     ]
    },
    {
     "name": "stderr",
     "output_type": "stream",
     "text": [
      "WARNING:tensorflow:Learning rate reduction is conditioned on metric `root_mean_squared_error` which is not available. Available metrics are: loss,mean_squared_error,val_loss,val_mean_squared_error,lr\n"
     ]
    },
    {
     "name": "stdout",
     "output_type": "stream",
     "text": [
      "30/30 [==============================] - 0s 11ms/step - loss: 427666816.0000 - mean_squared_error: 427666816.0000 - val_loss: 820168256.0000 - val_mean_squared_error: 820168256.0000 - lr: 0.0100\n",
      "Epoch 49/100\n",
      "25/30 [========================>.....] - ETA: 0s - loss: 440944000.0000 - mean_squared_error: 440944000.0000WARNING:tensorflow:Learning rate reduction is conditioned on metric `root_mean_squared_error` which is not available. Available metrics are: loss,mean_squared_error,val_loss,val_mean_squared_error,lr\n"
     ]
    },
    {
     "name": "stderr",
     "output_type": "stream",
     "text": [
      "WARNING:tensorflow:Learning rate reduction is conditioned on metric `root_mean_squared_error` which is not available. Available metrics are: loss,mean_squared_error,val_loss,val_mean_squared_error,lr\n"
     ]
    },
    {
     "name": "stdout",
     "output_type": "stream",
     "text": [
      "30/30 [==============================] - 0s 11ms/step - loss: 428956864.0000 - mean_squared_error: 428956864.0000 - val_loss: 1202355328.0000 - val_mean_squared_error: 1202355328.0000 - lr: 0.0100\n",
      "Epoch 50/100\n",
      "30/30 [==============================] - ETA: 0s - loss: 336005696.0000 - mean_squared_error: 336005696.0000WARNING:tensorflow:Learning rate reduction is conditioned on metric `root_mean_squared_error` which is not available. Available metrics are: loss,mean_squared_error,val_loss,val_mean_squared_error,lr\n"
     ]
    },
    {
     "name": "stderr",
     "output_type": "stream",
     "text": [
      "WARNING:tensorflow:Learning rate reduction is conditioned on metric `root_mean_squared_error` which is not available. Available metrics are: loss,mean_squared_error,val_loss,val_mean_squared_error,lr\n"
     ]
    },
    {
     "name": "stdout",
     "output_type": "stream",
     "text": [
      "30/30 [==============================] - 0s 13ms/step - loss: 336005696.0000 - mean_squared_error: 336005696.0000 - val_loss: 802016128.0000 - val_mean_squared_error: 802016128.0000 - lr: 0.0100\n",
      "Epoch 51/100\n",
      "25/30 [========================>.....] - ETA: 0s - loss: 352056000.0000 - mean_squared_error: 352056000.0000WARNING:tensorflow:Learning rate reduction is conditioned on metric `root_mean_squared_error` which is not available. Available metrics are: loss,mean_squared_error,val_loss,val_mean_squared_error,lr\n"
     ]
    },
    {
     "name": "stderr",
     "output_type": "stream",
     "text": [
      "WARNING:tensorflow:Learning rate reduction is conditioned on metric `root_mean_squared_error` which is not available. Available metrics are: loss,mean_squared_error,val_loss,val_mean_squared_error,lr\n"
     ]
    },
    {
     "name": "stdout",
     "output_type": "stream",
     "text": [
      "30/30 [==============================] - 0s 11ms/step - loss: 338013312.0000 - mean_squared_error: 338013312.0000 - val_loss: 744881344.0000 - val_mean_squared_error: 744881344.0000 - lr: 0.0100\n",
      "Epoch 52/100\n",
      "26/30 [=========================>....] - ETA: 0s - loss: 325011648.0000 - mean_squared_error: 325011648.0000WARNING:tensorflow:Learning rate reduction is conditioned on metric `root_mean_squared_error` which is not available. Available metrics are: loss,mean_squared_error,val_loss,val_mean_squared_error,lr\n"
     ]
    },
    {
     "name": "stderr",
     "output_type": "stream",
     "text": [
      "WARNING:tensorflow:Learning rate reduction is conditioned on metric `root_mean_squared_error` which is not available. Available metrics are: loss,mean_squared_error,val_loss,val_mean_squared_error,lr\n"
     ]
    },
    {
     "name": "stdout",
     "output_type": "stream",
     "text": [
      "30/30 [==============================] - 0s 11ms/step - loss: 328321472.0000 - mean_squared_error: 328321472.0000 - val_loss: 1020616576.0000 - val_mean_squared_error: 1020616576.0000 - lr: 0.0100\n",
      "Epoch 53/100\n",
      "24/30 [=======================>......] - ETA: 0s - loss: 486492128.0000 - mean_squared_error: 486492128.0000WARNING:tensorflow:Learning rate reduction is conditioned on metric `root_mean_squared_error` which is not available. Available metrics are: loss,mean_squared_error,val_loss,val_mean_squared_error,lr\n"
     ]
    },
    {
     "name": "stderr",
     "output_type": "stream",
     "text": [
      "WARNING:tensorflow:Learning rate reduction is conditioned on metric `root_mean_squared_error` which is not available. Available metrics are: loss,mean_squared_error,val_loss,val_mean_squared_error,lr\n"
     ]
    },
    {
     "name": "stdout",
     "output_type": "stream",
     "text": [
      "30/30 [==============================] - 0s 11ms/step - loss: 471381632.0000 - mean_squared_error: 471381632.0000 - val_loss: 861693696.0000 - val_mean_squared_error: 861693696.0000 - lr: 0.0100\n",
      "Epoch 54/100\n",
      "25/30 [========================>.....] - ETA: 0s - loss: 304008000.0000 - mean_squared_error: 304008000.0000WARNING:tensorflow:Learning rate reduction is conditioned on metric `root_mean_squared_error` which is not available. Available metrics are: loss,mean_squared_error,val_loss,val_mean_squared_error,lr\n"
     ]
    },
    {
     "name": "stderr",
     "output_type": "stream",
     "text": [
      "WARNING:tensorflow:Learning rate reduction is conditioned on metric `root_mean_squared_error` which is not available. Available metrics are: loss,mean_squared_error,val_loss,val_mean_squared_error,lr\n"
     ]
    },
    {
     "name": "stdout",
     "output_type": "stream",
     "text": [
      "30/30 [==============================] - 0s 11ms/step - loss: 303399904.0000 - mean_squared_error: 303399904.0000 - val_loss: 824052032.0000 - val_mean_squared_error: 824052032.0000 - lr: 0.0100\n",
      "Epoch 55/100\n",
      "24/30 [=======================>......] - ETA: 0s - loss: 321703584.0000 - mean_squared_error: 321703584.0000WARNING:tensorflow:Learning rate reduction is conditioned on metric `root_mean_squared_error` which is not available. Available metrics are: loss,mean_squared_error,val_loss,val_mean_squared_error,lr\n"
     ]
    },
    {
     "name": "stderr",
     "output_type": "stream",
     "text": [
      "WARNING:tensorflow:Learning rate reduction is conditioned on metric `root_mean_squared_error` which is not available. Available metrics are: loss,mean_squared_error,val_loss,val_mean_squared_error,lr\n"
     ]
    },
    {
     "name": "stdout",
     "output_type": "stream",
     "text": [
      "30/30 [==============================] - 0s 12ms/step - loss: 299743168.0000 - mean_squared_error: 299743168.0000 - val_loss: 854819520.0000 - val_mean_squared_error: 854819520.0000 - lr: 0.0100\n",
      "Epoch 56/100\n",
      "27/30 [==========================>...] - ETA: 0s - loss: 306868224.0000 - mean_squared_error: 306868224.0000WARNING:tensorflow:Learning rate reduction is conditioned on metric `root_mean_squared_error` which is not available. Available metrics are: loss,mean_squared_error,val_loss,val_mean_squared_error,lr\n"
     ]
    },
    {
     "name": "stderr",
     "output_type": "stream",
     "text": [
      "WARNING:tensorflow:Learning rate reduction is conditioned on metric `root_mean_squared_error` which is not available. Available metrics are: loss,mean_squared_error,val_loss,val_mean_squared_error,lr\n"
     ]
    },
    {
     "name": "stdout",
     "output_type": "stream",
     "text": [
      "30/30 [==============================] - 0s 11ms/step - loss: 296559136.0000 - mean_squared_error: 296559136.0000 - val_loss: 869876352.0000 - val_mean_squared_error: 869876352.0000 - lr: 0.0100\n",
      "Epoch 57/100\n",
      "26/30 [=========================>....] - ETA: 0s - loss: 306848576.0000 - mean_squared_error: 306848576.0000WARNING:tensorflow:Learning rate reduction is conditioned on metric `root_mean_squared_error` which is not available. Available metrics are: loss,mean_squared_error,val_loss,val_mean_squared_error,lr\n"
     ]
    },
    {
     "name": "stderr",
     "output_type": "stream",
     "text": [
      "WARNING:tensorflow:Learning rate reduction is conditioned on metric `root_mean_squared_error` which is not available. Available metrics are: loss,mean_squared_error,val_loss,val_mean_squared_error,lr\n"
     ]
    },
    {
     "name": "stdout",
     "output_type": "stream",
     "text": [
      "30/30 [==============================] - 0s 12ms/step - loss: 308848928.0000 - mean_squared_error: 308848928.0000 - val_loss: 700089856.0000 - val_mean_squared_error: 700089856.0000 - lr: 0.0100\n",
      "Epoch 58/100\n",
      "26/30 [=========================>....] - ETA: 0s - loss: 361492416.0000 - mean_squared_error: 361492416.0000WARNING:tensorflow:Learning rate reduction is conditioned on metric `root_mean_squared_error` which is not available. Available metrics are: loss,mean_squared_error,val_loss,val_mean_squared_error,lr\n"
     ]
    },
    {
     "name": "stderr",
     "output_type": "stream",
     "text": [
      "WARNING:tensorflow:Learning rate reduction is conditioned on metric `root_mean_squared_error` which is not available. Available metrics are: loss,mean_squared_error,val_loss,val_mean_squared_error,lr\n"
     ]
    },
    {
     "name": "stdout",
     "output_type": "stream",
     "text": [
      "30/30 [==============================] - 0s 11ms/step - loss: 372600768.0000 - mean_squared_error: 372600768.0000 - val_loss: 755124608.0000 - val_mean_squared_error: 755124608.0000 - lr: 0.0100\n",
      "Epoch 59/100\n",
      "25/30 [========================>.....] - ETA: 0s - loss: 353314048.0000 - mean_squared_error: 353314048.0000WARNING:tensorflow:Learning rate reduction is conditioned on metric `root_mean_squared_error` which is not available. Available metrics are: loss,mean_squared_error,val_loss,val_mean_squared_error,lr\n"
     ]
    },
    {
     "name": "stderr",
     "output_type": "stream",
     "text": [
      "WARNING:tensorflow:Learning rate reduction is conditioned on metric `root_mean_squared_error` which is not available. Available metrics are: loss,mean_squared_error,val_loss,val_mean_squared_error,lr\n"
     ]
    },
    {
     "name": "stdout",
     "output_type": "stream",
     "text": [
      "30/30 [==============================] - 0s 11ms/step - loss: 344453920.0000 - mean_squared_error: 344453920.0000 - val_loss: 708251328.0000 - val_mean_squared_error: 708251328.0000 - lr: 0.0100\n",
      "Epoch 60/100\n",
      "26/30 [=========================>....] - ETA: 0s - loss: 292361184.0000 - mean_squared_error: 292361184.0000WARNING:tensorflow:Learning rate reduction is conditioned on metric `root_mean_squared_error` which is not available. Available metrics are: loss,mean_squared_error,val_loss,val_mean_squared_error,lr\n"
     ]
    },
    {
     "name": "stderr",
     "output_type": "stream",
     "text": [
      "WARNING:tensorflow:Learning rate reduction is conditioned on metric `root_mean_squared_error` which is not available. Available metrics are: loss,mean_squared_error,val_loss,val_mean_squared_error,lr\n"
     ]
    },
    {
     "name": "stdout",
     "output_type": "stream",
     "text": [
      "30/30 [==============================] - 0s 12ms/step - loss: 297404352.0000 - mean_squared_error: 297404352.0000 - val_loss: 639163840.0000 - val_mean_squared_error: 639163840.0000 - lr: 0.0100\n",
      "Epoch 61/100\n",
      "25/30 [========================>.....] - ETA: 0s - loss: 462340384.0000 - mean_squared_error: 462340384.0000WARNING:tensorflow:Learning rate reduction is conditioned on metric `root_mean_squared_error` which is not available. Available metrics are: loss,mean_squared_error,val_loss,val_mean_squared_error,lr\n"
     ]
    },
    {
     "name": "stderr",
     "output_type": "stream",
     "text": [
      "WARNING:tensorflow:Learning rate reduction is conditioned on metric `root_mean_squared_error` which is not available. Available metrics are: loss,mean_squared_error,val_loss,val_mean_squared_error,lr\n"
     ]
    },
    {
     "name": "stdout",
     "output_type": "stream",
     "text": [
      "30/30 [==============================] - 0s 11ms/step - loss: 451459936.0000 - mean_squared_error: 451459936.0000 - val_loss: 863958528.0000 - val_mean_squared_error: 863958528.0000 - lr: 0.0100\n",
      "Epoch 62/100\n",
      "26/30 [=========================>....] - ETA: 0s - loss: 357340288.0000 - mean_squared_error: 357340288.0000WARNING:tensorflow:Learning rate reduction is conditioned on metric `root_mean_squared_error` which is not available. Available metrics are: loss,mean_squared_error,val_loss,val_mean_squared_error,lr\n"
     ]
    },
    {
     "name": "stderr",
     "output_type": "stream",
     "text": [
      "WARNING:tensorflow:Learning rate reduction is conditioned on metric `root_mean_squared_error` which is not available. Available metrics are: loss,mean_squared_error,val_loss,val_mean_squared_error,lr\n"
     ]
    },
    {
     "name": "stdout",
     "output_type": "stream",
     "text": [
      "30/30 [==============================] - 0s 11ms/step - loss: 342593184.0000 - mean_squared_error: 342593184.0000 - val_loss: 666411904.0000 - val_mean_squared_error: 666411904.0000 - lr: 0.0100\n",
      "Epoch 63/100\n",
      "28/30 [===========================>..] - ETA: 0s - loss: 508367296.0000 - mean_squared_error: 508367296.0000WARNING:tensorflow:Learning rate reduction is conditioned on metric `root_mean_squared_error` which is not available. Available metrics are: loss,mean_squared_error,val_loss,val_mean_squared_error,lr\n"
     ]
    },
    {
     "name": "stderr",
     "output_type": "stream",
     "text": [
      "WARNING:tensorflow:Learning rate reduction is conditioned on metric `root_mean_squared_error` which is not available. Available metrics are: loss,mean_squared_error,val_loss,val_mean_squared_error,lr\n"
     ]
    },
    {
     "name": "stdout",
     "output_type": "stream",
     "text": [
      "30/30 [==============================] - 0s 10ms/step - loss: 500531808.0000 - mean_squared_error: 500531808.0000 - val_loss: 939518720.0000 - val_mean_squared_error: 939518720.0000 - lr: 0.0100\n",
      "Epoch 64/100\n",
      "24/30 [=======================>......] - ETA: 0s - loss: 514147424.0000 - mean_squared_error: 514147424.0000WARNING:tensorflow:Learning rate reduction is conditioned on metric `root_mean_squared_error` which is not available. Available metrics are: loss,mean_squared_error,val_loss,val_mean_squared_error,lr\n"
     ]
    },
    {
     "name": "stderr",
     "output_type": "stream",
     "text": [
      "WARNING:tensorflow:Learning rate reduction is conditioned on metric `root_mean_squared_error` which is not available. Available metrics are: loss,mean_squared_error,val_loss,val_mean_squared_error,lr\n"
     ]
    },
    {
     "name": "stdout",
     "output_type": "stream",
     "text": [
      "30/30 [==============================] - 0s 12ms/step - loss: 494841088.0000 - mean_squared_error: 494841088.0000 - val_loss: 1342933376.0000 - val_mean_squared_error: 1342933376.0000 - lr: 0.0100\n",
      "Epoch 65/100\n",
      "27/30 [==========================>...] - ETA: 0s - loss: 464334176.0000 - mean_squared_error: 464334176.0000WARNING:tensorflow:Learning rate reduction is conditioned on metric `root_mean_squared_error` which is not available. Available metrics are: loss,mean_squared_error,val_loss,val_mean_squared_error,lr\n"
     ]
    },
    {
     "name": "stderr",
     "output_type": "stream",
     "text": [
      "WARNING:tensorflow:Learning rate reduction is conditioned on metric `root_mean_squared_error` which is not available. Available metrics are: loss,mean_squared_error,val_loss,val_mean_squared_error,lr\n"
     ]
    },
    {
     "name": "stdout",
     "output_type": "stream",
     "text": [
      "30/30 [==============================] - 0s 10ms/step - loss: 444817216.0000 - mean_squared_error: 444817216.0000 - val_loss: 830960256.0000 - val_mean_squared_error: 830960256.0000 - lr: 0.0100\n",
      "Epoch 66/100\n",
      "27/30 [==========================>...] - ETA: 0s - loss: 388858944.0000 - mean_squared_error: 388858944.0000WARNING:tensorflow:Learning rate reduction is conditioned on metric `root_mean_squared_error` which is not available. Available metrics are: loss,mean_squared_error,val_loss,val_mean_squared_error,lr\n"
     ]
    },
    {
     "name": "stderr",
     "output_type": "stream",
     "text": [
      "WARNING:tensorflow:Learning rate reduction is conditioned on metric `root_mean_squared_error` which is not available. Available metrics are: loss,mean_squared_error,val_loss,val_mean_squared_error,lr\n"
     ]
    },
    {
     "name": "stdout",
     "output_type": "stream",
     "text": [
      "30/30 [==============================] - 0s 11ms/step - loss: 379567008.0000 - mean_squared_error: 379567008.0000 - val_loss: 794723840.0000 - val_mean_squared_error: 794723840.0000 - lr: 0.0100\n",
      "Epoch 67/100\n",
      "26/30 [=========================>....] - ETA: 0s - loss: 445617888.0000 - mean_squared_error: 445617888.0000WARNING:tensorflow:Learning rate reduction is conditioned on metric `root_mean_squared_error` which is not available. Available metrics are: loss,mean_squared_error,val_loss,val_mean_squared_error,lr\n"
     ]
    },
    {
     "name": "stderr",
     "output_type": "stream",
     "text": [
      "WARNING:tensorflow:Learning rate reduction is conditioned on metric `root_mean_squared_error` which is not available. Available metrics are: loss,mean_squared_error,val_loss,val_mean_squared_error,lr\n"
     ]
    },
    {
     "name": "stdout",
     "output_type": "stream",
     "text": [
      "30/30 [==============================] - 0s 11ms/step - loss: 443527392.0000 - mean_squared_error: 443527392.0000 - val_loss: 1836600576.0000 - val_mean_squared_error: 1836600576.0000 - lr: 0.0100\n",
      "Epoch 68/100\n",
      "25/30 [========================>.....] - ETA: 0s - loss: 536281376.0000 - mean_squared_error: 536281376.0000WARNING:tensorflow:Learning rate reduction is conditioned on metric `root_mean_squared_error` which is not available. Available metrics are: loss,mean_squared_error,val_loss,val_mean_squared_error,lr\n"
     ]
    },
    {
     "name": "stderr",
     "output_type": "stream",
     "text": [
      "WARNING:tensorflow:Learning rate reduction is conditioned on metric `root_mean_squared_error` which is not available. Available metrics are: loss,mean_squared_error,val_loss,val_mean_squared_error,lr\n"
     ]
    },
    {
     "name": "stdout",
     "output_type": "stream",
     "text": [
      "30/30 [==============================] - 0s 12ms/step - loss: 511815904.0000 - mean_squared_error: 511815904.0000 - val_loss: 748310080.0000 - val_mean_squared_error: 748310080.0000 - lr: 0.0100\n",
      "Epoch 69/100\n",
      "25/30 [========================>.....] - ETA: 0s - loss: 415819968.0000 - mean_squared_error: 415819968.0000WARNING:tensorflow:Learning rate reduction is conditioned on metric `root_mean_squared_error` which is not available. Available metrics are: loss,mean_squared_error,val_loss,val_mean_squared_error,lr\n"
     ]
    },
    {
     "name": "stderr",
     "output_type": "stream",
     "text": [
      "WARNING:tensorflow:Learning rate reduction is conditioned on metric `root_mean_squared_error` which is not available. Available metrics are: loss,mean_squared_error,val_loss,val_mean_squared_error,lr\n"
     ]
    },
    {
     "name": "stdout",
     "output_type": "stream",
     "text": [
      "30/30 [==============================] - 0s 11ms/step - loss: 436766240.0000 - mean_squared_error: 436766240.0000 - val_loss: 1228733440.0000 - val_mean_squared_error: 1228733440.0000 - lr: 0.0100\n",
      "Epoch 70/100\n",
      "27/30 [==========================>...] - ETA: 0s - loss: 642712064.0000 - mean_squared_error: 642712064.0000WARNING:tensorflow:Learning rate reduction is conditioned on metric `root_mean_squared_error` which is not available. Available metrics are: loss,mean_squared_error,val_loss,val_mean_squared_error,lr\n"
     ]
    },
    {
     "name": "stderr",
     "output_type": "stream",
     "text": [
      "WARNING:tensorflow:Learning rate reduction is conditioned on metric `root_mean_squared_error` which is not available. Available metrics are: loss,mean_squared_error,val_loss,val_mean_squared_error,lr\n"
     ]
    },
    {
     "name": "stdout",
     "output_type": "stream",
     "text": [
      "30/30 [==============================] - 0s 11ms/step - loss: 646104896.0000 - mean_squared_error: 646104896.0000 - val_loss: 1000084416.0000 - val_mean_squared_error: 1000084416.0000 - lr: 0.0100\n",
      "Epoch 71/100\n",
      "26/30 [=========================>....] - ETA: 0s - loss: 393620352.0000 - mean_squared_error: 393620352.0000WARNING:tensorflow:Learning rate reduction is conditioned on metric `root_mean_squared_error` which is not available. Available metrics are: loss,mean_squared_error,val_loss,val_mean_squared_error,lr\n"
     ]
    },
    {
     "name": "stderr",
     "output_type": "stream",
     "text": [
      "WARNING:tensorflow:Learning rate reduction is conditioned on metric `root_mean_squared_error` which is not available. Available metrics are: loss,mean_squared_error,val_loss,val_mean_squared_error,lr\n"
     ]
    },
    {
     "name": "stdout",
     "output_type": "stream",
     "text": [
      "30/30 [==============================] - 0s 11ms/step - loss: 375932384.0000 - mean_squared_error: 375932384.0000 - val_loss: 756264896.0000 - val_mean_squared_error: 756264896.0000 - lr: 0.0100\n",
      "Epoch 72/100\n",
      "26/30 [=========================>....] - ETA: 0s - loss: 366315648.0000 - mean_squared_error: 366315648.0000WARNING:tensorflow:Learning rate reduction is conditioned on metric `root_mean_squared_error` which is not available. Available metrics are: loss,mean_squared_error,val_loss,val_mean_squared_error,lr\n"
     ]
    },
    {
     "name": "stderr",
     "output_type": "stream",
     "text": [
      "WARNING:tensorflow:Learning rate reduction is conditioned on metric `root_mean_squared_error` which is not available. Available metrics are: loss,mean_squared_error,val_loss,val_mean_squared_error,lr\n"
     ]
    },
    {
     "name": "stdout",
     "output_type": "stream",
     "text": [
      "30/30 [==============================] - 0s 11ms/step - loss: 395782720.0000 - mean_squared_error: 395782720.0000 - val_loss: 1130976384.0000 - val_mean_squared_error: 1130976384.0000 - lr: 0.0100\n",
      "Epoch 73/100\n",
      "27/30 [==========================>...] - ETA: 0s - loss: 586057088.0000 - mean_squared_error: 586057088.0000WARNING:tensorflow:Learning rate reduction is conditioned on metric `root_mean_squared_error` which is not available. Available metrics are: loss,mean_squared_error,val_loss,val_mean_squared_error,lr\n"
     ]
    },
    {
     "name": "stderr",
     "output_type": "stream",
     "text": [
      "WARNING:tensorflow:Learning rate reduction is conditioned on metric `root_mean_squared_error` which is not available. Available metrics are: loss,mean_squared_error,val_loss,val_mean_squared_error,lr\n"
     ]
    },
    {
     "name": "stdout",
     "output_type": "stream",
     "text": [
      "30/30 [==============================] - 0s 11ms/step - loss: 580241088.0000 - mean_squared_error: 580241088.0000 - val_loss: 790800512.0000 - val_mean_squared_error: 790800512.0000 - lr: 0.0100\n",
      "Epoch 74/100\n",
      "26/30 [=========================>....] - ETA: 0s - loss: 311982048.0000 - mean_squared_error: 311982048.0000WARNING:tensorflow:Learning rate reduction is conditioned on metric `root_mean_squared_error` which is not available. Available metrics are: loss,mean_squared_error,val_loss,val_mean_squared_error,lr\n"
     ]
    },
    {
     "name": "stderr",
     "output_type": "stream",
     "text": [
      "WARNING:tensorflow:Learning rate reduction is conditioned on metric `root_mean_squared_error` which is not available. Available metrics are: loss,mean_squared_error,val_loss,val_mean_squared_error,lr\n"
     ]
    },
    {
     "name": "stdout",
     "output_type": "stream",
     "text": [
      "30/30 [==============================] - 0s 11ms/step - loss: 308092480.0000 - mean_squared_error: 308092480.0000 - val_loss: 1132433536.0000 - val_mean_squared_error: 1132433536.0000 - lr: 0.0100\n",
      "Epoch 75/100\n",
      "25/30 [========================>.....] - ETA: 0s - loss: 507442080.0000 - mean_squared_error: 507442080.0000WARNING:tensorflow:Learning rate reduction is conditioned on metric `root_mean_squared_error` which is not available. Available metrics are: loss,mean_squared_error,val_loss,val_mean_squared_error,lr\n"
     ]
    },
    {
     "name": "stderr",
     "output_type": "stream",
     "text": [
      "WARNING:tensorflow:Learning rate reduction is conditioned on metric `root_mean_squared_error` which is not available. Available metrics are: loss,mean_squared_error,val_loss,val_mean_squared_error,lr\n"
     ]
    },
    {
     "name": "stdout",
     "output_type": "stream",
     "text": [
      "30/30 [==============================] - 0s 11ms/step - loss: 478002240.0000 - mean_squared_error: 478002240.0000 - val_loss: 1106138112.0000 - val_mean_squared_error: 1106138112.0000 - lr: 0.0100\n",
      "Epoch 76/100\n",
      "27/30 [==========================>...] - ETA: 0s - loss: 406298272.0000 - mean_squared_error: 406298272.0000WARNING:tensorflow:Learning rate reduction is conditioned on metric `root_mean_squared_error` which is not available. Available metrics are: loss,mean_squared_error,val_loss,val_mean_squared_error,lr\n"
     ]
    },
    {
     "name": "stderr",
     "output_type": "stream",
     "text": [
      "WARNING:tensorflow:Learning rate reduction is conditioned on metric `root_mean_squared_error` which is not available. Available metrics are: loss,mean_squared_error,val_loss,val_mean_squared_error,lr\n"
     ]
    },
    {
     "name": "stdout",
     "output_type": "stream",
     "text": [
      "30/30 [==============================] - 0s 11ms/step - loss: 395462368.0000 - mean_squared_error: 395462368.0000 - val_loss: 787073536.0000 - val_mean_squared_error: 787073536.0000 - lr: 0.0100\n",
      "Epoch 77/100\n",
      "27/30 [==========================>...] - ETA: 0s - loss: 388619520.0000 - mean_squared_error: 388619520.0000WARNING:tensorflow:Learning rate reduction is conditioned on metric `root_mean_squared_error` which is not available. Available metrics are: loss,mean_squared_error,val_loss,val_mean_squared_error,lr\n"
     ]
    },
    {
     "name": "stderr",
     "output_type": "stream",
     "text": [
      "WARNING:tensorflow:Learning rate reduction is conditioned on metric `root_mean_squared_error` which is not available. Available metrics are: loss,mean_squared_error,val_loss,val_mean_squared_error,lr\n"
     ]
    },
    {
     "name": "stdout",
     "output_type": "stream",
     "text": [
      "30/30 [==============================] - 0s 11ms/step - loss: 383322048.0000 - mean_squared_error: 383322048.0000 - val_loss: 984527232.0000 - val_mean_squared_error: 984527232.0000 - lr: 0.0100\n",
      "Epoch 78/100\n",
      "25/30 [========================>.....] - ETA: 0s - loss: 351631072.0000 - mean_squared_error: 351631072.0000WARNING:tensorflow:Learning rate reduction is conditioned on metric `root_mean_squared_error` which is not available. Available metrics are: loss,mean_squared_error,val_loss,val_mean_squared_error,lr\n"
     ]
    },
    {
     "name": "stderr",
     "output_type": "stream",
     "text": [
      "WARNING:tensorflow:Learning rate reduction is conditioned on metric `root_mean_squared_error` which is not available. Available metrics are: loss,mean_squared_error,val_loss,val_mean_squared_error,lr\n"
     ]
    },
    {
     "name": "stdout",
     "output_type": "stream",
     "text": [
      "30/30 [==============================] - 0s 11ms/step - loss: 355620672.0000 - mean_squared_error: 355620672.0000 - val_loss: 757024832.0000 - val_mean_squared_error: 757024832.0000 - lr: 0.0100\n",
      "Epoch 79/100\n",
      "25/30 [========================>.....] - ETA: 0s - loss: 320356480.0000 - mean_squared_error: 320356480.0000WARNING:tensorflow:Learning rate reduction is conditioned on metric `root_mean_squared_error` which is not available. Available metrics are: loss,mean_squared_error,val_loss,val_mean_squared_error,lr\n"
     ]
    },
    {
     "name": "stderr",
     "output_type": "stream",
     "text": [
      "WARNING:tensorflow:Learning rate reduction is conditioned on metric `root_mean_squared_error` which is not available. Available metrics are: loss,mean_squared_error,val_loss,val_mean_squared_error,lr\n"
     ]
    },
    {
     "name": "stdout",
     "output_type": "stream",
     "text": [
      "30/30 [==============================] - 0s 11ms/step - loss: 311378880.0000 - mean_squared_error: 311378880.0000 - val_loss: 745336512.0000 - val_mean_squared_error: 745336512.0000 - lr: 0.0100\n",
      "Epoch 80/100\n",
      "25/30 [========================>.....] - ETA: 0s - loss: 409974944.0000 - mean_squared_error: 409974944.0000WARNING:tensorflow:Learning rate reduction is conditioned on metric `root_mean_squared_error` which is not available. Available metrics are: loss,mean_squared_error,val_loss,val_mean_squared_error,lr\n"
     ]
    },
    {
     "name": "stderr",
     "output_type": "stream",
     "text": [
      "WARNING:tensorflow:Learning rate reduction is conditioned on metric `root_mean_squared_error` which is not available. Available metrics are: loss,mean_squared_error,val_loss,val_mean_squared_error,lr\n"
     ]
    },
    {
     "name": "stdout",
     "output_type": "stream",
     "text": [
      "30/30 [==============================] - 0s 11ms/step - loss: 452017472.0000 - mean_squared_error: 452017472.0000 - val_loss: 1368467328.0000 - val_mean_squared_error: 1368467328.0000 - lr: 0.0100\n",
      "Epoch 81/100\n",
      "25/30 [========================>.....] - ETA: 0s - loss: 565769152.0000 - mean_squared_error: 565769152.0000WARNING:tensorflow:Learning rate reduction is conditioned on metric `root_mean_squared_error` which is not available. Available metrics are: loss,mean_squared_error,val_loss,val_mean_squared_error,lr\n"
     ]
    },
    {
     "name": "stderr",
     "output_type": "stream",
     "text": [
      "WARNING:tensorflow:Learning rate reduction is conditioned on metric `root_mean_squared_error` which is not available. Available metrics are: loss,mean_squared_error,val_loss,val_mean_squared_error,lr\n"
     ]
    },
    {
     "name": "stdout",
     "output_type": "stream",
     "text": [
      "30/30 [==============================] - 0s 11ms/step - loss: 551955008.0000 - mean_squared_error: 551955008.0000 - val_loss: 799746880.0000 - val_mean_squared_error: 799746880.0000 - lr: 0.0100\n",
      "Epoch 82/100\n",
      "27/30 [==========================>...] - ETA: 0s - loss: 418537728.0000 - mean_squared_error: 418537728.0000WARNING:tensorflow:Learning rate reduction is conditioned on metric `root_mean_squared_error` which is not available. Available metrics are: loss,mean_squared_error,val_loss,val_mean_squared_error,lr\n"
     ]
    },
    {
     "name": "stderr",
     "output_type": "stream",
     "text": [
      "WARNING:tensorflow:Learning rate reduction is conditioned on metric `root_mean_squared_error` which is not available. Available metrics are: loss,mean_squared_error,val_loss,val_mean_squared_error,lr\n"
     ]
    },
    {
     "name": "stdout",
     "output_type": "stream",
     "text": [
      "30/30 [==============================] - 0s 11ms/step - loss: 403097792.0000 - mean_squared_error: 403097792.0000 - val_loss: 701158080.0000 - val_mean_squared_error: 701158080.0000 - lr: 0.0100\n",
      "Epoch 83/100\n",
      "26/30 [=========================>....] - ETA: 0s - loss: 419593056.0000 - mean_squared_error: 419593056.0000WARNING:tensorflow:Learning rate reduction is conditioned on metric `root_mean_squared_error` which is not available. Available metrics are: loss,mean_squared_error,val_loss,val_mean_squared_error,lr\n"
     ]
    },
    {
     "name": "stderr",
     "output_type": "stream",
     "text": [
      "WARNING:tensorflow:Learning rate reduction is conditioned on metric `root_mean_squared_error` which is not available. Available metrics are: loss,mean_squared_error,val_loss,val_mean_squared_error,lr\n"
     ]
    },
    {
     "name": "stdout",
     "output_type": "stream",
     "text": [
      "30/30 [==============================] - 0s 11ms/step - loss: 418735360.0000 - mean_squared_error: 418735360.0000 - val_loss: 818337088.0000 - val_mean_squared_error: 818337088.0000 - lr: 0.0100\n",
      "Epoch 84/100\n",
      "26/30 [=========================>....] - ETA: 0s - loss: 302196512.0000 - mean_squared_error: 302196512.0000WARNING:tensorflow:Learning rate reduction is conditioned on metric `root_mean_squared_error` which is not available. Available metrics are: loss,mean_squared_error,val_loss,val_mean_squared_error,lr\n"
     ]
    },
    {
     "name": "stderr",
     "output_type": "stream",
     "text": [
      "WARNING:tensorflow:Learning rate reduction is conditioned on metric `root_mean_squared_error` which is not available. Available metrics are: loss,mean_squared_error,val_loss,val_mean_squared_error,lr\n"
     ]
    },
    {
     "name": "stdout",
     "output_type": "stream",
     "text": [
      "30/30 [==============================] - 0s 11ms/step - loss: 301821696.0000 - mean_squared_error: 301821696.0000 - val_loss: 830203392.0000 - val_mean_squared_error: 830203392.0000 - lr: 0.0100\n",
      "Epoch 85/100\n",
      "26/30 [=========================>....] - ETA: 0s - loss: 406815712.0000 - mean_squared_error: 406815712.0000WARNING:tensorflow:Learning rate reduction is conditioned on metric `root_mean_squared_error` which is not available. Available metrics are: loss,mean_squared_error,val_loss,val_mean_squared_error,lr\n"
     ]
    },
    {
     "name": "stderr",
     "output_type": "stream",
     "text": [
      "WARNING:tensorflow:Learning rate reduction is conditioned on metric `root_mean_squared_error` which is not available. Available metrics are: loss,mean_squared_error,val_loss,val_mean_squared_error,lr\n"
     ]
    },
    {
     "name": "stdout",
     "output_type": "stream",
     "text": [
      "30/30 [==============================] - 0s 11ms/step - loss: 408614304.0000 - mean_squared_error: 408614304.0000 - val_loss: 777955584.0000 - val_mean_squared_error: 777955584.0000 - lr: 0.0100\n",
      "Epoch 86/100\n",
      "26/30 [=========================>....] - ETA: 0s - loss: 295480800.0000 - mean_squared_error: 295480800.0000WARNING:tensorflow:Learning rate reduction is conditioned on metric `root_mean_squared_error` which is not available. Available metrics are: loss,mean_squared_error,val_loss,val_mean_squared_error,lr\n"
     ]
    },
    {
     "name": "stderr",
     "output_type": "stream",
     "text": [
      "WARNING:tensorflow:Learning rate reduction is conditioned on metric `root_mean_squared_error` which is not available. Available metrics are: loss,mean_squared_error,val_loss,val_mean_squared_error,lr\n"
     ]
    },
    {
     "name": "stdout",
     "output_type": "stream",
     "text": [
      "30/30 [==============================] - 0s 11ms/step - loss: 283444736.0000 - mean_squared_error: 283444736.0000 - val_loss: 754382144.0000 - val_mean_squared_error: 754382144.0000 - lr: 0.0100\n",
      "Epoch 87/100\n",
      "27/30 [==========================>...] - ETA: 0s - loss: 329139744.0000 - mean_squared_error: 329139744.0000WARNING:tensorflow:Learning rate reduction is conditioned on metric `root_mean_squared_error` which is not available. Available metrics are: loss,mean_squared_error,val_loss,val_mean_squared_error,lr\n"
     ]
    },
    {
     "name": "stderr",
     "output_type": "stream",
     "text": [
      "WARNING:tensorflow:Learning rate reduction is conditioned on metric `root_mean_squared_error` which is not available. Available metrics are: loss,mean_squared_error,val_loss,val_mean_squared_error,lr\n"
     ]
    },
    {
     "name": "stdout",
     "output_type": "stream",
     "text": [
      "30/30 [==============================] - 0s 11ms/step - loss: 326307168.0000 - mean_squared_error: 326307168.0000 - val_loss: 866697088.0000 - val_mean_squared_error: 866697088.0000 - lr: 0.0100\n",
      "Epoch 88/100\n",
      "26/30 [=========================>....] - ETA: 0s - loss: 327736800.0000 - mean_squared_error: 327736800.0000WARNING:tensorflow:Learning rate reduction is conditioned on metric `root_mean_squared_error` which is not available. Available metrics are: loss,mean_squared_error,val_loss,val_mean_squared_error,lr\n"
     ]
    },
    {
     "name": "stderr",
     "output_type": "stream",
     "text": [
      "WARNING:tensorflow:Learning rate reduction is conditioned on metric `root_mean_squared_error` which is not available. Available metrics are: loss,mean_squared_error,val_loss,val_mean_squared_error,lr\n"
     ]
    },
    {
     "name": "stdout",
     "output_type": "stream",
     "text": [
      "30/30 [==============================] - 0s 11ms/step - loss: 322799136.0000 - mean_squared_error: 322799136.0000 - val_loss: 868272512.0000 - val_mean_squared_error: 868272512.0000 - lr: 0.0100\n",
      "Epoch 89/100\n",
      "26/30 [=========================>....] - ETA: 0s - loss: 277649120.0000 - mean_squared_error: 277649120.0000WARNING:tensorflow:Learning rate reduction is conditioned on metric `root_mean_squared_error` which is not available. Available metrics are: loss,mean_squared_error,val_loss,val_mean_squared_error,lr\n"
     ]
    },
    {
     "name": "stderr",
     "output_type": "stream",
     "text": [
      "WARNING:tensorflow:Learning rate reduction is conditioned on metric `root_mean_squared_error` which is not available. Available metrics are: loss,mean_squared_error,val_loss,val_mean_squared_error,lr\n"
     ]
    },
    {
     "name": "stdout",
     "output_type": "stream",
     "text": [
      "30/30 [==============================] - 0s 11ms/step - loss: 275866304.0000 - mean_squared_error: 275866304.0000 - val_loss: 716645248.0000 - val_mean_squared_error: 716645248.0000 - lr: 0.0100\n",
      "Epoch 90/100\n",
      "26/30 [=========================>....] - ETA: 0s - loss: 368208448.0000 - mean_squared_error: 368208448.0000WARNING:tensorflow:Learning rate reduction is conditioned on metric `root_mean_squared_error` which is not available. Available metrics are: loss,mean_squared_error,val_loss,val_mean_squared_error,lr\n"
     ]
    },
    {
     "name": "stderr",
     "output_type": "stream",
     "text": [
      "WARNING:tensorflow:Learning rate reduction is conditioned on metric `root_mean_squared_error` which is not available. Available metrics are: loss,mean_squared_error,val_loss,val_mean_squared_error,lr\n"
     ]
    },
    {
     "name": "stdout",
     "output_type": "stream",
     "text": [
      "30/30 [==============================] - 0s 11ms/step - loss: 349234368.0000 - mean_squared_error: 349234368.0000 - val_loss: 1061114432.0000 - val_mean_squared_error: 1061114432.0000 - lr: 0.0100\n",
      "Epoch 91/100\n",
      "25/30 [========================>.....] - ETA: 0s - loss: 415129056.0000 - mean_squared_error: 415129056.0000WARNING:tensorflow:Learning rate reduction is conditioned on metric `root_mean_squared_error` which is not available. Available metrics are: loss,mean_squared_error,val_loss,val_mean_squared_error,lr\n"
     ]
    },
    {
     "name": "stderr",
     "output_type": "stream",
     "text": [
      "WARNING:tensorflow:Learning rate reduction is conditioned on metric `root_mean_squared_error` which is not available. Available metrics are: loss,mean_squared_error,val_loss,val_mean_squared_error,lr\n"
     ]
    },
    {
     "name": "stdout",
     "output_type": "stream",
     "text": [
      "30/30 [==============================] - 0s 11ms/step - loss: 404486304.0000 - mean_squared_error: 404486304.0000 - val_loss: 710516032.0000 - val_mean_squared_error: 710516032.0000 - lr: 0.0100\n",
      "Epoch 92/100\n",
      "30/30 [==============================] - ETA: 0s - loss: 390417216.0000 - mean_squared_error: 390417216.0000WARNING:tensorflow:Learning rate reduction is conditioned on metric `root_mean_squared_error` which is not available. Available metrics are: loss,mean_squared_error,val_loss,val_mean_squared_error,lr\n"
     ]
    },
    {
     "name": "stderr",
     "output_type": "stream",
     "text": [
      "WARNING:tensorflow:Learning rate reduction is conditioned on metric `root_mean_squared_error` which is not available. Available metrics are: loss,mean_squared_error,val_loss,val_mean_squared_error,lr\n"
     ]
    },
    {
     "name": "stdout",
     "output_type": "stream",
     "text": [
      "30/30 [==============================] - 0s 12ms/step - loss: 390417216.0000 - mean_squared_error: 390417216.0000 - val_loss: 779319296.0000 - val_mean_squared_error: 779319296.0000 - lr: 0.0100\n",
      "Epoch 93/100\n",
      "26/30 [=========================>....] - ETA: 0s - loss: 347927872.0000 - mean_squared_error: 347927872.0000WARNING:tensorflow:Learning rate reduction is conditioned on metric `root_mean_squared_error` which is not available. Available metrics are: loss,mean_squared_error,val_loss,val_mean_squared_error,lr\n"
     ]
    },
    {
     "name": "stderr",
     "output_type": "stream",
     "text": [
      "WARNING:tensorflow:Learning rate reduction is conditioned on metric `root_mean_squared_error` which is not available. Available metrics are: loss,mean_squared_error,val_loss,val_mean_squared_error,lr\n"
     ]
    },
    {
     "name": "stdout",
     "output_type": "stream",
     "text": [
      "30/30 [==============================] - 0s 11ms/step - loss: 358919232.0000 - mean_squared_error: 358919232.0000 - val_loss: 957081152.0000 - val_mean_squared_error: 957081152.0000 - lr: 0.0100\n",
      "Epoch 94/100\n",
      "27/30 [==========================>...] - ETA: 0s - loss: 414912704.0000 - mean_squared_error: 414912704.0000WARNING:tensorflow:Learning rate reduction is conditioned on metric `root_mean_squared_error` which is not available. Available metrics are: loss,mean_squared_error,val_loss,val_mean_squared_error,lr\n"
     ]
    },
    {
     "name": "stderr",
     "output_type": "stream",
     "text": [
      "WARNING:tensorflow:Learning rate reduction is conditioned on metric `root_mean_squared_error` which is not available. Available metrics are: loss,mean_squared_error,val_loss,val_mean_squared_error,lr\n"
     ]
    },
    {
     "name": "stdout",
     "output_type": "stream",
     "text": [
      "30/30 [==============================] - 0s 11ms/step - loss: 409169376.0000 - mean_squared_error: 409169376.0000 - val_loss: 777897216.0000 - val_mean_squared_error: 777897216.0000 - lr: 0.0100\n",
      "Epoch 95/100\n",
      "26/30 [=========================>....] - ETA: 0s - loss: 471974112.0000 - mean_squared_error: 471974112.0000WARNING:tensorflow:Learning rate reduction is conditioned on metric `root_mean_squared_error` which is not available. Available metrics are: loss,mean_squared_error,val_loss,val_mean_squared_error,lr\n"
     ]
    },
    {
     "name": "stderr",
     "output_type": "stream",
     "text": [
      "WARNING:tensorflow:Learning rate reduction is conditioned on metric `root_mean_squared_error` which is not available. Available metrics are: loss,mean_squared_error,val_loss,val_mean_squared_error,lr\n"
     ]
    },
    {
     "name": "stdout",
     "output_type": "stream",
     "text": [
      "30/30 [==============================] - 0s 11ms/step - loss: 479390048.0000 - mean_squared_error: 479390048.0000 - val_loss: 1035743360.0000 - val_mean_squared_error: 1035743360.0000 - lr: 0.0100\n",
      "Epoch 96/100\n",
      "27/30 [==========================>...] - ETA: 0s - loss: 447957472.0000 - mean_squared_error: 447957472.0000WARNING:tensorflow:Learning rate reduction is conditioned on metric `root_mean_squared_error` which is not available. Available metrics are: loss,mean_squared_error,val_loss,val_mean_squared_error,lr\n"
     ]
    },
    {
     "name": "stderr",
     "output_type": "stream",
     "text": [
      "WARNING:tensorflow:Learning rate reduction is conditioned on metric `root_mean_squared_error` which is not available. Available metrics are: loss,mean_squared_error,val_loss,val_mean_squared_error,lr\n"
     ]
    },
    {
     "name": "stdout",
     "output_type": "stream",
     "text": [
      "30/30 [==============================] - 0s 11ms/step - loss: 456364448.0000 - mean_squared_error: 456364448.0000 - val_loss: 655238720.0000 - val_mean_squared_error: 655238720.0000 - lr: 0.0100\n",
      "Epoch 97/100\n",
      "24/30 [=======================>......] - ETA: 0s - loss: 571412416.0000 - mean_squared_error: 571412416.0000WARNING:tensorflow:Learning rate reduction is conditioned on metric `root_mean_squared_error` which is not available. Available metrics are: loss,mean_squared_error,val_loss,val_mean_squared_error,lr\n"
     ]
    },
    {
     "name": "stderr",
     "output_type": "stream",
     "text": [
      "WARNING:tensorflow:Learning rate reduction is conditioned on metric `root_mean_squared_error` which is not available. Available metrics are: loss,mean_squared_error,val_loss,val_mean_squared_error,lr\n"
     ]
    },
    {
     "name": "stdout",
     "output_type": "stream",
     "text": [
      "30/30 [==============================] - 0s 11ms/step - loss: 568872000.0000 - mean_squared_error: 568872000.0000 - val_loss: 1652303872.0000 - val_mean_squared_error: 1652303872.0000 - lr: 0.0100\n",
      "Epoch 98/100\n",
      "27/30 [==========================>...] - ETA: 0s - loss: 459997056.0000 - mean_squared_error: 459997056.0000WARNING:tensorflow:Learning rate reduction is conditioned on metric `root_mean_squared_error` which is not available. Available metrics are: loss,mean_squared_error,val_loss,val_mean_squared_error,lr\n"
     ]
    },
    {
     "name": "stderr",
     "output_type": "stream",
     "text": [
      "WARNING:tensorflow:Learning rate reduction is conditioned on metric `root_mean_squared_error` which is not available. Available metrics are: loss,mean_squared_error,val_loss,val_mean_squared_error,lr\n"
     ]
    },
    {
     "name": "stdout",
     "output_type": "stream",
     "text": [
      "30/30 [==============================] - 0s 11ms/step - loss: 447724896.0000 - mean_squared_error: 447724896.0000 - val_loss: 702437760.0000 - val_mean_squared_error: 702437760.0000 - lr: 0.0100\n",
      "Epoch 99/100\n",
      "25/30 [========================>.....] - ETA: 0s - loss: 258848400.0000 - mean_squared_error: 258848400.0000WARNING:tensorflow:Learning rate reduction is conditioned on metric `root_mean_squared_error` which is not available. Available metrics are: loss,mean_squared_error,val_loss,val_mean_squared_error,lr\n"
     ]
    },
    {
     "name": "stderr",
     "output_type": "stream",
     "text": [
      "WARNING:tensorflow:Learning rate reduction is conditioned on metric `root_mean_squared_error` which is not available. Available metrics are: loss,mean_squared_error,val_loss,val_mean_squared_error,lr\n"
     ]
    },
    {
     "name": "stdout",
     "output_type": "stream",
     "text": [
      "30/30 [==============================] - 0s 11ms/step - loss: 276900032.0000 - mean_squared_error: 276900032.0000 - val_loss: 719983488.0000 - val_mean_squared_error: 719983488.0000 - lr: 0.0100\n",
      "Epoch 100/100\n",
      "25/30 [========================>.....] - ETA: 0s - loss: 386668384.0000 - mean_squared_error: 386668384.0000WARNING:tensorflow:Learning rate reduction is conditioned on metric `root_mean_squared_error` which is not available. Available metrics are: loss,mean_squared_error,val_loss,val_mean_squared_error,lr\n"
     ]
    },
    {
     "name": "stderr",
     "output_type": "stream",
     "text": [
      "WARNING:tensorflow:Learning rate reduction is conditioned on metric `root_mean_squared_error` which is not available. Available metrics are: loss,mean_squared_error,val_loss,val_mean_squared_error,lr\n"
     ]
    },
    {
     "name": "stdout",
     "output_type": "stream",
     "text": [
      "30/30 [==============================] - 0s 12ms/step - loss: 393535936.0000 - mean_squared_error: 393535936.0000 - val_loss: 779250752.0000 - val_mean_squared_error: 779250752.0000 - lr: 0.0100\n"
     ]
    }
   ],
   "source": [
    "# Build the model with the optimal hyperparameters and train it on the data for 50 epochs\n",
    "history = model.fit(X_train[:,feat_mask], y_train, epochs=100, validation_split=0.2, callbacks=[cp2,lr,tb2])"
   ]
  },
  {
   "cell_type": "code",
   "execution_count": 127,
   "metadata": {},
   "outputs": [],
   "source": [
    "model = keras.models.load_model('mlp_keras_tuner/')"
   ]
  },
  {
   "cell_type": "code",
   "execution_count": 128,
   "metadata": {},
   "outputs": [
    {
     "name": "stdout",
     "output_type": "stream",
     "text": [
      "37/37 [==============================] - 0s 1ms/step\n",
      "10/10 [==============================] - 0s 1ms/step\n",
      "MSE train MLP= 15975.662096354787\n",
      "MSE test MLP= 26966.28519290054\n"
     ]
    }
   ],
   "source": [
    "# Evaluate the test performance of the tuned model\n",
    "mlp_train_pred=model.predict(X_train[:,feat_mask])\n",
    "mlp_test_pred=model.predict(X_test[:,feat_mask])\n",
    "print('MSE train MLP=' , mean_squared_error(y_train,mlp_train_pred, squared=False))\n",
    "print('MSE test MLP=' , mean_squared_error(y_test,mlp_test_pred, squared=False))"
   ]
  },
  {
   "attachments": {},
   "cell_type": "markdown",
   "metadata": {},
   "source": [
    "### MLP Manual"
   ]
  },
  {
   "cell_type": "code",
   "execution_count": 84,
   "metadata": {},
   "outputs": [
    {
     "name": "stdout",
     "output_type": "stream",
     "text": [
      "Model: \"sequential_2\"\n",
      "_________________________________________________________________\n",
      " Layer (type)                Output Shape              Param #   \n",
      "=================================================================\n",
      " dense_8 (Dense)             (None, 500)               19500     \n",
      "                                                                 \n",
      " dropout_6 (Dropout)         (None, 500)               0         \n",
      "                                                                 \n",
      " dense_9 (Dense)             (None, 300)               150300    \n",
      "                                                                 \n",
      " dropout_7 (Dropout)         (None, 300)               0         \n",
      "                                                                 \n",
      " dense_10 (Dense)            (None, 100)               30100     \n",
      "                                                                 \n",
      " dropout_8 (Dropout)         (None, 100)               0         \n",
      "                                                                 \n",
      " dense_11 (Dense)            (None, 1)                 101       \n",
      "                                                                 \n",
      "=================================================================\n",
      "Total params: 200,001\n",
      "Trainable params: 200,001\n",
      "Non-trainable params: 0\n",
      "_________________________________________________________________\n"
     ]
    }
   ],
   "source": [
    "### Manual tests\n",
    "\n",
    "\n",
    "model = keras.Sequential()\n",
    "model.add(layers.Input(shape=input_shape))\n",
    "#model.add(layers.Dense(8, input_dim=6, activation='relu'))\n",
    "model.add(layers.Dense(500, activation='relu'))\n",
    "model.add(layers.Dropout(0.1))\n",
    "model.add(layers.Dense(300, activation='relu'))\n",
    "model.add(layers.Dropout(0.1))\n",
    "model.add(layers.Dense(100, activation='relu'))\n",
    "model.add(layers.Dropout(0.1))\n",
    "model.add(layers.Dense(1))\n",
    "model.summary()"
   ]
  },
  {
   "cell_type": "code",
   "execution_count": 85,
   "metadata": {},
   "outputs": [],
   "source": [
    "opt = keras.optimizers.Adam(learning_rate=0.001)"
   ]
  },
  {
   "cell_type": "code",
   "execution_count": 86,
   "metadata": {},
   "outputs": [],
   "source": [
    "model.compile(\n",
    "  loss='mse', \n",
    "  optimizer=opt,\n",
    "  metrics=[keras.metrics.RootMeanSquaredError()],\n",
    ")"
   ]
  },
  {
   "cell_type": "code",
   "execution_count": 88,
   "metadata": {},
   "outputs": [],
   "source": [
    "cp2 = keras.callbacks.ModelCheckpoint('/home/manuelquiros/Documents/Kaggle/House_Prices/MLP2', save_best_only=True)\n",
    "log_dir2 = \"MLP2/logs/fit/\"\n",
    "tb2 = keras.callbacks.TensorBoard(log_dir=log_dir2, histogram_freq=1)\n",
    "es2 = keras.callbacks.EarlyStopping(monitor='root_mean_squared_error', patience=30)\n",
    "lr = keras.callbacks.ReduceLROnPlateau(monitor='root_mean_squared_error', factor=0.2,patience=15, min_lr=0.00000001)"
   ]
  },
  {
   "cell_type": "code",
   "execution_count": 89,
   "metadata": {},
   "outputs": [
    {
     "name": "stdout",
     "output_type": "stream",
     "text": [
      "Epoch 1/200\n",
      "113/117 [===========================>..] - ETA: 0s - loss: 36438056960.0000 - root_mean_squared_error: 190887.5469"
     ]
    },
    {
     "name": "stderr",
     "output_type": "stream",
     "text": [
      "2023-03-29 10:58:03.687533: I tensorflow/core/common_runtime/executor.cc:1197] [/device:CPU:0] (DEBUG INFO) Executor start aborting (this does not indicate an error and you can ignore this message): INVALID_ARGUMENT: You must feed a value for placeholder tensor 'inputs' with dtype float and shape [?,500]\n",
      "\t [[{{node inputs}}]]\n",
      "2023-03-29 10:58:03.701388: I tensorflow/core/common_runtime/executor.cc:1197] [/device:CPU:0] (DEBUG INFO) Executor start aborting (this does not indicate an error and you can ignore this message): INVALID_ARGUMENT: You must feed a value for placeholder tensor 'inputs' with dtype float and shape [?,300]\n",
      "\t [[{{node inputs}}]]\n",
      "2023-03-29 10:58:03.713807: I tensorflow/core/common_runtime/executor.cc:1197] [/device:CPU:0] (DEBUG INFO) Executor start aborting (this does not indicate an error and you can ignore this message): INVALID_ARGUMENT: You must feed a value for placeholder tensor 'inputs' with dtype float and shape [?,100]\n",
      "\t [[{{node inputs}}]]\n",
      "2023-03-29 10:58:03.859808: I tensorflow/core/common_runtime/executor.cc:1197] [/device:CPU:0] (DEBUG INFO) Executor start aborting (this does not indicate an error and you can ignore this message): INVALID_ARGUMENT: You must feed a value for placeholder tensor 'inputs' with dtype float and shape [?,500]\n",
      "\t [[{{node inputs}}]]\n",
      "2023-03-29 10:58:03.881477: I tensorflow/core/common_runtime/executor.cc:1197] [/device:CPU:0] (DEBUG INFO) Executor start aborting (this does not indicate an error and you can ignore this message): INVALID_ARGUMENT: You must feed a value for placeholder tensor 'inputs' with dtype float and shape [?,300]\n",
      "\t [[{{node inputs}}]]\n",
      "2023-03-29 10:58:03.904062: I tensorflow/core/common_runtime/executor.cc:1197] [/device:CPU:0] (DEBUG INFO) Executor start aborting (this does not indicate an error and you can ignore this message): INVALID_ARGUMENT: You must feed a value for placeholder tensor 'inputs' with dtype float and shape [?,100]\n",
      "\t [[{{node inputs}}]]\n",
      "WARNING:absl:Found untraced functions such as _update_step_xla while saving (showing 1 of 1). These functions will not be directly callable after loading.\n"
     ]
    },
    {
     "name": "stdout",
     "output_type": "stream",
     "text": [
      "INFO:tensorflow:Assets written to: /home/manuelquiros/Documents/Kaggle/House_Prices/MLP2/assets\n"
     ]
    },
    {
     "name": "stderr",
     "output_type": "stream",
     "text": [
      "INFO:tensorflow:Assets written to: /home/manuelquiros/Documents/Kaggle/House_Prices/MLP2/assets\n"
     ]
    },
    {
     "name": "stdout",
     "output_type": "stream",
     "text": [
      "117/117 [==============================] - 2s 10ms/step - loss: 35905306624.0000 - root_mean_squared_error: 189486.9531 - val_loss: 21827321856.0000 - val_root_mean_squared_error: 147740.7188 - lr: 0.0010\n",
      "Epoch 2/200\n",
      " 96/117 [=======================>......] - ETA: 0s - loss: 7984091136.0000 - root_mean_squared_error: 89353.7422"
     ]
    },
    {
     "name": "stderr",
     "output_type": "stream",
     "text": [
      "2023-03-29 10:58:04.511881: I tensorflow/core/common_runtime/executor.cc:1197] [/device:CPU:0] (DEBUG INFO) Executor start aborting (this does not indicate an error and you can ignore this message): INVALID_ARGUMENT: You must feed a value for placeholder tensor 'inputs' with dtype float and shape [?,500]\n",
      "\t [[{{node inputs}}]]\n",
      "2023-03-29 10:58:04.519915: I tensorflow/core/common_runtime/executor.cc:1197] [/device:CPU:0] (DEBUG INFO) Executor start aborting (this does not indicate an error and you can ignore this message): INVALID_ARGUMENT: You must feed a value for placeholder tensor 'inputs' with dtype float and shape [?,300]\n",
      "\t [[{{node inputs}}]]\n",
      "2023-03-29 10:58:04.528385: I tensorflow/core/common_runtime/executor.cc:1197] [/device:CPU:0] (DEBUG INFO) Executor start aborting (this does not indicate an error and you can ignore this message): INVALID_ARGUMENT: You must feed a value for placeholder tensor 'inputs' with dtype float and shape [?,100]\n",
      "\t [[{{node inputs}}]]\n",
      "2023-03-29 10:58:04.626416: I tensorflow/core/common_runtime/executor.cc:1197] [/device:CPU:0] (DEBUG INFO) Executor start aborting (this does not indicate an error and you can ignore this message): INVALID_ARGUMENT: You must feed a value for placeholder tensor 'inputs' with dtype float and shape [?,500]\n",
      "\t [[{{node inputs}}]]\n",
      "2023-03-29 10:58:04.645383: I tensorflow/core/common_runtime/executor.cc:1197] [/device:CPU:0] (DEBUG INFO) Executor start aborting (this does not indicate an error and you can ignore this message): INVALID_ARGUMENT: You must feed a value for placeholder tensor 'inputs' with dtype float and shape [?,300]\n",
      "\t [[{{node inputs}}]]\n",
      "2023-03-29 10:58:04.665049: I tensorflow/core/common_runtime/executor.cc:1197] [/device:CPU:0] (DEBUG INFO) Executor start aborting (this does not indicate an error and you can ignore this message): INVALID_ARGUMENT: You must feed a value for placeholder tensor 'inputs' with dtype float and shape [?,100]\n",
      "\t [[{{node inputs}}]]\n",
      "WARNING:absl:Found untraced functions such as _update_step_xla while saving (showing 1 of 1). These functions will not be directly callable after loading.\n"
     ]
    },
    {
     "name": "stdout",
     "output_type": "stream",
     "text": [
      "INFO:tensorflow:Assets written to: /home/manuelquiros/Documents/Kaggle/House_Prices/MLP2/assets\n"
     ]
    },
    {
     "name": "stderr",
     "output_type": "stream",
     "text": [
      "INFO:tensorflow:Assets written to: /home/manuelquiros/Documents/Kaggle/House_Prices/MLP2/assets\n"
     ]
    },
    {
     "name": "stdout",
     "output_type": "stream",
     "text": [
      "117/117 [==============================] - 1s 6ms/step - loss: 7170947584.0000 - root_mean_squared_error: 84681.4453 - val_loss: 3561089792.0000 - val_root_mean_squared_error: 59674.8672 - lr: 0.0010\n",
      "Epoch 3/200\n",
      " 98/117 [========================>.....] - ETA: 0s - loss: 3198484480.0000 - root_mean_squared_error: 56555.1445"
     ]
    },
    {
     "name": "stderr",
     "output_type": "stream",
     "text": [
      "2023-03-29 10:58:05.238815: I tensorflow/core/common_runtime/executor.cc:1197] [/device:CPU:0] (DEBUG INFO) Executor start aborting (this does not indicate an error and you can ignore this message): INVALID_ARGUMENT: You must feed a value for placeholder tensor 'inputs' with dtype float and shape [?,500]\n",
      "\t [[{{node inputs}}]]\n",
      "2023-03-29 10:58:05.248597: I tensorflow/core/common_runtime/executor.cc:1197] [/device:CPU:0] (DEBUG INFO) Executor start aborting (this does not indicate an error and you can ignore this message): INVALID_ARGUMENT: You must feed a value for placeholder tensor 'inputs' with dtype float and shape [?,300]\n",
      "\t [[{{node inputs}}]]\n",
      "2023-03-29 10:58:05.256796: I tensorflow/core/common_runtime/executor.cc:1197] [/device:CPU:0] (DEBUG INFO) Executor start aborting (this does not indicate an error and you can ignore this message): INVALID_ARGUMENT: You must feed a value for placeholder tensor 'inputs' with dtype float and shape [?,100]\n",
      "\t [[{{node inputs}}]]\n",
      "2023-03-29 10:58:05.353607: I tensorflow/core/common_runtime/executor.cc:1197] [/device:CPU:0] (DEBUG INFO) Executor start aborting (this does not indicate an error and you can ignore this message): INVALID_ARGUMENT: You must feed a value for placeholder tensor 'inputs' with dtype float and shape [?,500]\n",
      "\t [[{{node inputs}}]]\n",
      "2023-03-29 10:58:05.372147: I tensorflow/core/common_runtime/executor.cc:1197] [/device:CPU:0] (DEBUG INFO) Executor start aborting (this does not indicate an error and you can ignore this message): INVALID_ARGUMENT: You must feed a value for placeholder tensor 'inputs' with dtype float and shape [?,300]\n",
      "\t [[{{node inputs}}]]\n",
      "2023-03-29 10:58:05.391867: I tensorflow/core/common_runtime/executor.cc:1197] [/device:CPU:0] (DEBUG INFO) Executor start aborting (this does not indicate an error and you can ignore this message): INVALID_ARGUMENT: You must feed a value for placeholder tensor 'inputs' with dtype float and shape [?,100]\n",
      "\t [[{{node inputs}}]]\n",
      "WARNING:absl:Found untraced functions such as _update_step_xla while saving (showing 1 of 1). These functions will not be directly callable after loading.\n"
     ]
    },
    {
     "name": "stdout",
     "output_type": "stream",
     "text": [
      "INFO:tensorflow:Assets written to: /home/manuelquiros/Documents/Kaggle/House_Prices/MLP2/assets\n"
     ]
    },
    {
     "name": "stderr",
     "output_type": "stream",
     "text": [
      "INFO:tensorflow:Assets written to: /home/manuelquiros/Documents/Kaggle/House_Prices/MLP2/assets\n"
     ]
    },
    {
     "name": "stdout",
     "output_type": "stream",
     "text": [
      "117/117 [==============================] - 1s 6ms/step - loss: 3063558400.0000 - root_mean_squared_error: 55349.4219 - val_loss: 2042973056.0000 - val_root_mean_squared_error: 45199.2578 - lr: 0.0010\n",
      "Epoch 4/200\n",
      " 94/117 [=======================>......] - ETA: 0s - loss: 2087405824.0000 - root_mean_squared_error: 45688.1367"
     ]
    },
    {
     "name": "stderr",
     "output_type": "stream",
     "text": [
      "2023-03-29 10:58:05.958884: I tensorflow/core/common_runtime/executor.cc:1197] [/device:CPU:0] (DEBUG INFO) Executor start aborting (this does not indicate an error and you can ignore this message): INVALID_ARGUMENT: You must feed a value for placeholder tensor 'inputs' with dtype float and shape [?,500]\n",
      "\t [[{{node inputs}}]]\n",
      "2023-03-29 10:58:05.967728: I tensorflow/core/common_runtime/executor.cc:1197] [/device:CPU:0] (DEBUG INFO) Executor start aborting (this does not indicate an error and you can ignore this message): INVALID_ARGUMENT: You must feed a value for placeholder tensor 'inputs' with dtype float and shape [?,300]\n",
      "\t [[{{node inputs}}]]\n",
      "2023-03-29 10:58:05.975570: I tensorflow/core/common_runtime/executor.cc:1197] [/device:CPU:0] (DEBUG INFO) Executor start aborting (this does not indicate an error and you can ignore this message): INVALID_ARGUMENT: You must feed a value for placeholder tensor 'inputs' with dtype float and shape [?,100]\n",
      "\t [[{{node inputs}}]]\n",
      "2023-03-29 10:58:06.075307: I tensorflow/core/common_runtime/executor.cc:1197] [/device:CPU:0] (DEBUG INFO) Executor start aborting (this does not indicate an error and you can ignore this message): INVALID_ARGUMENT: You must feed a value for placeholder tensor 'inputs' with dtype float and shape [?,500]\n",
      "\t [[{{node inputs}}]]\n",
      "2023-03-29 10:58:06.094117: I tensorflow/core/common_runtime/executor.cc:1197] [/device:CPU:0] (DEBUG INFO) Executor start aborting (this does not indicate an error and you can ignore this message): INVALID_ARGUMENT: You must feed a value for placeholder tensor 'inputs' with dtype float and shape [?,300]\n",
      "\t [[{{node inputs}}]]\n",
      "2023-03-29 10:58:06.112788: I tensorflow/core/common_runtime/executor.cc:1197] [/device:CPU:0] (DEBUG INFO) Executor start aborting (this does not indicate an error and you can ignore this message): INVALID_ARGUMENT: You must feed a value for placeholder tensor 'inputs' with dtype float and shape [?,100]\n",
      "\t [[{{node inputs}}]]\n",
      "WARNING:absl:Found untraced functions such as _update_step_xla while saving (showing 1 of 1). These functions will not be directly callable after loading.\n"
     ]
    },
    {
     "name": "stdout",
     "output_type": "stream",
     "text": [
      "INFO:tensorflow:Assets written to: /home/manuelquiros/Documents/Kaggle/House_Prices/MLP2/assets\n"
     ]
    },
    {
     "name": "stderr",
     "output_type": "stream",
     "text": [
      "INFO:tensorflow:Assets written to: /home/manuelquiros/Documents/Kaggle/House_Prices/MLP2/assets\n"
     ]
    },
    {
     "name": "stdout",
     "output_type": "stream",
     "text": [
      "117/117 [==============================] - 1s 8ms/step - loss: 2106355584.0000 - root_mean_squared_error: 45895.0508 - val_loss: 1812684928.0000 - val_root_mean_squared_error: 42575.6367 - lr: 0.0010\n",
      "Epoch 5/200\n",
      " 96/117 [=======================>......] - ETA: 0s - loss: 1832426880.0000 - root_mean_squared_error: 42806.8555"
     ]
    },
    {
     "name": "stderr",
     "output_type": "stream",
     "text": [
      "2023-03-29 10:58:06.869244: I tensorflow/core/common_runtime/executor.cc:1197] [/device:CPU:0] (DEBUG INFO) Executor start aborting (this does not indicate an error and you can ignore this message): INVALID_ARGUMENT: You must feed a value for placeholder tensor 'inputs' with dtype float and shape [?,500]\n",
      "\t [[{{node inputs}}]]\n",
      "2023-03-29 10:58:06.877888: I tensorflow/core/common_runtime/executor.cc:1197] [/device:CPU:0] (DEBUG INFO) Executor start aborting (this does not indicate an error and you can ignore this message): INVALID_ARGUMENT: You must feed a value for placeholder tensor 'inputs' with dtype float and shape [?,300]\n",
      "\t [[{{node inputs}}]]\n",
      "2023-03-29 10:58:06.885835: I tensorflow/core/common_runtime/executor.cc:1197] [/device:CPU:0] (DEBUG INFO) Executor start aborting (this does not indicate an error and you can ignore this message): INVALID_ARGUMENT: You must feed a value for placeholder tensor 'inputs' with dtype float and shape [?,100]\n",
      "\t [[{{node inputs}}]]\n",
      "2023-03-29 10:58:06.982944: I tensorflow/core/common_runtime/executor.cc:1197] [/device:CPU:0] (DEBUG INFO) Executor start aborting (this does not indicate an error and you can ignore this message): INVALID_ARGUMENT: You must feed a value for placeholder tensor 'inputs' with dtype float and shape [?,500]\n",
      "\t [[{{node inputs}}]]\n",
      "2023-03-29 10:58:07.003930: I tensorflow/core/common_runtime/executor.cc:1197] [/device:CPU:0] (DEBUG INFO) Executor start aborting (this does not indicate an error and you can ignore this message): INVALID_ARGUMENT: You must feed a value for placeholder tensor 'inputs' with dtype float and shape [?,300]\n",
      "\t [[{{node inputs}}]]\n",
      "2023-03-29 10:58:07.022145: I tensorflow/core/common_runtime/executor.cc:1197] [/device:CPU:0] (DEBUG INFO) Executor start aborting (this does not indicate an error and you can ignore this message): INVALID_ARGUMENT: You must feed a value for placeholder tensor 'inputs' with dtype float and shape [?,100]\n",
      "\t [[{{node inputs}}]]\n",
      "WARNING:absl:Found untraced functions such as _update_step_xla while saving (showing 1 of 1). These functions will not be directly callable after loading.\n"
     ]
    },
    {
     "name": "stdout",
     "output_type": "stream",
     "text": [
      "INFO:tensorflow:Assets written to: /home/manuelquiros/Documents/Kaggle/House_Prices/MLP2/assets\n"
     ]
    },
    {
     "name": "stderr",
     "output_type": "stream",
     "text": [
      "INFO:tensorflow:Assets written to: /home/manuelquiros/Documents/Kaggle/House_Prices/MLP2/assets\n"
     ]
    },
    {
     "name": "stdout",
     "output_type": "stream",
     "text": [
      "117/117 [==============================] - 1s 6ms/step - loss: 1779301760.0000 - root_mean_squared_error: 42181.7695 - val_loss: 1394916480.0000 - val_root_mean_squared_error: 37348.5820 - lr: 0.0010\n",
      "Epoch 6/200\n",
      " 98/117 [========================>.....] - ETA: 0s - loss: 1470589952.0000 - root_mean_squared_error: 38348.2734"
     ]
    },
    {
     "name": "stderr",
     "output_type": "stream",
     "text": [
      "2023-03-29 10:58:07.578511: I tensorflow/core/common_runtime/executor.cc:1197] [/device:CPU:0] (DEBUG INFO) Executor start aborting (this does not indicate an error and you can ignore this message): INVALID_ARGUMENT: You must feed a value for placeholder tensor 'inputs' with dtype float and shape [?,500]\n",
      "\t [[{{node inputs}}]]\n",
      "2023-03-29 10:58:07.588459: I tensorflow/core/common_runtime/executor.cc:1197] [/device:CPU:0] (DEBUG INFO) Executor start aborting (this does not indicate an error and you can ignore this message): INVALID_ARGUMENT: You must feed a value for placeholder tensor 'inputs' with dtype float and shape [?,300]\n",
      "\t [[{{node inputs}}]]\n",
      "2023-03-29 10:58:07.598001: I tensorflow/core/common_runtime/executor.cc:1197] [/device:CPU:0] (DEBUG INFO) Executor start aborting (this does not indicate an error and you can ignore this message): INVALID_ARGUMENT: You must feed a value for placeholder tensor 'inputs' with dtype float and shape [?,100]\n",
      "\t [[{{node inputs}}]]\n",
      "2023-03-29 10:58:07.695514: I tensorflow/core/common_runtime/executor.cc:1197] [/device:CPU:0] (DEBUG INFO) Executor start aborting (this does not indicate an error and you can ignore this message): INVALID_ARGUMENT: You must feed a value for placeholder tensor 'inputs' with dtype float and shape [?,500]\n",
      "\t [[{{node inputs}}]]\n",
      "2023-03-29 10:58:07.714734: I tensorflow/core/common_runtime/executor.cc:1197] [/device:CPU:0] (DEBUG INFO) Executor start aborting (this does not indicate an error and you can ignore this message): INVALID_ARGUMENT: You must feed a value for placeholder tensor 'inputs' with dtype float and shape [?,300]\n",
      "\t [[{{node inputs}}]]\n",
      "2023-03-29 10:58:07.734354: I tensorflow/core/common_runtime/executor.cc:1197] [/device:CPU:0] (DEBUG INFO) Executor start aborting (this does not indicate an error and you can ignore this message): INVALID_ARGUMENT: You must feed a value for placeholder tensor 'inputs' with dtype float and shape [?,100]\n",
      "\t [[{{node inputs}}]]\n",
      "WARNING:absl:Found untraced functions such as _update_step_xla while saving (showing 1 of 1). These functions will not be directly callable after loading.\n"
     ]
    },
    {
     "name": "stdout",
     "output_type": "stream",
     "text": [
      "INFO:tensorflow:Assets written to: /home/manuelquiros/Documents/Kaggle/House_Prices/MLP2/assets\n"
     ]
    },
    {
     "name": "stderr",
     "output_type": "stream",
     "text": [
      "INFO:tensorflow:Assets written to: /home/manuelquiros/Documents/Kaggle/House_Prices/MLP2/assets\n"
     ]
    },
    {
     "name": "stdout",
     "output_type": "stream",
     "text": [
      "117/117 [==============================] - 1s 6ms/step - loss: 1514174464.0000 - root_mean_squared_error: 38912.3945 - val_loss: 1236027776.0000 - val_root_mean_squared_error: 35157.1875 - lr: 0.0010\n",
      "Epoch 7/200\n",
      " 97/117 [=======================>......] - ETA: 0s - loss: 1278436736.0000 - root_mean_squared_error: 35755.2344"
     ]
    },
    {
     "name": "stderr",
     "output_type": "stream",
     "text": [
      "2023-03-29 10:58:08.301216: I tensorflow/core/common_runtime/executor.cc:1197] [/device:CPU:0] (DEBUG INFO) Executor start aborting (this does not indicate an error and you can ignore this message): INVALID_ARGUMENT: You must feed a value for placeholder tensor 'inputs' with dtype float and shape [?,500]\n",
      "\t [[{{node inputs}}]]\n",
      "2023-03-29 10:58:08.310153: I tensorflow/core/common_runtime/executor.cc:1197] [/device:CPU:0] (DEBUG INFO) Executor start aborting (this does not indicate an error and you can ignore this message): INVALID_ARGUMENT: You must feed a value for placeholder tensor 'inputs' with dtype float and shape [?,300]\n",
      "\t [[{{node inputs}}]]\n",
      "2023-03-29 10:58:08.319357: I tensorflow/core/common_runtime/executor.cc:1197] [/device:CPU:0] (DEBUG INFO) Executor start aborting (this does not indicate an error and you can ignore this message): INVALID_ARGUMENT: You must feed a value for placeholder tensor 'inputs' with dtype float and shape [?,100]\n",
      "\t [[{{node inputs}}]]\n",
      "2023-03-29 10:58:08.417947: I tensorflow/core/common_runtime/executor.cc:1197] [/device:CPU:0] (DEBUG INFO) Executor start aborting (this does not indicate an error and you can ignore this message): INVALID_ARGUMENT: You must feed a value for placeholder tensor 'inputs' with dtype float and shape [?,500]\n",
      "\t [[{{node inputs}}]]\n",
      "2023-03-29 10:58:08.436393: I tensorflow/core/common_runtime/executor.cc:1197] [/device:CPU:0] (DEBUG INFO) Executor start aborting (this does not indicate an error and you can ignore this message): INVALID_ARGUMENT: You must feed a value for placeholder tensor 'inputs' with dtype float and shape [?,300]\n",
      "\t [[{{node inputs}}]]\n",
      "2023-03-29 10:58:08.456242: I tensorflow/core/common_runtime/executor.cc:1197] [/device:CPU:0] (DEBUG INFO) Executor start aborting (this does not indicate an error and you can ignore this message): INVALID_ARGUMENT: You must feed a value for placeholder tensor 'inputs' with dtype float and shape [?,100]\n",
      "\t [[{{node inputs}}]]\n",
      "WARNING:absl:Found untraced functions such as _update_step_xla while saving (showing 1 of 1). These functions will not be directly callable after loading.\n"
     ]
    },
    {
     "name": "stdout",
     "output_type": "stream",
     "text": [
      "INFO:tensorflow:Assets written to: /home/manuelquiros/Documents/Kaggle/House_Prices/MLP2/assets\n"
     ]
    },
    {
     "name": "stderr",
     "output_type": "stream",
     "text": [
      "INFO:tensorflow:Assets written to: /home/manuelquiros/Documents/Kaggle/House_Prices/MLP2/assets\n"
     ]
    },
    {
     "name": "stdout",
     "output_type": "stream",
     "text": [
      "117/117 [==============================] - 1s 6ms/step - loss: 1311954816.0000 - root_mean_squared_error: 36220.9180 - val_loss: 1081808640.0000 - val_root_mean_squared_error: 32890.8594 - lr: 0.0010\n",
      "Epoch 8/200\n",
      " 94/117 [=======================>......] - ETA: 0s - loss: 1305674752.0000 - root_mean_squared_error: 36134.1211"
     ]
    },
    {
     "name": "stderr",
     "output_type": "stream",
     "text": [
      "2023-03-29 10:58:09.022685: I tensorflow/core/common_runtime/executor.cc:1197] [/device:CPU:0] (DEBUG INFO) Executor start aborting (this does not indicate an error and you can ignore this message): INVALID_ARGUMENT: You must feed a value for placeholder tensor 'inputs' with dtype float and shape [?,500]\n",
      "\t [[{{node inputs}}]]\n",
      "2023-03-29 10:58:09.032052: I tensorflow/core/common_runtime/executor.cc:1197] [/device:CPU:0] (DEBUG INFO) Executor start aborting (this does not indicate an error and you can ignore this message): INVALID_ARGUMENT: You must feed a value for placeholder tensor 'inputs' with dtype float and shape [?,300]\n",
      "\t [[{{node inputs}}]]\n",
      "2023-03-29 10:58:09.041365: I tensorflow/core/common_runtime/executor.cc:1197] [/device:CPU:0] (DEBUG INFO) Executor start aborting (this does not indicate an error and you can ignore this message): INVALID_ARGUMENT: You must feed a value for placeholder tensor 'inputs' with dtype float and shape [?,100]\n",
      "\t [[{{node inputs}}]]\n",
      "2023-03-29 10:58:09.140772: I tensorflow/core/common_runtime/executor.cc:1197] [/device:CPU:0] (DEBUG INFO) Executor start aborting (this does not indicate an error and you can ignore this message): INVALID_ARGUMENT: You must feed a value for placeholder tensor 'inputs' with dtype float and shape [?,500]\n",
      "\t [[{{node inputs}}]]\n",
      "2023-03-29 10:58:09.160742: I tensorflow/core/common_runtime/executor.cc:1197] [/device:CPU:0] (DEBUG INFO) Executor start aborting (this does not indicate an error and you can ignore this message): INVALID_ARGUMENT: You must feed a value for placeholder tensor 'inputs' with dtype float and shape [?,300]\n",
      "\t [[{{node inputs}}]]\n",
      "2023-03-29 10:58:09.181465: I tensorflow/core/common_runtime/executor.cc:1197] [/device:CPU:0] (DEBUG INFO) Executor start aborting (this does not indicate an error and you can ignore this message): INVALID_ARGUMENT: You must feed a value for placeholder tensor 'inputs' with dtype float and shape [?,100]\n",
      "\t [[{{node inputs}}]]\n",
      "WARNING:absl:Found untraced functions such as _update_step_xla while saving (showing 1 of 1). These functions will not be directly callable after loading.\n"
     ]
    },
    {
     "name": "stdout",
     "output_type": "stream",
     "text": [
      "INFO:tensorflow:Assets written to: /home/manuelquiros/Documents/Kaggle/House_Prices/MLP2/assets\n"
     ]
    },
    {
     "name": "stderr",
     "output_type": "stream",
     "text": [
      "INFO:tensorflow:Assets written to: /home/manuelquiros/Documents/Kaggle/House_Prices/MLP2/assets\n"
     ]
    },
    {
     "name": "stdout",
     "output_type": "stream",
     "text": [
      "117/117 [==============================] - 1s 6ms/step - loss: 1324460416.0000 - root_mean_squared_error: 36393.1367 - val_loss: 1022383488.0000 - val_root_mean_squared_error: 31974.7324 - lr: 0.0010\n",
      "Epoch 9/200\n",
      " 89/117 [=====================>........] - ETA: 0s - loss: 1366867200.0000 - root_mean_squared_error: 36971.1680"
     ]
    },
    {
     "name": "stderr",
     "output_type": "stream",
     "text": [
      "2023-03-29 10:58:09.768294: I tensorflow/core/common_runtime/executor.cc:1197] [/device:CPU:0] (DEBUG INFO) Executor start aborting (this does not indicate an error and you can ignore this message): INVALID_ARGUMENT: You must feed a value for placeholder tensor 'inputs' with dtype float and shape [?,500]\n",
      "\t [[{{node inputs}}]]\n",
      "2023-03-29 10:58:09.776888: I tensorflow/core/common_runtime/executor.cc:1197] [/device:CPU:0] (DEBUG INFO) Executor start aborting (this does not indicate an error and you can ignore this message): INVALID_ARGUMENT: You must feed a value for placeholder tensor 'inputs' with dtype float and shape [?,300]\n",
      "\t [[{{node inputs}}]]\n",
      "2023-03-29 10:58:09.786013: I tensorflow/core/common_runtime/executor.cc:1197] [/device:CPU:0] (DEBUG INFO) Executor start aborting (this does not indicate an error and you can ignore this message): INVALID_ARGUMENT: You must feed a value for placeholder tensor 'inputs' with dtype float and shape [?,100]\n",
      "\t [[{{node inputs}}]]\n",
      "2023-03-29 10:58:09.881736: I tensorflow/core/common_runtime/executor.cc:1197] [/device:CPU:0] (DEBUG INFO) Executor start aborting (this does not indicate an error and you can ignore this message): INVALID_ARGUMENT: You must feed a value for placeholder tensor 'inputs' with dtype float and shape [?,500]\n",
      "\t [[{{node inputs}}]]\n",
      "2023-03-29 10:58:09.900958: I tensorflow/core/common_runtime/executor.cc:1197] [/device:CPU:0] (DEBUG INFO) Executor start aborting (this does not indicate an error and you can ignore this message): INVALID_ARGUMENT: You must feed a value for placeholder tensor 'inputs' with dtype float and shape [?,300]\n",
      "\t [[{{node inputs}}]]\n",
      "2023-03-29 10:58:09.923156: I tensorflow/core/common_runtime/executor.cc:1197] [/device:CPU:0] (DEBUG INFO) Executor start aborting (this does not indicate an error and you can ignore this message): INVALID_ARGUMENT: You must feed a value for placeholder tensor 'inputs' with dtype float and shape [?,100]\n",
      "\t [[{{node inputs}}]]\n",
      "WARNING:absl:Found untraced functions such as _update_step_xla while saving (showing 1 of 1). These functions will not be directly callable after loading.\n"
     ]
    },
    {
     "name": "stdout",
     "output_type": "stream",
     "text": [
      "INFO:tensorflow:Assets written to: /home/manuelquiros/Documents/Kaggle/House_Prices/MLP2/assets\n"
     ]
    },
    {
     "name": "stderr",
     "output_type": "stream",
     "text": [
      "INFO:tensorflow:Assets written to: /home/manuelquiros/Documents/Kaggle/House_Prices/MLP2/assets\n"
     ]
    },
    {
     "name": "stdout",
     "output_type": "stream",
     "text": [
      "117/117 [==============================] - 1s 7ms/step - loss: 1260754048.0000 - root_mean_squared_error: 35507.0977 - val_loss: 978524864.0000 - val_root_mean_squared_error: 31281.3828 - lr: 0.0010\n",
      "Epoch 10/200\n",
      "101/117 [========================>.....] - ETA: 0s - loss: 1129010944.0000 - root_mean_squared_error: 33600.7578"
     ]
    },
    {
     "name": "stderr",
     "output_type": "stream",
     "text": [
      "2023-03-29 10:58:10.521032: I tensorflow/core/common_runtime/executor.cc:1197] [/device:CPU:0] (DEBUG INFO) Executor start aborting (this does not indicate an error and you can ignore this message): INVALID_ARGUMENT: You must feed a value for placeholder tensor 'inputs' with dtype float and shape [?,500]\n",
      "\t [[{{node inputs}}]]\n",
      "2023-03-29 10:58:10.529130: I tensorflow/core/common_runtime/executor.cc:1197] [/device:CPU:0] (DEBUG INFO) Executor start aborting (this does not indicate an error and you can ignore this message): INVALID_ARGUMENT: You must feed a value for placeholder tensor 'inputs' with dtype float and shape [?,300]\n",
      "\t [[{{node inputs}}]]\n",
      "2023-03-29 10:58:10.537235: I tensorflow/core/common_runtime/executor.cc:1197] [/device:CPU:0] (DEBUG INFO) Executor start aborting (this does not indicate an error and you can ignore this message): INVALID_ARGUMENT: You must feed a value for placeholder tensor 'inputs' with dtype float and shape [?,100]\n",
      "\t [[{{node inputs}}]]\n",
      "2023-03-29 10:58:10.639537: I tensorflow/core/common_runtime/executor.cc:1197] [/device:CPU:0] (DEBUG INFO) Executor start aborting (this does not indicate an error and you can ignore this message): INVALID_ARGUMENT: You must feed a value for placeholder tensor 'inputs' with dtype float and shape [?,500]\n",
      "\t [[{{node inputs}}]]\n",
      "2023-03-29 10:58:10.658140: I tensorflow/core/common_runtime/executor.cc:1197] [/device:CPU:0] (DEBUG INFO) Executor start aborting (this does not indicate an error and you can ignore this message): INVALID_ARGUMENT: You must feed a value for placeholder tensor 'inputs' with dtype float and shape [?,300]\n",
      "\t [[{{node inputs}}]]\n",
      "2023-03-29 10:58:10.676727: I tensorflow/core/common_runtime/executor.cc:1197] [/device:CPU:0] (DEBUG INFO) Executor start aborting (this does not indicate an error and you can ignore this message): INVALID_ARGUMENT: You must feed a value for placeholder tensor 'inputs' with dtype float and shape [?,100]\n",
      "\t [[{{node inputs}}]]\n",
      "WARNING:absl:Found untraced functions such as _update_step_xla while saving (showing 1 of 1). These functions will not be directly callable after loading.\n"
     ]
    },
    {
     "name": "stdout",
     "output_type": "stream",
     "text": [
      "INFO:tensorflow:Assets written to: /home/manuelquiros/Documents/Kaggle/House_Prices/MLP2/assets\n"
     ]
    },
    {
     "name": "stderr",
     "output_type": "stream",
     "text": [
      "INFO:tensorflow:Assets written to: /home/manuelquiros/Documents/Kaggle/House_Prices/MLP2/assets\n"
     ]
    },
    {
     "name": "stdout",
     "output_type": "stream",
     "text": [
      "117/117 [==============================] - 1s 6ms/step - loss: 1099180928.0000 - root_mean_squared_error: 33153.8984 - val_loss: 894390464.0000 - val_root_mean_squared_error: 29906.3613 - lr: 0.0010\n",
      "Epoch 11/200\n",
      "117/117 [==============================] - 0s 2ms/step - loss: 1005701888.0000 - root_mean_squared_error: 31712.8027 - val_loss: 972469440.0000 - val_root_mean_squared_error: 31184.4414 - lr: 0.0010\n",
      "Epoch 12/200\n",
      " 96/117 [=======================>......] - ETA: 0s - loss: 967950656.0000 - root_mean_squared_error: 31111.9062"
     ]
    },
    {
     "name": "stderr",
     "output_type": "stream",
     "text": [
      "2023-03-29 10:58:11.847150: I tensorflow/core/common_runtime/executor.cc:1197] [/device:CPU:0] (DEBUG INFO) Executor start aborting (this does not indicate an error and you can ignore this message): INVALID_ARGUMENT: You must feed a value for placeholder tensor 'inputs' with dtype float and shape [?,500]\n",
      "\t [[{{node inputs}}]]\n",
      "2023-03-29 10:58:11.856924: I tensorflow/core/common_runtime/executor.cc:1197] [/device:CPU:0] (DEBUG INFO) Executor start aborting (this does not indicate an error and you can ignore this message): INVALID_ARGUMENT: You must feed a value for placeholder tensor 'inputs' with dtype float and shape [?,300]\n",
      "\t [[{{node inputs}}]]\n",
      "2023-03-29 10:58:11.866451: I tensorflow/core/common_runtime/executor.cc:1197] [/device:CPU:0] (DEBUG INFO) Executor start aborting (this does not indicate an error and you can ignore this message): INVALID_ARGUMENT: You must feed a value for placeholder tensor 'inputs' with dtype float and shape [?,100]\n",
      "\t [[{{node inputs}}]]\n",
      "2023-03-29 10:58:11.978956: I tensorflow/core/common_runtime/executor.cc:1197] [/device:CPU:0] (DEBUG INFO) Executor start aborting (this does not indicate an error and you can ignore this message): INVALID_ARGUMENT: You must feed a value for placeholder tensor 'inputs' with dtype float and shape [?,500]\n",
      "\t [[{{node inputs}}]]\n",
      "2023-03-29 10:58:12.003418: I tensorflow/core/common_runtime/executor.cc:1197] [/device:CPU:0] (DEBUG INFO) Executor start aborting (this does not indicate an error and you can ignore this message): INVALID_ARGUMENT: You must feed a value for placeholder tensor 'inputs' with dtype float and shape [?,300]\n",
      "\t [[{{node inputs}}]]\n",
      "2023-03-29 10:58:12.028398: I tensorflow/core/common_runtime/executor.cc:1197] [/device:CPU:0] (DEBUG INFO) Executor start aborting (this does not indicate an error and you can ignore this message): INVALID_ARGUMENT: You must feed a value for placeholder tensor 'inputs' with dtype float and shape [?,100]\n",
      "\t [[{{node inputs}}]]\n",
      "WARNING:absl:Found untraced functions such as _update_step_xla while saving (showing 1 of 1). These functions will not be directly callable after loading.\n"
     ]
    },
    {
     "name": "stdout",
     "output_type": "stream",
     "text": [
      "INFO:tensorflow:Assets written to: /home/manuelquiros/Documents/Kaggle/House_Prices/MLP2/assets\n"
     ]
    },
    {
     "name": "stderr",
     "output_type": "stream",
     "text": [
      "INFO:tensorflow:Assets written to: /home/manuelquiros/Documents/Kaggle/House_Prices/MLP2/assets\n"
     ]
    },
    {
     "name": "stdout",
     "output_type": "stream",
     "text": [
      "117/117 [==============================] - 1s 9ms/step - loss: 1040381888.0000 - root_mean_squared_error: 32254.9512 - val_loss: 871961984.0000 - val_root_mean_squared_error: 29529.0020 - lr: 0.0010\n",
      "Epoch 13/200\n",
      " 89/117 [=====================>........] - ETA: 0s - loss: 1097422720.0000 - root_mean_squared_error: 33127.3711"
     ]
    },
    {
     "name": "stderr",
     "output_type": "stream",
     "text": [
      "2023-03-29 10:58:12.647319: I tensorflow/core/common_runtime/executor.cc:1197] [/device:CPU:0] (DEBUG INFO) Executor start aborting (this does not indicate an error and you can ignore this message): INVALID_ARGUMENT: You must feed a value for placeholder tensor 'inputs' with dtype float and shape [?,500]\n",
      "\t [[{{node inputs}}]]\n",
      "2023-03-29 10:58:12.656718: I tensorflow/core/common_runtime/executor.cc:1197] [/device:CPU:0] (DEBUG INFO) Executor start aborting (this does not indicate an error and you can ignore this message): INVALID_ARGUMENT: You must feed a value for placeholder tensor 'inputs' with dtype float and shape [?,300]\n",
      "\t [[{{node inputs}}]]\n",
      "2023-03-29 10:58:12.667208: I tensorflow/core/common_runtime/executor.cc:1197] [/device:CPU:0] (DEBUG INFO) Executor start aborting (this does not indicate an error and you can ignore this message): INVALID_ARGUMENT: You must feed a value for placeholder tensor 'inputs' with dtype float and shape [?,100]\n",
      "\t [[{{node inputs}}]]\n",
      "2023-03-29 10:58:12.770921: I tensorflow/core/common_runtime/executor.cc:1197] [/device:CPU:0] (DEBUG INFO) Executor start aborting (this does not indicate an error and you can ignore this message): INVALID_ARGUMENT: You must feed a value for placeholder tensor 'inputs' with dtype float and shape [?,500]\n",
      "\t [[{{node inputs}}]]\n",
      "2023-03-29 10:58:12.790925: I tensorflow/core/common_runtime/executor.cc:1197] [/device:CPU:0] (DEBUG INFO) Executor start aborting (this does not indicate an error and you can ignore this message): INVALID_ARGUMENT: You must feed a value for placeholder tensor 'inputs' with dtype float and shape [?,300]\n",
      "\t [[{{node inputs}}]]\n",
      "2023-03-29 10:58:12.810544: I tensorflow/core/common_runtime/executor.cc:1197] [/device:CPU:0] (DEBUG INFO) Executor start aborting (this does not indicate an error and you can ignore this message): INVALID_ARGUMENT: You must feed a value for placeholder tensor 'inputs' with dtype float and shape [?,100]\n",
      "\t [[{{node inputs}}]]\n",
      "WARNING:absl:Found untraced functions such as _update_step_xla while saving (showing 1 of 1). These functions will not be directly callable after loading.\n"
     ]
    },
    {
     "name": "stdout",
     "output_type": "stream",
     "text": [
      "INFO:tensorflow:Assets written to: /home/manuelquiros/Documents/Kaggle/House_Prices/MLP2/assets\n"
     ]
    },
    {
     "name": "stderr",
     "output_type": "stream",
     "text": [
      "INFO:tensorflow:Assets written to: /home/manuelquiros/Documents/Kaggle/House_Prices/MLP2/assets\n"
     ]
    },
    {
     "name": "stdout",
     "output_type": "stream",
     "text": [
      "117/117 [==============================] - 1s 7ms/step - loss: 1012355840.0000 - root_mean_squared_error: 31817.5391 - val_loss: 834794368.0000 - val_root_mean_squared_error: 28892.8086 - lr: 0.0010\n",
      "Epoch 14/200\n",
      "117/117 [==============================] - 0s 2ms/step - loss: 990851968.0000 - root_mean_squared_error: 31477.8008 - val_loss: 1096425600.0000 - val_root_mean_squared_error: 33112.3164 - lr: 0.0010\n",
      "Epoch 15/200\n",
      "117/117 [==============================] - 0s 2ms/step - loss: 1044844352.0000 - root_mean_squared_error: 32324.0527 - val_loss: 835628608.0000 - val_root_mean_squared_error: 28907.2422 - lr: 0.0010\n",
      "Epoch 16/200\n",
      " 96/117 [=======================>......] - ETA: 0s - loss: 863670592.0000 - root_mean_squared_error: 29388.2734"
     ]
    },
    {
     "name": "stderr",
     "output_type": "stream",
     "text": [
      "2023-03-29 10:58:13.961307: I tensorflow/core/common_runtime/executor.cc:1197] [/device:CPU:0] (DEBUG INFO) Executor start aborting (this does not indicate an error and you can ignore this message): INVALID_ARGUMENT: You must feed a value for placeholder tensor 'inputs' with dtype float and shape [?,500]\n",
      "\t [[{{node inputs}}]]\n",
      "2023-03-29 10:58:13.969775: I tensorflow/core/common_runtime/executor.cc:1197] [/device:CPU:0] (DEBUG INFO) Executor start aborting (this does not indicate an error and you can ignore this message): INVALID_ARGUMENT: You must feed a value for placeholder tensor 'inputs' with dtype float and shape [?,300]\n",
      "\t [[{{node inputs}}]]\n",
      "2023-03-29 10:58:13.977616: I tensorflow/core/common_runtime/executor.cc:1197] [/device:CPU:0] (DEBUG INFO) Executor start aborting (this does not indicate an error and you can ignore this message): INVALID_ARGUMENT: You must feed a value for placeholder tensor 'inputs' with dtype float and shape [?,100]\n",
      "\t [[{{node inputs}}]]\n",
      "2023-03-29 10:58:14.075539: I tensorflow/core/common_runtime/executor.cc:1197] [/device:CPU:0] (DEBUG INFO) Executor start aborting (this does not indicate an error and you can ignore this message): INVALID_ARGUMENT: You must feed a value for placeholder tensor 'inputs' with dtype float and shape [?,500]\n",
      "\t [[{{node inputs}}]]\n",
      "2023-03-29 10:58:14.093881: I tensorflow/core/common_runtime/executor.cc:1197] [/device:CPU:0] (DEBUG INFO) Executor start aborting (this does not indicate an error and you can ignore this message): INVALID_ARGUMENT: You must feed a value for placeholder tensor 'inputs' with dtype float and shape [?,300]\n",
      "\t [[{{node inputs}}]]\n",
      "2023-03-29 10:58:14.111927: I tensorflow/core/common_runtime/executor.cc:1197] [/device:CPU:0] (DEBUG INFO) Executor start aborting (this does not indicate an error and you can ignore this message): INVALID_ARGUMENT: You must feed a value for placeholder tensor 'inputs' with dtype float and shape [?,100]\n",
      "\t [[{{node inputs}}]]\n",
      "WARNING:absl:Found untraced functions such as _update_step_xla while saving (showing 1 of 1). These functions will not be directly callable after loading.\n"
     ]
    },
    {
     "name": "stdout",
     "output_type": "stream",
     "text": [
      "INFO:tensorflow:Assets written to: /home/manuelquiros/Documents/Kaggle/House_Prices/MLP2/assets\n"
     ]
    },
    {
     "name": "stderr",
     "output_type": "stream",
     "text": [
      "INFO:tensorflow:Assets written to: /home/manuelquiros/Documents/Kaggle/House_Prices/MLP2/assets\n"
     ]
    },
    {
     "name": "stdout",
     "output_type": "stream",
     "text": [
      "117/117 [==============================] - 1s 7ms/step - loss: 946151360.0000 - root_mean_squared_error: 30759.5742 - val_loss: 794708992.0000 - val_root_mean_squared_error: 28190.5840 - lr: 0.0010\n",
      "Epoch 17/200\n",
      "117/117 [==============================] - 0s 2ms/step - loss: 920768000.0000 - root_mean_squared_error: 30344.1602 - val_loss: 882859776.0000 - val_root_mean_squared_error: 29712.9570 - lr: 0.0010\n",
      "Epoch 18/200\n",
      "117/117 [==============================] - 0s 2ms/step - loss: 979599296.0000 - root_mean_squared_error: 31298.5508 - val_loss: 914170496.0000 - val_root_mean_squared_error: 30235.2520 - lr: 0.0010\n",
      "Epoch 19/200\n",
      "117/117 [==============================] - 0s 2ms/step - loss: 863147968.0000 - root_mean_squared_error: 29379.3809 - val_loss: 796815104.0000 - val_root_mean_squared_error: 28227.9141 - lr: 0.0010\n",
      "Epoch 20/200\n",
      "102/117 [=========================>....] - ETA: 0s - loss: 946850944.0000 - root_mean_squared_error: 30770.9434"
     ]
    },
    {
     "name": "stderr",
     "output_type": "stream",
     "text": [
      "2023-03-29 10:58:15.458796: I tensorflow/core/common_runtime/executor.cc:1197] [/device:CPU:0] (DEBUG INFO) Executor start aborting (this does not indicate an error and you can ignore this message): INVALID_ARGUMENT: You must feed a value for placeholder tensor 'inputs' with dtype float and shape [?,500]\n",
      "\t [[{{node inputs}}]]\n",
      "2023-03-29 10:58:15.468282: I tensorflow/core/common_runtime/executor.cc:1197] [/device:CPU:0] (DEBUG INFO) Executor start aborting (this does not indicate an error and you can ignore this message): INVALID_ARGUMENT: You must feed a value for placeholder tensor 'inputs' with dtype float and shape [?,300]\n",
      "\t [[{{node inputs}}]]\n",
      "2023-03-29 10:58:15.476342: I tensorflow/core/common_runtime/executor.cc:1197] [/device:CPU:0] (DEBUG INFO) Executor start aborting (this does not indicate an error and you can ignore this message): INVALID_ARGUMENT: You must feed a value for placeholder tensor 'inputs' with dtype float and shape [?,100]\n",
      "\t [[{{node inputs}}]]\n",
      "2023-03-29 10:58:15.576286: I tensorflow/core/common_runtime/executor.cc:1197] [/device:CPU:0] (DEBUG INFO) Executor start aborting (this does not indicate an error and you can ignore this message): INVALID_ARGUMENT: You must feed a value for placeholder tensor 'inputs' with dtype float and shape [?,500]\n",
      "\t [[{{node inputs}}]]\n",
      "2023-03-29 10:58:15.598729: I tensorflow/core/common_runtime/executor.cc:1197] [/device:CPU:0] (DEBUG INFO) Executor start aborting (this does not indicate an error and you can ignore this message): INVALID_ARGUMENT: You must feed a value for placeholder tensor 'inputs' with dtype float and shape [?,300]\n",
      "\t [[{{node inputs}}]]\n",
      "2023-03-29 10:58:15.618108: I tensorflow/core/common_runtime/executor.cc:1197] [/device:CPU:0] (DEBUG INFO) Executor start aborting (this does not indicate an error and you can ignore this message): INVALID_ARGUMENT: You must feed a value for placeholder tensor 'inputs' with dtype float and shape [?,100]\n",
      "\t [[{{node inputs}}]]\n",
      "WARNING:absl:Found untraced functions such as _update_step_xla while saving (showing 1 of 1). These functions will not be directly callable after loading.\n"
     ]
    },
    {
     "name": "stdout",
     "output_type": "stream",
     "text": [
      "INFO:tensorflow:Assets written to: /home/manuelquiros/Documents/Kaggle/House_Prices/MLP2/assets\n"
     ]
    },
    {
     "name": "stderr",
     "output_type": "stream",
     "text": [
      "INFO:tensorflow:Assets written to: /home/manuelquiros/Documents/Kaggle/House_Prices/MLP2/assets\n"
     ]
    },
    {
     "name": "stdout",
     "output_type": "stream",
     "text": [
      "117/117 [==============================] - 1s 7ms/step - loss: 923081280.0000 - root_mean_squared_error: 30382.2520 - val_loss: 771205824.0000 - val_root_mean_squared_error: 27770.5938 - lr: 0.0010\n",
      "Epoch 21/200\n",
      "102/117 [=========================>....] - ETA: 0s - loss: 862090048.0000 - root_mean_squared_error: 29361.3691"
     ]
    },
    {
     "name": "stderr",
     "output_type": "stream",
     "text": [
      "2023-03-29 10:58:16.265889: I tensorflow/core/common_runtime/executor.cc:1197] [/device:CPU:0] (DEBUG INFO) Executor start aborting (this does not indicate an error and you can ignore this message): INVALID_ARGUMENT: You must feed a value for placeholder tensor 'inputs' with dtype float and shape [?,500]\n",
      "\t [[{{node inputs}}]]\n",
      "2023-03-29 10:58:16.275549: I tensorflow/core/common_runtime/executor.cc:1197] [/device:CPU:0] (DEBUG INFO) Executor start aborting (this does not indicate an error and you can ignore this message): INVALID_ARGUMENT: You must feed a value for placeholder tensor 'inputs' with dtype float and shape [?,300]\n",
      "\t [[{{node inputs}}]]\n",
      "2023-03-29 10:58:16.286548: I tensorflow/core/common_runtime/executor.cc:1197] [/device:CPU:0] (DEBUG INFO) Executor start aborting (this does not indicate an error and you can ignore this message): INVALID_ARGUMENT: You must feed a value for placeholder tensor 'inputs' with dtype float and shape [?,100]\n",
      "\t [[{{node inputs}}]]\n",
      "2023-03-29 10:58:16.394112: I tensorflow/core/common_runtime/executor.cc:1197] [/device:CPU:0] (DEBUG INFO) Executor start aborting (this does not indicate an error and you can ignore this message): INVALID_ARGUMENT: You must feed a value for placeholder tensor 'inputs' with dtype float and shape [?,500]\n",
      "\t [[{{node inputs}}]]\n",
      "2023-03-29 10:58:16.417129: I tensorflow/core/common_runtime/executor.cc:1197] [/device:CPU:0] (DEBUG INFO) Executor start aborting (this does not indicate an error and you can ignore this message): INVALID_ARGUMENT: You must feed a value for placeholder tensor 'inputs' with dtype float and shape [?,300]\n",
      "\t [[{{node inputs}}]]\n",
      "2023-03-29 10:58:16.442926: I tensorflow/core/common_runtime/executor.cc:1197] [/device:CPU:0] (DEBUG INFO) Executor start aborting (this does not indicate an error and you can ignore this message): INVALID_ARGUMENT: You must feed a value for placeholder tensor 'inputs' with dtype float and shape [?,100]\n",
      "\t [[{{node inputs}}]]\n",
      "WARNING:absl:Found untraced functions such as _update_step_xla while saving (showing 1 of 1). These functions will not be directly callable after loading.\n"
     ]
    },
    {
     "name": "stdout",
     "output_type": "stream",
     "text": [
      "INFO:tensorflow:Assets written to: /home/manuelquiros/Documents/Kaggle/House_Prices/MLP2/assets\n"
     ]
    },
    {
     "name": "stderr",
     "output_type": "stream",
     "text": [
      "INFO:tensorflow:Assets written to: /home/manuelquiros/Documents/Kaggle/House_Prices/MLP2/assets\n"
     ]
    },
    {
     "name": "stdout",
     "output_type": "stream",
     "text": [
      "117/117 [==============================] - 1s 7ms/step - loss: 811923200.0000 - root_mean_squared_error: 28494.2656 - val_loss: 745020992.0000 - val_root_mean_squared_error: 27295.0723 - lr: 0.0010\n",
      "Epoch 22/200\n",
      "117/117 [==============================] - 0s 2ms/step - loss: 880365440.0000 - root_mean_squared_error: 29670.9531 - val_loss: 764959168.0000 - val_root_mean_squared_error: 27657.8945 - lr: 0.0010\n",
      "Epoch 23/200\n",
      " 91/117 [======================>.......] - ETA: 0s - loss: 932117632.0000 - root_mean_squared_error: 30530.6016"
     ]
    },
    {
     "name": "stderr",
     "output_type": "stream",
     "text": [
      "2023-03-29 10:58:17.311183: I tensorflow/core/common_runtime/executor.cc:1197] [/device:CPU:0] (DEBUG INFO) Executor start aborting (this does not indicate an error and you can ignore this message): INVALID_ARGUMENT: You must feed a value for placeholder tensor 'inputs' with dtype float and shape [?,500]\n",
      "\t [[{{node inputs}}]]\n",
      "2023-03-29 10:58:17.320594: I tensorflow/core/common_runtime/executor.cc:1197] [/device:CPU:0] (DEBUG INFO) Executor start aborting (this does not indicate an error and you can ignore this message): INVALID_ARGUMENT: You must feed a value for placeholder tensor 'inputs' with dtype float and shape [?,300]\n",
      "\t [[{{node inputs}}]]\n",
      "2023-03-29 10:58:17.329958: I tensorflow/core/common_runtime/executor.cc:1197] [/device:CPU:0] (DEBUG INFO) Executor start aborting (this does not indicate an error and you can ignore this message): INVALID_ARGUMENT: You must feed a value for placeholder tensor 'inputs' with dtype float and shape [?,100]\n",
      "\t [[{{node inputs}}]]\n",
      "2023-03-29 10:58:17.449687: I tensorflow/core/common_runtime/executor.cc:1197] [/device:CPU:0] (DEBUG INFO) Executor start aborting (this does not indicate an error and you can ignore this message): INVALID_ARGUMENT: You must feed a value for placeholder tensor 'inputs' with dtype float and shape [?,500]\n",
      "\t [[{{node inputs}}]]\n",
      "2023-03-29 10:58:17.471827: I tensorflow/core/common_runtime/executor.cc:1197] [/device:CPU:0] (DEBUG INFO) Executor start aborting (this does not indicate an error and you can ignore this message): INVALID_ARGUMENT: You must feed a value for placeholder tensor 'inputs' with dtype float and shape [?,300]\n",
      "\t [[{{node inputs}}]]\n",
      "2023-03-29 10:58:17.493052: I tensorflow/core/common_runtime/executor.cc:1197] [/device:CPU:0] (DEBUG INFO) Executor start aborting (this does not indicate an error and you can ignore this message): INVALID_ARGUMENT: You must feed a value for placeholder tensor 'inputs' with dtype float and shape [?,100]\n",
      "\t [[{{node inputs}}]]\n",
      "WARNING:absl:Found untraced functions such as _update_step_xla while saving (showing 1 of 1). These functions will not be directly callable after loading.\n"
     ]
    },
    {
     "name": "stdout",
     "output_type": "stream",
     "text": [
      "INFO:tensorflow:Assets written to: /home/manuelquiros/Documents/Kaggle/House_Prices/MLP2/assets\n"
     ]
    },
    {
     "name": "stderr",
     "output_type": "stream",
     "text": [
      "INFO:tensorflow:Assets written to: /home/manuelquiros/Documents/Kaggle/House_Prices/MLP2/assets\n"
     ]
    },
    {
     "name": "stdout",
     "output_type": "stream",
     "text": [
      "117/117 [==============================] - 1s 8ms/step - loss: 885265600.0000 - root_mean_squared_error: 29753.4141 - val_loss: 735818688.0000 - val_root_mean_squared_error: 27125.9785 - lr: 0.0010\n",
      "Epoch 24/200\n",
      "108/117 [==========================>...] - ETA: 0s - loss: 791770880.0000 - root_mean_squared_error: 28138.4238"
     ]
    },
    {
     "name": "stderr",
     "output_type": "stream",
     "text": [
      "2023-03-29 10:58:18.301496: I tensorflow/core/common_runtime/executor.cc:1197] [/device:CPU:0] (DEBUG INFO) Executor start aborting (this does not indicate an error and you can ignore this message): INVALID_ARGUMENT: You must feed a value for placeholder tensor 'inputs' with dtype float and shape [?,500]\n",
      "\t [[{{node inputs}}]]\n",
      "2023-03-29 10:58:18.309847: I tensorflow/core/common_runtime/executor.cc:1197] [/device:CPU:0] (DEBUG INFO) Executor start aborting (this does not indicate an error and you can ignore this message): INVALID_ARGUMENT: You must feed a value for placeholder tensor 'inputs' with dtype float and shape [?,300]\n",
      "\t [[{{node inputs}}]]\n",
      "2023-03-29 10:58:18.317737: I tensorflow/core/common_runtime/executor.cc:1197] [/device:CPU:0] (DEBUG INFO) Executor start aborting (this does not indicate an error and you can ignore this message): INVALID_ARGUMENT: You must feed a value for placeholder tensor 'inputs' with dtype float and shape [?,100]\n",
      "\t [[{{node inputs}}]]\n",
      "2023-03-29 10:58:18.414644: I tensorflow/core/common_runtime/executor.cc:1197] [/device:CPU:0] (DEBUG INFO) Executor start aborting (this does not indicate an error and you can ignore this message): INVALID_ARGUMENT: You must feed a value for placeholder tensor 'inputs' with dtype float and shape [?,500]\n",
      "\t [[{{node inputs}}]]\n",
      "2023-03-29 10:58:18.434486: I tensorflow/core/common_runtime/executor.cc:1197] [/device:CPU:0] (DEBUG INFO) Executor start aborting (this does not indicate an error and you can ignore this message): INVALID_ARGUMENT: You must feed a value for placeholder tensor 'inputs' with dtype float and shape [?,300]\n",
      "\t [[{{node inputs}}]]\n",
      "2023-03-29 10:58:18.454341: I tensorflow/core/common_runtime/executor.cc:1197] [/device:CPU:0] (DEBUG INFO) Executor start aborting (this does not indicate an error and you can ignore this message): INVALID_ARGUMENT: You must feed a value for placeholder tensor 'inputs' with dtype float and shape [?,100]\n",
      "\t [[{{node inputs}}]]\n",
      "WARNING:absl:Found untraced functions such as _update_step_xla while saving (showing 1 of 1). These functions will not be directly callable after loading.\n"
     ]
    },
    {
     "name": "stdout",
     "output_type": "stream",
     "text": [
      "INFO:tensorflow:Assets written to: /home/manuelquiros/Documents/Kaggle/House_Prices/MLP2/assets\n"
     ]
    },
    {
     "name": "stderr",
     "output_type": "stream",
     "text": [
      "INFO:tensorflow:Assets written to: /home/manuelquiros/Documents/Kaggle/House_Prices/MLP2/assets\n"
     ]
    },
    {
     "name": "stdout",
     "output_type": "stream",
     "text": [
      "117/117 [==============================] - 1s 7ms/step - loss: 866689664.0000 - root_mean_squared_error: 29439.5938 - val_loss: 724672832.0000 - val_root_mean_squared_error: 26919.7480 - lr: 0.0010\n",
      "Epoch 25/200\n",
      "117/117 [==============================] - 0s 2ms/step - loss: 887800128.0000 - root_mean_squared_error: 29795.9746 - val_loss: 772823680.0000 - val_root_mean_squared_error: 27799.7070 - lr: 0.0010\n",
      "Epoch 26/200\n",
      "117/117 [==============================] - 0s 2ms/step - loss: 801427200.0000 - root_mean_squared_error: 28309.4902 - val_loss: 782065984.0000 - val_root_mean_squared_error: 27965.4434 - lr: 0.0010\n",
      "Epoch 27/200\n",
      "117/117 [==============================] - 0s 2ms/step - loss: 813246272.0000 - root_mean_squared_error: 28517.4727 - val_loss: 826473088.0000 - val_root_mean_squared_error: 28748.4453 - lr: 0.0010\n",
      "Epoch 28/200\n",
      "117/117 [==============================] - 0s 2ms/step - loss: 730424000.0000 - root_mean_squared_error: 27026.3574 - val_loss: 743833728.0000 - val_root_mean_squared_error: 27273.3145 - lr: 0.0010\n",
      "Epoch 29/200\n",
      "117/117 [==============================] - 0s 2ms/step - loss: 789841152.0000 - root_mean_squared_error: 28104.1133 - val_loss: 817442176.0000 - val_root_mean_squared_error: 28590.9453 - lr: 0.0010\n",
      "Epoch 30/200\n",
      "117/117 [==============================] - 0s 2ms/step - loss: 783654464.0000 - root_mean_squared_error: 27993.8281 - val_loss: 753861376.0000 - val_root_mean_squared_error: 27456.5352 - lr: 0.0010\n",
      "Epoch 31/200\n",
      "117/117 [==============================] - 0s 2ms/step - loss: 790255424.0000 - root_mean_squared_error: 28111.4824 - val_loss: 860729984.0000 - val_root_mean_squared_error: 29338.1992 - lr: 0.0010\n",
      "Epoch 32/200\n",
      "117/117 [==============================] - 0s 2ms/step - loss: 774772544.0000 - root_mean_squared_error: 27834.7363 - val_loss: 745589632.0000 - val_root_mean_squared_error: 27305.4863 - lr: 0.0010\n",
      "Epoch 33/200\n",
      "117/117 [==============================] - 0s 2ms/step - loss: 804982208.0000 - root_mean_squared_error: 28372.2090 - val_loss: 743615360.0000 - val_root_mean_squared_error: 27269.3125 - lr: 0.0010\n",
      "Epoch 34/200\n",
      "117/117 [==============================] - 0s 2ms/step - loss: 766183616.0000 - root_mean_squared_error: 27680.0215 - val_loss: 801898240.0000 - val_root_mean_squared_error: 28317.8086 - lr: 0.0010\n",
      "Epoch 35/200\n",
      "117/117 [==============================] - 0s 2ms/step - loss: 748684096.0000 - root_mean_squared_error: 27362.0918 - val_loss: 861464192.0000 - val_root_mean_squared_error: 29350.7109 - lr: 0.0010\n",
      "Epoch 36/200\n",
      "117/117 [==============================] - 0s 2ms/step - loss: 720986752.0000 - root_mean_squared_error: 26851.1973 - val_loss: 849402624.0000 - val_root_mean_squared_error: 29144.5137 - lr: 0.0010\n",
      "Epoch 37/200\n",
      " 92/117 [======================>.......] - ETA: 0s - loss: 731570880.0000 - root_mean_squared_error: 27047.5664"
     ]
    },
    {
     "name": "stderr",
     "output_type": "stream",
     "text": [
      "2023-03-29 10:58:22.176301: I tensorflow/core/common_runtime/executor.cc:1197] [/device:CPU:0] (DEBUG INFO) Executor start aborting (this does not indicate an error and you can ignore this message): INVALID_ARGUMENT: You must feed a value for placeholder tensor 'inputs' with dtype float and shape [?,500]\n",
      "\t [[{{node inputs}}]]\n",
      "2023-03-29 10:58:22.184934: I tensorflow/core/common_runtime/executor.cc:1197] [/device:CPU:0] (DEBUG INFO) Executor start aborting (this does not indicate an error and you can ignore this message): INVALID_ARGUMENT: You must feed a value for placeholder tensor 'inputs' with dtype float and shape [?,300]\n",
      "\t [[{{node inputs}}]]\n",
      "2023-03-29 10:58:22.196095: I tensorflow/core/common_runtime/executor.cc:1197] [/device:CPU:0] (DEBUG INFO) Executor start aborting (this does not indicate an error and you can ignore this message): INVALID_ARGUMENT: You must feed a value for placeholder tensor 'inputs' with dtype float and shape [?,100]\n",
      "\t [[{{node inputs}}]]\n",
      "2023-03-29 10:58:22.293884: I tensorflow/core/common_runtime/executor.cc:1197] [/device:CPU:0] (DEBUG INFO) Executor start aborting (this does not indicate an error and you can ignore this message): INVALID_ARGUMENT: You must feed a value for placeholder tensor 'inputs' with dtype float and shape [?,500]\n",
      "\t [[{{node inputs}}]]\n",
      "2023-03-29 10:58:22.313420: I tensorflow/core/common_runtime/executor.cc:1197] [/device:CPU:0] (DEBUG INFO) Executor start aborting (this does not indicate an error and you can ignore this message): INVALID_ARGUMENT: You must feed a value for placeholder tensor 'inputs' with dtype float and shape [?,300]\n",
      "\t [[{{node inputs}}]]\n",
      "2023-03-29 10:58:22.333234: I tensorflow/core/common_runtime/executor.cc:1197] [/device:CPU:0] (DEBUG INFO) Executor start aborting (this does not indicate an error and you can ignore this message): INVALID_ARGUMENT: You must feed a value for placeholder tensor 'inputs' with dtype float and shape [?,100]\n",
      "\t [[{{node inputs}}]]\n",
      "WARNING:absl:Found untraced functions such as _update_step_xla while saving (showing 1 of 1). These functions will not be directly callable after loading.\n"
     ]
    },
    {
     "name": "stdout",
     "output_type": "stream",
     "text": [
      "INFO:tensorflow:Assets written to: /home/manuelquiros/Documents/Kaggle/House_Prices/MLP2/assets\n"
     ]
    },
    {
     "name": "stderr",
     "output_type": "stream",
     "text": [
      "INFO:tensorflow:Assets written to: /home/manuelquiros/Documents/Kaggle/House_Prices/MLP2/assets\n"
     ]
    },
    {
     "name": "stdout",
     "output_type": "stream",
     "text": [
      "117/117 [==============================] - 1s 6ms/step - loss: 712818496.0000 - root_mean_squared_error: 26698.6602 - val_loss: 714511872.0000 - val_root_mean_squared_error: 26730.3555 - lr: 0.0010\n",
      "Epoch 38/200\n",
      "117/117 [==============================] - 0s 2ms/step - loss: 738141504.0000 - root_mean_squared_error: 27168.7598 - val_loss: 761128832.0000 - val_root_mean_squared_error: 27588.5625 - lr: 0.0010\n",
      "Epoch 39/200\n",
      "117/117 [==============================] - 0s 2ms/step - loss: 691322240.0000 - root_mean_squared_error: 26293.0078 - val_loss: 720320512.0000 - val_root_mean_squared_error: 26838.7871 - lr: 0.0010\n",
      "Epoch 40/200\n",
      "117/117 [==============================] - 0s 2ms/step - loss: 701424320.0000 - root_mean_squared_error: 26484.4160 - val_loss: 731081664.0000 - val_root_mean_squared_error: 27038.5215 - lr: 0.0010\n",
      "Epoch 41/200\n",
      "117/117 [==============================] - 0s 2ms/step - loss: 652916096.0000 - root_mean_squared_error: 25552.2227 - val_loss: 728975488.0000 - val_root_mean_squared_error: 26999.5469 - lr: 0.0010\n",
      "Epoch 42/200\n",
      "117/117 [==============================] - 0s 2ms/step - loss: 702481600.0000 - root_mean_squared_error: 26504.3691 - val_loss: 753992576.0000 - val_root_mean_squared_error: 27458.9258 - lr: 0.0010\n",
      "Epoch 43/200\n",
      "117/117 [==============================] - 0s 2ms/step - loss: 737202560.0000 - root_mean_squared_error: 27151.4746 - val_loss: 734005760.0000 - val_root_mean_squared_error: 27092.5410 - lr: 0.0010\n",
      "Epoch 44/200\n",
      "117/117 [==============================] - 0s 2ms/step - loss: 728795392.0000 - root_mean_squared_error: 26996.2109 - val_loss: 778149632.0000 - val_root_mean_squared_error: 27895.3340 - lr: 0.0010\n",
      "Epoch 45/200\n",
      "117/117 [==============================] - 0s 2ms/step - loss: 698498944.0000 - root_mean_squared_error: 26429.1309 - val_loss: 728737408.0000 - val_root_mean_squared_error: 26995.1367 - lr: 0.0010\n",
      "Epoch 46/200\n",
      "117/117 [==============================] - 0s 2ms/step - loss: 691142976.0000 - root_mean_squared_error: 26289.5977 - val_loss: 886764736.0000 - val_root_mean_squared_error: 29778.5957 - lr: 0.0010\n",
      "Epoch 47/200\n",
      " 93/117 [======================>.......] - ETA: 0s - loss: 732541248.0000 - root_mean_squared_error: 27065.5000"
     ]
    },
    {
     "name": "stderr",
     "output_type": "stream",
     "text": [
      "2023-03-29 10:58:25.317989: I tensorflow/core/common_runtime/executor.cc:1197] [/device:CPU:0] (DEBUG INFO) Executor start aborting (this does not indicate an error and you can ignore this message): INVALID_ARGUMENT: You must feed a value for placeholder tensor 'inputs' with dtype float and shape [?,500]\n",
      "\t [[{{node inputs}}]]\n",
      "2023-03-29 10:58:25.326178: I tensorflow/core/common_runtime/executor.cc:1197] [/device:CPU:0] (DEBUG INFO) Executor start aborting (this does not indicate an error and you can ignore this message): INVALID_ARGUMENT: You must feed a value for placeholder tensor 'inputs' with dtype float and shape [?,300]\n",
      "\t [[{{node inputs}}]]\n",
      "2023-03-29 10:58:25.334322: I tensorflow/core/common_runtime/executor.cc:1197] [/device:CPU:0] (DEBUG INFO) Executor start aborting (this does not indicate an error and you can ignore this message): INVALID_ARGUMENT: You must feed a value for placeholder tensor 'inputs' with dtype float and shape [?,100]\n",
      "\t [[{{node inputs}}]]\n",
      "2023-03-29 10:58:25.465548: I tensorflow/core/common_runtime/executor.cc:1197] [/device:CPU:0] (DEBUG INFO) Executor start aborting (this does not indicate an error and you can ignore this message): INVALID_ARGUMENT: You must feed a value for placeholder tensor 'inputs' with dtype float and shape [?,500]\n",
      "\t [[{{node inputs}}]]\n",
      "2023-03-29 10:58:25.488463: I tensorflow/core/common_runtime/executor.cc:1197] [/device:CPU:0] (DEBUG INFO) Executor start aborting (this does not indicate an error and you can ignore this message): INVALID_ARGUMENT: You must feed a value for placeholder tensor 'inputs' with dtype float and shape [?,300]\n",
      "\t [[{{node inputs}}]]\n",
      "2023-03-29 10:58:25.509853: I tensorflow/core/common_runtime/executor.cc:1197] [/device:CPU:0] (DEBUG INFO) Executor start aborting (this does not indicate an error and you can ignore this message): INVALID_ARGUMENT: You must feed a value for placeholder tensor 'inputs' with dtype float and shape [?,100]\n",
      "\t [[{{node inputs}}]]\n",
      "WARNING:absl:Found untraced functions such as _update_step_xla while saving (showing 1 of 1). These functions will not be directly callable after loading.\n"
     ]
    },
    {
     "name": "stdout",
     "output_type": "stream",
     "text": [
      "INFO:tensorflow:Assets written to: /home/manuelquiros/Documents/Kaggle/House_Prices/MLP2/assets\n"
     ]
    },
    {
     "name": "stderr",
     "output_type": "stream",
     "text": [
      "INFO:tensorflow:Assets written to: /home/manuelquiros/Documents/Kaggle/House_Prices/MLP2/assets\n"
     ]
    },
    {
     "name": "stdout",
     "output_type": "stream",
     "text": [
      "117/117 [==============================] - 1s 7ms/step - loss: 678947136.0000 - root_mean_squared_error: 26056.6133 - val_loss: 702810112.0000 - val_root_mean_squared_error: 26510.5664 - lr: 0.0010\n",
      "Epoch 48/200\n",
      "117/117 [==============================] - 0s 2ms/step - loss: 657814272.0000 - root_mean_squared_error: 25647.8906 - val_loss: 771848768.0000 - val_root_mean_squared_error: 27782.1660 - lr: 0.0010\n",
      "Epoch 49/200\n",
      "117/117 [==============================] - 0s 2ms/step - loss: 707958912.0000 - root_mean_squared_error: 26607.4980 - val_loss: 813614528.0000 - val_root_mean_squared_error: 28523.9297 - lr: 0.0010\n",
      "Epoch 50/200\n",
      "117/117 [==============================] - 0s 2ms/step - loss: 651481536.0000 - root_mean_squared_error: 25524.1367 - val_loss: 834816384.0000 - val_root_mean_squared_error: 28893.1895 - lr: 0.0010\n",
      "Epoch 51/200\n",
      "117/117 [==============================] - 0s 2ms/step - loss: 738697024.0000 - root_mean_squared_error: 27178.9805 - val_loss: 735400384.0000 - val_root_mean_squared_error: 27118.2676 - lr: 0.0010\n",
      "Epoch 52/200\n",
      "117/117 [==============================] - 0s 3ms/step - loss: 696296000.0000 - root_mean_squared_error: 26387.4219 - val_loss: 761637824.0000 - val_root_mean_squared_error: 27597.7871 - lr: 0.0010\n",
      "Epoch 53/200\n",
      "117/117 [==============================] - 0s 2ms/step - loss: 626203328.0000 - root_mean_squared_error: 25024.0547 - val_loss: 736454784.0000 - val_root_mean_squared_error: 27137.7012 - lr: 0.0010\n",
      "Epoch 54/200\n",
      "117/117 [==============================] - 0s 3ms/step - loss: 652378560.0000 - root_mean_squared_error: 25541.7031 - val_loss: 769433920.0000 - val_root_mean_squared_error: 27738.6719 - lr: 0.0010\n",
      "Epoch 55/200\n",
      "117/117 [==============================] - 0s 2ms/step - loss: 661918976.0000 - root_mean_squared_error: 25727.7852 - val_loss: 950818304.0000 - val_root_mean_squared_error: 30835.3418 - lr: 0.0010\n",
      "Epoch 56/200\n",
      " 94/117 [=======================>......] - ETA: 0s - loss: 705013824.0000 - root_mean_squared_error: 26552.0957"
     ]
    },
    {
     "name": "stderr",
     "output_type": "stream",
     "text": [
      "2023-03-29 10:58:28.306502: I tensorflow/core/common_runtime/executor.cc:1197] [/device:CPU:0] (DEBUG INFO) Executor start aborting (this does not indicate an error and you can ignore this message): INVALID_ARGUMENT: You must feed a value for placeholder tensor 'inputs' with dtype float and shape [?,500]\n",
      "\t [[{{node inputs}}]]\n",
      "2023-03-29 10:58:28.314567: I tensorflow/core/common_runtime/executor.cc:1197] [/device:CPU:0] (DEBUG INFO) Executor start aborting (this does not indicate an error and you can ignore this message): INVALID_ARGUMENT: You must feed a value for placeholder tensor 'inputs' with dtype float and shape [?,300]\n",
      "\t [[{{node inputs}}]]\n",
      "2023-03-29 10:58:28.322353: I tensorflow/core/common_runtime/executor.cc:1197] [/device:CPU:0] (DEBUG INFO) Executor start aborting (this does not indicate an error and you can ignore this message): INVALID_ARGUMENT: You must feed a value for placeholder tensor 'inputs' with dtype float and shape [?,100]\n",
      "\t [[{{node inputs}}]]\n",
      "2023-03-29 10:58:28.420717: I tensorflow/core/common_runtime/executor.cc:1197] [/device:CPU:0] (DEBUG INFO) Executor start aborting (this does not indicate an error and you can ignore this message): INVALID_ARGUMENT: You must feed a value for placeholder tensor 'inputs' with dtype float and shape [?,500]\n",
      "\t [[{{node inputs}}]]\n",
      "2023-03-29 10:58:28.440406: I tensorflow/core/common_runtime/executor.cc:1197] [/device:CPU:0] (DEBUG INFO) Executor start aborting (this does not indicate an error and you can ignore this message): INVALID_ARGUMENT: You must feed a value for placeholder tensor 'inputs' with dtype float and shape [?,300]\n",
      "\t [[{{node inputs}}]]\n",
      "2023-03-29 10:58:28.459273: I tensorflow/core/common_runtime/executor.cc:1197] [/device:CPU:0] (DEBUG INFO) Executor start aborting (this does not indicate an error and you can ignore this message): INVALID_ARGUMENT: You must feed a value for placeholder tensor 'inputs' with dtype float and shape [?,100]\n",
      "\t [[{{node inputs}}]]\n",
      "WARNING:absl:Found untraced functions such as _update_step_xla while saving (showing 1 of 1). These functions will not be directly callable after loading.\n"
     ]
    },
    {
     "name": "stdout",
     "output_type": "stream",
     "text": [
      "INFO:tensorflow:Assets written to: /home/manuelquiros/Documents/Kaggle/House_Prices/MLP2/assets\n"
     ]
    },
    {
     "name": "stderr",
     "output_type": "stream",
     "text": [
      "INFO:tensorflow:Assets written to: /home/manuelquiros/Documents/Kaggle/House_Prices/MLP2/assets\n"
     ]
    },
    {
     "name": "stdout",
     "output_type": "stream",
     "text": [
      "117/117 [==============================] - 1s 6ms/step - loss: 689002560.0000 - root_mean_squared_error: 26248.8574 - val_loss: 698994880.0000 - val_root_mean_squared_error: 26438.5117 - lr: 0.0010\n",
      "Epoch 57/200\n",
      "117/117 [==============================] - 0s 2ms/step - loss: 678259456.0000 - root_mean_squared_error: 26043.4141 - val_loss: 723475520.0000 - val_root_mean_squared_error: 26897.5000 - lr: 0.0010\n",
      "Epoch 58/200\n",
      "117/117 [==============================] - 0s 2ms/step - loss: 660061696.0000 - root_mean_squared_error: 25691.6660 - val_loss: 827128512.0000 - val_root_mean_squared_error: 28759.8418 - lr: 0.0010\n",
      "Epoch 59/200\n",
      "117/117 [==============================] - 0s 2ms/step - loss: 652148480.0000 - root_mean_squared_error: 25537.1973 - val_loss: 750358720.0000 - val_root_mean_squared_error: 27392.6758 - lr: 0.0010\n",
      "Epoch 60/200\n",
      "117/117 [==============================] - 0s 2ms/step - loss: 633752832.0000 - root_mean_squared_error: 25174.4473 - val_loss: 721399424.0000 - val_root_mean_squared_error: 26858.8789 - lr: 0.0010\n",
      "Epoch 61/200\n",
      "117/117 [==============================] - 0s 2ms/step - loss: 627095872.0000 - root_mean_squared_error: 25041.8828 - val_loss: 870084352.0000 - val_root_mean_squared_error: 29497.1914 - lr: 0.0010\n",
      "Epoch 62/200\n",
      "117/117 [==============================] - 0s 2ms/step - loss: 653388992.0000 - root_mean_squared_error: 25561.4746 - val_loss: 953182656.0000 - val_root_mean_squared_error: 30873.6562 - lr: 0.0010\n",
      "Epoch 63/200\n",
      "117/117 [==============================] - 0s 2ms/step - loss: 581045248.0000 - root_mean_squared_error: 24104.8809 - val_loss: 752053120.0000 - val_root_mean_squared_error: 27423.5879 - lr: 0.0010\n",
      "Epoch 64/200\n",
      "117/117 [==============================] - 0s 2ms/step - loss: 601884224.0000 - root_mean_squared_error: 24533.3281 - val_loss: 777025344.0000 - val_root_mean_squared_error: 27875.1738 - lr: 0.0010\n",
      "Epoch 65/200\n",
      "117/117 [==============================] - 0s 2ms/step - loss: 622894272.0000 - root_mean_squared_error: 24957.8496 - val_loss: 780313344.0000 - val_root_mean_squared_error: 27934.0898 - lr: 0.0010\n",
      "Epoch 66/200\n",
      "117/117 [==============================] - 0s 2ms/step - loss: 592692864.0000 - root_mean_squared_error: 24345.2852 - val_loss: 708749056.0000 - val_root_mean_squared_error: 26622.3418 - lr: 0.0010\n",
      "Epoch 67/200\n",
      "117/117 [==============================] - 0s 2ms/step - loss: 618122432.0000 - root_mean_squared_error: 24862.0684 - val_loss: 807620224.0000 - val_root_mean_squared_error: 28418.6602 - lr: 0.0010\n",
      "Epoch 68/200\n",
      "117/117 [==============================] - 0s 2ms/step - loss: 676952384.0000 - root_mean_squared_error: 26018.3086 - val_loss: 962897344.0000 - val_root_mean_squared_error: 31030.5879 - lr: 0.0010\n",
      "Epoch 69/200\n",
      "117/117 [==============================] - 0s 2ms/step - loss: 592272320.0000 - root_mean_squared_error: 24336.6465 - val_loss: 751410048.0000 - val_root_mean_squared_error: 27411.8594 - lr: 0.0010\n",
      "Epoch 70/200\n",
      " 94/117 [=======================>......] - ETA: 0s - loss: 631919232.0000 - root_mean_squared_error: 25138.0039"
     ]
    },
    {
     "name": "stderr",
     "output_type": "stream",
     "text": [
      "2023-03-29 10:58:32.436531: I tensorflow/core/common_runtime/executor.cc:1197] [/device:CPU:0] (DEBUG INFO) Executor start aborting (this does not indicate an error and you can ignore this message): INVALID_ARGUMENT: You must feed a value for placeholder tensor 'inputs' with dtype float and shape [?,500]\n",
      "\t [[{{node inputs}}]]\n",
      "2023-03-29 10:58:32.445362: I tensorflow/core/common_runtime/executor.cc:1197] [/device:CPU:0] (DEBUG INFO) Executor start aborting (this does not indicate an error and you can ignore this message): INVALID_ARGUMENT: You must feed a value for placeholder tensor 'inputs' with dtype float and shape [?,300]\n",
      "\t [[{{node inputs}}]]\n",
      "2023-03-29 10:58:32.454913: I tensorflow/core/common_runtime/executor.cc:1197] [/device:CPU:0] (DEBUG INFO) Executor start aborting (this does not indicate an error and you can ignore this message): INVALID_ARGUMENT: You must feed a value for placeholder tensor 'inputs' with dtype float and shape [?,100]\n",
      "\t [[{{node inputs}}]]\n",
      "2023-03-29 10:58:32.553085: I tensorflow/core/common_runtime/executor.cc:1197] [/device:CPU:0] (DEBUG INFO) Executor start aborting (this does not indicate an error and you can ignore this message): INVALID_ARGUMENT: You must feed a value for placeholder tensor 'inputs' with dtype float and shape [?,500]\n",
      "\t [[{{node inputs}}]]\n",
      "2023-03-29 10:58:32.572685: I tensorflow/core/common_runtime/executor.cc:1197] [/device:CPU:0] (DEBUG INFO) Executor start aborting (this does not indicate an error and you can ignore this message): INVALID_ARGUMENT: You must feed a value for placeholder tensor 'inputs' with dtype float and shape [?,300]\n",
      "\t [[{{node inputs}}]]\n",
      "2023-03-29 10:58:32.591553: I tensorflow/core/common_runtime/executor.cc:1197] [/device:CPU:0] (DEBUG INFO) Executor start aborting (this does not indicate an error and you can ignore this message): INVALID_ARGUMENT: You must feed a value for placeholder tensor 'inputs' with dtype float and shape [?,100]\n",
      "\t [[{{node inputs}}]]\n",
      "WARNING:absl:Found untraced functions such as _update_step_xla while saving (showing 1 of 1). These functions will not be directly callable after loading.\n"
     ]
    },
    {
     "name": "stdout",
     "output_type": "stream",
     "text": [
      "INFO:tensorflow:Assets written to: /home/manuelquiros/Documents/Kaggle/House_Prices/MLP2/assets\n"
     ]
    },
    {
     "name": "stderr",
     "output_type": "stream",
     "text": [
      "INFO:tensorflow:Assets written to: /home/manuelquiros/Documents/Kaggle/House_Prices/MLP2/assets\n"
     ]
    },
    {
     "name": "stdout",
     "output_type": "stream",
     "text": [
      "117/117 [==============================] - 1s 6ms/step - loss: 597311616.0000 - root_mean_squared_error: 24439.9590 - val_loss: 682538880.0000 - val_root_mean_squared_error: 26125.4453 - lr: 0.0010\n",
      "Epoch 71/200\n",
      "117/117 [==============================] - 0s 2ms/step - loss: 566184768.0000 - root_mean_squared_error: 23794.6367 - val_loss: 751058816.0000 - val_root_mean_squared_error: 27405.4531 - lr: 0.0010\n",
      "Epoch 72/200\n",
      "117/117 [==============================] - 0s 2ms/step - loss: 578550464.0000 - root_mean_squared_error: 24053.0762 - val_loss: 709440384.0000 - val_root_mean_squared_error: 26635.3223 - lr: 0.0010\n",
      "Epoch 73/200\n",
      "117/117 [==============================] - 0s 2ms/step - loss: 606123648.0000 - root_mean_squared_error: 24619.5781 - val_loss: 727060992.0000 - val_root_mean_squared_error: 26964.0684 - lr: 0.0010\n",
      "Epoch 74/200\n",
      "117/117 [==============================] - 0s 2ms/step - loss: 554105856.0000 - root_mean_squared_error: 23539.4531 - val_loss: 726867968.0000 - val_root_mean_squared_error: 26960.4883 - lr: 0.0010\n",
      "Epoch 75/200\n",
      "117/117 [==============================] - 0s 2ms/step - loss: 583272832.0000 - root_mean_squared_error: 24151.0430 - val_loss: 747381440.0000 - val_root_mean_squared_error: 27338.2773 - lr: 0.0010\n",
      "Epoch 76/200\n",
      "117/117 [==============================] - 0s 2ms/step - loss: 598388224.0000 - root_mean_squared_error: 24461.9746 - val_loss: 804631232.0000 - val_root_mean_squared_error: 28366.0234 - lr: 0.0010\n",
      "Epoch 77/200\n",
      "117/117 [==============================] - 0s 2ms/step - loss: 558400512.0000 - root_mean_squared_error: 23630.5000 - val_loss: 752098368.0000 - val_root_mean_squared_error: 27424.4121 - lr: 0.0010\n",
      "Epoch 78/200\n",
      "117/117 [==============================] - 0s 2ms/step - loss: 596502784.0000 - root_mean_squared_error: 24423.4062 - val_loss: 754039936.0000 - val_root_mean_squared_error: 27459.7871 - lr: 0.0010\n",
      "Epoch 79/200\n",
      "117/117 [==============================] - 0s 2ms/step - loss: 619468864.0000 - root_mean_squared_error: 24889.1309 - val_loss: 713677632.0000 - val_root_mean_squared_error: 26714.7461 - lr: 0.0010\n",
      "Epoch 80/200\n",
      "117/117 [==============================] - 0s 2ms/step - loss: 578178048.0000 - root_mean_squared_error: 24045.3340 - val_loss: 726579648.0000 - val_root_mean_squared_error: 26955.1406 - lr: 0.0010\n",
      "Epoch 81/200\n",
      " 89/117 [=====================>........] - ETA: 0s - loss: 616079936.0000 - root_mean_squared_error: 24820.9570"
     ]
    },
    {
     "name": "stderr",
     "output_type": "stream",
     "text": [
      "2023-03-29 10:58:35.768607: I tensorflow/core/common_runtime/executor.cc:1197] [/device:CPU:0] (DEBUG INFO) Executor start aborting (this does not indicate an error and you can ignore this message): INVALID_ARGUMENT: You must feed a value for placeholder tensor 'inputs' with dtype float and shape [?,500]\n",
      "\t [[{{node inputs}}]]\n",
      "2023-03-29 10:58:35.776801: I tensorflow/core/common_runtime/executor.cc:1197] [/device:CPU:0] (DEBUG INFO) Executor start aborting (this does not indicate an error and you can ignore this message): INVALID_ARGUMENT: You must feed a value for placeholder tensor 'inputs' with dtype float and shape [?,300]\n",
      "\t [[{{node inputs}}]]\n",
      "2023-03-29 10:58:35.785108: I tensorflow/core/common_runtime/executor.cc:1197] [/device:CPU:0] (DEBUG INFO) Executor start aborting (this does not indicate an error and you can ignore this message): INVALID_ARGUMENT: You must feed a value for placeholder tensor 'inputs' with dtype float and shape [?,100]\n",
      "\t [[{{node inputs}}]]\n",
      "2023-03-29 10:58:35.886284: I tensorflow/core/common_runtime/executor.cc:1197] [/device:CPU:0] (DEBUG INFO) Executor start aborting (this does not indicate an error and you can ignore this message): INVALID_ARGUMENT: You must feed a value for placeholder tensor 'inputs' with dtype float and shape [?,500]\n",
      "\t [[{{node inputs}}]]\n",
      "2023-03-29 10:58:35.905471: I tensorflow/core/common_runtime/executor.cc:1197] [/device:CPU:0] (DEBUG INFO) Executor start aborting (this does not indicate an error and you can ignore this message): INVALID_ARGUMENT: You must feed a value for placeholder tensor 'inputs' with dtype float and shape [?,300]\n",
      "\t [[{{node inputs}}]]\n",
      "2023-03-29 10:58:35.924144: I tensorflow/core/common_runtime/executor.cc:1197] [/device:CPU:0] (DEBUG INFO) Executor start aborting (this does not indicate an error and you can ignore this message): INVALID_ARGUMENT: You must feed a value for placeholder tensor 'inputs' with dtype float and shape [?,100]\n",
      "\t [[{{node inputs}}]]\n",
      "WARNING:absl:Found untraced functions such as _update_step_xla while saving (showing 1 of 1). These functions will not be directly callable after loading.\n"
     ]
    },
    {
     "name": "stdout",
     "output_type": "stream",
     "text": [
      "INFO:tensorflow:Assets written to: /home/manuelquiros/Documents/Kaggle/House_Prices/MLP2/assets\n"
     ]
    },
    {
     "name": "stderr",
     "output_type": "stream",
     "text": [
      "INFO:tensorflow:Assets written to: /home/manuelquiros/Documents/Kaggle/House_Prices/MLP2/assets\n"
     ]
    },
    {
     "name": "stdout",
     "output_type": "stream",
     "text": [
      "117/117 [==============================] - 1s 6ms/step - loss: 572266176.0000 - root_mean_squared_error: 23922.0859 - val_loss: 668461760.0000 - val_root_mean_squared_error: 25854.6270 - lr: 0.0010\n",
      "Epoch 82/200\n",
      "111/117 [===========================>..] - ETA: 0s - loss: 564137472.0000 - root_mean_squared_error: 23751.5781"
     ]
    },
    {
     "name": "stderr",
     "output_type": "stream",
     "text": [
      "2023-03-29 10:58:36.746218: I tensorflow/core/common_runtime/executor.cc:1197] [/device:CPU:0] (DEBUG INFO) Executor start aborting (this does not indicate an error and you can ignore this message): INVALID_ARGUMENT: You must feed a value for placeholder tensor 'inputs' with dtype float and shape [?,500]\n",
      "\t [[{{node inputs}}]]\n",
      "2023-03-29 10:58:36.755394: I tensorflow/core/common_runtime/executor.cc:1197] [/device:CPU:0] (DEBUG INFO) Executor start aborting (this does not indicate an error and you can ignore this message): INVALID_ARGUMENT: You must feed a value for placeholder tensor 'inputs' with dtype float and shape [?,300]\n",
      "\t [[{{node inputs}}]]\n",
      "2023-03-29 10:58:36.764127: I tensorflow/core/common_runtime/executor.cc:1197] [/device:CPU:0] (DEBUG INFO) Executor start aborting (this does not indicate an error and you can ignore this message): INVALID_ARGUMENT: You must feed a value for placeholder tensor 'inputs' with dtype float and shape [?,100]\n",
      "\t [[{{node inputs}}]]\n",
      "2023-03-29 10:58:36.867655: I tensorflow/core/common_runtime/executor.cc:1197] [/device:CPU:0] (DEBUG INFO) Executor start aborting (this does not indicate an error and you can ignore this message): INVALID_ARGUMENT: You must feed a value for placeholder tensor 'inputs' with dtype float and shape [?,500]\n",
      "\t [[{{node inputs}}]]\n",
      "2023-03-29 10:58:36.888096: I tensorflow/core/common_runtime/executor.cc:1197] [/device:CPU:0] (DEBUG INFO) Executor start aborting (this does not indicate an error and you can ignore this message): INVALID_ARGUMENT: You must feed a value for placeholder tensor 'inputs' with dtype float and shape [?,300]\n",
      "\t [[{{node inputs}}]]\n",
      "2023-03-29 10:58:36.906772: I tensorflow/core/common_runtime/executor.cc:1197] [/device:CPU:0] (DEBUG INFO) Executor start aborting (this does not indicate an error and you can ignore this message): INVALID_ARGUMENT: You must feed a value for placeholder tensor 'inputs' with dtype float and shape [?,100]\n",
      "\t [[{{node inputs}}]]\n",
      "WARNING:absl:Found untraced functions such as _update_step_xla while saving (showing 1 of 1). These functions will not be directly callable after loading.\n"
     ]
    },
    {
     "name": "stdout",
     "output_type": "stream",
     "text": [
      "INFO:tensorflow:Assets written to: /home/manuelquiros/Documents/Kaggle/House_Prices/MLP2/assets\n"
     ]
    },
    {
     "name": "stderr",
     "output_type": "stream",
     "text": [
      "INFO:tensorflow:Assets written to: /home/manuelquiros/Documents/Kaggle/House_Prices/MLP2/assets\n"
     ]
    },
    {
     "name": "stdout",
     "output_type": "stream",
     "text": [
      "117/117 [==============================] - 1s 8ms/step - loss: 556470272.0000 - root_mean_squared_error: 23589.6230 - val_loss: 661264704.0000 - val_root_mean_squared_error: 25715.0684 - lr: 0.0010\n",
      "Epoch 83/200\n",
      "117/117 [==============================] - 0s 2ms/step - loss: 584895552.0000 - root_mean_squared_error: 24184.6133 - val_loss: 706456576.0000 - val_root_mean_squared_error: 26579.2500 - lr: 0.0010\n",
      "Epoch 84/200\n",
      "117/117 [==============================] - 0s 2ms/step - loss: 500090720.0000 - root_mean_squared_error: 22362.7090 - val_loss: 753020288.0000 - val_root_mean_squared_error: 27441.2148 - lr: 0.0010\n",
      "Epoch 85/200\n",
      "117/117 [==============================] - 0s 2ms/step - loss: 569892736.0000 - root_mean_squared_error: 23872.4258 - val_loss: 668128128.0000 - val_root_mean_squared_error: 25848.1738 - lr: 0.0010\n",
      "Epoch 86/200\n",
      "117/117 [==============================] - 0s 2ms/step - loss: 575878400.0000 - root_mean_squared_error: 23997.4668 - val_loss: 718161088.0000 - val_root_mean_squared_error: 26798.5273 - lr: 0.0010\n",
      "Epoch 87/200\n",
      "117/117 [==============================] - 0s 2ms/step - loss: 485342880.0000 - root_mean_squared_error: 22030.4980 - val_loss: 784270656.0000 - val_root_mean_squared_error: 28004.8320 - lr: 0.0010\n",
      "Epoch 88/200\n",
      "117/117 [==============================] - 0s 2ms/step - loss: 533835616.0000 - root_mean_squared_error: 23104.8828 - val_loss: 703395520.0000 - val_root_mean_squared_error: 26521.6055 - lr: 0.0010\n",
      "Epoch 89/200\n",
      "117/117 [==============================] - 0s 2ms/step - loss: 545167680.0000 - root_mean_squared_error: 23348.8262 - val_loss: 700125632.0000 - val_root_mean_squared_error: 26459.8867 - lr: 0.0010\n",
      "Epoch 90/200\n",
      "117/117 [==============================] - 0s 2ms/step - loss: 537052160.0000 - root_mean_squared_error: 23174.3867 - val_loss: 692977728.0000 - val_root_mean_squared_error: 26324.4707 - lr: 0.0010\n",
      "Epoch 91/200\n",
      "117/117 [==============================] - 0s 2ms/step - loss: 550110784.0000 - root_mean_squared_error: 23454.4414 - val_loss: 690558848.0000 - val_root_mean_squared_error: 26278.4863 - lr: 0.0010\n",
      "Epoch 92/200\n",
      "117/117 [==============================] - 0s 2ms/step - loss: 547906880.0000 - root_mean_squared_error: 23407.4102 - val_loss: 718913792.0000 - val_root_mean_squared_error: 26812.5684 - lr: 0.0010\n",
      "Epoch 93/200\n",
      "117/117 [==============================] - 0s 2ms/step - loss: 527900032.0000 - root_mean_squared_error: 22976.0762 - val_loss: 826843200.0000 - val_root_mean_squared_error: 28754.8809 - lr: 0.0010\n",
      "Epoch 94/200\n",
      "117/117 [==============================] - 0s 2ms/step - loss: 490720576.0000 - root_mean_squared_error: 22152.2129 - val_loss: 679914176.0000 - val_root_mean_squared_error: 26075.1641 - lr: 0.0010\n",
      "Epoch 95/200\n",
      "117/117 [==============================] - 0s 2ms/step - loss: 528772096.0000 - root_mean_squared_error: 22995.0449 - val_loss: 682419968.0000 - val_root_mean_squared_error: 26123.1699 - lr: 0.0010\n",
      "Epoch 96/200\n",
      "117/117 [==============================] - 0s 2ms/step - loss: 451655456.0000 - root_mean_squared_error: 21252.1875 - val_loss: 721902912.0000 - val_root_mean_squared_error: 26868.2520 - lr: 0.0010\n",
      "Epoch 97/200\n",
      "117/117 [==============================] - 0s 3ms/step - loss: 533812288.0000 - root_mean_squared_error: 23104.3789 - val_loss: 699541504.0000 - val_root_mean_squared_error: 26448.8477 - lr: 0.0010\n",
      "Epoch 98/200\n",
      "117/117 [==============================] - 0s 2ms/step - loss: 504776224.0000 - root_mean_squared_error: 22467.2246 - val_loss: 680627328.0000 - val_root_mean_squared_error: 26088.8359 - lr: 0.0010\n",
      "Epoch 99/200\n",
      "117/117 [==============================] - 0s 2ms/step - loss: 532547712.0000 - root_mean_squared_error: 23076.9961 - val_loss: 738002176.0000 - val_root_mean_squared_error: 27166.1953 - lr: 0.0010\n",
      "Epoch 100/200\n",
      "117/117 [==============================] - 0s 3ms/step - loss: 527634592.0000 - root_mean_squared_error: 22970.2988 - val_loss: 766799936.0000 - val_root_mean_squared_error: 27691.1523 - lr: 0.0010\n",
      "Epoch 101/200\n",
      "117/117 [==============================] - 0s 3ms/step - loss: 539403520.0000 - root_mean_squared_error: 23225.0625 - val_loss: 716557952.0000 - val_root_mean_squared_error: 26768.5996 - lr: 0.0010\n",
      "Epoch 102/200\n",
      "117/117 [==============================] - 0s 3ms/step - loss: 503367008.0000 - root_mean_squared_error: 22435.8418 - val_loss: 683621376.0000 - val_root_mean_squared_error: 26146.1543 - lr: 0.0010\n",
      "Epoch 103/200\n",
      "117/117 [==============================] - 0s 3ms/step - loss: 463758944.0000 - root_mean_squared_error: 21535.0625 - val_loss: 710406592.0000 - val_root_mean_squared_error: 26653.4531 - lr: 0.0010\n",
      "Epoch 104/200\n",
      "117/117 [==============================] - 0s 3ms/step - loss: 474621568.0000 - root_mean_squared_error: 21785.8105 - val_loss: 735686464.0000 - val_root_mean_squared_error: 27123.5410 - lr: 0.0010\n",
      "Epoch 105/200\n",
      "117/117 [==============================] - 0s 3ms/step - loss: 469655648.0000 - root_mean_squared_error: 21671.5410 - val_loss: 682858240.0000 - val_root_mean_squared_error: 26131.5566 - lr: 0.0010\n",
      "Epoch 106/200\n",
      "117/117 [==============================] - 0s 3ms/step - loss: 493000096.0000 - root_mean_squared_error: 22203.6055 - val_loss: 661821888.0000 - val_root_mean_squared_error: 25725.8984 - lr: 0.0010\n",
      "Epoch 107/200\n",
      "117/117 [==============================] - 0s 3ms/step - loss: 486402496.0000 - root_mean_squared_error: 22054.5352 - val_loss: 716592896.0000 - val_root_mean_squared_error: 26769.2520 - lr: 0.0010\n",
      "Epoch 108/200\n",
      "117/117 [==============================] - 0s 3ms/step - loss: 479061600.0000 - root_mean_squared_error: 21887.4766 - val_loss: 715631488.0000 - val_root_mean_squared_error: 26751.2891 - lr: 0.0010\n",
      "Epoch 109/200\n",
      "117/117 [==============================] - 0s 2ms/step - loss: 455136544.0000 - root_mean_squared_error: 21333.9297 - val_loss: 697107648.0000 - val_root_mean_squared_error: 26402.7969 - lr: 0.0010\n",
      "Epoch 110/200\n",
      "117/117 [==============================] - 0s 3ms/step - loss: 452748576.0000 - root_mean_squared_error: 21277.8887 - val_loss: 685405056.0000 - val_root_mean_squared_error: 26180.2422 - lr: 0.0010\n",
      "Epoch 111/200\n",
      "117/117 [==============================] - 0s 3ms/step - loss: 457933440.0000 - root_mean_squared_error: 21399.3789 - val_loss: 858392640.0000 - val_root_mean_squared_error: 29298.3379 - lr: 0.0010\n",
      "Epoch 112/200\n",
      "117/117 [==============================] - 0s 3ms/step - loss: 445883648.0000 - root_mean_squared_error: 21115.9570 - val_loss: 720237632.0000 - val_root_mean_squared_error: 26837.2441 - lr: 2.0000e-04\n",
      "Epoch 113/200\n",
      "117/117 [==============================] - 0s 3ms/step - loss: 470739968.0000 - root_mean_squared_error: 21696.5430 - val_loss: 716579584.0000 - val_root_mean_squared_error: 26769.0039 - lr: 2.0000e-04\n",
      "Epoch 114/200\n",
      "117/117 [==============================] - 0s 3ms/step - loss: 413762464.0000 - root_mean_squared_error: 20341.1523 - val_loss: 729711424.0000 - val_root_mean_squared_error: 27013.1719 - lr: 2.0000e-04\n",
      "Epoch 115/200\n",
      "117/117 [==============================] - 0s 2ms/step - loss: 417851584.0000 - root_mean_squared_error: 20441.4180 - val_loss: 696707200.0000 - val_root_mean_squared_error: 26395.2109 - lr: 2.0000e-04\n",
      "Epoch 116/200\n",
      "117/117 [==============================] - 0s 2ms/step - loss: 431297792.0000 - root_mean_squared_error: 20767.7109 - val_loss: 696415168.0000 - val_root_mean_squared_error: 26389.6797 - lr: 2.0000e-04\n",
      "Epoch 117/200\n",
      "117/117 [==============================] - 0s 2ms/step - loss: 430172768.0000 - root_mean_squared_error: 20740.6074 - val_loss: 698177664.0000 - val_root_mean_squared_error: 26423.0508 - lr: 2.0000e-04\n",
      "Epoch 118/200\n",
      "117/117 [==============================] - 0s 2ms/step - loss: 446777824.0000 - root_mean_squared_error: 21137.1191 - val_loss: 715456064.0000 - val_root_mean_squared_error: 26748.0098 - lr: 2.0000e-04\n",
      "Epoch 119/200\n",
      "117/117 [==============================] - 0s 2ms/step - loss: 449211552.0000 - root_mean_squared_error: 21194.6113 - val_loss: 730172544.0000 - val_root_mean_squared_error: 27021.7051 - lr: 2.0000e-04\n",
      "Epoch 120/200\n",
      "117/117 [==============================] - 0s 2ms/step - loss: 432741024.0000 - root_mean_squared_error: 20802.4277 - val_loss: 692982976.0000 - val_root_mean_squared_error: 26324.5703 - lr: 2.0000e-04\n",
      "Epoch 121/200\n",
      "117/117 [==============================] - 0s 2ms/step - loss: 419157536.0000 - root_mean_squared_error: 20473.3379 - val_loss: 701056384.0000 - val_root_mean_squared_error: 26477.4688 - lr: 2.0000e-04\n",
      "Epoch 122/200\n",
      "117/117 [==============================] - 0s 3ms/step - loss: 399327360.0000 - root_mean_squared_error: 19983.1777 - val_loss: 720606208.0000 - val_root_mean_squared_error: 26844.1094 - lr: 2.0000e-04\n",
      "Epoch 123/200\n",
      "117/117 [==============================] - 0s 2ms/step - loss: 476692576.0000 - root_mean_squared_error: 21833.2910 - val_loss: 707799424.0000 - val_root_mean_squared_error: 26604.5000 - lr: 2.0000e-04\n",
      "Epoch 124/200\n",
      "117/117 [==============================] - 0s 2ms/step - loss: 419905248.0000 - root_mean_squared_error: 20491.5898 - val_loss: 710447040.0000 - val_root_mean_squared_error: 26654.2129 - lr: 2.0000e-04\n",
      "Epoch 125/200\n",
      "117/117 [==============================] - 0s 2ms/step - loss: 491038016.0000 - root_mean_squared_error: 22159.3770 - val_loss: 730760384.0000 - val_root_mean_squared_error: 27032.5801 - lr: 2.0000e-04\n",
      "Epoch 126/200\n",
      "117/117 [==============================] - 0s 2ms/step - loss: 415025568.0000 - root_mean_squared_error: 20372.1758 - val_loss: 717620352.0000 - val_root_mean_squared_error: 26788.4375 - lr: 2.0000e-04\n",
      "Epoch 127/200\n",
      "117/117 [==============================] - 0s 2ms/step - loss: 443959200.0000 - root_mean_squared_error: 21070.3398 - val_loss: 720627136.0000 - val_root_mean_squared_error: 26844.5000 - lr: 2.0000e-04\n",
      "Epoch 128/200\n",
      "117/117 [==============================] - 0s 2ms/step - loss: 429545856.0000 - root_mean_squared_error: 20725.4883 - val_loss: 707319488.0000 - val_root_mean_squared_error: 26595.4785 - lr: 2.0000e-04\n",
      "Epoch 129/200\n",
      "117/117 [==============================] - 0s 2ms/step - loss: 421198368.0000 - root_mean_squared_error: 20523.1172 - val_loss: 696849600.0000 - val_root_mean_squared_error: 26397.9082 - lr: 2.0000e-04\n",
      "Epoch 130/200\n",
      "117/117 [==============================] - 0s 2ms/step - loss: 420175904.0000 - root_mean_squared_error: 20498.1934 - val_loss: 714617088.0000 - val_root_mean_squared_error: 26732.3223 - lr: 2.0000e-04\n",
      "Epoch 131/200\n",
      "117/117 [==============================] - 0s 2ms/step - loss: 420722816.0000 - root_mean_squared_error: 20511.5293 - val_loss: 715281792.0000 - val_root_mean_squared_error: 26744.7520 - lr: 2.0000e-04\n",
      "Epoch 132/200\n",
      "117/117 [==============================] - 0s 2ms/step - loss: 433889504.0000 - root_mean_squared_error: 20830.0137 - val_loss: 739032384.0000 - val_root_mean_squared_error: 27185.1504 - lr: 2.0000e-04\n",
      "Epoch 133/200\n",
      "117/117 [==============================] - 0s 2ms/step - loss: 439138624.0000 - root_mean_squared_error: 20955.6348 - val_loss: 739957888.0000 - val_root_mean_squared_error: 27202.1660 - lr: 2.0000e-04\n",
      "Epoch 134/200\n",
      "117/117 [==============================] - 0s 2ms/step - loss: 488256352.0000 - root_mean_squared_error: 22096.5234 - val_loss: 710286464.0000 - val_root_mean_squared_error: 26651.1992 - lr: 2.0000e-04\n",
      "Epoch 135/200\n",
      "117/117 [==============================] - 0s 2ms/step - loss: 415491488.0000 - root_mean_squared_error: 20383.6074 - val_loss: 706761984.0000 - val_root_mean_squared_error: 26584.9961 - lr: 2.0000e-04\n",
      "Epoch 136/200\n",
      "117/117 [==============================] - 0s 2ms/step - loss: 382440032.0000 - root_mean_squared_error: 19556.0742 - val_loss: 698419392.0000 - val_root_mean_squared_error: 26427.6250 - lr: 2.0000e-04\n",
      "Epoch 137/200\n",
      "117/117 [==============================] - 0s 2ms/step - loss: 379290304.0000 - root_mean_squared_error: 19475.3770 - val_loss: 733298112.0000 - val_root_mean_squared_error: 27079.4785 - lr: 2.0000e-04\n",
      "Epoch 138/200\n",
      "117/117 [==============================] - 0s 2ms/step - loss: 423734496.0000 - root_mean_squared_error: 20584.8125 - val_loss: 697425472.0000 - val_root_mean_squared_error: 26408.8145 - lr: 2.0000e-04\n",
      "Epoch 139/200\n",
      "117/117 [==============================] - 0s 2ms/step - loss: 416152128.0000 - root_mean_squared_error: 20399.8066 - val_loss: 718923904.0000 - val_root_mean_squared_error: 26812.7559 - lr: 2.0000e-04\n",
      "Epoch 140/200\n",
      "117/117 [==============================] - 0s 2ms/step - loss: 391611744.0000 - root_mean_squared_error: 19789.1816 - val_loss: 699747904.0000 - val_root_mean_squared_error: 26452.7480 - lr: 2.0000e-04\n",
      "Epoch 141/200\n",
      "117/117 [==============================] - 0s 2ms/step - loss: 428440736.0000 - root_mean_squared_error: 20698.8105 - val_loss: 694600832.0000 - val_root_mean_squared_error: 26355.2812 - lr: 2.0000e-04\n",
      "Epoch 142/200\n",
      "117/117 [==============================] - 0s 2ms/step - loss: 423804320.0000 - root_mean_squared_error: 20586.5078 - val_loss: 696256448.0000 - val_root_mean_squared_error: 26386.6719 - lr: 2.0000e-04\n",
      "Epoch 143/200\n",
      "117/117 [==============================] - 0s 2ms/step - loss: 424222208.0000 - root_mean_squared_error: 20596.6543 - val_loss: 692872640.0000 - val_root_mean_squared_error: 26322.4746 - lr: 2.0000e-04\n",
      "Epoch 144/200\n",
      "117/117 [==============================] - 0s 2ms/step - loss: 405830624.0000 - root_mean_squared_error: 20145.2383 - val_loss: 684809792.0000 - val_root_mean_squared_error: 26168.8711 - lr: 2.0000e-04\n",
      "Epoch 145/200\n",
      "117/117 [==============================] - 0s 2ms/step - loss: 405480576.0000 - root_mean_squared_error: 20136.5488 - val_loss: 715615040.0000 - val_root_mean_squared_error: 26750.9824 - lr: 2.0000e-04\n",
      "Epoch 146/200\n",
      "117/117 [==============================] - 0s 2ms/step - loss: 442023488.0000 - root_mean_squared_error: 21024.3555 - val_loss: 758634048.0000 - val_root_mean_squared_error: 27543.3125 - lr: 2.0000e-04\n",
      "Epoch 147/200\n",
      "117/117 [==============================] - 0s 2ms/step - loss: 390530016.0000 - root_mean_squared_error: 19761.8320 - val_loss: 710050112.0000 - val_root_mean_squared_error: 26646.7656 - lr: 2.0000e-04\n",
      "Epoch 148/200\n",
      "117/117 [==============================] - 0s 2ms/step - loss: 424660032.0000 - root_mean_squared_error: 20607.2812 - val_loss: 688939520.0000 - val_root_mean_squared_error: 26247.6582 - lr: 2.0000e-04\n",
      "Epoch 149/200\n",
      "117/117 [==============================] - 0s 2ms/step - loss: 423155840.0000 - root_mean_squared_error: 20570.7520 - val_loss: 726573696.0000 - val_root_mean_squared_error: 26955.0312 - lr: 2.0000e-04\n",
      "Epoch 150/200\n",
      "117/117 [==============================] - 0s 2ms/step - loss: 401248000.0000 - root_mean_squared_error: 20031.1758 - val_loss: 717830720.0000 - val_root_mean_squared_error: 26792.3633 - lr: 2.0000e-04\n",
      "Epoch 151/200\n",
      "117/117 [==============================] - 0s 2ms/step - loss: 384830880.0000 - root_mean_squared_error: 19617.1074 - val_loss: 732008064.0000 - val_root_mean_squared_error: 27055.6484 - lr: 2.0000e-04\n",
      "Epoch 152/200\n",
      "117/117 [==============================] - 0s 2ms/step - loss: 418099424.0000 - root_mean_squared_error: 20447.4805 - val_loss: 716509632.0000 - val_root_mean_squared_error: 26767.6973 - lr: 2.0000e-04\n",
      "Epoch 153/200\n",
      "117/117 [==============================] - 0s 2ms/step - loss: 397885856.0000 - root_mean_squared_error: 19947.0762 - val_loss: 716773824.0000 - val_root_mean_squared_error: 26772.6328 - lr: 4.0000e-05\n",
      "Epoch 154/200\n",
      "117/117 [==============================] - 0s 2ms/step - loss: 398259296.0000 - root_mean_squared_error: 19956.4355 - val_loss: 710162240.0000 - val_root_mean_squared_error: 26648.8691 - lr: 4.0000e-05\n",
      "Epoch 155/200\n",
      "117/117 [==============================] - 0s 2ms/step - loss: 395057344.0000 - root_mean_squared_error: 19876.0488 - val_loss: 714025216.0000 - val_root_mean_squared_error: 26721.2500 - lr: 4.0000e-05\n",
      "Epoch 156/200\n",
      "117/117 [==============================] - 0s 2ms/step - loss: 367944896.0000 - root_mean_squared_error: 19181.8906 - val_loss: 712595584.0000 - val_root_mean_squared_error: 26694.4863 - lr: 4.0000e-05\n",
      "Epoch 157/200\n",
      "117/117 [==============================] - 0s 3ms/step - loss: 399378656.0000 - root_mean_squared_error: 19984.4609 - val_loss: 710461056.0000 - val_root_mean_squared_error: 26654.4746 - lr: 4.0000e-05\n",
      "Epoch 158/200\n",
      "117/117 [==============================] - 0s 3ms/step - loss: 390418048.0000 - root_mean_squared_error: 19759.0000 - val_loss: 715730496.0000 - val_root_mean_squared_error: 26753.1406 - lr: 4.0000e-05\n",
      "Epoch 159/200\n",
      "117/117 [==============================] - 0s 2ms/step - loss: 460754400.0000 - root_mean_squared_error: 21465.1895 - val_loss: 710292288.0000 - val_root_mean_squared_error: 26651.3086 - lr: 4.0000e-05\n",
      "Epoch 160/200\n",
      "117/117 [==============================] - 0s 2ms/step - loss: 395626048.0000 - root_mean_squared_error: 19890.3516 - val_loss: 715714176.0000 - val_root_mean_squared_error: 26752.8340 - lr: 4.0000e-05\n",
      "Epoch 161/200\n",
      "117/117 [==============================] - 0s 2ms/step - loss: 408998752.0000 - root_mean_squared_error: 20223.7168 - val_loss: 709188672.0000 - val_root_mean_squared_error: 26630.5957 - lr: 4.0000e-05\n",
      "Epoch 162/200\n",
      "117/117 [==============================] - 0s 2ms/step - loss: 391131808.0000 - root_mean_squared_error: 19777.0527 - val_loss: 714555520.0000 - val_root_mean_squared_error: 26731.1719 - lr: 4.0000e-05\n",
      "Epoch 163/200\n",
      "117/117 [==============================] - 0s 2ms/step - loss: 404987360.0000 - root_mean_squared_error: 20124.2969 - val_loss: 711374400.0000 - val_root_mean_squared_error: 26671.6035 - lr: 4.0000e-05\n",
      "Epoch 164/200\n",
      "117/117 [==============================] - 0s 2ms/step - loss: 386633920.0000 - root_mean_squared_error: 19663.0098 - val_loss: 705519104.0000 - val_root_mean_squared_error: 26561.6094 - lr: 4.0000e-05\n",
      "Epoch 165/200\n",
      "117/117 [==============================] - 0s 2ms/step - loss: 421951040.0000 - root_mean_squared_error: 20541.4473 - val_loss: 703505088.0000 - val_root_mean_squared_error: 26523.6699 - lr: 4.0000e-05\n",
      "Epoch 166/200\n",
      "117/117 [==============================] - 0s 2ms/step - loss: 410425536.0000 - root_mean_squared_error: 20258.9609 - val_loss: 704374464.0000 - val_root_mean_squared_error: 26540.0547 - lr: 4.0000e-05\n",
      "Epoch 167/200\n",
      "117/117 [==============================] - 0s 2ms/step - loss: 418806144.0000 - root_mean_squared_error: 20464.7539 - val_loss: 706831616.0000 - val_root_mean_squared_error: 26586.3047 - lr: 4.0000e-05\n",
      "Epoch 168/200\n",
      "117/117 [==============================] - 0s 2ms/step - loss: 433391424.0000 - root_mean_squared_error: 20818.0547 - val_loss: 698253312.0000 - val_root_mean_squared_error: 26424.4824 - lr: 4.0000e-05\n",
      "Epoch 169/200\n",
      "117/117 [==============================] - 0s 2ms/step - loss: 413872512.0000 - root_mean_squared_error: 20343.8574 - val_loss: 704211904.0000 - val_root_mean_squared_error: 26536.9922 - lr: 4.0000e-05\n",
      "Epoch 170/200\n",
      "117/117 [==============================] - 0s 2ms/step - loss: 415728224.0000 - root_mean_squared_error: 20389.4141 - val_loss: 712358976.0000 - val_root_mean_squared_error: 26690.0547 - lr: 4.0000e-05\n",
      "Epoch 171/200\n",
      "117/117 [==============================] - 0s 2ms/step - loss: 383668000.0000 - root_mean_squared_error: 19587.4453 - val_loss: 706487424.0000 - val_root_mean_squared_error: 26579.8320 - lr: 4.0000e-05\n",
      "Epoch 172/200\n",
      "117/117 [==============================] - 0s 2ms/step - loss: 389685664.0000 - root_mean_squared_error: 19740.4570 - val_loss: 706863552.0000 - val_root_mean_squared_error: 26586.9062 - lr: 8.0000e-06\n",
      "Epoch 173/200\n",
      "117/117 [==============================] - 0s 2ms/step - loss: 418591264.0000 - root_mean_squared_error: 20459.5039 - val_loss: 706634368.0000 - val_root_mean_squared_error: 26582.5957 - lr: 8.0000e-06\n",
      "Epoch 174/200\n",
      "117/117 [==============================] - 0s 2ms/step - loss: 378783168.0000 - root_mean_squared_error: 19462.3535 - val_loss: 707713152.0000 - val_root_mean_squared_error: 26602.8789 - lr: 8.0000e-06\n",
      "Epoch 175/200\n",
      "117/117 [==============================] - 0s 2ms/step - loss: 397888928.0000 - root_mean_squared_error: 19947.1543 - val_loss: 706696384.0000 - val_root_mean_squared_error: 26583.7617 - lr: 8.0000e-06\n",
      "Epoch 176/200\n",
      "117/117 [==============================] - 0s 2ms/step - loss: 416186304.0000 - root_mean_squared_error: 20400.6445 - val_loss: 707456832.0000 - val_root_mean_squared_error: 26598.0605 - lr: 8.0000e-06\n",
      "Epoch 177/200\n",
      "117/117 [==============================] - 0s 2ms/step - loss: 408778112.0000 - root_mean_squared_error: 20218.2617 - val_loss: 706965376.0000 - val_root_mean_squared_error: 26588.8203 - lr: 8.0000e-06\n",
      "Epoch 178/200\n",
      "117/117 [==============================] - 0s 2ms/step - loss: 387966848.0000 - root_mean_squared_error: 19696.8750 - val_loss: 708061824.0000 - val_root_mean_squared_error: 26609.4316 - lr: 8.0000e-06\n",
      "Epoch 179/200\n",
      "117/117 [==============================] - 0s 2ms/step - loss: 398883872.0000 - root_mean_squared_error: 19972.0781 - val_loss: 706898560.0000 - val_root_mean_squared_error: 26587.5645 - lr: 8.0000e-06\n",
      "Epoch 180/200\n",
      "117/117 [==============================] - 0s 2ms/step - loss: 423954464.0000 - root_mean_squared_error: 20590.1543 - val_loss: 707831296.0000 - val_root_mean_squared_error: 26605.0996 - lr: 8.0000e-06\n",
      "Epoch 181/200\n",
      "117/117 [==============================] - 0s 2ms/step - loss: 377927040.0000 - root_mean_squared_error: 19440.3457 - val_loss: 707768192.0000 - val_root_mean_squared_error: 26603.9141 - lr: 8.0000e-06\n",
      "Epoch 182/200\n",
      "117/117 [==============================] - 0s 2ms/step - loss: 427840576.0000 - root_mean_squared_error: 20684.3066 - val_loss: 707817216.0000 - val_root_mean_squared_error: 26604.8340 - lr: 8.0000e-06\n",
      "Epoch 183/200\n",
      "117/117 [==============================] - 0s 2ms/step - loss: 403008800.0000 - root_mean_squared_error: 20075.0781 - val_loss: 707205824.0000 - val_root_mean_squared_error: 26593.3418 - lr: 8.0000e-06\n",
      "Epoch 184/200\n",
      "117/117 [==============================] - 0s 2ms/step - loss: 398889600.0000 - root_mean_squared_error: 19972.2207 - val_loss: 705979200.0000 - val_root_mean_squared_error: 26570.2695 - lr: 8.0000e-06\n",
      "Epoch 185/200\n",
      "117/117 [==============================] - 0s 2ms/step - loss: 416247264.0000 - root_mean_squared_error: 20402.1387 - val_loss: 705558656.0000 - val_root_mean_squared_error: 26562.3535 - lr: 8.0000e-06\n",
      "Epoch 186/200\n",
      "117/117 [==============================] - 0s 2ms/step - loss: 392973632.0000 - root_mean_squared_error: 19823.5625 - val_loss: 706460352.0000 - val_root_mean_squared_error: 26579.3223 - lr: 8.0000e-06\n",
      "Epoch 187/200\n",
      "117/117 [==============================] - 0s 2ms/step - loss: 362325120.0000 - root_mean_squared_error: 19034.8398 - val_loss: 706792640.0000 - val_root_mean_squared_error: 26585.5723 - lr: 1.6000e-06\n",
      "Epoch 188/200\n",
      "117/117 [==============================] - 0s 2ms/step - loss: 376293920.0000 - root_mean_squared_error: 19398.2969 - val_loss: 707078016.0000 - val_root_mean_squared_error: 26590.9395 - lr: 1.6000e-06\n",
      "Epoch 189/200\n",
      "117/117 [==============================] - 0s 3ms/step - loss: 408912544.0000 - root_mean_squared_error: 20221.5859 - val_loss: 706641920.0000 - val_root_mean_squared_error: 26582.7363 - lr: 1.6000e-06\n",
      "Epoch 190/200\n",
      "117/117 [==============================] - 0s 3ms/step - loss: 387284256.0000 - root_mean_squared_error: 19679.5391 - val_loss: 706648832.0000 - val_root_mean_squared_error: 26582.8672 - lr: 1.6000e-06\n",
      "Epoch 191/200\n",
      "117/117 [==============================] - 0s 3ms/step - loss: 392929568.0000 - root_mean_squared_error: 19822.4512 - val_loss: 706301248.0000 - val_root_mean_squared_error: 26576.3281 - lr: 1.6000e-06\n",
      "Epoch 192/200\n",
      "117/117 [==============================] - 0s 3ms/step - loss: 398214560.0000 - root_mean_squared_error: 19955.3145 - val_loss: 706328128.0000 - val_root_mean_squared_error: 26576.8340 - lr: 1.6000e-06\n",
      "Epoch 193/200\n",
      "117/117 [==============================] - 0s 2ms/step - loss: 426410048.0000 - root_mean_squared_error: 20649.6992 - val_loss: 706275264.0000 - val_root_mean_squared_error: 26575.8398 - lr: 1.6000e-06\n",
      "Epoch 194/200\n",
      "117/117 [==============================] - 0s 2ms/step - loss: 401310528.0000 - root_mean_squared_error: 20032.7363 - val_loss: 706516224.0000 - val_root_mean_squared_error: 26580.3730 - lr: 1.6000e-06\n",
      "Epoch 195/200\n",
      "117/117 [==============================] - 0s 2ms/step - loss: 399480896.0000 - root_mean_squared_error: 19987.0176 - val_loss: 706611840.0000 - val_root_mean_squared_error: 26582.1719 - lr: 1.6000e-06\n",
      "Epoch 196/200\n",
      "117/117 [==============================] - 0s 2ms/step - loss: 439342400.0000 - root_mean_squared_error: 20960.4961 - val_loss: 706897920.0000 - val_root_mean_squared_error: 26587.5527 - lr: 1.6000e-06\n",
      "Epoch 197/200\n",
      "117/117 [==============================] - 0s 2ms/step - loss: 438206560.0000 - root_mean_squared_error: 20933.3848 - val_loss: 707295808.0000 - val_root_mean_squared_error: 26595.0332 - lr: 1.6000e-06\n",
      "Epoch 198/200\n",
      "117/117 [==============================] - 0s 2ms/step - loss: 407573248.0000 - root_mean_squared_error: 20188.4434 - val_loss: 707472256.0000 - val_root_mean_squared_error: 26598.3516 - lr: 1.6000e-06\n",
      "Epoch 199/200\n",
      "117/117 [==============================] - 0s 3ms/step - loss: 400685696.0000 - root_mean_squared_error: 20017.1348 - val_loss: 707592640.0000 - val_root_mean_squared_error: 26600.6133 - lr: 1.6000e-06\n",
      "Epoch 200/200\n",
      "117/117 [==============================] - 0s 2ms/step - loss: 411865376.0000 - root_mean_squared_error: 20294.4668 - val_loss: 707417408.0000 - val_root_mean_squared_error: 26597.3203 - lr: 1.6000e-06\n"
     ]
    }
   ],
   "source": [
    "history = model.fit(\n",
    "  X_train[:,feat_mask], \n",
    "  y_train, \n",
    "  epochs=200, \n",
    "  batch_size=8, \n",
    "  validation_split=0.2,\n",
    "  callbacks=[cp2,lr,tb2]\n",
    ")"
   ]
  },
  {
   "cell_type": "code",
   "execution_count": 90,
   "metadata": {},
   "outputs": [],
   "source": [
    "model = keras.models.load_model('MLP2/')"
   ]
  },
  {
   "cell_type": "code",
   "execution_count": 91,
   "metadata": {},
   "outputs": [
    {
     "name": "stdout",
     "output_type": "stream",
     "text": [
      "Model: \"sequential_2\"\n",
      "_________________________________________________________________\n",
      " Layer (type)                Output Shape              Param #   \n",
      "=================================================================\n",
      " dense_8 (Dense)             (None, 500)               19500     \n",
      "                                                                 \n",
      " dropout_6 (Dropout)         (None, 500)               0         \n",
      "                                                                 \n",
      " dense_9 (Dense)             (None, 300)               150300    \n",
      "                                                                 \n",
      " dropout_7 (Dropout)         (None, 300)               0         \n",
      "                                                                 \n",
      " dense_10 (Dense)            (None, 100)               30100     \n",
      "                                                                 \n",
      " dropout_8 (Dropout)         (None, 100)               0         \n",
      "                                                                 \n",
      " dense_11 (Dense)            (None, 1)                 101       \n",
      "                                                                 \n",
      "=================================================================\n",
      "Total params: 200,001\n",
      "Trainable params: 200,001\n",
      "Non-trainable params: 0\n",
      "_________________________________________________________________\n"
     ]
    }
   ],
   "source": [
    "model.summary()"
   ]
  },
  {
   "cell_type": "code",
   "execution_count": 167,
   "metadata": {},
   "outputs": [
    {
     "name": "stdout",
     "output_type": "stream",
     "text": [
      "37/37 [==============================] - 0s 645us/step\n",
      "10/10 [==============================] - 0s 804us/step\n",
      "MSE train MLP= 12958.084004555636\n",
      "MSE test MLP= 28872.46751670689\n"
     ]
    }
   ],
   "source": [
    "mlp_train_pred=model.predict(X_train[:,feat_mask])\n",
    "mlp_test_pred=model.predict(X_test[:,feat_mask])\n",
    "print('MSE train MLP=' , mean_squared_error(y_train,mlp_train_pred, squared=False))\n",
    "print('MSE test MLP=' , mean_squared_error(y_test,mlp_test_pred, squared=False))"
   ]
  },
  {
   "cell_type": "code",
   "execution_count": 92,
   "metadata": {},
   "outputs": [
    {
     "name": "stdout",
     "output_type": "stream",
     "text": [
      "37/37 [==============================] - 0s 825us/step\n",
      "10/10 [==============================] - 0s 896us/step\n",
      "MSE train MLP2= 21758.481154262252\n",
      "MSE test MLP2= 27878.915944073007\n"
     ]
    }
   ],
   "source": [
    "mlp_train_pred=model.predict(X_train[:,feat_mask])\n",
    "mlp_test_pred=model.predict(X_test[:,feat_mask])\n",
    "print('MSE train MLP2=' , mean_squared_error(y_train,mlp_train_pred, squared=False))\n",
    "print('MSE test MLP2=' , mean_squared_error(y_test,mlp_test_pred, squared=False))"
   ]
  },
  {
   "attachments": {},
   "cell_type": "markdown",
   "metadata": {},
   "source": [
    "### MLP predictions"
   ]
  },
  {
   "cell_type": "code",
   "execution_count": 168,
   "metadata": {},
   "outputs": [
    {
     "data": {
      "text/plain": [
       "(1168, 249)"
      ]
     },
     "execution_count": 168,
     "metadata": {},
     "output_type": "execute_result"
    }
   ],
   "source": [
    "X_train.shape"
   ]
  },
  {
   "cell_type": "code",
   "execution_count": 174,
   "metadata": {},
   "outputs": [
    {
     "data": {
      "text/plain": [
       "(1459, 249)"
      ]
     },
     "execution_count": 174,
     "metadata": {},
     "output_type": "execute_result"
    }
   ],
   "source": [
    "test_df.shape"
   ]
  },
  {
   "cell_type": "code",
   "execution_count": 129,
   "metadata": {},
   "outputs": [
    {
     "name": "stdout",
     "output_type": "stream",
     "text": [
      "46/46 [==============================] - 0s 2ms/step\n"
     ]
    }
   ],
   "source": [
    "mlp_test_submission_pred=model.predict(test_df[:,feat_mask])"
   ]
  },
  {
   "cell_type": "code",
   "execution_count": 130,
   "metadata": {},
   "outputs": [
    {
     "data": {
      "text/plain": [
       "array([[119308.02],\n",
       "       [162490.1 ],\n",
       "       [186694.3 ],\n",
       "       ...,\n",
       "       [175497.34],\n",
       "       [122847.99],\n",
       "       [212463.12]], dtype=float32)"
      ]
     },
     "execution_count": 130,
     "metadata": {},
     "output_type": "execute_result"
    }
   ],
   "source": [
    "mlp_test_submission_pred"
   ]
  },
  {
   "cell_type": "code",
   "execution_count": 131,
   "metadata": {},
   "outputs": [],
   "source": [
    "submission=pd.DataFrame(columns=['Id','SalePrice'])"
   ]
  },
  {
   "cell_type": "code",
   "execution_count": 132,
   "metadata": {},
   "outputs": [],
   "source": [
    "submission['Id']=np.arange(1461,(1461+1459))"
   ]
  },
  {
   "cell_type": "code",
   "execution_count": 133,
   "metadata": {},
   "outputs": [],
   "source": [
    "submission['SalePrice']=mlp_test_submission_pred"
   ]
  },
  {
   "cell_type": "code",
   "execution_count": 134,
   "metadata": {},
   "outputs": [],
   "source": [
    "submission.to_csv('submission.csv',index=False)"
   ]
  },
  {
   "cell_type": "code",
   "execution_count": null,
   "metadata": {},
   "outputs": [],
   "source": []
  }
 ],
 "metadata": {
  "kernelspec": {
   "display_name": "KaggleTitanic",
   "language": "python",
   "name": "python3"
  },
  "language_info": {
   "codemirror_mode": {
    "name": "ipython",
    "version": 3
   },
   "file_extension": ".py",
   "mimetype": "text/x-python",
   "name": "python",
   "nbconvert_exporter": "python",
   "pygments_lexer": "ipython3",
   "version": "3.10.6"
  },
  "orig_nbformat": 4,
  "vscode": {
   "interpreter": {
    "hash": "83474ebaa8787261e8f0a20780c8c281efc65626e2789404694a95483fbffde8"
   }
  }
 },
 "nbformat": 4,
 "nbformat_minor": 2
}
